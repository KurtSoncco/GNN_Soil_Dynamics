{
 "cells": [
  {
   "cell_type": "code",
   "execution_count": 32,
   "metadata": {},
   "outputs": [],
   "source": [
    "import torch \n",
    "import pandas as pd \n",
    "import pickle\n",
    "import numpy as np\n",
    "import os\n",
    "import sys \n",
    "\n",
    "from torch.utils.data import Dataset, DataLoader\n",
    "from torch import nn\n",
    "import torch.nn.functional as F\n",
    "import torch.optim as optim\n",
    "\n",
    "\n",
    "import matplotlib.pyplot as plt\n",
    "import seaborn as sns\n",
    "\n",
    "from tqdm import tqdm\n",
    "from tqdm import trange\n",
    "\n",
    "sns.set_theme()"
   ]
  },
  {
   "cell_type": "code",
   "execution_count": 33,
   "metadata": {},
   "outputs": [
    {
     "name": "stdout",
     "output_type": "stream",
     "text": [
      "(21, 256) (21,)\n"
     ]
    }
   ],
   "source": [
    "# Load data\n",
    "freq_data = np.genfromtxt(\"TTF_Data_100.000_1.500_2.500.csv.csv\")\n",
    "\n",
    "# Load pickle\n",
    "with open(\"TTF_data.pt\", \"rb\") as f:\n",
    "    TTF_data = pickle.load(f)\n",
    "\n",
    "with open(\"Vs_values.pt\", \"rb\") as f:\n",
    "    Vs_data = pickle.load(f)\n",
    "\n",
    "TTF_data = np.array(TTF_data)\n",
    "Vs_data = np.array(Vs_data)\n",
    "\n",
    "# Get Vs_data less than 800\n",
    "index = Vs_data < 200\n",
    "TTF_data = TTF_data[index]\n",
    "Vs_data = Vs_data[index]\n",
    "\n",
    "print(TTF_data.shape, Vs_data.shape)\n"
   ]
  },
  {
   "cell_type": "code",
   "execution_count": 34,
   "metadata": {},
   "outputs": [
    {
     "name": "stdout",
     "output_type": "stream",
     "text": [
      "(21, 256)\n"
     ]
    },
    {
     "data": {
      "text/plain": [
       "[<matplotlib.lines.Line2D at 0x1fccd51afc0>]"
      ]
     },
     "execution_count": 34,
     "metadata": {},
     "output_type": "execute_result"
    },
    {
     "data": {
      "image/png": "[encoded data removed]",
      "text/plain": [
       "<Figure size 640x480 with 1 Axes>"
      ]
     },
     "metadata": {},
     "output_type": "display_data"
    }
   ],
   "source": [
    "from sklearn.preprocessing import MaxAbsScaler\n",
    "\n",
    "scaler = MaxAbsScaler()\n",
    "TTF_values = scaler.fit_transform(TTF_data.T).T\n",
    "print(TTF_values.shape)\n",
    "\n",
    "plt.plot(freq_data, TTF_values[-1,:], label=\"TTF\")"
   ]
  },
  {
   "cell_type": "code",
   "execution_count": 35,
   "metadata": {},
   "outputs": [],
   "source": [
    "class TTF_dataset(Dataset):\n",
    "    def __init__(self, TTF_values, Vs_values):\n",
    "        self.TTF_values = TTF_values\n",
    "        self.Vs_values = Vs_values\n",
    "        \n",
    "    def __len__(self):\n",
    "        return len(self.TTF_values)\n",
    "    \n",
    "    def __getitem__(self, idx):\n",
    "\n",
    "        input_data = self.Vs_values[idx] * np.ones(30)\n",
    "        input_data = torch.tensor(input_data, dtype=torch.float32).unsqueeze(1)\n",
    "\n",
    "        target_data = self.TTF_values[idx]\n",
    "        target_data = torch.tensor(target_data, dtype=torch.float32).unsqueeze(1)\n",
    "        return input_data, target_data"
   ]
  },
  {
   "cell_type": "code",
   "execution_count": 36,
   "metadata": {},
   "outputs": [
    {
     "name": "stdout",
     "output_type": "stream",
     "text": [
      "Train, validation and test sizes:  16 2 3\n",
      "Number of batches:  4 1 1\n"
     ]
    }
   ],
   "source": [
    "dataset = TTF_dataset(TTF_values, Vs_data)\n",
    "\n",
    "# Separate into training and testing\n",
    "train_size = int(0.8 * len(dataset))\n",
    "val_size = (len(dataset) - train_size) // 2\n",
    "test_size = len(dataset) - train_size - val_size\n",
    "print(\"Train, validation and test sizes: \" ,train_size, val_size, test_size)\n",
    "\n",
    "train_dataset, val_dataset, test_dataset = torch.utils.data.random_split(dataset, [train_size, val_size, test_size])\n",
    "\n",
    "batch_size = 4\n",
    "train_loader = DataLoader(train_dataset, batch_size=batch_size, shuffle=True)\n",
    "val_loader = DataLoader(val_dataset, batch_size=batch_size, shuffle=False)\n",
    "test_loader = DataLoader(test_dataset, batch_size=batch_size, shuffle=False)\n",
    "print(\"Number of batches: \", len(train_loader), len(val_loader), len(test_loader))"
   ]
  },
  {
   "cell_type": "markdown",
   "metadata": {},
   "source": [
    "# Model"
   ]
  },
  {
   "cell_type": "code",
   "execution_count": 37,
   "metadata": {},
   "outputs": [],
   "source": [
    "# Use Vainilla Transformer\n",
    "class TransformerModel(nn.Module):\n",
    "    def __init__(self, input_dim, output_dim, d_model=512, nhead=8, num_encoder_layers=6, num_decoder_layers=6, dim_feedforward=2048, dropout=0.1):\n",
    "        super(TransformerModel, self).__init__()\n",
    "        self.transformer = nn.Transformer(d_model=d_model, nhead=nhead, num_encoder_layers=num_encoder_layers, num_decoder_layers=num_decoder_layers, dim_feedforward=dim_feedforward, dropout=dropout, batch_first=True)\n",
    "        self.input_linear = nn.Linear(input_dim, d_model)\n",
    "        self.output_linear = nn.Linear(d_model, output_dim)\n",
    "    \n",
    "    def forward(self, src, tgt):\n",
    "        src = self.input_linear(src)\n",
    "        tgt = self.input_linear(tgt)\n",
    "        output = self.transformer(src, tgt)\n",
    "        output = self.output_linear(output[:, 0, :])  # Take the first token's output\n",
    "        return output.unsqueeze(-1)"
   ]
  },
  {
   "cell_type": "code",
   "execution_count": 41,
   "metadata": {},
   "outputs": [
    {
     "name": "stdout",
     "output_type": "stream",
     "text": [
      "torch.Size([4, 30, 1]) torch.Size([4, 256, 1])\n",
      "torch.Size([4, 256, 1])\n",
      "tensor(0.4736, grad_fn=<MeanBackward0>)\n"
     ]
    }
   ],
   "source": [
    "# Define the model\n",
    "input_dim = 1\n",
    "output_dim = 256\n",
    "\n",
    "model = TransformerModel(input_dim, output_dim)\n",
    "\n",
    "# Try it with a batch\n",
    "X,y = next(iter(train_loader))\n",
    "\n",
    "\n",
    "\n",
    "print(X.shape, y.shape)\n",
    "output = model(X, y)\n",
    "print(output.shape)\n",
    "assert output.shape == y.shape , \"Output shape is not correct\"\n",
    "loss_fn = nn.L1Loss()\n",
    "print(loss_fn(output, y))"
   ]
  },
  {
   "cell_type": "code",
   "execution_count": null,
   "metadata": {},
   "outputs": [],
   "source": []
  }
 ],
 "metadata": {
  "kernelspec": {
   "display_name": "ML",
   "language": "python",
   "name": "python3"
  },
  "language_info": {
   "codemirror_mode": {
    "name": "ipython",
    "version": 3
   },
   "file_extension": ".py",
   "mimetype": "text/x-python",
   "name": "python",
   "nbconvert_exporter": "python",
   "pygments_lexer": "ipython3",
   "version": "3.12.4"
  }
 },
 "nbformat": 4,
 "nbformat_minor": 2
}
