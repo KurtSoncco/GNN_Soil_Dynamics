{
 "cells": [
  {
   "cell_type": "markdown",
   "metadata": {},
   "source": [
    "# MLP for TF Function"
   ]
  },
  {
   "cell_type": "code",
   "execution_count": 1357,
   "metadata": {},
   "outputs": [],
   "source": [
    "import torch \n",
    "import pandas as pd \n",
    "import pickle\n",
    "import numpy as np\n",
    "import os\n",
    "import sys \n",
    "\n",
    "from torch.utils.data import Dataset, DataLoader\n",
    "from torch import nn\n",
    "\n",
    "\n",
    "import matplotlib.pyplot as plt\n",
    "import seaborn as sns\n",
    "\n",
    "from tqdm import tqdm\n",
    "from tqdm import trange\n",
    "\n",
    "sns.set_theme()"
   ]
  },
  {
   "cell_type": "markdown",
   "metadata": {},
   "source": [
    "## Data"
   ]
  },
  {
   "cell_type": "code",
   "execution_count": 1358,
   "metadata": {},
   "outputs": [
    {
     "name": "stdout",
     "output_type": "stream",
     "text": [
      "(146, 256) (146,)\n",
      "[1.33096743 1.52228816 1.25214333 0.1230681  1.08148855 0.57316907\n",
      " 0.39737675 0.48310916 0.65555961 0.11720194 0.19812984 0.22661013\n",
      " 0.21580854 0.42758111 1.34731797 1.46753626 0.36039689 1.01743938\n",
      " 0.14961954 0.87877243 0.17322894 0.2211434  0.53268036 0.6319812\n",
      " 0.6397449  0.26885418 0.76832857 0.71405378 2.22269484 0.37384284] [212 223 207  17 195 143 113 129 154  13  56  67  63 119 213 220 105 190\n",
      "  33 178  45  65 137 151 152  81 167 161 254 108]\n"
     ]
    }
   ],
   "source": [
    "# Load data\n",
    "freq_data = np.genfromtxt(\"TTF_Data_100.000_1.500_2.500.csv.csv\")\n",
    "\n",
    "# Load pickle\n",
    "with open(\"TTF_data.pt\", \"rb\") as f:\n",
    "    TTF_data = pickle.load(f)\n",
    "\n",
    "with open(\"Vs_values.pt\", \"rb\") as f:\n",
    "    Vs_data = pickle.load(f)\n",
    "\n",
    "TTF_data = np.array(TTF_data)\n",
    "Vs_data = np.array(Vs_data)\n",
    "\n",
    "# Get Vs_data less than 800\n",
    "index = Vs_data < 800\n",
    "TTF_data = TTF_data[index]\n",
    "Vs_data = Vs_data[index]\n",
    "\n",
    "print(TTF_data.shape, Vs_data.shape)\n",
    "\n",
    "# Use only certain freq\n",
    "idx = np.random.choice(len(freq_data), 30, replace=False)\n",
    "freq = freq_data[idx]\n",
    "print(freq, idx)"
   ]
  },
  {
   "cell_type": "code",
   "execution_count": 1359,
   "metadata": {},
   "outputs": [
    {
     "name": "stdout",
     "output_type": "stream",
     "text": [
      "Training data size:  (136, 30) (136,)\n",
      "Testing data size:  (10, 30) (10,)\n"
     ]
    }
   ],
   "source": [
    "# Separate the 10 values randomly for testing\n",
    "test_indices = np.random.choice(len(TTF_data), 10, replace=False)\n",
    "test_TTF_data = TTF_data[test_indices][:, idx]\n",
    "test_Vs_data = Vs_data[test_indices]\n",
    "\n",
    "train_indices = np.delete(np.arange(len(TTF_data)), test_indices)\n",
    "train_TTF_data = TTF_data[train_indices][:, idx]\n",
    "train_Vs_data = Vs_data[train_indices]\n",
    "\n",
    "print(\"Training data size: \" ,train_TTF_data.shape, train_Vs_data.shape)\n",
    "print(\"Testing data size: \", test_TTF_data.shape, test_Vs_data.shape)"
   ]
  },
  {
   "cell_type": "code",
   "execution_count": 1360,
   "metadata": {},
   "outputs": [
    {
     "name": "stdout",
     "output_type": "stream",
     "text": [
      "(136, 30) (136, 30) (136, 30)\n",
      "(4080,) (4080,) (4080,)\n"
     ]
    }
   ],
   "source": [
    "# Crate Meshgrid\n",
    "freq_values, Vs_values = np.meshgrid(freq, train_Vs_data)\n",
    "print(Vs_values.shape, freq_values.shape, train_TTF_data.shape)\n",
    "\n",
    "# Flatten the meshgrid\n",
    "Vs_values = Vs_values.flatten()\n",
    "freq_values = freq_values.flatten()\n",
    "TTF_values = train_TTF_data.flatten()\n",
    "print(Vs_values.shape, freq_values.shape, TTF_values.shape)"
   ]
  },
  {
   "cell_type": "code",
   "execution_count": 1361,
   "metadata": {},
   "outputs": [],
   "source": [
    "class TTFDataset(Dataset):\n",
    "    def __init__(self, TTF_data, Vs_array, freq_array):\n",
    "        self.TTF_data = TTF_data\n",
    "        self.Vs_array = Vs_array\n",
    "        self.freq_array = freq_array\n",
    "\n",
    "    def __len__(self):\n",
    "        return len(self.TTF_data)\n",
    "\n",
    "    def __getitem__(self, idx):\n",
    "\n",
    "        # Input \n",
    "        Vs = self.Vs_array[idx] * np.ones(30)\n",
    "        freq = self.freq_array[idx] * np.ones(1)\n",
    "        input_data = np.concatenate((Vs, freq))\n",
    "        input_data = torch.tensor(input_data, dtype=torch.float32)\n",
    "\n",
    "        # Target\n",
    "        TTF = self.TTF_data[idx] * np.ones(1)\n",
    "        target = torch.tensor(TTF, dtype=torch.float32)\n",
    "\n",
    "        return input_data, target"
   ]
  },
  {
   "cell_type": "code",
   "execution_count": 1362,
   "metadata": {},
   "outputs": [],
   "source": [
    "# Normalize the data\n",
    "def normalize_data(data, mean, std):\n",
    "    return (data - mean) / std\n",
    "\n",
    "def denormalize_data(data, mean, std):\n",
    "    return data * std + mean\n",
    "\n",
    "# Normalize the data\n",
    "mean_Vs = Vs_values.mean()\n",
    "std_Vs = Vs_values.std()\n",
    "mean_freq = freq_values.mean()\n",
    "std_freq = freq_values.std()\n",
    "mean_TTF = TTF_values.mean()\n",
    "std_TTF = TTF_values.std()\n",
    "\n",
    "Vs_values = normalize_data(Vs_values, mean_Vs, std_Vs)\n",
    "freq_values = normalize_data(freq_values, mean_freq, std_freq)\n",
    "TTF_values = normalize_data(TTF_values, mean_TTF, std_TTF)\n",
    "\n",
    "# Create dataset\n",
    "dataset = TTFDataset(TTF_values, Vs_values, freq_values)"
   ]
  },
  {
   "cell_type": "code",
   "execution_count": 1363,
   "metadata": {},
   "outputs": [
    {
     "name": "stdout",
     "output_type": "stream",
     "text": [
      "Train, validation and test sizes:  3264 408 408\n",
      "Number of batches:  7 1 1\n"
     ]
    }
   ],
   "source": [
    "# Separate into training and testing\n",
    "train_size = int(0.8 * len(dataset))\n",
    "val_size = (len(dataset) - train_size) // 2\n",
    "test_size = len(dataset) - train_size - val_size\n",
    "print(\"Train, validation and test sizes: \" ,train_size, val_size, test_size)\n",
    "\n",
    "train_dataset, val_dataset, test_dataset = torch.utils.data.random_split(dataset, [train_size, val_size, test_size])\n",
    "\n",
    "i_batch_size = 500\n",
    "train_loader = DataLoader(train_dataset, batch_size=i_batch_size, shuffle=True)\n",
    "val_loader = DataLoader(val_dataset, batch_size=i_batch_size, shuffle=True)\n",
    "test_loader = DataLoader(test_dataset, batch_size=i_batch_size, shuffle=True)\n",
    "print(\"Number of batches: \", len(train_loader), len(val_loader), len(test_loader))"
   ]
  },
  {
   "cell_type": "markdown",
   "metadata": {},
   "source": [
    "## Model"
   ]
  },
  {
   "cell_type": "code",
   "execution_count": 1364,
   "metadata": {},
   "outputs": [],
   "source": [
    "# Create Model\n",
    "class MLP(nn.Module):\n",
    "    def __init__(self, input_dim, hidden_dim, hidden_layers, output_dim=1, activation=nn.ReLU, batch_norm=False):\n",
    "        super(MLP, self).__init__()\n",
    "        self.hidden_layers = nn.ModuleList()\n",
    "        self.batch_norm = batch_norm\n",
    "        self.activation = activation\n",
    "        self.output_dim = output_dim\n",
    "\n",
    "        # Input layer\n",
    "        self.hidden_layers.append(nn.Linear(input_dim, hidden_dim))\n",
    "        if self.batch_norm:\n",
    "            self.hidden_layers.append(nn.BatchNorm1d(hidden_dim))\n",
    "\n",
    "        # Hidden layers\n",
    "        for _ in range(hidden_layers - 1):\n",
    "            self.hidden_layers.append(nn.Linear(hidden_dim, hidden_dim))\n",
    "            if self.batch_norm:\n",
    "                self.hidden_layers.append(nn.BatchNorm1d(hidden_dim))\n",
    "\n",
    "        # Output layer\n",
    "        self.out = nn.Linear(hidden_dim, output_dim)\n",
    "\n",
    "\n",
    "    def forward(self, x):\n",
    "        for layer in self.hidden_layers:\n",
    "            if isinstance(layer, nn.Linear):\n",
    "                x = layer(x)\n",
    "                x = self.activation()(x)\n",
    "            elif isinstance(layer, nn.BatchNorm1d):\n",
    "                x = layer(x)\n",
    "        x = self.out(x)\n",
    "        return x"
   ]
  },
  {
   "cell_type": "code",
   "execution_count": 1365,
   "metadata": {},
   "outputs": [],
   "source": [
    "# Create TF model\n",
    "class TF_model(nn.Module):\n",
    "    def __init__(self, input_dim=31, output_dim=1):\n",
    "        super(TF_model, self).__init__()\n",
    "        self.input_dim = input_dim\n",
    "        self.output_dim = output_dim\n",
    "\n",
    "        self.fmlp1 = MLP(input_dim-1, 30, 2, output_dim=1, activation=nn.ReLU)\n",
    "        self.fmlp2 = MLP(2, 32, 2, output_dim=1, activation=nn.ReLU)\n",
    "\n",
    "    def forward(self, x):\n",
    "        x1 = x[:, :-1]\n",
    "        x2 = x[:, -1].unsqueeze(1) \n",
    "        x1 = self.fmlp1(x1)\n",
    "        x = torch.stack((x1, x2), dim=1).squeeze(2)\n",
    "        x = self.fmlp2(x)\n",
    "        return x\n"
   ]
  },
  {
   "cell_type": "markdown",
   "metadata": {},
   "source": [
    "Preliminary check if the shapes are correct"
   ]
  },
  {
   "cell_type": "code",
   "execution_count": 1366,
   "metadata": {},
   "outputs": [
    {
     "name": "stdout",
     "output_type": "stream",
     "text": [
      "torch.Size([500, 31]) torch.Size([500, 1])\n",
      "Loss:  tensor(0.9021, grad_fn=<MseLossBackward0>)\n"
     ]
    }
   ],
   "source": [
    "model = MLP(31, 30, 2, output_dim=1, activation=nn.Sigmoid)\n",
    "loss_fn = nn.MSELoss()\n",
    "X,y = next(iter(train_loader))\n",
    "print(X.shape, y.shape)\n",
    "pred = model(X)\n",
    "assert pred.shape == y.shape , f\"Expected shape {y.shape} but got {pred.shape}\"\n",
    "print(\"Loss: \", loss_fn(pred, y))"
   ]
  },
  {
   "cell_type": "markdown",
   "metadata": {},
   "source": [
    "## Training"
   ]
  },
  {
   "cell_type": "markdown",
   "metadata": {},
   "source": [
    "Defining the Early Stopping to avoid redudant training if the loss is not decreasing."
   ]
  },
  {
   "cell_type": "code",
   "execution_count": 1367,
   "metadata": {},
   "outputs": [],
   "source": [
    "# Early stopping\n",
    "class EarlyStopping():\n",
    "    def __init__(self, patience=5, delta=0.0, progress_bar=None):\n",
    "        self.patience = patience\n",
    "        self.counter = 0\n",
    "        self.best_score = None\n",
    "        self.early_stop = False\n",
    "        self.delta = delta\n",
    "        self.progress_bar = progress_bar\n",
    "\n",
    "    def __call__(self, val_loss, model):\n",
    "        if self.best_score is None:\n",
    "            self.best_score = val_loss\n",
    "        elif val_loss > self.best_score + self.delta:\n",
    "            self.counter += 1\n",
    "            if self.progress_bar:\n",
    "                self.progress_bar.set_postfix_str(f'EarlyStopping counter: {self.counter} out of {self.patience}')\n",
    "            if self.counter >= self.patience:\n",
    "                self.early_stop = True\n",
    "        else:\n",
    "            self.best_score = val_loss\n",
    "            self.counter = 0\n",
    "            if self.progress_bar:\n",
    "                self.progress_bar.set_postfix_str('')"
   ]
  },
  {
   "cell_type": "markdown",
   "metadata": {},
   "source": [
    "### Training function"
   ]
  },
  {
   "cell_type": "code",
   "execution_count": 1368,
   "metadata": {},
   "outputs": [],
   "source": [
    "import torch\n",
    "from tqdm import tqdm, trange\n",
    "import torch.nn as nn\n",
    "import numpy as np\n",
    "\n",
    "def train(model, optimizer, scheduler, train_dataloader, validation_dataloader, loss_fn, epochs=100, device=\"cpu\", patience=50):\n",
    "    train_losses = []\n",
    "    val_losses = []\n",
    "    model.to(device)\n",
    "    progress_bar = tqdm(range(epochs), desc=\"Training\", unit=\"epoch\")\n",
    "    early_stopping = EarlyStopping(patience=patience, progress_bar=progress_bar)\n",
    "\n",
    "    for epoch in progress_bar:\n",
    "        model.train()\n",
    "        train_loss = 0\n",
    "        for X, y in train_dataloader:\n",
    "            X, y = X.to(device), y.to(device)\n",
    "            optimizer.zero_grad()\n",
    "            y_pred = model(X)\n",
    "            loss = loss_fn(y_pred, y)\n",
    "            loss.backward()\n",
    "            torch.nn.utils.clip_grad_norm_(model.parameters(), max_norm=1.0)  # Gradient clipping\n",
    "            optimizer.step()\n",
    "            train_loss += loss.item()\n",
    "        train_loss /= len(train_dataloader)\n",
    "        train_losses.append(train_loss)\n",
    "\n",
    "        model.eval()\n",
    "        val_loss = 0\n",
    "        with torch.no_grad():\n",
    "            for X, y in validation_dataloader:\n",
    "                X, y = X.to(device), y.to(device)\n",
    "                y_pred = model(X)\n",
    "                loss = loss_fn(y_pred, y)\n",
    "                val_loss += loss.item()\n",
    "        val_loss /= len(validation_dataloader)\n",
    "        val_losses.append(val_loss)\n",
    "\n",
    "        if early_stopping is not None:\n",
    "            early_stopping(val_loss, model)\n",
    "            if early_stopping.early_stop:\n",
    "                print(\"Early stopping\")\n",
    "                break\n",
    "\n",
    "        if scheduler is not None:\n",
    "            scheduler.step(val_loss)\n",
    "\n",
    "        if epoch % 100 == 0:\n",
    "            print(f\"Epoch {epoch}, Train Loss: {train_loss}, Val Loss: {val_loss}, LR: {optimizer.param_groups[0]['lr']}\")\n",
    "\n",
    "        # Stop if loss is nan\n",
    "        if np.isnan(train_loss) or np.isnan(val_loss):\n",
    "            print(\"Loss is nan\")\n",
    "            break\n",
    "\n",
    "    return train_losses, val_losses, model"
   ]
  },
  {
   "cell_type": "markdown",
   "metadata": {},
   "source": [
    "### Testing function"
   ]
  },
  {
   "cell_type": "code",
   "execution_count": 1369,
   "metadata": {},
   "outputs": [],
   "source": [
    "# Define test function\n",
    "def test(model, test_dataloader, loss_fn, device=\"cpu\"):\n",
    "    model.eval()\n",
    "    test_loss = 0\n",
    "    for X, y in test_dataloader:\n",
    "        X, y = X.to(device), y.to(device)\n",
    "        y_pred = model(X)\n",
    "        loss = loss_fn(y_pred, y)\n",
    "        test_loss += loss.item()\n",
    "    test_loss /= len(test_dataloader)\n",
    "    return test_loss"
   ]
  },
  {
   "cell_type": "markdown",
   "metadata": {},
   "source": [
    "## Start of Training"
   ]
  },
  {
   "cell_type": "code",
   "execution_count": 1370,
   "metadata": {},
   "outputs": [
    {
     "name": "stdout",
     "output_type": "stream",
     "text": [
      "Using device: cuda\n"
     ]
    }
   ],
   "source": [
    "# Device \n",
    "device = torch.device(\"cuda\" if torch.cuda.is_available() else \"cpu\")\n",
    "print(f\"Using device: {device}\")"
   ]
  },
  {
   "cell_type": "code",
   "execution_count": 1371,
   "metadata": {},
   "outputs": [],
   "source": [
    "# Model\n",
    "model = MLP(31, 30, 4, output_dim=1, activation=nn.ReLU, batch_norm=True)\n",
    "#model = TF_model()\n",
    "\n",
    "# Xavier Glore initialization\n",
    "def init_weights(m):\n",
    "    if type(m) == nn.Linear:\n",
    "        torch.nn.init.xavier_uniform_(m.weight)\n",
    "        m.bias.data.fill_(0.01)\n",
    "\n",
    "model.apply(init_weights)\n",
    "\n",
    "# Loss function - RMSE\n",
    "def rmse(y_true, y_pred):\n",
    "    return torch.sqrt(torch.mean((y_true - y_pred) ** 2))\n",
    "\n",
    "loss_fn = rmse"
   ]
  },
  {
   "cell_type": "code",
   "execution_count": 1372,
   "metadata": {},
   "outputs": [],
   "source": [
    "# Optimizer with momentum NAG\n",
    "#optimizer = torch.optim.SGD(model.parameters(), lr=0.05, momentum=0.9, weight_decay=0.01, nesterov=True)\n",
    "optimizer = torch.optim.AdamW(model.parameters(), lr=0.01, betas=(0.6, 0.999), weight_decay=0.01)\n",
    "#optimizer = torch.optim.Adam(model.parameters(), lr=0.001, betas=(0.9, 0.999), weight_decay=0.01)\n",
    "#optimizer = torch.optim.RMSprop(model.parameters(), lr=0.05, alpha=0.9, eps=1e-08, weight_decay=0.01, momentum=0.9, centered=False)\n",
    "#optimizer = torch.optim.AdamW(model.parameters(), lr=0.001, betas=(0.9, 0.999), weight_decay=0.01)\n",
    "\n",
    "\n",
    "# Scheduler with exponential decay\n",
    "#scheduler = None\n",
    "scheduler = torch.optim.lr_scheduler.ReduceLROnPlateau(optimizer, mode='min', factor=0.5, patience=250, threshold=0.0001, threshold_mode='rel', cooldown=0, min_lr=1e-4, eps=1e-08)"
   ]
  },
  {
   "cell_type": "code",
   "execution_count": 1373,
   "metadata": {},
   "outputs": [
    {
     "name": "stderr",
     "output_type": "stream",
     "text": [
      "Training:   0%|          | 1/10000 [00:00<37:02,  4.50epoch/s]"
     ]
    },
    {
     "name": "stdout",
     "output_type": "stream",
     "text": [
      "Epoch 0, Train Loss: 1.2362277337482996, Val Loss: 1.2669495344161987, LR: 0.01\n"
     ]
    },
    {
     "name": "stderr",
     "output_type": "stream",
     "text": [
      "Training:   1%|          | 101/10000 [00:25<50:31,  3.27epoch/s, EarlyStopping counter: 20 out of 1000]"
     ]
    },
    {
     "name": "stdout",
     "output_type": "stream",
     "text": [
      "Epoch 100, Train Loss: 0.5653102823666164, Val Loss: 0.652051568031311, LR: 0.01\n"
     ]
    },
    {
     "name": "stderr",
     "output_type": "stream",
     "text": [
      "Training:   2%|▏         | 201/10000 [00:55<49:55,  3.27epoch/s, EarlyStopping counter: 11 out of 1000] "
     ]
    },
    {
     "name": "stdout",
     "output_type": "stream",
     "text": [
      "Epoch 200, Train Loss: 0.4489565534251077, Val Loss: 0.43295690417289734, LR: 0.01\n"
     ]
    },
    {
     "name": "stderr",
     "output_type": "stream",
     "text": [
      "Training:   3%|▎         | 301/10000 [01:26<48:30,  3.33epoch/s, EarlyStopping counter: 67 out of 1000]  "
     ]
    },
    {
     "name": "stdout",
     "output_type": "stream",
     "text": [
      "Epoch 300, Train Loss: 0.46229166218212675, Val Loss: 0.496364027261734, LR: 0.01\n"
     ]
    },
    {
     "name": "stderr",
     "output_type": "stream",
     "text": [
      "Training:   4%|▍         | 401/10000 [01:57<52:16,  3.06epoch/s, EarlyStopping counter: 12 out of 1000] "
     ]
    },
    {
     "name": "stdout",
     "output_type": "stream",
     "text": [
      "Epoch 400, Train Loss: 0.416639187506267, Val Loss: 0.6273631453514099, LR: 0.01\n"
     ]
    },
    {
     "name": "stderr",
     "output_type": "stream",
     "text": [
      "Training:   5%|▌         | 501/10000 [02:28<48:57,  3.23epoch/s, EarlyStopping counter: 10 out of 1000] "
     ]
    },
    {
     "name": "stdout",
     "output_type": "stream",
     "text": [
      "Epoch 500, Train Loss: 0.47409214292253765, Val Loss: 0.39358237385749817, LR: 0.01\n"
     ]
    },
    {
     "name": "stderr",
     "output_type": "stream",
     "text": [
      "Training:   6%|▌         | 601/10000 [03:01<51:29,  3.04epoch/s, EarlyStopping counter: 17 out of 1000]  "
     ]
    },
    {
     "name": "stdout",
     "output_type": "stream",
     "text": [
      "Epoch 600, Train Loss: 0.4365587277071817, Val Loss: 0.5272765755653381, LR: 0.01\n"
     ]
    },
    {
     "name": "stderr",
     "output_type": "stream",
     "text": [
      "Training:   7%|▋         | 701/10000 [03:32<1:25:57,  1.80epoch/s, EarlyStopping counter: 117 out of 1000]"
     ]
    },
    {
     "name": "stdout",
     "output_type": "stream",
     "text": [
      "Epoch 700, Train Loss: 0.40666739429746357, Val Loss: 0.5757651925086975, LR: 0.01\n"
     ]
    },
    {
     "name": "stderr",
     "output_type": "stream",
     "text": [
      "Training:   8%|▊         | 802/10000 [04:25<24:34,  6.24epoch/s, EarlyStopping counter: 53 out of 1000]   "
     ]
    },
    {
     "name": "stdout",
     "output_type": "stream",
     "text": [
      "Epoch 800, Train Loss: 0.42195322683879305, Val Loss: 0.33513617515563965, LR: 0.01\n"
     ]
    },
    {
     "name": "stderr",
     "output_type": "stream",
     "text": [
      "Training:   9%|▉         | 902/10000 [04:42<24:07,  6.29epoch/s, EarlyStopping counter: 153 out of 1000]"
     ]
    },
    {
     "name": "stdout",
     "output_type": "stream",
     "text": [
      "Epoch 900, Train Loss: 0.42280847685677664, Val Loss: 0.3642967641353607, LR: 0.01\n"
     ]
    },
    {
     "name": "stderr",
     "output_type": "stream",
     "text": [
      "Training:  10%|█         | 1001/10000 [05:00<22:50,  6.57epoch/s, EarlyStopping counter: 15 out of 1000]"
     ]
    },
    {
     "name": "stdout",
     "output_type": "stream",
     "text": [
      "Epoch 1000, Train Loss: 0.37526844654764446, Val Loss: 0.4053514003753662, LR: 0.01\n"
     ]
    },
    {
     "name": "stderr",
     "output_type": "stream",
     "text": [
      "Training:  11%|█         | 1102/10000 [05:18<25:00,  5.93epoch/s, EarlyStopping counter: 115 out of 1000]"
     ]
    },
    {
     "name": "stdout",
     "output_type": "stream",
     "text": [
      "Epoch 1100, Train Loss: 0.4084726401737758, Val Loss: 0.4649795591831207, LR: 0.01\n"
     ]
    },
    {
     "name": "stderr",
     "output_type": "stream",
     "text": [
      "Training:  12%|█▏        | 1201/10000 [05:37<25:22,  5.78epoch/s, EarlyStopping counter: 31 out of 1000] "
     ]
    },
    {
     "name": "stdout",
     "output_type": "stream",
     "text": [
      "Epoch 1200, Train Loss: 0.42350280710629057, Val Loss: 0.7147498726844788, LR: 0.01\n"
     ]
    },
    {
     "name": "stderr",
     "output_type": "stream",
     "text": [
      "Training:  13%|█▎        | 1302/10000 [05:56<20:13,  7.17epoch/s, EarlyStopping counter: 131 out of 1000]"
     ]
    },
    {
     "name": "stdout",
     "output_type": "stream",
     "text": [
      "Epoch 1300, Train Loss: 0.36945647427013945, Val Loss: 0.39341965317726135, LR: 0.01\n"
     ]
    },
    {
     "name": "stderr",
     "output_type": "stream",
     "text": [
      "Training:  14%|█▍        | 1402/10000 [06:13<19:54,  7.20epoch/s, EarlyStopping counter: 231 out of 1000]"
     ]
    },
    {
     "name": "stdout",
     "output_type": "stream",
     "text": [
      "Epoch 1400, Train Loss: 0.4025191749845232, Val Loss: 0.5041205883026123, LR: 0.01\n"
     ]
    },
    {
     "name": "stderr",
     "output_type": "stream",
     "text": [
      "Training:  15%|█▌        | 1502/10000 [06:30<19:23,  7.31epoch/s]                                        "
     ]
    },
    {
     "name": "stdout",
     "output_type": "stream",
     "text": [
      "Epoch 1500, Train Loss: 0.3871311204774039, Val Loss: 0.5052762627601624, LR: 0.005\n"
     ]
    },
    {
     "name": "stderr",
     "output_type": "stream",
     "text": [
      "Training:  16%|█▌        | 1601/10000 [07:16<1:05:03,  2.15epoch/s, EarlyStopping counter: 93 out of 1000]"
     ]
    },
    {
     "name": "stdout",
     "output_type": "stream",
     "text": [
      "Epoch 1600, Train Loss: 0.28240531257220675, Val Loss: 0.23877227306365967, LR: 0.005\n"
     ]
    },
    {
     "name": "stderr",
     "output_type": "stream",
     "text": [
      "Training:  17%|█▋        | 1701/10000 [08:16<58:59,  2.34epoch/s, EarlyStopping counter: 33 out of 1000]   "
     ]
    },
    {
     "name": "stdout",
     "output_type": "stream",
     "text": [
      "Epoch 1700, Train Loss: 0.30873179009982515, Val Loss: 0.4179886281490326, LR: 0.005\n"
     ]
    },
    {
     "name": "stderr",
     "output_type": "stream",
     "text": [
      "Training:  18%|█▊        | 1801/10000 [09:02<1:06:54,  2.04epoch/s, EarlyStopping counter: 5 out of 1000]  "
     ]
    },
    {
     "name": "stdout",
     "output_type": "stream",
     "text": [
      "Epoch 1800, Train Loss: 0.3114026572023119, Val Loss: 0.32951152324676514, LR: 0.005\n"
     ]
    },
    {
     "name": "stderr",
     "output_type": "stream",
     "text": [
      "Training:  19%|█▉        | 1901/10000 [10:01<1:15:45,  1.78epoch/s, EarlyStopping counter: 105 out of 1000]"
     ]
    },
    {
     "name": "stdout",
     "output_type": "stream",
     "text": [
      "Epoch 1900, Train Loss: 0.27455902312483105, Val Loss: 0.36766648292541504, LR: 0.005\n"
     ]
    },
    {
     "name": "stderr",
     "output_type": "stream",
     "text": [
      "Training:  20%|██        | 2002/10000 [10:27<23:05,  5.77epoch/s, EarlyStopping counter: 206 out of 1000]  "
     ]
    },
    {
     "name": "stdout",
     "output_type": "stream",
     "text": [
      "Epoch 2000, Train Loss: 0.28829026009355274, Val Loss: 0.22809897363185883, LR: 0.005\n"
     ]
    },
    {
     "name": "stderr",
     "output_type": "stream",
     "text": [
      "Training:  21%|██        | 2102/10000 [10:43<22:06,  5.95epoch/s, EarlyStopping counter: 21 out of 1000] "
     ]
    },
    {
     "name": "stdout",
     "output_type": "stream",
     "text": [
      "Epoch 2100, Train Loss: 0.24317022413015366, Val Loss: 0.24537412822246552, LR: 0.0025\n"
     ]
    },
    {
     "name": "stderr",
     "output_type": "stream",
     "text": [
      "Training:  22%|██▏       | 2202/10000 [11:00<20:58,  6.20epoch/s, EarlyStopping counter: 57 out of 1000]"
     ]
    },
    {
     "name": "stdout",
     "output_type": "stream",
     "text": [
      "Epoch 2200, Train Loss: 0.28619483751910074, Val Loss: 0.1914188265800476, LR: 0.0025\n"
     ]
    },
    {
     "name": "stderr",
     "output_type": "stream",
     "text": [
      "Training:  23%|██▎       | 2302/10000 [11:16<20:22,  6.30epoch/s, EarlyStopping counter: 19 out of 1000]"
     ]
    },
    {
     "name": "stdout",
     "output_type": "stream",
     "text": [
      "Epoch 2300, Train Loss: 0.22132070788315364, Val Loss: 0.29081687331199646, LR: 0.0025\n"
     ]
    },
    {
     "name": "stderr",
     "output_type": "stream",
     "text": [
      "Training:  24%|██▍       | 2401/10000 [11:37<29:34,  4.28epoch/s, EarlyStopping counter: 8 out of 1000]  "
     ]
    },
    {
     "name": "stdout",
     "output_type": "stream",
     "text": [
      "Epoch 2400, Train Loss: 0.22256633000714438, Val Loss: 0.19335666298866272, LR: 0.0025\n"
     ]
    },
    {
     "name": "stderr",
     "output_type": "stream",
     "text": [
      "Training:  25%|██▌       | 2502/10000 [11:59<25:52,  4.83epoch/s, EarlyStopping counter: 109 out of 1000]"
     ]
    },
    {
     "name": "stdout",
     "output_type": "stream",
     "text": [
      "Epoch 2500, Train Loss: 0.19698634317943028, Val Loss: 0.2821679711341858, LR: 0.0025\n"
     ]
    },
    {
     "name": "stderr",
     "output_type": "stream",
     "text": [
      "Training:  26%|██▌       | 2601/10000 [12:22<28:44,  4.29epoch/s, EarlyStopping counter: 14 out of 1000] "
     ]
    },
    {
     "name": "stdout",
     "output_type": "stream",
     "text": [
      "Epoch 2600, Train Loss: 0.21855500766209193, Val Loss: 0.19799217581748962, LR: 0.0025\n"
     ]
    },
    {
     "name": "stderr",
     "output_type": "stream",
     "text": [
      "Training:  27%|██▋       | 2701/10000 [12:41<23:05,  5.27epoch/s, EarlyStopping counter: 114 out of 1000]"
     ]
    },
    {
     "name": "stdout",
     "output_type": "stream",
     "text": [
      "Epoch 2700, Train Loss: 0.22953454298632486, Val Loss: 0.20887041091918945, LR: 0.0025\n"
     ]
    },
    {
     "name": "stderr",
     "output_type": "stream",
     "text": [
      "Training:  28%|██▊       | 2802/10000 [13:01<19:14,  6.23epoch/s, EarlyStopping counter: 215 out of 1000]"
     ]
    },
    {
     "name": "stdout",
     "output_type": "stream",
     "text": [
      "Epoch 2800, Train Loss: 0.2450865783861705, Val Loss: 0.3422301113605499, LR: 0.0025\n"
     ]
    },
    {
     "name": "stderr",
     "output_type": "stream",
     "text": [
      "Training:  29%|██▉       | 2902/10000 [13:19<22:21,  5.29epoch/s, EarlyStopping counter: 71 out of 1000] "
     ]
    },
    {
     "name": "stdout",
     "output_type": "stream",
     "text": [
      "Epoch 2900, Train Loss: 0.267664902976581, Val Loss: 0.19217169284820557, LR: 0.0025\n"
     ]
    },
    {
     "name": "stderr",
     "output_type": "stream",
     "text": [
      "Training:  30%|███       | 3002/10000 [13:39<19:10,  6.08epoch/s, EarlyStopping counter: 171 out of 1000]"
     ]
    },
    {
     "name": "stdout",
     "output_type": "stream",
     "text": [
      "Epoch 3000, Train Loss: 0.23340073015008653, Val Loss: 0.31914299726486206, LR: 0.0025\n"
     ]
    },
    {
     "name": "stderr",
     "output_type": "stream",
     "text": [
      "Training:  31%|███       | 3101/10000 [14:26<1:04:48,  1.77epoch/s, EarlyStopping counter: 3 out of 1000]  "
     ]
    },
    {
     "name": "stdout",
     "output_type": "stream",
     "text": [
      "Epoch 3100, Train Loss: 0.19824774776186263, Val Loss: 0.16939160227775574, LR: 0.00125\n"
     ]
    },
    {
     "name": "stderr",
     "output_type": "stream",
     "text": [
      "Training:  32%|███▏      | 3201/10000 [15:25<1:09:43,  1.63epoch/s, EarlyStopping counter: 103 out of 1000]"
     ]
    },
    {
     "name": "stdout",
     "output_type": "stream",
     "text": [
      "Epoch 3200, Train Loss: 0.18694850376674108, Val Loss: 0.21564966440200806, LR: 0.00125\n"
     ]
    },
    {
     "name": "stderr",
     "output_type": "stream",
     "text": [
      "Training:  33%|███▎      | 3301/10000 [16:24<1:03:45,  1.75epoch/s, EarlyStopping counter: 9 out of 1000]  "
     ]
    },
    {
     "name": "stdout",
     "output_type": "stream",
     "text": [
      "Epoch 3300, Train Loss: 0.1699721525822367, Val Loss: 0.16376839578151703, LR: 0.00125\n"
     ]
    },
    {
     "name": "stderr",
     "output_type": "stream",
     "text": [
      "Training:  34%|███▍      | 3401/10000 [17:25<1:13:26,  1.50epoch/s, EarlyStopping counter: 109 out of 1000]"
     ]
    },
    {
     "name": "stdout",
     "output_type": "stream",
     "text": [
      "Epoch 3400, Train Loss: 0.17582527441637857, Val Loss: 0.16578340530395508, LR: 0.00125\n"
     ]
    },
    {
     "name": "stderr",
     "output_type": "stream",
     "text": [
      "Training:  35%|███▌      | 3501/10000 [18:22<1:02:09,  1.74epoch/s, EarlyStopping counter: 83 out of 1000] "
     ]
    },
    {
     "name": "stdout",
     "output_type": "stream",
     "text": [
      "Epoch 3500, Train Loss: 0.2390466971056802, Val Loss: 0.21399419009685516, LR: 0.00125\n"
     ]
    },
    {
     "name": "stderr",
     "output_type": "stream",
     "text": [
      "Training:  36%|███▌      | 3601/10000 [19:19<1:24:56,  1.26epoch/s, EarlyStopping counter: 183 out of 1000]"
     ]
    },
    {
     "name": "stdout",
     "output_type": "stream",
     "text": [
      "Epoch 3600, Train Loss: 0.18156180850097112, Val Loss: 0.15484482049942017, LR: 0.00125\n"
     ]
    },
    {
     "name": "stderr",
     "output_type": "stream",
     "text": [
      "Training:  37%|███▋      | 3702/10000 [19:41<14:47,  7.10epoch/s, EarlyStopping counter: 284 out of 1000]  "
     ]
    },
    {
     "name": "stdout",
     "output_type": "stream",
     "text": [
      "Epoch 3700, Train Loss: 0.18662296022687638, Val Loss: 0.14400829374790192, LR: 0.000625\n"
     ]
    },
    {
     "name": "stderr",
     "output_type": "stream",
     "text": [
      "Training:  38%|███▊      | 3801/10000 [20:14<1:08:15,  1.51epoch/s, EarlyStopping counter: 18 out of 1000]"
     ]
    },
    {
     "name": "stdout",
     "output_type": "stream",
     "text": [
      "Epoch 3800, Train Loss: 0.17433571070432663, Val Loss: 0.1714574545621872, LR: 0.000625\n"
     ]
    },
    {
     "name": "stderr",
     "output_type": "stream",
     "text": [
      "Training:  39%|███▉      | 3902/10000 [21:07<18:25,  5.51epoch/s, EarlyStopping counter: 119 out of 1000]  "
     ]
    },
    {
     "name": "stdout",
     "output_type": "stream",
     "text": [
      "Epoch 3900, Train Loss: 0.17968930091176713, Val Loss: 0.21621988713741302, LR: 0.000625\n"
     ]
    },
    {
     "name": "stderr",
     "output_type": "stream",
     "text": [
      "Training:  40%|████      | 4002/10000 [21:22<14:42,  6.80epoch/s, EarlyStopping counter: 81 out of 1000] "
     ]
    },
    {
     "name": "stdout",
     "output_type": "stream",
     "text": [
      "Epoch 4000, Train Loss: 0.20446703689438955, Val Loss: 0.1779518872499466, LR: 0.000625\n"
     ]
    },
    {
     "name": "stderr",
     "output_type": "stream",
     "text": [
      "Training:  41%|████      | 4101/10000 [21:41<46:01,  2.14epoch/s, EarlyStopping counter: 14 out of 1000] "
     ]
    },
    {
     "name": "stdout",
     "output_type": "stream",
     "text": [
      "Epoch 4100, Train Loss: 0.1695182483111109, Val Loss: 0.14129537343978882, LR: 0.000625\n"
     ]
    },
    {
     "name": "stderr",
     "output_type": "stream",
     "text": [
      "Training:  42%|████▏     | 4201/10000 [22:32<48:57,  1.97epoch/s, EarlyStopping counter: 24 out of 1000]"
     ]
    },
    {
     "name": "stdout",
     "output_type": "stream",
     "text": [
      "Epoch 4200, Train Loss: 0.15973239285605295, Val Loss: 0.1902625560760498, LR: 0.000625\n"
     ]
    },
    {
     "name": "stderr",
     "output_type": "stream",
     "text": [
      "Training:  43%|████▎     | 4302/10000 [23:14<19:40,  4.83epoch/s, EarlyStopping counter: 79 out of 1000]  "
     ]
    },
    {
     "name": "stdout",
     "output_type": "stream",
     "text": [
      "Epoch 4300, Train Loss: 0.18136120481150492, Val Loss: 0.19592012465000153, LR: 0.000625\n"
     ]
    },
    {
     "name": "stderr",
     "output_type": "stream",
     "text": [
      "Training:  44%|████▍     | 4401/10000 [23:55<51:59,  1.79epoch/s, EarlyStopping counter: 178 out of 1000]  "
     ]
    },
    {
     "name": "stdout",
     "output_type": "stream",
     "text": [
      "Epoch 4400, Train Loss: 0.15436125014509475, Val Loss: 0.1947278082370758, LR: 0.000625\n"
     ]
    },
    {
     "name": "stderr",
     "output_type": "stream",
     "text": [
      "Training:  45%|████▌     | 4501/10000 [24:36<54:16,  1.69epoch/s, EarlyStopping counter: 12 out of 1000]   "
     ]
    },
    {
     "name": "stdout",
     "output_type": "stream",
     "text": [
      "Epoch 4500, Train Loss: 0.13950876678739274, Val Loss: 0.13723263144493103, LR: 0.0003125\n"
     ]
    },
    {
     "name": "stderr",
     "output_type": "stream",
     "text": [
      "Training:  46%|████▌     | 4601/10000 [25:16<40:16,  2.23epoch/s, EarlyStopping counter: 20 out of 1000]"
     ]
    },
    {
     "name": "stdout",
     "output_type": "stream",
     "text": [
      "Epoch 4600, Train Loss: 0.14966233606849397, Val Loss: 0.14180254936218262, LR: 0.0003125\n"
     ]
    },
    {
     "name": "stderr",
     "output_type": "stream",
     "text": [
      "Training:  47%|████▋     | 4702/10000 [25:30<11:27,  7.71epoch/s, EarlyStopping counter: 121 out of 1000]"
     ]
    },
    {
     "name": "stdout",
     "output_type": "stream",
     "text": [
      "Epoch 4700, Train Loss: 0.15564778766461781, Val Loss: 0.12735044956207275, LR: 0.0003125\n"
     ]
    },
    {
     "name": "stderr",
     "output_type": "stream",
     "text": [
      "Training:  48%|████▊     | 4802/10000 [25:43<10:51,  7.98epoch/s, EarlyStopping counter: 46 out of 1000] "
     ]
    },
    {
     "name": "stdout",
     "output_type": "stream",
     "text": [
      "Epoch 4800, Train Loss: 0.1382452653987067, Val Loss: 0.1470775157213211, LR: 0.0003125\n"
     ]
    },
    {
     "name": "stderr",
     "output_type": "stream",
     "text": [
      "Training:  49%|████▉     | 4902/10000 [25:56<10:56,  7.76epoch/s, EarlyStopping counter: 57 out of 1000]"
     ]
    },
    {
     "name": "stdout",
     "output_type": "stream",
     "text": [
      "Epoch 4900, Train Loss: 0.1389262793319566, Val Loss: 0.12388208508491516, LR: 0.0003125\n"
     ]
    },
    {
     "name": "stderr",
     "output_type": "stream",
     "text": [
      "Training:  50%|█████     | 5002/10000 [26:09<10:42,  7.78epoch/s, EarlyStopping counter: 30 out of 1000] "
     ]
    },
    {
     "name": "stdout",
     "output_type": "stream",
     "text": [
      "Epoch 5000, Train Loss: 0.14254873352391378, Val Loss: 0.16424688696861267, LR: 0.0003125\n"
     ]
    },
    {
     "name": "stderr",
     "output_type": "stream",
     "text": [
      "Training:  51%|█████     | 5102/10000 [26:22<10:41,  7.64epoch/s, EarlyStopping counter: 130 out of 1000]"
     ]
    },
    {
     "name": "stdout",
     "output_type": "stream",
     "text": [
      "Epoch 5100, Train Loss: 0.12273286602326802, Val Loss: 0.14883440732955933, LR: 0.0003125\n"
     ]
    },
    {
     "name": "stderr",
     "output_type": "stream",
     "text": [
      "Training:  52%|█████▏    | 5202/10000 [26:35<10:11,  7.85epoch/s, EarlyStopping counter: 230 out of 1000]"
     ]
    },
    {
     "name": "stdout",
     "output_type": "stream",
     "text": [
      "Epoch 5200, Train Loss: 0.12517487577029637, Val Loss: 0.1417888104915619, LR: 0.0003125\n"
     ]
    },
    {
     "name": "stderr",
     "output_type": "stream",
     "text": [
      "Training:  53%|█████▎    | 5302/10000 [26:48<10:28,  7.47epoch/s, EarlyStopping counter: 12 out of 1000] "
     ]
    },
    {
     "name": "stdout",
     "output_type": "stream",
     "text": [
      "Epoch 5300, Train Loss: 0.1444558458668845, Val Loss: 0.13436435163021088, LR: 0.00015625\n"
     ]
    },
    {
     "name": "stderr",
     "output_type": "stream",
     "text": [
      "Training:  54%|█████▍    | 5402/10000 [27:01<09:53,  7.74epoch/s, EarlyStopping counter: 23 out of 1000]"
     ]
    },
    {
     "name": "stdout",
     "output_type": "stream",
     "text": [
      "Epoch 5400, Train Loss: 0.13489932673318045, Val Loss: 0.12086334824562073, LR: 0.00015625\n"
     ]
    },
    {
     "name": "stderr",
     "output_type": "stream",
     "text": [
      "Training:  55%|█████▌    | 5502/10000 [27:14<09:52,  7.59epoch/s, EarlyStopping counter: 123 out of 1000]"
     ]
    },
    {
     "name": "stdout",
     "output_type": "stream",
     "text": [
      "Epoch 5500, Train Loss: 0.13073605405432837, Val Loss: 0.11039768159389496, LR: 0.00015625\n"
     ]
    },
    {
     "name": "stderr",
     "output_type": "stream",
     "text": [
      "Training:  56%|█████▌    | 5602/10000 [27:27<09:17,  7.89epoch/s, EarlyStopping counter: 223 out of 1000]"
     ]
    },
    {
     "name": "stdout",
     "output_type": "stream",
     "text": [
      "Epoch 5600, Train Loss: 0.1256887380565916, Val Loss: 0.13655546307563782, LR: 0.00015625\n"
     ]
    },
    {
     "name": "stderr",
     "output_type": "stream",
     "text": [
      "Training:  57%|█████▋    | 5702/10000 [27:41<09:20,  7.67epoch/s, EarlyStopping counter: 323 out of 1000]"
     ]
    },
    {
     "name": "stdout",
     "output_type": "stream",
     "text": [
      "Epoch 5700, Train Loss: 0.13864613750151225, Val Loss: 0.1367785930633545, LR: 0.0001\n"
     ]
    },
    {
     "name": "stderr",
     "output_type": "stream",
     "text": [
      "Training:  58%|█████▊    | 5802/10000 [27:54<09:00,  7.77epoch/s, EarlyStopping counter: 423 out of 1000]"
     ]
    },
    {
     "name": "stdout",
     "output_type": "stream",
     "text": [
      "Epoch 5800, Train Loss: 0.12585773638316564, Val Loss: 0.12132029980421066, LR: 0.0001\n"
     ]
    },
    {
     "name": "stderr",
     "output_type": "stream",
     "text": [
      "Training:  59%|█████▉    | 5902/10000 [28:07<08:49,  7.74epoch/s, EarlyStopping counter: 3 out of 1000]  "
     ]
    },
    {
     "name": "stdout",
     "output_type": "stream",
     "text": [
      "Epoch 5900, Train Loss: 0.13265556309904372, Val Loss: 0.11304119974374771, LR: 0.0001\n"
     ]
    },
    {
     "name": "stderr",
     "output_type": "stream",
     "text": [
      "Training:  60%|██████    | 6002/10000 [28:20<08:26,  7.90epoch/s, EarlyStopping counter: 103 out of 1000]"
     ]
    },
    {
     "name": "stdout",
     "output_type": "stream",
     "text": [
      "Epoch 6000, Train Loss: 0.13436134159564972, Val Loss: 0.12036185711622238, LR: 0.0001\n"
     ]
    },
    {
     "name": "stderr",
     "output_type": "stream",
     "text": [
      "Training:  61%|██████    | 6102/10000 [28:34<08:15,  7.86epoch/s, EarlyStopping counter: 203 out of 1000]"
     ]
    },
    {
     "name": "stdout",
     "output_type": "stream",
     "text": [
      "Epoch 6100, Train Loss: 0.13570537737437657, Val Loss: 0.12293712794780731, LR: 0.0001\n"
     ]
    },
    {
     "name": "stderr",
     "output_type": "stream",
     "text": [
      "Training:  62%|██████▏   | 6202/10000 [28:47<08:28,  7.47epoch/s, EarlyStopping counter: 43 out of 1000] "
     ]
    },
    {
     "name": "stdout",
     "output_type": "stream",
     "text": [
      "Epoch 6200, Train Loss: 0.12000574171543121, Val Loss: 0.12683673202991486, LR: 0.0001\n"
     ]
    },
    {
     "name": "stderr",
     "output_type": "stream",
     "text": [
      "Training:  63%|██████▎   | 6302/10000 [29:00<07:56,  7.77epoch/s, EarlyStopping counter: 143 out of 1000]"
     ]
    },
    {
     "name": "stdout",
     "output_type": "stream",
     "text": [
      "Epoch 6300, Train Loss: 0.12372734716960362, Val Loss: 0.12049080431461334, LR: 0.0001\n"
     ]
    },
    {
     "name": "stderr",
     "output_type": "stream",
     "text": [
      "Training:  64%|██████▍   | 6402/10000 [29:13<07:37,  7.87epoch/s, EarlyStopping counter: 8 out of 1000]  "
     ]
    },
    {
     "name": "stdout",
     "output_type": "stream",
     "text": [
      "Epoch 6400, Train Loss: 0.13394538738897868, Val Loss: 0.11407470703125, LR: 0.0001\n"
     ]
    },
    {
     "name": "stderr",
     "output_type": "stream",
     "text": [
      "Training:  65%|██████▌   | 6502/10000 [29:26<07:33,  7.71epoch/s, EarlyStopping counter: 59 out of 1000]"
     ]
    },
    {
     "name": "stdout",
     "output_type": "stream",
     "text": [
      "Epoch 6500, Train Loss: 0.15482238573687418, Val Loss: 0.14442607760429382, LR: 0.0001\n"
     ]
    },
    {
     "name": "stderr",
     "output_type": "stream",
     "text": [
      "Training:  66%|██████▌   | 6602/10000 [29:39<07:17,  7.77epoch/s, EarlyStopping counter: 48 out of 1000] "
     ]
    },
    {
     "name": "stdout",
     "output_type": "stream",
     "text": [
      "Epoch 6600, Train Loss: 0.12385314064366477, Val Loss: 0.10917768627405167, LR: 0.0001\n"
     ]
    },
    {
     "name": "stderr",
     "output_type": "stream",
     "text": [
      "Training:  67%|██████▋   | 6702/10000 [29:52<06:49,  8.05epoch/s, EarlyStopping counter: 148 out of 1000]"
     ]
    },
    {
     "name": "stdout",
     "output_type": "stream",
     "text": [
      "Epoch 6700, Train Loss: 0.10685097532612937, Val Loss: 0.11280224472284317, LR: 0.0001\n"
     ]
    },
    {
     "name": "stderr",
     "output_type": "stream",
     "text": [
      "Training:  68%|██████▊   | 6802/10000 [30:05<06:51,  7.78epoch/s, EarlyStopping counter: 36 out of 1000] "
     ]
    },
    {
     "name": "stdout",
     "output_type": "stream",
     "text": [
      "Epoch 6800, Train Loss: 0.12835921879325593, Val Loss: 0.10509880632162094, LR: 0.0001\n"
     ]
    },
    {
     "name": "stderr",
     "output_type": "stream",
     "text": [
      "Training:  69%|██████▉   | 6901/10000 [30:23<26:21,  1.96epoch/s, EarlyStopping counter: 45 out of 1000]"
     ]
    },
    {
     "name": "stdout",
     "output_type": "stream",
     "text": [
      "Epoch 6900, Train Loss: 0.1241945709500994, Val Loss: 0.11966099590063095, LR: 0.0001\n"
     ]
    },
    {
     "name": "stderr",
     "output_type": "stream",
     "text": [
      "Training:  70%|███████   | 7001/10000 [31:17<35:21,  1.41epoch/s, EarlyStopping counter: 145 out of 1000]"
     ]
    },
    {
     "name": "stdout",
     "output_type": "stream",
     "text": [
      "Epoch 7000, Train Loss: 0.13587267058236258, Val Loss: 0.12523142993450165, LR: 0.0001\n"
     ]
    },
    {
     "name": "stderr",
     "output_type": "stream",
     "text": [
      "Training:  71%|███████   | 7101/10000 [32:30<28:12,  1.71epoch/s, EarlyStopping counter: 245 out of 1000]  "
     ]
    },
    {
     "name": "stdout",
     "output_type": "stream",
     "text": [
      "Epoch 7100, Train Loss: 0.14402955025434494, Val Loss: 0.12824063003063202, LR: 0.0001\n"
     ]
    },
    {
     "name": "stderr",
     "output_type": "stream",
     "text": [
      "Training:  72%|███████▏  | 7201/10000 [33:27<24:48,  1.88epoch/s, EarlyStopping counter: 345 out of 1000]"
     ]
    },
    {
     "name": "stdout",
     "output_type": "stream",
     "text": [
      "Epoch 7200, Train Loss: 0.1265331751533917, Val Loss: 0.13308793306350708, LR: 0.0001\n"
     ]
    },
    {
     "name": "stderr",
     "output_type": "stream",
     "text": [
      "Training:  73%|███████▎  | 7302/10000 [34:19<07:33,  5.95epoch/s, EarlyStopping counter: 57 out of 1000] "
     ]
    },
    {
     "name": "stdout",
     "output_type": "stream",
     "text": [
      "Epoch 7300, Train Loss: 0.12456032314470836, Val Loss: 0.10404456406831741, LR: 0.0001\n"
     ]
    },
    {
     "name": "stderr",
     "output_type": "stream",
     "text": [
      "Training:  74%|███████▍  | 7402/10000 [35:11<13:38,  3.17epoch/s, EarlyStopping counter: 157 out of 1000]"
     ]
    },
    {
     "name": "stdout",
     "output_type": "stream",
     "text": [
      "Epoch 7400, Train Loss: 0.11781240680388042, Val Loss: 0.12185899913311005, LR: 0.0001\n"
     ]
    },
    {
     "name": "stderr",
     "output_type": "stream",
     "text": [
      "Training:  75%|███████▌  | 7501/10000 [35:44<23:02,  1.81epoch/s, EarlyStopping counter: 256 out of 1000]"
     ]
    },
    {
     "name": "stdout",
     "output_type": "stream",
     "text": [
      "Epoch 7500, Train Loss: 0.1324442390884672, Val Loss: 0.11760341376066208, LR: 0.0001\n"
     ]
    },
    {
     "name": "stderr",
     "output_type": "stream",
     "text": [
      "Training:  76%|███████▌  | 7601/10000 [36:39<22:42,  1.76epoch/s, EarlyStopping counter: 356 out of 1000]"
     ]
    },
    {
     "name": "stdout",
     "output_type": "stream",
     "text": [
      "Epoch 7600, Train Loss: 0.1362598187157086, Val Loss: 0.10963866859674454, LR: 0.0001\n"
     ]
    },
    {
     "name": "stderr",
     "output_type": "stream",
     "text": [
      "Training:  77%|███████▋  | 7702/10000 [37:22<04:41,  8.16epoch/s, EarlyStopping counter: 457 out of 1000]"
     ]
    },
    {
     "name": "stdout",
     "output_type": "stream",
     "text": [
      "Epoch 7700, Train Loss: 0.10317729839256831, Val Loss: 0.11253006011247635, LR: 0.0001\n"
     ]
    },
    {
     "name": "stderr",
     "output_type": "stream",
     "text": [
      "Training:  78%|███████▊  | 7801/10000 [38:14<20:17,  1.81epoch/s, EarlyStopping counter: 556 out of 1000]"
     ]
    },
    {
     "name": "stdout",
     "output_type": "stream",
     "text": [
      "Epoch 7800, Train Loss: 0.1171031232391085, Val Loss: 0.1178416758775711, LR: 0.0001\n"
     ]
    },
    {
     "name": "stderr",
     "output_type": "stream",
     "text": [
      "Training:  79%|███████▉  | 7901/10000 [39:11<19:38,  1.78epoch/s, EarlyStopping counter: 28 out of 1000] "
     ]
    },
    {
     "name": "stdout",
     "output_type": "stream",
     "text": [
      "Epoch 7900, Train Loss: 0.11848779235567365, Val Loss: 0.12269599735736847, LR: 0.0001\n"
     ]
    },
    {
     "name": "stderr",
     "output_type": "stream",
     "text": [
      "Training:  80%|████████  | 8001/10000 [40:08<18:42,  1.78epoch/s, EarlyStopping counter: 128 out of 1000]"
     ]
    },
    {
     "name": "stdout",
     "output_type": "stream",
     "text": [
      "Epoch 8000, Train Loss: 0.120834547494139, Val Loss: 0.114137202501297, LR: 0.0001\n"
     ]
    },
    {
     "name": "stderr",
     "output_type": "stream",
     "text": [
      "Training:  81%|████████  | 8102/10000 [40:32<04:02,  7.83epoch/s, EarlyStopping counter: 229 out of 1000]"
     ]
    },
    {
     "name": "stdout",
     "output_type": "stream",
     "text": [
      "Epoch 8100, Train Loss: 0.11367786675691605, Val Loss: 0.10669808089733124, LR: 0.0001\n"
     ]
    },
    {
     "name": "stderr",
     "output_type": "stream",
     "text": [
      "Training:  82%|████████▏ | 8202/10000 [40:46<03:52,  7.72epoch/s, EarlyStopping counter: 329 out of 1000]"
     ]
    },
    {
     "name": "stdout",
     "output_type": "stream",
     "text": [
      "Epoch 8200, Train Loss: 0.12203409735645566, Val Loss: 0.10523837804794312, LR: 0.0001\n"
     ]
    },
    {
     "name": "stderr",
     "output_type": "stream",
     "text": [
      "Training:  83%|████████▎ | 8302/10000 [40:59<03:41,  7.66epoch/s, EarlyStopping counter: 53 out of 1000] "
     ]
    },
    {
     "name": "stdout",
     "output_type": "stream",
     "text": [
      "Epoch 8300, Train Loss: 0.11259321442672185, Val Loss: 0.10477104783058167, LR: 0.0001\n"
     ]
    },
    {
     "name": "stderr",
     "output_type": "stream",
     "text": [
      "Training:  84%|████████▍ | 8402/10000 [41:12<03:31,  7.55epoch/s, EarlyStopping counter: 153 out of 1000]"
     ]
    },
    {
     "name": "stdout",
     "output_type": "stream",
     "text": [
      "Epoch 8400, Train Loss: 0.13661583300147737, Val Loss: 0.1261501908302307, LR: 0.0001\n"
     ]
    },
    {
     "name": "stderr",
     "output_type": "stream",
     "text": [
      "Training:  85%|████████▌ | 8502/10000 [41:25<03:13,  7.75epoch/s, EarlyStopping counter: 253 out of 1000]"
     ]
    },
    {
     "name": "stdout",
     "output_type": "stream",
     "text": [
      "Epoch 8500, Train Loss: 0.1259083960737501, Val Loss: 0.11490995436906815, LR: 0.0001\n"
     ]
    },
    {
     "name": "stderr",
     "output_type": "stream",
     "text": [
      "Training:  86%|████████▌ | 8602/10000 [41:38<03:01,  7.70epoch/s, EarlyStopping counter: 353 out of 1000]"
     ]
    },
    {
     "name": "stdout",
     "output_type": "stream",
     "text": [
      "Epoch 8600, Train Loss: 0.11965300674949374, Val Loss: 0.11842203140258789, LR: 0.0001\n"
     ]
    },
    {
     "name": "stderr",
     "output_type": "stream",
     "text": [
      "Training:  87%|████████▋ | 8702/10000 [41:51<02:56,  7.37epoch/s, EarlyStopping counter: 453 out of 1000]"
     ]
    },
    {
     "name": "stdout",
     "output_type": "stream",
     "text": [
      "Epoch 8700, Train Loss: 0.12478032921041761, Val Loss: 0.10356741398572922, LR: 0.0001\n"
     ]
    },
    {
     "name": "stderr",
     "output_type": "stream",
     "text": [
      "Training:  88%|████████▊ | 8802/10000 [42:04<02:34,  7.74epoch/s, EarlyStopping counter: 553 out of 1000]"
     ]
    },
    {
     "name": "stdout",
     "output_type": "stream",
     "text": [
      "Epoch 8800, Train Loss: 0.10861328989267349, Val Loss: 0.11129195243120193, LR: 0.0001\n"
     ]
    },
    {
     "name": "stderr",
     "output_type": "stream",
     "text": [
      "Training:  89%|████████▉ | 8902/10000 [42:17<02:18,  7.92epoch/s, EarlyStopping counter: 653 out of 1000]"
     ]
    },
    {
     "name": "stdout",
     "output_type": "stream",
     "text": [
      "Epoch 8900, Train Loss: 0.12095756509474345, Val Loss: 0.10640788078308105, LR: 0.0001\n"
     ]
    },
    {
     "name": "stderr",
     "output_type": "stream",
     "text": [
      "Training:  90%|█████████ | 9002/10000 [42:30<02:15,  7.38epoch/s, EarlyStopping counter: 753 out of 1000]"
     ]
    },
    {
     "name": "stdout",
     "output_type": "stream",
     "text": [
      "Epoch 9000, Train Loss: 0.12139552405902318, Val Loss: 0.10988001525402069, LR: 0.0001\n"
     ]
    },
    {
     "name": "stderr",
     "output_type": "stream",
     "text": [
      "Training:  91%|█████████ | 9102/10000 [42:44<02:12,  6.79epoch/s, EarlyStopping counter: 853 out of 1000]"
     ]
    },
    {
     "name": "stdout",
     "output_type": "stream",
     "text": [
      "Epoch 9100, Train Loss: 0.10975438569273267, Val Loss: 0.11180834472179413, LR: 0.0001\n"
     ]
    },
    {
     "name": "stderr",
     "output_type": "stream",
     "text": [
      "Training:  92%|█████████▏| 9202/10000 [42:57<01:39,  7.99epoch/s, EarlyStopping counter: 953 out of 1000]"
     ]
    },
    {
     "name": "stdout",
     "output_type": "stream",
     "text": [
      "Epoch 9200, Train Loss: 0.12955021538904735, Val Loss: 0.122182197868824, LR: 0.0001\n"
     ]
    },
    {
     "name": "stderr",
     "output_type": "stream",
     "text": [
      "Training:  92%|█████████▏| 9248/10000 [43:03<03:30,  3.58epoch/s, EarlyStopping counter: 1000 out of 1000]"
     ]
    },
    {
     "name": "stdout",
     "output_type": "stream",
     "text": [
      "Early stopping\n"
     ]
    },
    {
     "name": "stderr",
     "output_type": "stream",
     "text": [
      "\n"
     ]
    }
   ],
   "source": [
    "# Train model\n",
    "train_losses, val_losses, model = train(model, optimizer, scheduler, train_loader, val_loader, loss_fn, epochs=10000, device=device, patience=1000)"
   ]
  },
  {
   "cell_type": "code",
   "execution_count": 1374,
   "metadata": {},
   "outputs": [
    {
     "data": {
      "image/png": "[encoded data removed]",
      "text/plain": [
       "<Figure size 640x480 with 1 Axes>"
      ]
     },
     "metadata": {},
     "output_type": "display_data"
    }
   ],
   "source": [
    "# Plot losses\n",
    "plt.plot(train_losses, label=\"Train Loss\")\n",
    "plt.plot(val_losses, label=\"Validation Loss\")\n",
    "plt.legend()\n",
    "plt.yscale(\"log\")\n",
    "plt.xlabel(\"Epoch\")\n",
    "plt.ylabel(\"Loss\")\n",
    "plt.show()"
   ]
  },
  {
   "cell_type": "code",
   "execution_count": 1375,
   "metadata": {},
   "outputs": [
    {
     "name": "stdout",
     "output_type": "stream",
     "text": [
      "Test loss:  0.12252969294786453\n"
     ]
    }
   ],
   "source": [
    "# Test the model\n",
    "test_loss = test(model, test_loader, loss_fn, device=device)\n",
    "print(\"Test loss: \", test_loss)"
   ]
  },
  {
   "cell_type": "markdown",
   "metadata": {},
   "source": [
    "## Check the model"
   ]
  },
  {
   "cell_type": "code",
   "execution_count": 1390,
   "metadata": {},
   "outputs": [],
   "source": [
    "def predict_and_plot_ttf(model, test_TTF_data, test_Vs_data, freq_data, device, plot_true=True, idx=None, print_output=False):\n",
    "    \n",
    "    # Use the model to predict the TTF\n",
    "    model.eval()\n",
    "\n",
    "    # Ensure idx is within bounds\n",
    "    if idx is None:\n",
    "        idx = np.random.randint(0, len(test_TTF_data))\n",
    "    else:\n",
    "        assert 0 <= idx < len(test_TTF_data), \"Index out of bounds\"\n",
    "\n",
    "    # Use test_TTF_data and test_Vs_data\n",
    "    test_TTF_check = test_TTF_data[idx]\n",
    "    test_Vs_check = test_Vs_data[idx] * np.ones_like(freq_data)\n",
    "\n",
    "    # Normalize\n",
    "    test_TTF_check = normalize_data(test_TTF_check, mean_TTF, std_TTF)\n",
    "    test_Vs_check = normalize_data(test_Vs_check, mean_Vs, std_Vs)\n",
    "    freq_data = normalize_data(freq_data, mean_freq, std_freq)\n",
    "    \n",
    "    # Create dataset\n",
    "    test_check_dataset = TTFDataset(test_TTF_check, test_Vs_check, freq_data)\n",
    "\n",
    "    # Create dataloader\n",
    "    test_check_loader = DataLoader(test_check_dataset, batch_size=14, shuffle=False)\n",
    "\n",
    "    # Predict\n",
    "    predictions = []\n",
    "    targets = []\n",
    "    Vs_target = []\n",
    "    freq_target = []\n",
    "    with torch.no_grad():\n",
    "        for X, y in test_check_loader:\n",
    "            X, y = X.to(device), y.to(device)\n",
    "            y_pred = model(X)\n",
    "            predictions.append(y_pred.cpu().numpy())\n",
    "            targets.append(y.cpu().numpy())\n",
    "            Vs_target.append(X[:, 0].cpu().numpy())\n",
    "            freq_target.append(X[:, -1].cpu().numpy())\n",
    "\n",
    "    predictions = np.concatenate(predictions)\n",
    "    targets = np.concatenate(targets)\n",
    "    Vs_target = np.concatenate(Vs_target)\n",
    "    freq_target = np.concatenate(freq_target)\n",
    "\n",
    "    # Denormalize\n",
    "    predictions = denormalize_data(predictions, mean_TTF, std_TTF)\n",
    "    targets = denormalize_data(targets, mean_TTF, std_TTF)\n",
    "    Vs_target = denormalize_data(Vs_target, mean_Vs, std_Vs)\n",
    "    freq_target = denormalize_data(freq_target, mean_freq, std_freq)\n",
    "\n",
    "    if print_output:\n",
    "        print(\"Vs: \", Vs_target[0])\n",
    "        print(\"Freq: \", freq_target)\n",
    "        print(\"True TTF: \", targets)\n",
    "        print(\"Predicted TTF: \", predictions)\n",
    "\n",
    "    # Plot\n",
    "    if plot_true:\n",
    "        plt.scatter(freq_target, targets, label=\"True\")\n",
    "        plt.scatter(freq_target, predictions, label=\"Predicted\", linestyle=\"--\")\n",
    "        plt.legend()\n",
    "        plt.xlabel(\"Frequency [Hz]\")\n",
    "        plt.ylabel(\"TTF\")\n",
    "        plt.show()"
   ]
  },
  {
   "cell_type": "code",
   "execution_count": 1391,
   "metadata": {},
   "outputs": [
    {
     "name": "stdout",
     "output_type": "stream",
     "text": [
      "Vs:  201.002\n",
      "Freq:  [1.3309674  1.5222882  1.2521434  0.12306809 1.0814886  0.57316905\n",
      " 0.39737675 0.48310918 0.6555596  0.11720192 0.19812983 0.22661012\n",
      " 0.21580854 0.4275811  1.3473179  1.4675362  0.3603969  1.0174394\n",
      " 0.14961958 0.87877244 0.17322892 0.2211434  0.5326804  0.6319812\n",
      " 0.63974494 0.26885417 0.76832855 0.7140538  2.2226949  0.37384287]\n",
      "True TTF:  [[ 1.0029552]\n",
      " [ 1.5600721]\n",
      " [ 1.08805  ]\n",
      " [ 1.1935045]\n",
      " [ 2.7783005]\n",
      " [ 1.1116282]\n",
      " [ 3.4407275]\n",
      " [ 1.558372 ]\n",
      " [ 1.002609 ]\n",
      " [ 1.1729218]\n",
      " [ 1.671671 ]\n",
      " [ 2.05689  ]\n",
      " [ 1.8875487]\n",
      " [ 2.3660018]\n",
      " [ 1.0037796]\n",
      " [ 1.2277441]\n",
      " [ 8.1818   ]\n",
      " [11.938567 ]\n",
      " [ 1.309657 ]\n",
      " [ 1.807394 ]\n",
      " [ 1.4545243]\n",
      " [ 1.9669259]\n",
      " [ 1.2482932]\n",
      " [ 1.01602  ]\n",
      " [ 1.0101933]\n",
      " [ 3.280553 ]\n",
      " [ 1.1197768]\n",
      " [ 1.0231981]\n",
      " [ 1.9353895]\n",
      " [ 5.4383163]]\n",
      "Predicted TTF:  [[ 0.6677964 ]\n",
      " [ 2.2111325 ]\n",
      " [ 0.96582556]\n",
      " [ 1.5779842 ]\n",
      " [ 2.3249552 ]\n",
      " [ 1.2116057 ]\n",
      " [ 3.5889616 ]\n",
      " [ 1.6886141 ]\n",
      " [ 1.0585151 ]\n",
      " [ 1.5578    ]\n",
      " [ 1.9975555 ]\n",
      " [ 2.5949523 ]\n",
      " [ 2.3671837 ]\n",
      " [ 2.575398  ]\n",
      " [ 0.65349364]\n",
      " [ 1.2782164 ]\n",
      " [ 8.421698  ]\n",
      " [10.622032  ]\n",
      " [ 1.6693472 ]\n",
      " [ 1.9615667 ]\n",
      " [ 1.7505863 ]\n",
      " [ 2.4801137 ]\n",
      " [ 1.329008  ]\n",
      " [ 1.0709398 ]\n",
      " [ 1.0668488 ]\n",
      " [ 3.6384113 ]\n",
      " [ 1.1510602 ]\n",
      " [ 1.0276952 ]\n",
      " [ 2.2693102 ]\n",
      " [ 5.5278482 ]]\n"
     ]
    },
    {
     "data": {
      "image/png": "[encoded data removed]",
      "text/plain": [
       "<Figure size 640x480 with 1 Axes>"
      ]
     },
     "metadata": {},
     "output_type": "display_data"
    }
   ],
   "source": [
    "predict_and_plot_ttf(model, test_TTF_data, test_Vs_data, freq, device, plot_true=True, print_output=True)"
   ]
  },
  {
   "cell_type": "code",
   "execution_count": 1392,
   "metadata": {},
   "outputs": [],
   "source": [
    "# Predict and plot\n",
    "model.eval()\n",
    "predictions = []\n",
    "target = []\n",
    "Vs_target = []\n",
    "freq_target = []\n",
    "with torch.no_grad():\n",
    "    for X, y in test_loader:\n",
    "        X, y = X.to(device), y.to(device)\n",
    "        y_pred = model(X)\n",
    "        predictions.append(y_pred.cpu().numpy())\n",
    "        target.append(y.cpu().numpy()) \n",
    "        Vs_target.append(X[:, 0].cpu().numpy())\n",
    "        freq_target.append(X[:, -1].cpu().numpy())\n",
    "\n",
    "\n",
    "predictions = np.concatenate(predictions)\n",
    "target = np.concatenate(target)\n",
    "Vs_target = np.concatenate(Vs_target)\n",
    "freq_target = np.concatenate(freq_target)\n",
    "\n",
    "# Order frequency\n",
    "order = np.argsort(freq_target)\n",
    "freq_target = freq_target[order]\n",
    "Vs_target = Vs_target[order]\n",
    "predictions = predictions[order]\n",
    "target = target[order]\n",
    "\n",
    "\n",
    "# Denormalize\n",
    "Vs_target = denormalize_data(Vs_target, mean_Vs, std_Vs)\n",
    "predictions = denormalize_data(predictions, mean_TTF, std_TTF)\n",
    "target = denormalize_data(target, mean_TTF, std_TTF)\n",
    "freq_target = denormalize_data(freq_target, mean_freq, std_freq)"
   ]
  },
  {
   "cell_type": "code",
   "execution_count": 1393,
   "metadata": {},
   "outputs": [
    {
     "data": {
      "image/png": "[encoded data removed]",
      "text/plain": [
       "<Figure size 640x480 with 1 Axes>"
      ]
     },
     "metadata": {},
     "output_type": "display_data"
    }
   ],
   "source": [
    "plt.scatter(freq_target, target, label=\"True\")\n",
    "plt.scatter(freq_target, predictions, label=\"Predicted\", linestyle=\"--\")\n",
    "plt.legend()\n",
    "plt.xlabel(\"Frequency [Hz]\")\n",
    "plt.ylabel(\"TTF\")\n",
    "plt.show()\n"
   ]
  },
  {
   "cell_type": "code",
   "execution_count": 1394,
   "metadata": {},
   "outputs": [
    {
     "data": {
      "image/png": "[encoded data removed]",
      "text/plain": [
       "<Figure size 640x480 with 1 Axes>"
      ]
     },
     "metadata": {},
     "output_type": "display_data"
    }
   ],
   "source": [
    "plt.scatter(Vs_target,target, label=\"True\")\n",
    "plt.scatter(Vs_target,predictions, label=\"Predicted\")\n",
    "plt.xlabel(\"Vs\")\n",
    "plt.ylabel(\"TTF\")\n",
    "plt.legend()\n",
    "plt.show()\n"
   ]
  },
  {
   "cell_type": "code",
   "execution_count": 1395,
   "metadata": {},
   "outputs": [],
   "source": [
    "# Save the model\n",
    "torch.save(model.state_dict(), \"MLP_TF_10freq_model.pth\")"
   ]
  },
  {
   "cell_type": "code",
   "execution_count": null,
   "metadata": {},
   "outputs": [],
   "source": []
  }
 ],
 "metadata": {
  "kernelspec": {
   "display_name": "ML",
   "language": "python",
   "name": "python3"
  },
  "language_info": {
   "codemirror_mode": {
    "name": "ipython",
    "version": 3
   },
   "file_extension": ".py",
   "mimetype": "text/x-python",
   "name": "python",
   "nbconvert_exporter": "python",
   "pygments_lexer": "ipython3",
   "version": "3.12.4"
  }
 },
 "nbformat": 4,
 "nbformat_minor": 2
}
