{
 "cells": [
  {
   "cell_type": "markdown",
   "metadata": {},
   "source": [
    "# MLP for TF Function"
   ]
  },
  {
   "cell_type": "code",
   "execution_count": 1,
   "metadata": {},
   "outputs": [],
   "source": [
    "import torch \n",
    "import pandas as pd \n",
    "import pickle\n",
    "import numpy as np\n",
    "import os\n",
    "import sys \n",
    "\n",
    "from torch.utils.data import Dataset, DataLoader\n",
    "from torch import nn\n",
    "\n",
    "\n",
    "import matplotlib.pyplot as plt\n",
    "import seaborn as sns\n",
    "\n",
    "from tqdm import tqdm\n",
    "from tqdm import trange\n",
    "\n",
    "sns.set_theme()"
   ]
  },
  {
   "cell_type": "markdown",
   "metadata": {},
   "source": [
    "## Data"
   ]
  },
  {
   "cell_type": "code",
   "execution_count": 75,
   "metadata": {},
   "outputs": [
    {
     "name": "stdout",
     "output_type": "stream",
     "text": [
      "(146, 256) (146,)\n",
      "[0.1        0.10122847 0.10247203 0.10373087 0.10500518 0.10629513\n",
      " 0.10760094 0.10892278 0.11026087 0.11161539 0.11298655 0.11437456\n",
      " 0.11577962 0.11720194 0.11864173 0.12009921 0.12157459 0.1230681\n",
      " 0.12457996 0.12611039 0.12765962 0.12922788 0.1308154  0.13242243\n",
      " 0.1340492  0.13569596 0.13736294 0.13905041 0.1407586  0.14248778\n",
      " 0.1442382  0.14601013 0.14780382 0.14961954 0.15145758 0.15331819\n",
      " 0.15520166 0.15710826 0.15903829 0.16099203 0.16296977 0.16497181\n",
      " 0.16699844 0.16904997 0.1711267  0.17322894 0.17535701 0.17751122\n",
      " 0.17969189 0.18189935 0.18413393 0.18639596 0.18868578 0.19100373\n",
      " 0.19335016 0.19572541 0.19812984 0.20056381 0.20302767 0.20552181\n",
      " 0.20804659 0.21060238 0.21318957 0.21580854 0.21845968 0.2211434\n",
      " 0.22386008 0.22661013 0.22939397 0.23221201 0.23506467 0.23795237\n",
      " 0.24087555 0.24383463 0.24683007 0.2498623  0.25293179 0.25603898\n",
      " 0.25918435 0.26236835 0.26559147 0.26885418 0.27215698 0.27550035\n",
      " 0.27888479 0.28231081 0.28577891 0.28928963 0.29284346 0.29644096\n",
      " 0.30008265 0.30376908 0.30750079 0.31127835 0.31510232 0.31897326\n",
      " 0.32289175 0.32685838 0.33087374 0.33493843 0.33905305 0.34321822\n",
      " 0.34743455 0.35170268 0.35602325 0.36039689 0.36482426 0.36930602\n",
      " 0.37384284 0.37843539 0.38308436 0.38779044 0.39255433 0.39737675\n",
      " 0.4022584  0.40720003 0.41220236 0.41726615 0.42239214 0.42758111\n",
      " 0.43283382 0.43815105 0.44353361 0.44898229 0.45449791 0.46008129\n",
      " 0.46573325 0.47145465 0.47724633 0.48310916 0.48904402 0.49505178\n",
      " 0.50113335 0.50728962 0.51352153 0.51982999 0.52621595 0.53268036\n",
      " 0.53922419 0.5458484  0.55255399 0.55934195 0.5662133  0.57316907\n",
      " 0.58021028 0.587338   0.59455327 0.60185719 0.60925083 0.6167353\n",
      " 0.62431171 0.6319812  0.6397449  0.64760398 0.65555961 0.66361297\n",
      " 0.67176526 0.6800177  0.68837152 0.69682796 0.70538829 0.71405378\n",
      " 0.72282572 0.73170543 0.74069422 0.74979343 0.75900442 0.76832857\n",
      " 0.77776726 0.78732191 0.79699393 0.80678477 0.81669588 0.82672875\n",
      " 0.83688487 0.84716576 0.85757295 0.86810798 0.87877243 0.8895679\n",
      " 0.90049598 0.91155831 0.92275654 0.93409233 0.94556738 0.9571834\n",
      " 0.96894212 0.9808453  0.99289469 1.00509212 1.01743938 1.02993833\n",
      " 1.04259082 1.05539874 1.06836401 1.08148855 1.09477432 1.1082233\n",
      " 1.12183751 1.13561895 1.1495697  1.16369183 1.17798744 1.19245868\n",
      " 1.20710768 1.22193665 1.23694779 1.25214333 1.26752555 1.28309673\n",
      " 1.2988592  1.3148153  1.33096743 1.34731797 1.36386938 1.38062412\n",
      " 1.39758469 1.41475361 1.43213344 1.44972678 1.46753626 1.48556451\n",
      " 1.50381424 1.52228816 1.54098902 1.55991962 1.57908278 1.59848136\n",
      " 1.61811823 1.63799634 1.65811865 1.67848816 1.69910789 1.71998094\n",
      " 1.7411104  1.76249944 1.78415123 1.80606901 1.82825604 1.85071563\n",
      " 1.87345114 1.89646594 1.91976347 1.9433472  1.96722066 1.99138739\n",
      " 2.015851   2.04061515 2.06568351 2.09105983 2.11674789 2.14275152\n",
      " 2.1690746  2.19572105 2.22269484 2.25      ] 0\n"
     ]
    }
   ],
   "source": [
    "# Load data\n",
    "freq_data = np.genfromtxt(\"TTF_Data_100.000_1.500_2.500.csv.csv\")\n",
    "\n",
    "# Load pickle\n",
    "with open(\"TTF_data.pt\", \"rb\") as f:\n",
    "    TTF_data = pickle.load(f)\n",
    "\n",
    "with open(\"Vs_values.pt\", \"rb\") as f:\n",
    "    Vs_data = pickle.load(f)\n",
    "\n",
    "TTF_data = np.array(TTF_data)\n",
    "Vs_data = np.array(Vs_data)\n",
    "\n",
    "# Get Vs_data less than 800\n",
    "index = Vs_data < 800\n",
    "TTF_data = TTF_data[index]\n",
    "Vs_data = Vs_data[index]\n",
    "\n",
    "print(TTF_data.shape, Vs_data.shape)\n",
    "\n",
    "# Use only certain freq\n",
    "idx = 0\n",
    "freq = freq_data[:]\n",
    "print(freq, idx)"
   ]
  },
  {
   "cell_type": "code",
   "execution_count": 5,
   "metadata": {},
   "outputs": [
    {
     "name": "stdout",
     "output_type": "stream",
     "text": [
      "Training data size:  (136, 256) (136,)\n",
      "Testing data size:  (10, 256) (10,)\n"
     ]
    }
   ],
   "source": [
    "# Separate the 10 values randomly for testing\n",
    "test_indices = np.random.choice(len(TTF_data), 10, replace=False)\n",
    "test_TTF_data = TTF_data[test_indices][:, :]\n",
    "test_Vs_data = Vs_data[test_indices]\n",
    "\n",
    "train_indices = np.delete(np.arange(len(TTF_data)), test_indices)\n",
    "train_TTF_data = TTF_data[train_indices][:, :]\n",
    "train_Vs_data = Vs_data[train_indices]\n",
    "\n",
    "print(\"Training data size: \" ,train_TTF_data.shape, train_Vs_data.shape)\n",
    "print(\"Testing data size: \", test_TTF_data.shape, test_Vs_data.shape)"
   ]
  },
  {
   "cell_type": "code",
   "execution_count": 7,
   "metadata": {},
   "outputs": [
    {
     "name": "stdout",
     "output_type": "stream",
     "text": [
      "(136, 256) (136, 256) (136, 256)\n",
      "(34816,) (34816,) (34816,)\n"
     ]
    }
   ],
   "source": [
    "# Crate Meshgrid\n",
    "freq_values, Vs_values = np.meshgrid(freq, train_Vs_data)\n",
    "print(Vs_values.shape, freq_values.shape, train_TTF_data.shape)\n",
    "\n",
    "# Flatten the meshgrid\n",
    "Vs_values = Vs_values.flatten()\n",
    "freq_values = freq_values.flatten()\n",
    "TTF_values = train_TTF_data.flatten()\n",
    "print(Vs_values.shape, freq_values.shape, TTF_values.shape)"
   ]
  },
  {
   "cell_type": "code",
   "execution_count": 8,
   "metadata": {},
   "outputs": [],
   "source": [
    "class TTFDataset(Dataset):\n",
    "    def __init__(self, TTF_data, Vs_array, freq_array):\n",
    "        self.TTF_data = TTF_data\n",
    "        self.Vs_array = Vs_array\n",
    "        self.freq_array = freq_array\n",
    "\n",
    "    def __len__(self):\n",
    "        return len(self.TTF_data)\n",
    "\n",
    "    def __getitem__(self, idx):\n",
    "\n",
    "        # Input \n",
    "        Vs = self.Vs_array[idx] * np.ones(30)\n",
    "        freq = self.freq_array[idx] * np.ones(1)\n",
    "        input_data = np.concatenate((Vs, freq))\n",
    "        input_data = torch.tensor(input_data, dtype=torch.float32)\n",
    "\n",
    "        # Target\n",
    "        TTF = self.TTF_data[idx] * np.ones(1)\n",
    "        target = torch.tensor(TTF, dtype=torch.float32)\n",
    "\n",
    "        return input_data, target"
   ]
  },
  {
   "cell_type": "code",
   "execution_count": 9,
   "metadata": {},
   "outputs": [],
   "source": [
    "# Normalize the data\n",
    "def normalize_data(data, mean, std):\n",
    "    return (data - mean) / std\n",
    "\n",
    "def denormalize_data(data, mean, std):\n",
    "    return data * std + mean\n",
    "\n",
    "# Normalize the data\n",
    "mean_Vs = Vs_values.mean()\n",
    "std_Vs = Vs_values.std()\n",
    "mean_freq = freq_values.mean()\n",
    "std_freq = freq_values.std()\n",
    "mean_TTF = TTF_values.mean()\n",
    "std_TTF = TTF_values.std()\n",
    "\n",
    "Vs_values = normalize_data(Vs_values, mean_Vs, std_Vs)\n",
    "freq_values = normalize_data(freq_values, mean_freq, std_freq)\n",
    "TTF_values = normalize_data(TTF_values, mean_TTF, std_TTF)\n",
    "\n",
    "# Create dataset\n",
    "dataset = TTFDataset(TTF_values, Vs_values, freq_values)"
   ]
  },
  {
   "cell_type": "code",
   "execution_count": 12,
   "metadata": {},
   "outputs": [
    {
     "name": "stdout",
     "output_type": "stream",
     "text": [
      "Train, validation and test sizes:  27852 3482 3482\n",
      "Number of batches:  14 2 2\n"
     ]
    }
   ],
   "source": [
    "# Separate into training and testing\n",
    "train_size = int(0.8 * len(dataset))\n",
    "val_size = (len(dataset) - train_size) // 2\n",
    "test_size = len(dataset) - train_size - val_size\n",
    "print(\"Train, validation and test sizes: \" ,train_size, val_size, test_size)\n",
    "\n",
    "train_dataset, val_dataset, test_dataset = torch.utils.data.random_split(dataset, [train_size, val_size, test_size])\n",
    "\n",
    "i_batch_size = 2000\n",
    "train_loader = DataLoader(train_dataset, batch_size=i_batch_size, shuffle=True)\n",
    "val_loader = DataLoader(val_dataset, batch_size=i_batch_size, shuffle=True)\n",
    "test_loader = DataLoader(test_dataset, batch_size=i_batch_size, shuffle=True)\n",
    "print(\"Number of batches: \", len(train_loader), len(val_loader), len(test_loader))"
   ]
  },
  {
   "cell_type": "markdown",
   "metadata": {},
   "source": [
    "## Model"
   ]
  },
  {
   "cell_type": "code",
   "execution_count": 13,
   "metadata": {},
   "outputs": [],
   "source": [
    "# Create Model\n",
    "class MLP(nn.Module):\n",
    "    def __init__(self, input_dim, hidden_dim, hidden_layers, output_dim=1, activation=nn.ReLU, batch_norm=False):\n",
    "        super(MLP, self).__init__()\n",
    "        self.hidden_layers = nn.ModuleList()\n",
    "        self.batch_norm = batch_norm\n",
    "        self.activation = activation\n",
    "        self.output_dim = output_dim\n",
    "\n",
    "        # Input layer\n",
    "        self.hidden_layers.append(nn.Linear(input_dim, hidden_dim))\n",
    "        if self.batch_norm:\n",
    "            self.hidden_layers.append(nn.BatchNorm1d(hidden_dim))\n",
    "\n",
    "        # Hidden layers\n",
    "        for _ in range(hidden_layers - 1):\n",
    "            self.hidden_layers.append(nn.Linear(hidden_dim, hidden_dim))\n",
    "            if self.batch_norm:\n",
    "                self.hidden_layers.append(nn.BatchNorm1d(hidden_dim))\n",
    "\n",
    "        # Output layer\n",
    "        self.out = nn.Linear(hidden_dim, output_dim)\n",
    "\n",
    "\n",
    "    def forward(self, x):\n",
    "        for layer in self.hidden_layers:\n",
    "            if isinstance(layer, nn.Linear):\n",
    "                x = layer(x)\n",
    "                x = self.activation()(x)\n",
    "            elif isinstance(layer, nn.BatchNorm1d):\n",
    "                x = layer(x)\n",
    "        x = self.out(x)\n",
    "        return x"
   ]
  },
  {
   "cell_type": "code",
   "execution_count": 14,
   "metadata": {},
   "outputs": [],
   "source": [
    "# Create TF model\n",
    "class TF_model(nn.Module):\n",
    "    def __init__(self, input_dim=31, output_dim=1):\n",
    "        super(TF_model, self).__init__()\n",
    "        self.input_dim = input_dim\n",
    "        self.output_dim = output_dim\n",
    "\n",
    "        self.fmlp1 = MLP(input_dim-1, 30, 2, output_dim=1, activation=nn.ReLU)\n",
    "        self.fmlp2 = MLP(2, 32, 2, output_dim=1, activation=nn.ReLU)\n",
    "\n",
    "    def forward(self, x):\n",
    "        x1 = x[:, :-1]\n",
    "        x2 = x[:, -1].unsqueeze(1) \n",
    "        x1 = self.fmlp1(x1)\n",
    "        x = torch.stack((x1, x2), dim=1).squeeze(2)\n",
    "        x = self.fmlp2(x)\n",
    "        return x\n"
   ]
  },
  {
   "cell_type": "markdown",
   "metadata": {},
   "source": [
    "Preliminary check if the shapes are correct"
   ]
  },
  {
   "cell_type": "code",
   "execution_count": 15,
   "metadata": {},
   "outputs": [
    {
     "name": "stdout",
     "output_type": "stream",
     "text": [
      "torch.Size([2000, 31]) torch.Size([2000, 1])\n",
      "Loss:  tensor(1.2688, grad_fn=<MseLossBackward0>)\n"
     ]
    }
   ],
   "source": [
    "model = MLP(31, 30, 2, output_dim=1, activation=nn.Sigmoid)\n",
    "loss_fn = nn.MSELoss()\n",
    "X,y = next(iter(train_loader))\n",
    "print(X.shape, y.shape)\n",
    "pred = model(X)\n",
    "assert pred.shape == y.shape , f\"Expected shape {y.shape} but got {pred.shape}\"\n",
    "print(\"Loss: \", loss_fn(pred, y))"
   ]
  },
  {
   "cell_type": "markdown",
   "metadata": {},
   "source": [
    "## Training"
   ]
  },
  {
   "cell_type": "markdown",
   "metadata": {},
   "source": [
    "Defining the Early Stopping to avoid redudant training if the loss is not decreasing."
   ]
  },
  {
   "cell_type": "code",
   "execution_count": 16,
   "metadata": {},
   "outputs": [],
   "source": [
    "# Early stopping\n",
    "class EarlyStopping():\n",
    "    def __init__(self, patience=5, delta=0.0, progress_bar=None):\n",
    "        self.patience = patience\n",
    "        self.counter = 0\n",
    "        self.best_score = None\n",
    "        self.early_stop = False\n",
    "        self.delta = delta\n",
    "        self.progress_bar = progress_bar\n",
    "\n",
    "    def __call__(self, val_loss, model):\n",
    "        if self.best_score is None:\n",
    "            self.best_score = val_loss\n",
    "        elif val_loss > self.best_score + self.delta:\n",
    "            self.counter += 1\n",
    "            if self.progress_bar:\n",
    "                self.progress_bar.set_postfix_str(f'EarlyStopping counter: {self.counter} out of {self.patience}')\n",
    "            if self.counter >= self.patience:\n",
    "                self.early_stop = True\n",
    "        else:\n",
    "            self.best_score = val_loss\n",
    "            self.counter = 0\n",
    "            if self.progress_bar:\n",
    "                self.progress_bar.set_postfix_str('')"
   ]
  },
  {
   "cell_type": "markdown",
   "metadata": {},
   "source": [
    "### Training function"
   ]
  },
  {
   "cell_type": "code",
   "execution_count": 17,
   "metadata": {},
   "outputs": [],
   "source": [
    "import torch\n",
    "from tqdm import tqdm, trange\n",
    "import torch.nn as nn\n",
    "import numpy as np\n",
    "\n",
    "def train(model, optimizer, scheduler, train_dataloader, validation_dataloader, loss_fn, epochs=100, device=\"cpu\", patience=50):\n",
    "    train_losses = []\n",
    "    val_losses = []\n",
    "    model.to(device)\n",
    "    progress_bar = tqdm(range(epochs), desc=\"Training\", unit=\"epoch\")\n",
    "    early_stopping = EarlyStopping(patience=patience, progress_bar=progress_bar)\n",
    "\n",
    "    for epoch in progress_bar:\n",
    "        model.train()\n",
    "        train_loss = 0\n",
    "        for X, y in train_dataloader:\n",
    "            X, y = X.to(device), y.to(device)\n",
    "            optimizer.zero_grad()\n",
    "            y_pred = model(X)\n",
    "            loss = loss_fn(y_pred, y)\n",
    "            loss.backward()\n",
    "            torch.nn.utils.clip_grad_norm_(model.parameters(), max_norm=1.0)  # Gradient clipping\n",
    "            optimizer.step()\n",
    "            train_loss += loss.item()\n",
    "        train_loss /= len(train_dataloader)\n",
    "        train_losses.append(train_loss)\n",
    "\n",
    "        model.eval()\n",
    "        val_loss = 0\n",
    "        with torch.no_grad():\n",
    "            for X, y in validation_dataloader:\n",
    "                X, y = X.to(device), y.to(device)\n",
    "                y_pred = model(X)\n",
    "                loss = loss_fn(y_pred, y)\n",
    "                val_loss += loss.item()\n",
    "        val_loss /= len(validation_dataloader)\n",
    "        val_losses.append(val_loss)\n",
    "\n",
    "        if early_stopping is not None:\n",
    "            early_stopping(val_loss, model)\n",
    "            if early_stopping.early_stop:\n",
    "                print(\"Early stopping\")\n",
    "                break\n",
    "\n",
    "        if scheduler is not None:\n",
    "            scheduler.step(val_loss)\n",
    "\n",
    "        if epoch % 100 == 0:\n",
    "            print(f\"Epoch {epoch}, Train Loss: {train_loss}, Val Loss: {val_loss}, LR: {optimizer.param_groups[0]['lr']}\")\n",
    "\n",
    "        # Stop if loss is nan\n",
    "        if np.isnan(train_loss) or np.isnan(val_loss):\n",
    "            print(\"Loss is nan\")\n",
    "            break\n",
    "\n",
    "    return train_losses, val_losses, model"
   ]
  },
  {
   "cell_type": "markdown",
   "metadata": {},
   "source": [
    "### Testing function"
   ]
  },
  {
   "cell_type": "code",
   "execution_count": 18,
   "metadata": {},
   "outputs": [],
   "source": [
    "# Define test function\n",
    "def test(model, test_dataloader, loss_fn, device=\"cpu\"):\n",
    "    model.eval()\n",
    "    test_loss = 0\n",
    "    for X, y in test_dataloader:\n",
    "        X, y = X.to(device), y.to(device)\n",
    "        y_pred = model(X)\n",
    "        loss = loss_fn(y_pred, y)\n",
    "        test_loss += loss.item()\n",
    "    test_loss /= len(test_dataloader)\n",
    "    return test_loss"
   ]
  },
  {
   "cell_type": "markdown",
   "metadata": {},
   "source": [
    "## Start of Training"
   ]
  },
  {
   "cell_type": "code",
   "execution_count": 19,
   "metadata": {},
   "outputs": [
    {
     "name": "stdout",
     "output_type": "stream",
     "text": [
      "Using device: cuda\n"
     ]
    }
   ],
   "source": [
    "# Device \n",
    "device = torch.device(\"cuda\" if torch.cuda.is_available() else \"cpu\")\n",
    "print(f\"Using device: {device}\")"
   ]
  },
  {
   "cell_type": "code",
   "execution_count": 20,
   "metadata": {},
   "outputs": [],
   "source": [
    "# Model\n",
    "model = MLP(31, 30, 4, output_dim=1, activation=nn.ReLU, batch_norm=True)\n",
    "#model = TF_model()\n",
    "\n",
    "# Xavier Glore initialization\n",
    "def init_weights(m):\n",
    "    if type(m) == nn.Linear:\n",
    "        torch.nn.init.xavier_uniform_(m.weight)\n",
    "        m.bias.data.fill_(0.01)\n",
    "\n",
    "model.apply(init_weights)\n",
    "\n",
    "# Loss function - RMSE\n",
    "def rmse(y_true, y_pred):\n",
    "    return torch.sqrt(torch.mean((y_true - y_pred) ** 2))\n",
    "\n",
    "loss_fn = rmse"
   ]
  },
  {
   "cell_type": "code",
   "execution_count": 21,
   "metadata": {},
   "outputs": [],
   "source": [
    "# Optimizer with momentum NAG\n",
    "#optimizer = torch.optim.SGD(model.parameters(), lr=0.05, momentum=0.9, weight_decay=0.01, nesterov=True)\n",
    "optimizer = torch.optim.AdamW(model.parameters(), lr=0.01, betas=(0.6, 0.999), weight_decay=0.01)\n",
    "#optimizer = torch.optim.Adam(model.parameters(), lr=0.001, betas=(0.9, 0.999), weight_decay=0.01)\n",
    "#optimizer = torch.optim.RMSprop(model.parameters(), lr=0.05, alpha=0.9, eps=1e-08, weight_decay=0.01, momentum=0.9, centered=False)\n",
    "#optimizer = torch.optim.AdamW(model.parameters(), lr=0.001, betas=(0.9, 0.999), weight_decay=0.01)\n",
    "\n",
    "\n",
    "# Scheduler with exponential decay\n",
    "#scheduler = None\n",
    "scheduler = torch.optim.lr_scheduler.ReduceLROnPlateau(optimizer, mode='min', factor=0.5, patience=250, threshold=0.0001, threshold_mode='rel', cooldown=0, min_lr=1e-4, eps=1e-08)"
   ]
  },
  {
   "cell_type": "code",
   "execution_count": 22,
   "metadata": {},
   "outputs": [
    {
     "name": "stderr",
     "output_type": "stream",
     "text": [
      "Training:   0%|          | 1/10000 [00:02<5:36:57,  2.02s/epoch]"
     ]
    },
    {
     "name": "stdout",
     "output_type": "stream",
     "text": [
      "Epoch 0, Train Loss: 1.0969489131655012, Val Loss: 1.0297819077968597, LR: 0.01\n"
     ]
    },
    {
     "name": "stderr",
     "output_type": "stream",
     "text": [
      "Training:   1%|          | 101/10000 [02:06<3:52:52,  1.41s/epoch, EarlyStopping counter: 11 out of 1000]"
     ]
    },
    {
     "name": "stdout",
     "output_type": "stream",
     "text": [
      "Epoch 100, Train Loss: 0.5188181506735938, Val Loss: 0.6544519066810608, LR: 0.01\n"
     ]
    },
    {
     "name": "stderr",
     "output_type": "stream",
     "text": [
      "Training:   2%|▏         | 201/10000 [04:05<3:05:50,  1.14s/epoch, EarlyStopping counter: 77 out of 1000]"
     ]
    },
    {
     "name": "stdout",
     "output_type": "stream",
     "text": [
      "Epoch 200, Train Loss: 0.4639450950281961, Val Loss: 0.6437089443206787, LR: 0.01\n"
     ]
    },
    {
     "name": "stderr",
     "output_type": "stream",
     "text": [
      "Training:   3%|▎         | 301/10000 [05:59<3:02:55,  1.13s/epoch, EarlyStopping counter: 49 out of 1000] "
     ]
    },
    {
     "name": "stdout",
     "output_type": "stream",
     "text": [
      "Epoch 300, Train Loss: 0.43971188153539387, Val Loss: 0.5853807330131531, LR: 0.01\n"
     ]
    },
    {
     "name": "stderr",
     "output_type": "stream",
     "text": [
      "Training:   4%|▍         | 401/10000 [07:54<2:59:05,  1.12s/epoch, EarlyStopping counter: 149 out of 1000]"
     ]
    },
    {
     "name": "stdout",
     "output_type": "stream",
     "text": [
      "Epoch 400, Train Loss: 0.41873939761093687, Val Loss: 0.569778710603714, LR: 0.01\n"
     ]
    },
    {
     "name": "stderr",
     "output_type": "stream",
     "text": [
      "Training:   5%|▌         | 501/10000 [09:48<2:56:51,  1.12s/epoch, EarlyStopping counter: 249 out of 1000]"
     ]
    },
    {
     "name": "stdout",
     "output_type": "stream",
     "text": [
      "Epoch 500, Train Loss: 0.4563867002725601, Val Loss: 0.3745528310537338, LR: 0.01\n"
     ]
    },
    {
     "name": "stderr",
     "output_type": "stream",
     "text": [
      "Training:   6%|▌         | 601/10000 [12:23<5:04:49,  1.95s/epoch, EarlyStopping counter: 3 out of 1000]  "
     ]
    },
    {
     "name": "stdout",
     "output_type": "stream",
     "text": [
      "Epoch 600, Train Loss: 0.3116941377520561, Val Loss: 0.28260770440101624, LR: 0.005\n"
     ]
    },
    {
     "name": "stderr",
     "output_type": "stream",
     "text": [
      "Training:   7%|▋         | 701/10000 [15:31<5:28:34,  2.12s/epoch, EarlyStopping counter: 66 out of 1000]"
     ]
    },
    {
     "name": "stdout",
     "output_type": "stream",
     "text": [
      "Epoch 700, Train Loss: 0.29091249832085203, Val Loss: 0.3741118311882019, LR: 0.005\n"
     ]
    },
    {
     "name": "stderr",
     "output_type": "stream",
     "text": [
      "Training:   8%|▊         | 801/10000 [19:01<8:09:31,  3.19s/epoch, EarlyStopping counter: 166 out of 1000]"
     ]
    },
    {
     "name": "stdout",
     "output_type": "stream",
     "text": [
      "Epoch 800, Train Loss: 0.3056566821677344, Val Loss: 0.43568357825279236, LR: 0.005\n"
     ]
    },
    {
     "name": "stderr",
     "output_type": "stream",
     "text": [
      "Training:   9%|▉         | 901/10000 [21:04<2:26:55,  1.03epoch/s]                                        "
     ]
    },
    {
     "name": "stdout",
     "output_type": "stream",
     "text": [
      "Epoch 900, Train Loss: 0.2403150349855423, Val Loss: 0.1398017778992653, LR: 0.0025\n"
     ]
    },
    {
     "name": "stderr",
     "output_type": "stream",
     "text": [
      "Training:  10%|█         | 1001/10000 [22:43<2:44:54,  1.10s/epoch, EarlyStopping counter: 35 out of 1000]"
     ]
    },
    {
     "name": "stdout",
     "output_type": "stream",
     "text": [
      "Epoch 1000, Train Loss: 0.21504386674080575, Val Loss: 0.1569114476442337, LR: 0.0025\n"
     ]
    },
    {
     "name": "stderr",
     "output_type": "stream",
     "text": [
      "Training:  11%|█         | 1101/10000 [24:26<2:24:15,  1.03epoch/s, EarlyStopping counter: 65 out of 1000]"
     ]
    },
    {
     "name": "stdout",
     "output_type": "stream",
     "text": [
      "Epoch 1100, Train Loss: 0.22179233921425684, Val Loss: 0.329412043094635, LR: 0.0025\n"
     ]
    },
    {
     "name": "stderr",
     "output_type": "stream",
     "text": [
      "Training:  12%|█▏        | 1201/10000 [26:08<2:18:57,  1.06epoch/s, EarlyStopping counter: 165 out of 1000]"
     ]
    },
    {
     "name": "stdout",
     "output_type": "stream",
     "text": [
      "Epoch 1200, Train Loss: 0.2663091538207872, Val Loss: 0.17632324993610382, LR: 0.0025\n"
     ]
    },
    {
     "name": "stderr",
     "output_type": "stream",
     "text": [
      "Training:  13%|█▎        | 1301/10000 [27:49<2:06:50,  1.14epoch/s, EarlyStopping counter: 10 out of 1000] "
     ]
    },
    {
     "name": "stdout",
     "output_type": "stream",
     "text": [
      "Epoch 1300, Train Loss: 0.1889694950410298, Val Loss: 0.22166331112384796, LR: 0.00125\n"
     ]
    },
    {
     "name": "stderr",
     "output_type": "stream",
     "text": [
      "Training:  14%|█▍        | 1401/10000 [29:21<1:52:45,  1.27epoch/s, EarlyStopping counter: 33 out of 1000]"
     ]
    },
    {
     "name": "stdout",
     "output_type": "stream",
     "text": [
      "Epoch 1400, Train Loss: 0.16892543275441443, Val Loss: 0.14892786741256714, LR: 0.00125\n"
     ]
    },
    {
     "name": "stderr",
     "output_type": "stream",
     "text": [
      "Training:  15%|█▌        | 1501/10000 [30:42<2:06:28,  1.12epoch/s, EarlyStopping counter: 133 out of 1000]"
     ]
    },
    {
     "name": "stdout",
     "output_type": "stream",
     "text": [
      "Epoch 1500, Train Loss: 0.18731480251465524, Val Loss: 0.1485329270362854, LR: 0.00125\n"
     ]
    },
    {
     "name": "stderr",
     "output_type": "stream",
     "text": [
      "Training:  16%|█▌        | 1601/10000 [32:21<2:09:44,  1.08epoch/s, EarlyStopping counter: 19 out of 1000] "
     ]
    },
    {
     "name": "stdout",
     "output_type": "stream",
     "text": [
      "Epoch 1600, Train Loss: 0.1706616287784917, Val Loss: 0.2522539719939232, LR: 0.00125\n"
     ]
    },
    {
     "name": "stderr",
     "output_type": "stream",
     "text": [
      "Training:  17%|█▋        | 1701/10000 [34:01<2:05:33,  1.10epoch/s, EarlyStopping counter: 119 out of 1000]"
     ]
    },
    {
     "name": "stdout",
     "output_type": "stream",
     "text": [
      "Epoch 1700, Train Loss: 0.15671314458761895, Val Loss: 0.1962917447090149, LR: 0.00125\n"
     ]
    },
    {
     "name": "stderr",
     "output_type": "stream",
     "text": [
      "Training:  18%|█▊        | 1801/10000 [35:42<2:25:23,  1.06s/epoch, EarlyStopping counter: 74 out of 1000] "
     ]
    },
    {
     "name": "stdout",
     "output_type": "stream",
     "text": [
      "Epoch 1800, Train Loss: 0.18289443584425108, Val Loss: 0.16781073808670044, LR: 0.00125\n"
     ]
    },
    {
     "name": "stderr",
     "output_type": "stream",
     "text": [
      "Training:  19%|█▉        | 1901/10000 [37:22<2:25:28,  1.08s/epoch, EarlyStopping counter: 10 out of 1000] "
     ]
    },
    {
     "name": "stdout",
     "output_type": "stream",
     "text": [
      "Epoch 1900, Train Loss: 0.1540112170789923, Val Loss: 0.2516547664999962, LR: 0.00125\n"
     ]
    },
    {
     "name": "stderr",
     "output_type": "stream",
     "text": [
      "Training:  20%|██        | 2001/10000 [38:56<2:28:10,  1.11s/epoch, EarlyStopping counter: 110 out of 1000]"
     ]
    },
    {
     "name": "stdout",
     "output_type": "stream",
     "text": [
      "Epoch 2000, Train Loss: 0.188846976097141, Val Loss: 0.1094711497426033, LR: 0.00125\n"
     ]
    },
    {
     "name": "stderr",
     "output_type": "stream",
     "text": [
      "Training:  21%|██        | 2101/10000 [40:40<2:17:42,  1.05s/epoch, EarlyStopping counter: 25 out of 1000] "
     ]
    },
    {
     "name": "stdout",
     "output_type": "stream",
     "text": [
      "Epoch 2100, Train Loss: 0.16714796211038316, Val Loss: 0.1619035080075264, LR: 0.00125\n"
     ]
    },
    {
     "name": "stderr",
     "output_type": "stream",
     "text": [
      "Training:  22%|██▏       | 2201/10000 [42:19<1:47:36,  1.21epoch/s, EarlyStopping counter: 125 out of 1000]"
     ]
    },
    {
     "name": "stdout",
     "output_type": "stream",
     "text": [
      "Epoch 2200, Train Loss: 0.17374544590711594, Val Loss: 0.1696036234498024, LR: 0.00125\n"
     ]
    },
    {
     "name": "stderr",
     "output_type": "stream",
     "text": [
      "Training:  23%|██▎       | 2301/10000 [44:02<2:13:03,  1.04s/epoch, EarlyStopping counter: 225 out of 1000]"
     ]
    },
    {
     "name": "stdout",
     "output_type": "stream",
     "text": [
      "Epoch 2300, Train Loss: 0.17624913901090622, Val Loss: 0.1203119121491909, LR: 0.00125\n"
     ]
    },
    {
     "name": "stderr",
     "output_type": "stream",
     "text": [
      "Training:  24%|██▍       | 2401/10000 [45:40<2:05:37,  1.01epoch/s, EarlyStopping counter: 52 out of 1000] "
     ]
    },
    {
     "name": "stdout",
     "output_type": "stream",
     "text": [
      "Epoch 2400, Train Loss: 0.16035283197249686, Val Loss: 0.10849009454250336, LR: 0.000625\n"
     ]
    },
    {
     "name": "stderr",
     "output_type": "stream",
     "text": [
      "Training:  25%|██▌       | 2501/10000 [47:18<2:17:34,  1.10s/epoch, EarlyStopping counter: 152 out of 1000]"
     ]
    },
    {
     "name": "stdout",
     "output_type": "stream",
     "text": [
      "Epoch 2500, Train Loss: 0.14344603195786476, Val Loss: 0.09493542835116386, LR: 0.000625\n"
     ]
    },
    {
     "name": "stderr",
     "output_type": "stream",
     "text": [
      "Training:  26%|██▌       | 2601/10000 [49:00<2:02:36,  1.01epoch/s, EarlyStopping counter: 68 out of 1000] "
     ]
    },
    {
     "name": "stdout",
     "output_type": "stream",
     "text": [
      "Epoch 2600, Train Loss: 0.13123089500835963, Val Loss: 0.13537749275565147, LR: 0.000625\n"
     ]
    },
    {
     "name": "stderr",
     "output_type": "stream",
     "text": [
      "Training:  27%|██▋       | 2701/10000 [50:35<2:05:45,  1.03s/epoch, EarlyStopping counter: 168 out of 1000]"
     ]
    },
    {
     "name": "stdout",
     "output_type": "stream",
     "text": [
      "Epoch 2700, Train Loss: 0.14941277408174106, Val Loss: 0.14474745839834213, LR: 0.000625\n"
     ]
    },
    {
     "name": "stderr",
     "output_type": "stream",
     "text": [
      "Training:  28%|██▊       | 2801/10000 [54:02<5:29:11,  2.74s/epoch, EarlyStopping counter: 268 out of 1000]"
     ]
    },
    {
     "name": "stdout",
     "output_type": "stream",
     "text": [
      "Epoch 2800, Train Loss: 0.11889169897351946, Val Loss: 0.1334344744682312, LR: 0.0003125\n"
     ]
    },
    {
     "name": "stderr",
     "output_type": "stream",
     "text": [
      "Training:  29%|██▉       | 2901/10000 [56:25<1:56:29,  1.02epoch/s, EarlyStopping counter: 55 out of 1000] "
     ]
    },
    {
     "name": "stdout",
     "output_type": "stream",
     "text": [
      "Epoch 2900, Train Loss: 0.1331675574183464, Val Loss: 0.08811482414603233, LR: 0.0003125\n"
     ]
    },
    {
     "name": "stderr",
     "output_type": "stream",
     "text": [
      "Training:  30%|███       | 3001/10000 [58:56<2:13:51,  1.15s/epoch, EarlyStopping counter: 155 out of 1000]"
     ]
    },
    {
     "name": "stdout",
     "output_type": "stream",
     "text": [
      "Epoch 3000, Train Loss: 0.12590982179556573, Val Loss: 0.10191483050584793, LR: 0.0003125\n"
     ]
    },
    {
     "name": "stderr",
     "output_type": "stream",
     "text": [
      "Training:  31%|███       | 3101/10000 [1:00:47<1:37:06,  1.18epoch/s, EarlyStopping counter: 255 out of 1000]"
     ]
    },
    {
     "name": "stdout",
     "output_type": "stream",
     "text": [
      "Epoch 3100, Train Loss: 0.13247256779244967, Val Loss: 0.08683723211288452, LR: 0.00015625\n"
     ]
    },
    {
     "name": "stderr",
     "output_type": "stream",
     "text": [
      "Training:  32%|███▏      | 3201/10000 [1:02:10<1:36:05,  1.18epoch/s, EarlyStopping counter: 24 out of 1000] "
     ]
    },
    {
     "name": "stdout",
     "output_type": "stream",
     "text": [
      "Epoch 3200, Train Loss: 0.11604975962213107, Val Loss: 0.08076704293489456, LR: 0.00015625\n"
     ]
    },
    {
     "name": "stderr",
     "output_type": "stream",
     "text": [
      "Training:  33%|███▎      | 3301/10000 [1:04:13<7:26:19,  4.00s/epoch, EarlyStopping counter: 23 out of 1000]"
     ]
    },
    {
     "name": "stdout",
     "output_type": "stream",
     "text": [
      "Epoch 3300, Train Loss: 0.12000228358166558, Val Loss: 0.08221123367547989, LR: 0.00015625\n"
     ]
    },
    {
     "name": "stderr",
     "output_type": "stream",
     "text": [
      "Training:  34%|███▍      | 3401/10000 [1:07:57<2:09:03,  1.17s/epoch, EarlyStopping counter: 3 out of 1000] "
     ]
    },
    {
     "name": "stdout",
     "output_type": "stream",
     "text": [
      "Epoch 3400, Train Loss: 0.12685281144721167, Val Loss: 0.07167625054717064, LR: 0.00015625\n"
     ]
    },
    {
     "name": "stderr",
     "output_type": "stream",
     "text": [
      "Training:  35%|███▌      | 3501/10000 [1:09:40<1:32:23,  1.17epoch/s, EarlyStopping counter: 42 out of 1000]"
     ]
    },
    {
     "name": "stdout",
     "output_type": "stream",
     "text": [
      "Epoch 3500, Train Loss: 0.10109676739999227, Val Loss: 0.07838372886180878, LR: 0.00015625\n"
     ]
    },
    {
     "name": "stderr",
     "output_type": "stream",
     "text": [
      "Training:  36%|███▌      | 3601/10000 [1:11:05<1:30:46,  1.17epoch/s, EarlyStopping counter: 9 out of 1000]  "
     ]
    },
    {
     "name": "stdout",
     "output_type": "stream",
     "text": [
      "Epoch 3600, Train Loss: 0.11696898777570043, Val Loss: 0.07185769453644753, LR: 0.00015625\n"
     ]
    },
    {
     "name": "stderr",
     "output_type": "stream",
     "text": [
      "Training:  37%|███▋      | 3701/10000 [1:12:30<1:32:30,  1.13epoch/s, EarlyStopping counter: 45 out of 1000]"
     ]
    },
    {
     "name": "stdout",
     "output_type": "stream",
     "text": [
      "Epoch 3700, Train Loss: 0.10620112451059478, Val Loss: 0.07464529573917389, LR: 0.00015625\n"
     ]
    },
    {
     "name": "stderr",
     "output_type": "stream",
     "text": [
      "Training:  38%|███▊      | 3801/10000 [1:16:35<1:45:49,  1.02s/epoch, EarlyStopping counter: 53 out of 1000]"
     ]
    },
    {
     "name": "stdout",
     "output_type": "stream",
     "text": [
      "Epoch 3800, Train Loss: 0.10886791827423233, Val Loss: 0.10158346965909004, LR: 0.00015625\n"
     ]
    },
    {
     "name": "stderr",
     "output_type": "stream",
     "text": [
      "Training:  39%|███▉      | 3901/10000 [1:17:59<1:26:22,  1.18epoch/s, EarlyStopping counter: 17 out of 1000] "
     ]
    },
    {
     "name": "stdout",
     "output_type": "stream",
     "text": [
      "Epoch 3900, Train Loss: 0.1219766086765698, Val Loss: 0.07500038668513298, LR: 0.00015625\n"
     ]
    },
    {
     "name": "stderr",
     "output_type": "stream",
     "text": [
      "Training:  40%|████      | 4001/10000 [1:19:24<1:23:14,  1.20epoch/s, EarlyStopping counter: 117 out of 1000]"
     ]
    },
    {
     "name": "stdout",
     "output_type": "stream",
     "text": [
      "Epoch 4000, Train Loss: 0.10993360408714839, Val Loss: 0.07754156738519669, LR: 0.00015625\n"
     ]
    },
    {
     "name": "stderr",
     "output_type": "stream",
     "text": [
      "Training:  41%|████      | 4101/10000 [1:20:50<1:24:12,  1.17epoch/s, EarlyStopping counter: 217 out of 1000]"
     ]
    },
    {
     "name": "stdout",
     "output_type": "stream",
     "text": [
      "Epoch 4100, Train Loss: 0.1062285453081131, Val Loss: 0.07538727298378944, LR: 0.00015625\n"
     ]
    },
    {
     "name": "stderr",
     "output_type": "stream",
     "text": [
      "Training:  42%|████▏     | 4201/10000 [1:22:13<1:23:28,  1.16epoch/s]                                        "
     ]
    },
    {
     "name": "stdout",
     "output_type": "stream",
     "text": [
      "Epoch 4200, Train Loss: 0.09158240045819964, Val Loss: 0.0631497260183096, LR: 0.0001\n"
     ]
    },
    {
     "name": "stderr",
     "output_type": "stream",
     "text": [
      "Training:  43%|████▎     | 4301/10000 [1:23:38<1:20:18,  1.18epoch/s, EarlyStopping counter: 29 out of 1000]"
     ]
    },
    {
     "name": "stdout",
     "output_type": "stream",
     "text": [
      "Epoch 4300, Train Loss: 0.10659557687384742, Val Loss: 0.077135369181633, LR: 0.0001\n"
     ]
    },
    {
     "name": "stderr",
     "output_type": "stream",
     "text": [
      "Training:  44%|████▍     | 4401/10000 [1:25:01<1:17:30,  1.20epoch/s, EarlyStopping counter: 129 out of 1000]"
     ]
    },
    {
     "name": "stdout",
     "output_type": "stream",
     "text": [
      "Epoch 4400, Train Loss: 0.09628518777234214, Val Loss: 0.06608041748404503, LR: 0.0001\n"
     ]
    },
    {
     "name": "stderr",
     "output_type": "stream",
     "text": [
      "Training:  45%|████▌     | 4501/10000 [1:26:32<1:44:57,  1.15s/epoch, EarlyStopping counter: 229 out of 1000]"
     ]
    },
    {
     "name": "stdout",
     "output_type": "stream",
     "text": [
      "Epoch 4500, Train Loss: 0.10299683149371829, Val Loss: 0.06426156125962734, LR: 0.0001\n"
     ]
    },
    {
     "name": "stderr",
     "output_type": "stream",
     "text": [
      "Training:  46%|████▌     | 4601/10000 [1:28:27<1:48:13,  1.20s/epoch, EarlyStopping counter: 329 out of 1000]"
     ]
    },
    {
     "name": "stdout",
     "output_type": "stream",
     "text": [
      "Epoch 4600, Train Loss: 0.0989058039018086, Val Loss: 0.07155178114771843, LR: 0.0001\n"
     ]
    },
    {
     "name": "stderr",
     "output_type": "stream",
     "text": [
      "Training:  47%|████▋     | 4701/10000 [1:30:18<1:38:52,  1.12s/epoch, EarlyStopping counter: 95 out of 1000] "
     ]
    },
    {
     "name": "stdout",
     "output_type": "stream",
     "text": [
      "Epoch 4700, Train Loss: 0.09641209803521633, Val Loss: 0.0720231756567955, LR: 0.0001\n"
     ]
    },
    {
     "name": "stderr",
     "output_type": "stream",
     "text": [
      "Training:  48%|████▊     | 4801/10000 [1:32:13<1:32:17,  1.07s/epoch, EarlyStopping counter: 195 out of 1000]"
     ]
    },
    {
     "name": "stdout",
     "output_type": "stream",
     "text": [
      "Epoch 4800, Train Loss: 0.10781349188515119, Val Loss: 0.06533942744135857, LR: 0.0001\n"
     ]
    },
    {
     "name": "stderr",
     "output_type": "stream",
     "text": [
      "Training:  49%|████▉     | 4901/10000 [1:34:01<1:31:55,  1.08s/epoch, EarlyStopping counter: 295 out of 1000]"
     ]
    },
    {
     "name": "stdout",
     "output_type": "stream",
     "text": [
      "Epoch 4900, Train Loss: 0.09378320989864213, Val Loss: 0.06168714538216591, LR: 0.0001\n"
     ]
    },
    {
     "name": "stderr",
     "output_type": "stream",
     "text": [
      "Training:  50%|█████     | 5001/10000 [1:35:55<1:32:37,  1.11s/epoch, EarlyStopping counter: 395 out of 1000]"
     ]
    },
    {
     "name": "stdout",
     "output_type": "stream",
     "text": [
      "Epoch 5000, Train Loss: 0.10082959170852389, Val Loss: 0.06251237168908119, LR: 0.0001\n"
     ]
    },
    {
     "name": "stderr",
     "output_type": "stream",
     "text": [
      "Training:  51%|█████     | 5101/10000 [1:37:44<1:29:59,  1.10s/epoch, EarlyStopping counter: 55 out of 1000] "
     ]
    },
    {
     "name": "stdout",
     "output_type": "stream",
     "text": [
      "Epoch 5100, Train Loss: 0.08987738032426153, Val Loss: 0.06456895731389523, LR: 0.0001\n"
     ]
    },
    {
     "name": "stderr",
     "output_type": "stream",
     "text": [
      "Training:  52%|█████▏    | 5201/10000 [1:39:38<1:33:16,  1.17s/epoch, EarlyStopping counter: 1 out of 1000] "
     ]
    },
    {
     "name": "stdout",
     "output_type": "stream",
     "text": [
      "Epoch 5200, Train Loss: 0.09366618203265327, Val Loss: 0.06124790571630001, LR: 0.0001\n"
     ]
    },
    {
     "name": "stderr",
     "output_type": "stream",
     "text": [
      "Training:  53%|█████▎    | 5301/10000 [1:41:29<1:27:16,  1.11s/epoch, EarlyStopping counter: 101 out of 1000]"
     ]
    },
    {
     "name": "stdout",
     "output_type": "stream",
     "text": [
      "Epoch 5300, Train Loss: 0.10092670204383987, Val Loss: 0.06091291643679142, LR: 0.0001\n"
     ]
    },
    {
     "name": "stderr",
     "output_type": "stream",
     "text": [
      "Training:  54%|█████▍    | 5401/10000 [1:43:23<1:32:10,  1.20s/epoch, EarlyStopping counter: 5 out of 1000]  "
     ]
    },
    {
     "name": "stdout",
     "output_type": "stream",
     "text": [
      "Epoch 5400, Train Loss: 0.10253009359751429, Val Loss: 0.07437722012400627, LR: 0.0001\n"
     ]
    },
    {
     "name": "stderr",
     "output_type": "stream",
     "text": [
      "Training:  55%|█████▌    | 5501/10000 [1:45:14<1:22:28,  1.10s/epoch, EarlyStopping counter: 105 out of 1000]"
     ]
    },
    {
     "name": "stdout",
     "output_type": "stream",
     "text": [
      "Epoch 5500, Train Loss: 0.10112046929342407, Val Loss: 0.05889000743627548, LR: 0.0001\n"
     ]
    },
    {
     "name": "stderr",
     "output_type": "stream",
     "text": [
      "Training:  56%|█████▌    | 5601/10000 [1:50:12<5:09:03,  4.22s/epoch, EarlyStopping counter: 59 out of 1000] "
     ]
    },
    {
     "name": "stdout",
     "output_type": "stream",
     "text": [
      "Epoch 5600, Train Loss: 0.09249372939978327, Val Loss: 0.060458624735474586, LR: 0.0001\n"
     ]
    },
    {
     "name": "stderr",
     "output_type": "stream",
     "text": [
      "Training:  57%|█████▋    | 5701/10000 [1:56:43<3:56:08,  3.30s/epoch, EarlyStopping counter: 159 out of 1000]"
     ]
    },
    {
     "name": "stdout",
     "output_type": "stream",
     "text": [
      "Epoch 5700, Train Loss: 0.09645013511180878, Val Loss: 0.06106153316795826, LR: 0.0001\n"
     ]
    },
    {
     "name": "stderr",
     "output_type": "stream",
     "text": [
      "Training:  58%|█████▊    | 5801/10000 [1:58:51<1:24:50,  1.21s/epoch, EarlyStopping counter: 259 out of 1000]"
     ]
    },
    {
     "name": "stdout",
     "output_type": "stream",
     "text": [
      "Epoch 5800, Train Loss: 0.09160640250359263, Val Loss: 0.07011019438505173, LR: 0.0001\n"
     ]
    },
    {
     "name": "stderr",
     "output_type": "stream",
     "text": [
      "Training:  59%|█████▉    | 5901/10000 [2:00:47<1:16:47,  1.12s/epoch, EarlyStopping counter: 359 out of 1000]"
     ]
    },
    {
     "name": "stdout",
     "output_type": "stream",
     "text": [
      "Epoch 5900, Train Loss: 0.09333650608147893, Val Loss: 0.06675420701503754, LR: 0.0001\n"
     ]
    },
    {
     "name": "stderr",
     "output_type": "stream",
     "text": [
      "Training:  60%|██████    | 6001/10000 [2:02:36<1:19:28,  1.19s/epoch, EarlyStopping counter: 459 out of 1000]"
     ]
    },
    {
     "name": "stdout",
     "output_type": "stream",
     "text": [
      "Epoch 6000, Train Loss: 0.10049594486398357, Val Loss: 0.06578963436186314, LR: 0.0001\n"
     ]
    },
    {
     "name": "stderr",
     "output_type": "stream",
     "text": [
      "Training:  61%|██████    | 6101/10000 [2:04:29<1:11:07,  1.09s/epoch, EarlyStopping counter: 559 out of 1000]"
     ]
    },
    {
     "name": "stdout",
     "output_type": "stream",
     "text": [
      "Epoch 6100, Train Loss: 0.10161284623401505, Val Loss: 0.06152686849236488, LR: 0.0001\n"
     ]
    },
    {
     "name": "stderr",
     "output_type": "stream",
     "text": [
      "Training:  62%|██████▏   | 6201/10000 [2:06:16<1:11:00,  1.12s/epoch, EarlyStopping counter: 67 out of 1000] "
     ]
    },
    {
     "name": "stdout",
     "output_type": "stream",
     "text": [
      "Epoch 6200, Train Loss: 0.09416344415928636, Val Loss: 0.06797544658184052, LR: 0.0001\n"
     ]
    },
    {
     "name": "stderr",
     "output_type": "stream",
     "text": [
      "Training:  63%|██████▎   | 6301/10000 [2:08:09<1:13:52,  1.20s/epoch, EarlyStopping counter: 167 out of 1000]"
     ]
    },
    {
     "name": "stdout",
     "output_type": "stream",
     "text": [
      "Epoch 6300, Train Loss: 0.08600048454744476, Val Loss: 0.0675731860101223, LR: 0.0001\n"
     ]
    },
    {
     "name": "stderr",
     "output_type": "stream",
     "text": [
      "Training:  64%|██████▍   | 6401/10000 [2:10:01<1:08:40,  1.15s/epoch, EarlyStopping counter: 267 out of 1000]"
     ]
    },
    {
     "name": "stdout",
     "output_type": "stream",
     "text": [
      "Epoch 6400, Train Loss: 0.09106336693678584, Val Loss: 0.05907762236893177, LR: 0.0001\n"
     ]
    },
    {
     "name": "stderr",
     "output_type": "stream",
     "text": [
      "Training:  65%|██████▌   | 6501/10000 [2:11:59<1:07:28,  1.16s/epoch, EarlyStopping counter: 63 out of 1000] "
     ]
    },
    {
     "name": "stdout",
     "output_type": "stream",
     "text": [
      "Epoch 6500, Train Loss: 0.09154311514326505, Val Loss: 0.06352518871426582, LR: 0.0001\n"
     ]
    },
    {
     "name": "stderr",
     "output_type": "stream",
     "text": [
      "Training:  66%|██████▌   | 6601/10000 [2:13:52<1:02:10,  1.10s/epoch, EarlyStopping counter: 163 out of 1000]"
     ]
    },
    {
     "name": "stdout",
     "output_type": "stream",
     "text": [
      "Epoch 6600, Train Loss: 0.09586717720542635, Val Loss: 0.07068951427936554, LR: 0.0001\n"
     ]
    },
    {
     "name": "stderr",
     "output_type": "stream",
     "text": [
      "Training:  67%|██████▋   | 6701/10000 [2:15:47<1:01:58,  1.13s/epoch, EarlyStopping counter: 263 out of 1000]"
     ]
    },
    {
     "name": "stdout",
     "output_type": "stream",
     "text": [
      "Epoch 6700, Train Loss: 0.09500282098140035, Val Loss: 0.059860581532120705, LR: 0.0001\n"
     ]
    },
    {
     "name": "stderr",
     "output_type": "stream",
     "text": [
      "Training:  68%|██████▊   | 6801/10000 [2:17:37<56:26,  1.06s/epoch, EarlyStopping counter: 363 out of 1000]  "
     ]
    },
    {
     "name": "stdout",
     "output_type": "stream",
     "text": [
      "Epoch 6800, Train Loss: 0.0908418537250587, Val Loss: 0.06533731147646904, LR: 0.0001\n"
     ]
    },
    {
     "name": "stderr",
     "output_type": "stream",
     "text": [
      "Training:  69%|██████▉   | 6901/10000 [2:19:29<59:12,  1.15s/epoch, EarlyStopping counter: 463 out of 1000]  "
     ]
    },
    {
     "name": "stdout",
     "output_type": "stream",
     "text": [
      "Epoch 6900, Train Loss: 0.09345895903451103, Val Loss: 0.06753527373075485, LR: 0.0001\n"
     ]
    },
    {
     "name": "stderr",
     "output_type": "stream",
     "text": [
      "Training:  70%|███████   | 7001/10000 [2:21:21<53:20,  1.07s/epoch, EarlyStopping counter: 563 out of 1000]  "
     ]
    },
    {
     "name": "stdout",
     "output_type": "stream",
     "text": [
      "Epoch 7000, Train Loss: 0.08502888306975365, Val Loss: 0.06895522400736809, LR: 0.0001\n"
     ]
    },
    {
     "name": "stderr",
     "output_type": "stream",
     "text": [
      "Training:  71%|███████   | 7101/10000 [2:23:19<1:02:21,  1.29s/epoch, EarlyStopping counter: 663 out of 1000]"
     ]
    },
    {
     "name": "stdout",
     "output_type": "stream",
     "text": [
      "Epoch 7100, Train Loss: 0.08105022779532842, Val Loss: 0.05830053985118866, LR: 0.0001\n"
     ]
    },
    {
     "name": "stderr",
     "output_type": "stream",
     "text": [
      "Training:  72%|███████▏  | 7201/10000 [2:25:12<51:30,  1.10s/epoch, EarlyStopping counter: 763 out of 1000]  "
     ]
    },
    {
     "name": "stdout",
     "output_type": "stream",
     "text": [
      "Epoch 7200, Train Loss: 0.0857113663639341, Val Loss: 0.06052372790873051, LR: 0.0001\n"
     ]
    },
    {
     "name": "stderr",
     "output_type": "stream",
     "text": [
      "Training:  73%|███████▎  | 7301/10000 [2:27:03<54:55,  1.22s/epoch, EarlyStopping counter: 863 out of 1000]"
     ]
    },
    {
     "name": "stdout",
     "output_type": "stream",
     "text": [
      "Epoch 7300, Train Loss: 0.08743097899215561, Val Loss: 0.06905796378850937, LR: 0.0001\n"
     ]
    },
    {
     "name": "stderr",
     "output_type": "stream",
     "text": [
      "Training:  74%|███████▍  | 7401/10000 [2:28:55<47:33,  1.10s/epoch, EarlyStopping counter: 963 out of 1000]"
     ]
    },
    {
     "name": "stdout",
     "output_type": "stream",
     "text": [
      "Epoch 7400, Train Loss: 0.07797795161604881, Val Loss: 0.07416272163391113, LR: 0.0001\n"
     ]
    },
    {
     "name": "stderr",
     "output_type": "stream",
     "text": [
      "Training:  74%|███████▍  | 7437/10000 [2:29:36<51:33,  1.21s/epoch, EarlyStopping counter: 1000 out of 1000]"
     ]
    },
    {
     "name": "stdout",
     "output_type": "stream",
     "text": [
      "Early stopping\n"
     ]
    },
    {
     "name": "stderr",
     "output_type": "stream",
     "text": [
      "\n"
     ]
    }
   ],
   "source": [
    "# Train model\n",
    "train_losses, val_losses, model = train(model, optimizer, scheduler, train_loader, val_loader, loss_fn, epochs=10000, device=device, patience=1000)"
   ]
  },
  {
   "cell_type": "code",
   "execution_count": 1374,
   "metadata": {},
   "outputs": [
    {
     "data": {
      "image/png": "[encoded data removed]",
      "text/plain": [
       "<Figure size 640x480 with 1 Axes>"
      ]
     },
     "metadata": {},
     "output_type": "display_data"
    }
   ],
   "source": [
    "# Plot losses\n",
    "plt.plot(train_losses, label=\"Train Loss\")\n",
    "plt.plot(val_losses, label=\"Validation Loss\")\n",
    "plt.legend()\n",
    "plt.yscale(\"log\")\n",
    "plt.xlabel(\"Epoch\")\n",
    "plt.ylabel(\"Loss\")\n",
    "plt.show()"
   ]
  },
  {
   "cell_type": "code",
   "execution_count": 25,
   "metadata": {},
   "outputs": [
    {
     "name": "stdout",
     "output_type": "stream",
     "text": [
      "Test loss:  0.05588415265083313\n"
     ]
    }
   ],
   "source": [
    "# Test the model\n",
    "test_loss = test(model, test_loader, loss_fn, device=device)\n",
    "print(\"Test loss: \", test_loss)"
   ]
  },
  {
   "cell_type": "markdown",
   "metadata": {},
   "source": [
    "## Check the model"
   ]
  },
  {
   "cell_type": "code",
   "execution_count": 76,
   "metadata": {},
   "outputs": [],
   "source": [
    "def predict_and_plot_ttf(model, test_TTF_data, test_Vs_data, freq_data, device, plot_true=True, idx=None, print_output=False):\n",
    "    \n",
    "    # Use the model to predict the TTF\n",
    "    model.eval()\n",
    "\n",
    "    # Ensure idx is within bounds\n",
    "    if idx is None:\n",
    "        idx = np.random.randint(0, len(test_TTF_data))\n",
    "    else:\n",
    "        assert 0 <= idx < len(test_TTF_data), \"Index out of bounds\"\n",
    "\n",
    "    # Use test_TTF_data and test_Vs_data\n",
    "    test_TTF_check = test_TTF_data[idx]\n",
    "    test_Vs_check = test_Vs_data[idx] * np.ones_like(freq_data)\n",
    "\n",
    "    # Normalize\n",
    "    test_TTF_check = normalize_data(test_TTF_check, mean_TTF, std_TTF)\n",
    "    test_Vs_check = normalize_data(test_Vs_check, mean_Vs, std_Vs)\n",
    "    freq_data = normalize_data(freq_data, mean_freq, std_freq)\n",
    "    \n",
    "    # Create dataset\n",
    "    test_check_dataset = TTFDataset(test_TTF_check, test_Vs_check, freq_data)\n",
    "\n",
    "    # Create dataloader\n",
    "    test_check_loader = DataLoader(test_check_dataset, batch_size=1, shuffle=False)\n",
    "\n",
    "    # Predict\n",
    "    predictions = []\n",
    "    targets = []\n",
    "    Vs_target = []\n",
    "    freq_target = []\n",
    "    with torch.no_grad():\n",
    "        for X, y in test_check_loader:\n",
    "            X, y = X.to(device), y.to(device)\n",
    "            y_pred = model(X)\n",
    "            predictions.append(y_pred.cpu().numpy())\n",
    "            targets.append(y.cpu().numpy())\n",
    "            Vs_target.append(X[:, 0].cpu().numpy())\n",
    "            freq_target.append(X[:, -1].cpu().numpy())\n",
    "\n",
    "    predictions = np.concatenate(predictions)\n",
    "    targets = np.concatenate(targets)\n",
    "    Vs_target = np.concatenate(Vs_target)\n",
    "    freq_target = np.concatenate(freq_target)\n",
    "\n",
    "    # Denormalize\n",
    "    predictions = denormalize_data(predictions, mean_TTF, std_TTF)\n",
    "    targets = denormalize_data(targets, mean_TTF, std_TTF)\n",
    "    Vs_target = denormalize_data(Vs_target, mean_Vs, std_Vs)\n",
    "    freq_target = denormalize_data(freq_target, mean_freq, std_freq)\n",
    "\n",
    "    if print_output:\n",
    "        print(\"Vs: \", Vs_target[0])\n",
    "        #print(\"True TTF: \", targets)\n",
    "        #print(\"Predicted TTF: \", predictions)\n",
    "\n",
    "    # Plot\n",
    "    if plot_true:\n",
    "        plt.plot(freq_target, targets, label=\"True\")\n",
    "        plt.plot(freq_target, predictions, label=\"Predicted\", linestyle=\"--\")\n",
    "        plt.legend()\n",
    "        plt.xlabel(\"Frequency [Hz]\")\n",
    "        plt.ylabel(\"TTF\")\n",
    "        plt.title(f\"Vs: {Vs_target[0]}\")\n",
    "        plt.show()"
   ]
  },
  {
   "cell_type": "code",
   "execution_count": 79,
   "metadata": {},
   "outputs": [
    {
     "data": {
      "image/png": "[encoded data removed]",
      "text/plain": [
       "<Figure size 640x480 with 1 Axes>"
      ]
     },
     "metadata": {},
     "output_type": "display_data"
    }
   ],
   "source": [
    "predict_and_plot_ttf(model, test_TTF_data, test_Vs_data, freq, device, plot_true=True, print_output=False)"
   ]
  },
  {
   "cell_type": "code",
   "execution_count": 28,
   "metadata": {},
   "outputs": [],
   "source": [
    "# Predict and plot\n",
    "model.eval()\n",
    "predictions = []\n",
    "target = []\n",
    "Vs_target = []\n",
    "freq_target = []\n",
    "with torch.no_grad():\n",
    "    for X, y in test_loader:\n",
    "        X, y = X.to(device), y.to(device)\n",
    "        y_pred = model(X)\n",
    "        predictions.append(y_pred.cpu().numpy())\n",
    "        target.append(y.cpu().numpy()) \n",
    "        Vs_target.append(X[:, 0].cpu().numpy())\n",
    "        freq_target.append(X[:, -1].cpu().numpy())\n",
    "\n",
    "\n",
    "predictions = np.concatenate(predictions)\n",
    "target = np.concatenate(target)\n",
    "Vs_target = np.concatenate(Vs_target)\n",
    "freq_target = np.concatenate(freq_target)\n",
    "\n",
    "# Order frequency\n",
    "order = np.argsort(freq_target)\n",
    "freq_target = freq_target[order]\n",
    "Vs_target = Vs_target[order]\n",
    "predictions = predictions[order]\n",
    "target = target[order]\n",
    "\n",
    "\n",
    "# Denormalize\n",
    "Vs_target = denormalize_data(Vs_target, mean_Vs, std_Vs)\n",
    "predictions = denormalize_data(predictions, mean_TTF, std_TTF)\n",
    "target = denormalize_data(target, mean_TTF, std_TTF)\n",
    "freq_target = denormalize_data(freq_target, mean_freq, std_freq)"
   ]
  },
  {
   "cell_type": "code",
   "execution_count": 29,
   "metadata": {},
   "outputs": [
    {
     "data": {
      "image/png": "[encoded data removed]",
      "text/plain": [
       "<Figure size 640x480 with 1 Axes>"
      ]
     },
     "metadata": {},
     "output_type": "display_data"
    }
   ],
   "source": [
    "plt.scatter(freq_target, target, label=\"True\")\n",
    "plt.scatter(freq_target, predictions, label=\"Predicted\", linestyle=\"--\")\n",
    "plt.legend()\n",
    "plt.xlabel(\"Frequency [Hz]\")\n",
    "plt.ylabel(\"TTF\")\n",
    "plt.show()\n"
   ]
  },
  {
   "cell_type": "code",
   "execution_count": 30,
   "metadata": {},
   "outputs": [
    {
     "data": {
      "image/png": "[encoded data removed]",
      "text/plain": [
       "<Figure size 640x480 with 1 Axes>"
      ]
     },
     "metadata": {},
     "output_type": "display_data"
    }
   ],
   "source": [
    "plt.scatter(Vs_target,target, label=\"True\")\n",
    "plt.scatter(Vs_target,predictions, label=\"Predicted\")\n",
    "plt.xlabel(\"Vs\")\n",
    "plt.ylabel(\"TTF\")\n",
    "plt.legend()\n",
    "plt.show()\n"
   ]
  },
  {
   "cell_type": "code",
   "execution_count": 31,
   "metadata": {},
   "outputs": [],
   "source": [
    "# Save the model\n",
    "#torch.save(model.state_dict(), \"MLP_TF_model.pth\")"
   ]
  },
  {
   "cell_type": "code",
   "execution_count": 71,
   "metadata": {},
   "outputs": [
    {
     "data": {
      "image/png": "[encoded data removed]",
      "text/plain": [
       "<Figure size 640x480 with 1 Axes>"
      ]
     },
     "metadata": {},
     "output_type": "display_data"
    }
   ],
   "source": [
    "# Let's check with Vs = 1200 m/s\n",
    "\n",
    "# Predict and plot\n",
    "model.eval()\n",
    "predictions = []\n",
    "\n",
    "freq_2 = np.linspace(0.1, 3, 1000)\n",
    "Vs_2 = 1500 * np.ones_like(freq_2)\n",
    "\n",
    "with torch.no_grad():\n",
    "    for i in range(len(freq_2)):\n",
    "        Vs = Vs_2[i] * np.ones(30)\n",
    "        freq = freq_2[i] * np.ones(1)\n",
    "        # Normalize\n",
    "        Vs = normalize_data(Vs, mean_Vs, std_Vs)\n",
    "        freq = normalize_data(freq, mean_freq, std_freq)\n",
    "\n",
    "        # Create input data\n",
    "        input_data = np.concatenate((Vs, freq))\n",
    "        input_data = torch.tensor(input_data, dtype=torch.float32).to(device).unsqueeze(0)\n",
    "\n",
    "        # Predict\n",
    "        y_pred = model(input_data)\n",
    "        predictions.append(y_pred.cpu().numpy())\n",
    "\n",
    "predictions = np.concatenate(predictions)\n",
    "\n",
    "# Denormalize\n",
    "predictions = denormalize_data(predictions, mean_TTF, std_TTF)\n",
    "\n",
    "plt.loglog(freq_2, predictions)\n",
    "plt.xlabel(\"Frequency [Hz]\")\n",
    "plt.ylabel(\"TTF\")\n",
    "plt.title(\"Vs: {} m/s\".format(Vs_2[0]))\n",
    "plt.show()\n",
    "\n"
   ]
  },
  {
   "cell_type": "code",
   "execution_count": null,
   "metadata": {},
   "outputs": [],
   "source": []
  }
 ],
 "metadata": {
  "kernelspec": {
   "display_name": "ML",
   "language": "python",
   "name": "python3"
  },
  "language_info": {
   "codemirror_mode": {
    "name": "ipython",
    "version": 3
   },
   "file_extension": ".py",
   "mimetype": "text/x-python",
   "name": "python",
   "nbconvert_exporter": "python",
   "pygments_lexer": "ipython3",
   "version": "3.12.4"
  }
 },
 "nbformat": 4,
 "nbformat_minor": 2
}
