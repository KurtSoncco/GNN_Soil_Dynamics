{
  "cells": [
    {
      "cell_type": "code",
      "execution_count": 278,
      "metadata": {
        "colab": {
          "base_uri": "https://localhost:8080/"
        },
        "id": "wXC2QpTkCTX7",
        "outputId": "602a8b5b-bfec-4982-a2c9-9540d07b86d8"
      },
      "outputs": [
        {
          "name": "stdout",
          "output_type": "stream",
          "text": [
            "PyTorch has version 2.3.1+cpu\n"
          ]
        }
      ],
      "source": [
        "import torch\n",
        "import os\n",
        "print(\"PyTorch has version {}\".format(torch.__version__))"
      ]
    },
    {
      "cell_type": "code",
      "execution_count": 279,
      "metadata": {
        "colab": {
          "base_uri": "https://localhost:8080/"
        },
        "id": "HaXVivpWCULd",
        "outputId": "e6f9f3d8-1982-4f4b-a81b-2cc75a017388"
      },
      "outputs": [],
      "source": [
        "#!pip install torch_geometric\n",
        "\n",
        "# Optional dependencies:\n",
        "#!pip install pyg_lib torch_scatter torch_sparse torch_cluster torch_spline_conv -f https://data.pyg.org/whl/torch-2.3.0+cu121.html"
      ]
    },
    {
      "cell_type": "code",
      "execution_count": 280,
      "metadata": {
        "id": "aqdamXNsCKa8"
      },
      "outputs": [],
      "source": [
        "import torch\n",
        "from torch_geometric.data import Data\n",
        "from torch_geometric.loader import DataLoader\n",
        "from torch_geometric.nn import MessagePassing, radius_graph\n",
        "import enum\n",
        "import torch\n",
        "import torch.nn as nn\n",
        "from torch.nn import Sequential\n",
        "from torch.nn import Linear\n",
        "from torch.nn import ReLU, LeakyReLU, Sigmoid\n",
        "from torch.nn import LayerNorm\n",
        "import torch.nn.functional as F\n",
        "from torch import optim\n",
        "import torch_scatter\n",
        "from torch_geometric.utils import to_networkx\n",
        "import networkx as nx\n",
        "import matplotlib.pyplot as plt\n",
        "import numpy as np\n",
        "import os\n",
        "import pandas as pd\n",
        "from tqdm import trange\n",
        "import random\n",
        "import copy"
      ]
    },
    {
      "cell_type": "code",
      "execution_count": 281,
      "metadata": {
        "id": "Sr-dYCyXwtM3"
      },
      "outputs": [],
      "source": [
        "# Start seed\n",
        "torch.manual_seed(0)\n",
        "np.random.seed(0)\n",
        "random.seed(0)"
      ]
    },
    {
      "cell_type": "markdown",
      "metadata": {
        "id": "IgzOYlERCKa-"
      },
      "source": [
        "# Graph construction"
      ]
    },
    {
      "cell_type": "code",
      "execution_count": 282,
      "metadata": {
        "id": "sq0tOrbZCu5R"
      },
      "outputs": [],
      "source": [
        "# Create folder called Data\n",
        "data_path = r\"Data\"\n",
        "if not os.path.exists(data_path):\n",
        "    os.makedirs(data_path)\n",
        "\n",
        "# Create folder called Model\n",
        "model_path = r\"model\"\n",
        "if not os.path.exists(model_path):\n",
        "    os.makedirs(model_path)"
      ]
    },
    {
      "cell_type": "code",
      "execution_count": 283,
      "metadata": {
        "id": "9_7vCusQCKa_"
      },
      "outputs": [],
      "source": [
        "# Acceleration data\n",
        "df = pd.read_csv(r\"Data\\Data4.csv\")\n",
        "time = df[\"0\"].values\n",
        "df.drop(columns=[\"0\"], inplace=True)\n",
        "\n",
        "# Coordinates data\n",
        "df_coord = np.array([[2.5, 30*i] for i in range(0, df.shape[1])])\n",
        "\n",
        "# Node type\n",
        "node_type = np.zeros(df_coord.shape[0])\n",
        "node_type[[-1,0]] = 1"
      ]
    },
    {
      "cell_type": "code",
      "execution_count": 284,
      "metadata": {
        "colab": {
          "base_uri": "https://localhost:8080/",
          "height": 430
        },
        "id": "Gz2FOvsUzgat",
        "outputId": "dcd7347d-1648-4781-c179-a737e1096544"
      },
      "outputs": [
        {
          "data": {
            "image/png": "[encoded data removed]",
            "text/plain": [
              "<Figure size 640x480 with 1 Axes>"
            ]
          },
          "metadata": {},
          "output_type": "display_data"
        }
      ],
      "source": [
        "# Input acceleration\n",
        "freq1 = 1.75 # Freq1\n",
        "t01 = 1.8 # Time Shift\n",
        "t = time\n",
        "wave = -2*freq1**2*np.pi**2*np.exp(-freq1**2*np.pi**2*(t01 - t)**2)*(t01 - t)*(2*freq1**2*np.pi**2*t01**2 - 4*freq1**2*np.pi**2*t01*t + 2*freq1**2*np.pi**2*t**2 - 3)\n",
        "# Create acceleration array input\n",
        "input_acc = np.zeros_like(df.values)\n",
        "input_acc[:,0] = wave\n",
        "input_acc = np.vstack((np.zeros(input_acc.shape[1]), input_acc))\n",
        "\n",
        "\n",
        "plt.plot(input_acc[:,0])\n",
        "plt.show()"
      ]
    },
    {
      "cell_type": "code",
      "execution_count": 285,
      "metadata": {
        "colab": {
          "base_uri": "https://localhost:8080/"
        },
        "id": "eubBvlk0CKbA",
        "outputId": "05f8f854-494c-4676-9189-5450fed87443"
      },
      "outputs": [
        {
          "name": "stdout",
          "output_type": "stream",
          "text": [
            "Done collecting data!\n",
            "Data saved!\n",
            "Output Location:  Data\\Data4.pt\n"
          ]
        }
      ],
      "source": [
        "# Initialize the data_list\n",
        "data_list = []\n",
        "\n",
        "# Time step\n",
        "dt = 1e-4\n",
        "\n",
        "# Spacing\n",
        "dx = 30\n",
        "\n",
        "# Establish some data\n",
        "number_trajectories = 1\n",
        "number_ts = -1\n",
        "\n",
        "# Create file_path\n",
        "data_path = \"Data\"\n",
        "save_data = True\n",
        "\n",
        "for k in range(df.shape[0]):\n",
        "    if k == number_ts:\n",
        "        break\n",
        "\n",
        "    # Get acceleration\n",
        "    acceleration_target = torch.tensor(df.iloc[k].values, dtype=torch.float).unsqueeze(1)\n",
        "    acceleration_input = torch.tensor(input_acc[k], dtype=torch.float).unsqueeze(1)\n",
        "\n",
        "    # Get node type\n",
        "    node_type_input = torch.tensor(node_type, dtype=torch.float)\n",
        "\n",
        "    # Get edge_index\n",
        "    coordinates = torch.tensor(df_coord, dtype=torch.float)\n",
        "    edges_index = radius_graph(coordinates, r=1.1*dx, loop=False).squeeze(0).type(torch.long)\n",
        "\n",
        "    # Get edge_attr\n",
        "    u_i = coordinates[edges_index[0]]\n",
        "    u_j = coordinates[edges_index[1]]\n",
        "    u_ij = u_i - u_j\n",
        "    u_ij_norm = torch.norm(u_ij, p=2, dim=1, keepdim=True)\n",
        "    edge_attr = torch.cat([u_ij, u_ij_norm], dim=-1).type(torch.float)\n",
        "\n",
        "    # Store data\n",
        "    data_list.append(Data(x=acceleration_input, edge_index=edges_index,\n",
        "                          edge_attr=edge_attr, y=acceleration_target, node_type=node_type_input))\n",
        "\n",
        "print(\"Done collecting data!\")\n",
        "\n",
        "# Save\n",
        "if save_data:\n",
        "  torch.save(data_list, os.path.join(data_path, \"Data4.pt\"))\n",
        "  print(\"Data saved!\")\n",
        "  print(\"Output Location: \", os.path.join(data_path, \"Data4.pt\"))"
      ]
    },
    {
      "cell_type": "markdown",
      "metadata": {
        "id": "Ck1-TlsbCKbC"
      },
      "source": [
        "# Normalization\n",
        "Normalization is necessary for the features and output parameters to zero mean and unit variance in order to stabilize training. The method defined below, get_stats(), is run before training. It accepts the processed data_list, calculates the mean and standard deviation for the node features, edge features, and node outputs, and normalizes these using the calculated statistics."
      ]
    },
    {
      "cell_type": "code",
      "execution_count": 286,
      "metadata": {
        "id": "PHGw1EN5CKbC"
      },
      "outputs": [],
      "source": [
        "def normalize(to_normalize,mean_vec,std_vec):\n",
        "    return (to_normalize-mean_vec)/std_vec\n",
        "\n",
        "def unnormalize(to_unnormalize,mean_vec,std_vec):\n",
        "    return to_unnormalize*std_vec+mean_vec\n",
        "\n",
        "def get_stats(data_list):\n",
        "    '''\n",
        "    Method for normalizing processed datasets. Given  the processed data_list,\n",
        "    calculates the mean and standard deviation for the node features, edge features,\n",
        "    and node outputs, and normalizes these using the calculated statistics.\n",
        "    '''\n",
        "\n",
        "    # Mean and std of the node features are calculated\n",
        "    mean_vec_x=torch.zeros(data_list[0].x.shape[1:])\n",
        "    std_vec_x=torch.zeros(data_list[0].x.shape[1:])\n",
        "\n",
        "    # Mean and std of the edge features are calculated\n",
        "    mean_vec_edge=torch.zeros(data_list[0].edge_attr.shape[1:])\n",
        "    std_vec_edge=torch.zeros(data_list[0].edge_attr.shape[1:])\n",
        "\n",
        "    # Mean and std of the output parameters are calculated\n",
        "    mean_vec_y=torch.zeros(data_list[0].y.shape[1:])\n",
        "    std_vec_y=torch.zeros(data_list[0].y.shape[1:])\n",
        "\n",
        "    # Define the maximum number of accumulations to perform such that we do\n",
        "    # not encounter memory issues\n",
        "    max_accumulations = 10**6\n",
        "\n",
        "    #Define a very small value for normalizing to\n",
        "    eps=torch.tensor(1e-8)\n",
        "\n",
        "    #Define counters used in normalization\n",
        "    num_accs_x = 0\n",
        "    num_accs_edge = 0\n",
        "    num_accs_y = 0\n",
        "\n",
        "    #Iterate through the data in the list to accumulate statistics\n",
        "    for dp in data_list:\n",
        "\n",
        "        # Add to the mean and std vectors for the node features\n",
        "        mean_vec_x+=torch.sum(dp.x,dim=0)\n",
        "        std_vec_x+=torch.sum(dp.x**2,dim=0)\n",
        "        num_accs_x+=dp.x.shape[0]\n",
        "\n",
        "        # Add to the mean and std vectors for the edge features\n",
        "        mean_vec_edge +=torch.sum(dp.edge_attr,dim=0)\n",
        "        std_vec_edge +=torch.sum(dp.edge_attr**2,dim=0)\n",
        "        num_accs_edge +=dp.edge_attr.shape[0]\n",
        "\n",
        "        # Add to the mean and std vectors for the node outputs\n",
        "        mean_vec_y+=torch.sum(dp.y,dim=0)\n",
        "        std_vec_y+=torch.sum(dp.y**2,dim=0)\n",
        "        num_accs_y+=dp.y.shape[0]\n",
        "\n",
        "        if(num_accs_x>max_accumulations or num_accs_edge>max_accumulations or num_accs_y>max_accumulations):\n",
        "            break\n",
        "\n",
        "    mean_vec_x = mean_vec_x/num_accs_x\n",
        "    std_vec_x = torch.maximum(torch.sqrt(std_vec_x/num_accs_x - mean_vec_x**2),eps)\n",
        "\n",
        "    mean_vec_x = torch.nan_to_num(mean_vec_x, nan=0.0)\n",
        "    std_vec_x = torch.nan_to_num(std_vec_x, nan=1.0)\n",
        "\n",
        "    mean_vec_edge = mean_vec_edge/num_accs_edge\n",
        "    std_vec_edge = torch.maximum(torch.sqrt(std_vec_edge/num_accs_edge - mean_vec_edge**2),eps)\n",
        "\n",
        "    mean_vec_edge = torch.nan_to_num(mean_vec_edge, nan=0.0)\n",
        "    std_vec_edge = torch.nan_to_num(std_vec_edge, nan=1.0)\n",
        "\n",
        "    mean_vec_y = mean_vec_y/num_accs_y\n",
        "    std_vec_y = torch.maximum(torch.sqrt(std_vec_y/num_accs_y - mean_vec_y**2),eps)\n",
        "\n",
        "    mean_vec_y = torch.nan_to_num(mean_vec_y, nan=0.0)\n",
        "    std_vec_y = torch.nan_to_num(std_vec_y, nan=1.0)\n",
        "\n",
        "    mean_std_list=[mean_vec_x,std_vec_x,mean_vec_edge,std_vec_edge,mean_vec_y,std_vec_y]\n",
        "\n",
        "    return mean_std_list"
      ]
    },
    {
      "cell_type": "markdown",
      "metadata": {
        "id": "MY278oypCKbD"
      },
      "source": [
        "# Encoder"
      ]
    },
    {
      "cell_type": "code",
      "execution_count": 287,
      "metadata": {
        "id": "j4JXMfYbCKbD"
      },
      "outputs": [],
      "source": [
        "class Encoder(torch.nn.Module):\n",
        "    def __init__(self, input_dim_node, input_dim_edge, hidden_dim):\n",
        "        super(Encoder, self).__init__()\n",
        "\n",
        "        self.node_encoder = Sequential(Linear(input_dim_node , hidden_dim),\n",
        "                                ReLU(),\n",
        "                                Linear(hidden_dim, hidden_dim),\n",
        "                                LayerNorm(hidden_dim))\n",
        "\n",
        "        self.edge_encoder = Sequential(Linear(input_dim_edge , hidden_dim),\n",
        "                                ReLU(),\n",
        "                                Linear(hidden_dim, hidden_dim),\n",
        "                                LayerNorm(hidden_dim))\n",
        "\n",
        "    def forward(self, x, edge_attr):\n",
        "        x = self.node_encoder(x)\n",
        "        edge_attr = self.edge_encoder(edge_attr)\n",
        "        return x, edge_attr"
      ]
    },
    {
      "cell_type": "markdown",
      "metadata": {
        "id": "d5ianlOGCKbD"
      },
      "source": [
        "# Decoder"
      ]
    },
    {
      "cell_type": "code",
      "execution_count": 288,
      "metadata": {
        "id": "6uQJ9ZqKCKbE"
      },
      "outputs": [],
      "source": [
        "class Decoder(torch.nn.Module):\n",
        "    def __init__(self, hidden_dim, output_dim_node):\n",
        "        super(Decoder, self).__init__()\n",
        "\n",
        "        self.node_decoder = Sequential(Linear(hidden_dim, hidden_dim),\n",
        "                                ReLU(),\n",
        "                                Linear(hidden_dim, output_dim_node))\n",
        "\n",
        "    def forward(self, x):\n",
        "        return self.node_decoder(x)\n"
      ]
    },
    {
      "cell_type": "markdown",
      "metadata": {},
      "source": [
        "# Update\n",
        "In this case, since we do not know which information we require to have for the GNN, let's compute a NN for the update step"
      ]
    },
    {
      "cell_type": "code",
      "execution_count": 289,
      "metadata": {},
      "outputs": [],
      "source": [
        "class Update(torch.nn.Module):\n",
        "    def __init__(self, input_X, input_Y, hidden_dim, output_X=None):\n",
        "        super(Update, self).__init__()\n",
        "\n",
        "        if output_X is None:\n",
        "            output_X = input_X\n",
        "\n",
        "        self.update = Sequential(Linear(input_X + input_Y, hidden_dim),\n",
        "                                Sigmoid(),\n",
        "                                Linear(hidden_dim, output_X))\n",
        "\n",
        "    def forward(self, x, y):\n",
        "        return self.update(torch.cat([x, y], dim=-1))"
      ]
    },
    {
      "cell_type": "markdown",
      "metadata": {
        "id": "Vph3XNl2CKbE"
      },
      "source": [
        "# GNN"
      ]
    },
    {
      "cell_type": "code",
      "execution_count": 290,
      "metadata": {
        "id": "LclM6pkXCKbE"
      },
      "outputs": [],
      "source": [
        "class MeshGraphNet(torch.nn.Module):\n",
        "    def __init__(self, input_dim_node, input_dim_edge, hidden_dim, output_dim, args, emb=False):\n",
        "        super(MeshGraphNet, self).__init__()\n",
        "\n",
        "        self.num_layers = args.num_layers\n",
        "\n",
        "        # Encoder\n",
        "        self.encoder = Encoder(input_dim_node, input_dim_edge, hidden_dim)\n",
        "\n",
        "        # Processor\n",
        "        self.processor = nn.ModuleList()\n",
        "        assert (self.num_layers >= 1), 'Number of message passing layers is not >=1'\n",
        "\n",
        "        processor_layer=self.build_processor_model()\n",
        "        for _ in range(self.num_layers):\n",
        "            self.processor.append(processor_layer(hidden_dim,hidden_dim))\n",
        "\n",
        "        # Decoder\n",
        "        self.decoder = Decoder(hidden_dim, output_dim)\n",
        "\n",
        "        # Update\n",
        "        self.update = Update(input_dim_node, output_dim, hidden_dim)\n",
        "\n",
        "    def build_processor_model(self):\n",
        "        return ProcessorLayer\n",
        "\n",
        "    def forward(self, data,mean_vec_x,std_vec_x,mean_vec_edge,std_vec_edge):\n",
        "\n",
        "        x, edge_attr, edge_index = data.x, data.edge_attr, data.edge_index\n",
        "\n",
        "        # Normalize the input data\n",
        "        x_norm = normalize(x,mean_vec_x,std_vec_x)\n",
        "        edge_attr = normalize(edge_attr,mean_vec_edge,std_vec_edge)\n",
        "\n",
        "        # Encoder\n",
        "        x, edge_attr = self.encoder(x_norm, edge_attr)\n",
        "\n",
        "        # Processor\n",
        "        for i in range(self.num_layers):\n",
        "            x, edge_attr = self.processor[i](x, edge_index, edge_attr)\n",
        "\n",
        "        # Decoder\n",
        "        x = self.decoder(x)\n",
        "\n",
        "        # Update\n",
        "        x = self.update(x_norm, x)\n",
        "\n",
        "        return x\n",
        "\n",
        "    def loss(self, pred, inputs, mean_vec_y, std_vec_y, mean_vec_x, std_vec_x, loss_function=nn.MSELoss()):\n",
        "\n",
        "        # Normalize the output data\n",
        "        y = inputs.y\n",
        "        y = normalize(y,mean_vec_y,std_vec_y)\n",
        "\n",
        "        # Get node type\n",
        "        node_type = inputs.node_type\n",
        "\n",
        "        y = y[node_type==1]\n",
        "        pred = pred[node_type==1]\n",
        "\n",
        "        # Calculate the sqrt loss\n",
        "        loss = loss_function(pred, y)\n",
        "\n",
        "        return loss"
      ]
    },
    {
      "cell_type": "markdown",
      "metadata": {
        "id": "1JpFyJNYCKbE"
      },
      "source": [
        "# ProcessorLayer Class: Edge Message Passing, Aggregation, and Updating\n",
        "\n",
        "Now let's implement the processor, which overrides \"[MessagePassing](https://pytorch-geometric.readthedocs.io/en/latest/notes/create_gnn.html)\" base class. Following the prototype of the base class, we need to implement three main methods, namely message passing, aggregation, and updating. Also, two types of MLP layers, namely node MLP and edge MLP, are defined and used during the construction of processor, whose details will be given in the cell bellow.\n",
        "\n",
        "Essentailly, our processor class serves as the GNN layers composed of message passing, aggregation, and updating, updating information at each layer of the computational graph for each node. The message passing process can be described as:\n",
        "\n",
        "1.   **Message passing**\n",
        "\n",
        "Initiated by the propagate function, the message function most generally calculates messages, m, for edge u at layer l with function MSG given previous embeddings h_u:\n",
        "$$m_u^{(l)}=MSG^{(l)}(h_u^{(l-1)})$$\n",
        "\n",
        "Note that for MeshGraphNets, messages are calculated for edges and passed to nodes. This function thus takes edge embeddings and the adjacent node embeddings and concatenates them. These concatenated previous embeddings constitute h_u above. These are then put through an MLP (our MSG function) to give the final messages, m_u, which are passed to the aggregate function.\n",
        "\n",
        "2.   **Aggregation**\n",
        "\n",
        "Aggregation takes the updated edge embeddings and aggregates then over the connectivity matrix indexing using sum reduction. Most generally, we have:\n",
        "\n",
        "$$h_v^{(l)}=AGG^{(l)}(\\{m_u^{(l)},u\\in N(v)\\})$$\n",
        "\n",
        "For MeshGraphNets, aggregation (AGG) for node v is sum over the neighbor nodes. However, there is also an additional aggregation step: aggregating with the self embedding. This is done outside of the aggregation function, in the forward function after the return of propagate:\n",
        "\n",
        "$$h_v^{(l)}=\\{h_v^{(l-1)},AGG^{(l)}(\\{m_u^{(l)},u\\in N(v)\\})\\}$$\n",
        "\n",
        "3.   **Updating**\n",
        "\n",
        "The nodes embeddings are finally updated by passing $h_v^{(l)}$ through the node MLP with a skip connection. This is most generally written as:\n",
        "\n",
        "$$h_v^{(l)}=Processor(h_v^{(l)})$$\n",
        "\n",
        "Where for us the Processor is an MLP.\n"
      ]
    },
    {
      "cell_type": "code",
      "execution_count": 291,
      "metadata": {
        "id": "WR1FOQMJCKbE"
      },
      "outputs": [],
      "source": [
        "class ProcessorLayer(MessagePassing):\n",
        "    def __init__(self, in_channels, out_channels, **kwargs):\n",
        "        super(ProcessorLayer, self).__init__(**kwargs)\n",
        "\n",
        "        # Note that the node and edge encoders both have the same hidden dimension\n",
        "        # size. This means that the input of the edge processor will always be\n",
        "        # three times the specified hidden dimension\n",
        "        # (input: adjacent node embeddings and self embeddings)\n",
        "        self.edge_mlp = Sequential(Linear(3* in_channels , out_channels),\n",
        "                                   ReLU(),\n",
        "                                   Linear( out_channels, out_channels),\n",
        "                                   LayerNorm(out_channels))\n",
        "\n",
        "        self.node_mlp = Sequential(Linear(2* in_channels , out_channels),\n",
        "                                   ReLU(),\n",
        "                                   Linear( out_channels, out_channels),\n",
        "                                   LayerNorm(out_channels))\n",
        "\n",
        "        self.reset_parameters()\n",
        "\n",
        "    def reset_parameters(self):\n",
        "        self.edge_mlp[0].reset_parameters()\n",
        "        self.edge_mlp[2].reset_parameters()\n",
        "\n",
        "        self.node_mlp[0].reset_parameters()\n",
        "        self.node_mlp[2].reset_parameters()\n",
        "\n",
        "\n",
        "    def forward(self, x, edge_index, edge_attr, size=None):\n",
        "\n",
        "        out, updated_edges = self.propagate(edge_index, x=x, edge_attr=edge_attr, size=size) # Out has the shape of [E, out_channels]\n",
        "        updated_nodes = torch.cat([x, out], dim=1) # Complete the aggregation through self-aggregation\n",
        "        updated_nodes = x + self.node_mlp(updated_nodes) # Residual connection\n",
        "\n",
        "        return updated_nodes, updated_edges\n",
        "\n",
        "    def message(self, x_i, x_j, edge_attr):\n",
        "\n",
        "        updated_edges = torch.cat([x_i, x_j, edge_attr], dim=1) # Shape of [E, 3*in_channels]\n",
        "        updated_edges = self.edge_mlp(updated_edges)\n",
        "\n",
        "        return updated_edges\n",
        "\n",
        "    def aggregate(self, updated_edges, edge_index, dim_size = None):\n",
        "\n",
        "        # The axis along which to index number of nodes.\n",
        "        node_dim = 0\n",
        "\n",
        "        out = torch_scatter.scatter(updated_edges, edge_index[0, :], dim=node_dim, reduce = 'sum')\n",
        "\n",
        "        return out, updated_edges\n",
        "\n"
      ]
    },
    {
      "cell_type": "code",
      "execution_count": 292,
      "metadata": {
        "id": "oLu0iKoWCKbF"
      },
      "outputs": [],
      "source": [
        "class objectview(object):\n",
        "    def __init__(self, d):\n",
        "        self.__dict__ = d"
      ]
    },
    {
      "cell_type": "markdown",
      "metadata": {},
      "source": [
        "## Check"
      ]
    },
    {
      "cell_type": "code",
      "execution_count": 293,
      "metadata": {
        "id": "URzZIGyRCKbF"
      },
      "outputs": [],
      "source": [
        "args = {\n",
        "    \"num_layers\": 2,\n",
        "    \"hidden_dim\": 64,\n",
        "    \"output_dim\": 1\n",
        "}\n",
        "\n",
        "args = objectview(args)\n",
        "model = MeshGraphNet(1, 3, 64, 1, args)\n",
        "loss_function = nn.MSELoss()"
      ]
    },
    {
      "cell_type": "code",
      "execution_count": 294,
      "metadata": {
        "colab": {
          "base_uri": "https://localhost:8080/"
        },
        "id": "NFApHjN_CKbF",
        "outputId": "9fd64f6f-2def-4bc6-9b6d-4c57075f50ba"
      },
      "outputs": [
        {
          "name": "stdout",
          "output_type": "stream",
          "text": [
            "Loss: 0.05628581717610359\n",
            "Model works!\n"
          ]
        }
      ],
      "source": [
        "stats = get_stats(data_list)\n",
        "mean_vec_x, std_vec_x, mean_vec_edge, std_vec_edge, mean_vec_y, std_vec_y = stats\n",
        "\n",
        "\n",
        "input_try = data_list[-1]\n",
        "pred = model(input_try, mean_vec_x, std_vec_x, mean_vec_edge, std_vec_edge)\n",
        "loss = model.loss(pred, input_try, mean_vec_y, std_vec_y, mean_vec_x, std_vec_x, loss_function)\n",
        "print(\"Loss:\", loss.item())\n",
        "print(\"Model works!\")"
      ]
    },
    {
      "cell_type": "markdown",
      "metadata": {
        "id": "2nVPRJqbCKbG"
      },
      "source": [
        "# Training"
      ]
    },
    {
      "cell_type": "code",
      "execution_count": 307,
      "metadata": {
        "id": "mUUU6uELCKbG"
      },
      "outputs": [],
      "source": [
        "def train(dataset, val_dataset, stats_list, args, device=\"cuda\"):\n",
        "\n",
        "    df_train = pd.DataFrame(columns=[\"Epoch\", \"Loss\", \"Val_Loss\"])\n",
        "\n",
        "    # Define the model name\n",
        "    model_name = 'model_nl'+str(args.num_layers)+'_bs'+str(args.batch_size) + \\\n",
        "               '_hd'+str(args.hidden_dim)+'_ep'+str(args.epochs)+'_wd'+str(args.weight_decay) + \\\n",
        "               '_lr'+str(args.lr)+'_shuff_'+str(args.shuffle)+'_tr'+str(args.train_size)+'_te'+str(args.test_size)\n",
        "\n",
        "    save_path = os.path.join(model_path, model_name+\".pt\")\n",
        "\n",
        "    # DataLoader\n",
        "    loader = DataLoader(dataset, batch_size=args.batch_size, shuffle=args.shuffle)\n",
        "    val_loader = DataLoader(val_dataset, batch_size=args.batch_size, shuffle=args.shuffle)\n",
        "\n",
        "    # The statistics of the data decomposed\n",
        "    [mean_vec_x, std_vec_x, mean_vec_edge, std_vec_edge, mean_vec_y, std_vec_y] = stats_list\n",
        "    (mean_vec_x, std_vec_x, mean_vec_edge, std_vec_edge, mean_vec_y, std_vec_y) = (mean_vec_x.to(device), std_vec_x.to(device), mean_vec_edge.to(device), std_vec_edge.to(device), mean_vec_y.to(device), std_vec_y.to(device))\n",
        "\n",
        "    # Build model\n",
        "    num_node_features = dataset[0].x.shape[1]\n",
        "    num_edge_features = dataset[0].edge_attr.shape[1]\n",
        "    output_dim = 1\n",
        "\n",
        "    model = MeshGraphNet(num_node_features, num_edge_features, args.hidden_dim, output_dim, args).to(device)\n",
        "    scheduler, optimizer = build_optimizer(args, model.parameters())\n",
        "\n",
        "    # Training\n",
        "    losses = []\n",
        "    best_loss = np.inf\n",
        "    best_epoch = -1\n",
        "    val_losses = []\n",
        "    best_model = None\n",
        "\n",
        "    for epoch in trange(args.epochs, desc=\"Training\", unit=\"Epochs\"):\n",
        "        total_loss = 0\n",
        "        model.train()\n",
        "        num_loops = 0\n",
        "        for batch in loader:\n",
        "            optimizer.zero_grad()\n",
        "            batch = batch.to(device)\n",
        "            pred = model(batch, mean_vec_x, std_vec_x, mean_vec_edge, std_vec_edge)\n",
        "            loss = model.loss(pred, batch, mean_vec_y, std_vec_y, mean_vec_x, std_vec_x)\n",
        "            loss.backward()\n",
        "            optimizer.step()\n",
        "            total_loss += loss.item()\n",
        "\n",
        "            if scheduler is not None:\n",
        "                scheduler.step()\n",
        "\n",
        "            num_loops += 1\n",
        "\n",
        "        total_loss /= num_loops\n",
        "        losses.append(total_loss)\n",
        "\n",
        "        # Validation loss\n",
        "        model.eval()\n",
        "        val_loss = 0\n",
        "        num_loops = 0\n",
        "        with torch.no_grad():\n",
        "            for val_batch in val_loader:\n",
        "                val_batch = val_batch.to(device)\n",
        "                val_pred = model(val_batch, mean_vec_x, std_vec_x, mean_vec_edge, std_vec_edge)\n",
        "                val_loss += model.loss(val_pred, val_batch, mean_vec_y, std_vec_y, mean_vec_x, std_vec_x).item()\n",
        "                num_loops += 1\n",
        "\n",
        "        val_loss /= num_loops\n",
        "        val_losses.append(val_loss)\n",
        "\n",
        "        if val_loss < best_loss:\n",
        "            best_loss = val_loss\n",
        "            best_epoch = epoch\n",
        "            best_model = copy.deepcopy(model)\n",
        "            torch.save(best_model.state_dict(), save_path)\n",
        "\n",
        "        if epoch % 10 == 0:\n",
        "            print(f\"Epoch {epoch} | Loss: {total_loss} | Val Loss: {val_losses[-1]} \")\n",
        "\n",
        "            # Validation loss\n",
        "            model.eval()\n",
        "\n",
        "            val_loss = 0\n",
        "            num_loops = 0\n",
        "\n",
        "\n",
        "\n",
        "\n",
        "\n",
        "        # Save losses\n",
        "        df_train.loc[len(df_train)] = [epoch, total_loss, val_losses[-1]]\n",
        "\n",
        "\n",
        "\n",
        "    return model, df_train\n",
        "\n"
      ]
    },
    {
      "cell_type": "code",
      "execution_count": 308,
      "metadata": {
        "id": "_JZlOI3rFlIz"
      },
      "outputs": [],
      "source": [
        "def test(dataset, stats_list, model, args):\n",
        "\n",
        "    model.eval()\n",
        "\n",
        "    test_loader = DataLoader(dataset, batch_size=args.batch_size, shuffle=args.shuffle)\n",
        "    test_losses = []\n",
        "    results = []\n",
        "    device = args.device\n",
        "\n",
        "    # Unpack the statistics and move them to the device\n",
        "    [mean_vec_x, std_vec_x, mean_vec_edge, std_vec_edge, mean_vec_y, std_vec_y] = stats_list\n",
        "    (mean_vec_x, std_vec_x, mean_vec_edge, std_vec_edge, mean_vec_y, std_vec_y) = (\n",
        "        mean_vec_x.to(device), std_vec_x.to(device), mean_vec_edge.to(device),\n",
        "        std_vec_edge.to(device), mean_vec_y.to(device), std_vec_y.to(device)\n",
        "    )\n",
        "\n",
        "    with torch.no_grad():\n",
        "        for batch in test_loader:\n",
        "            batch = batch.to(device)\n",
        "            pred = model(batch, mean_vec_x, std_vec_x, mean_vec_edge, std_vec_edge).to(device)\n",
        "            loss = model.loss(pred, batch, mean_vec_y, std_vec_y, mean_vec_x, std_vec_x)\n",
        "            test_losses.append(loss.item())\n",
        "            results.append(pred * std_vec_y + mean_vec_y + batch.x * std_vec_x + mean_vec_x)\n",
        "\n",
        "    test_loss = np.mean(test_losses)\n",
        "    print(f\"Test Loss: {test_loss}\")\n",
        "\n",
        "    return test_loss, results\n",
        "\n"
      ]
    },
    {
      "cell_type": "markdown",
      "metadata": {
        "id": "t8JYiCUi0-2n"
      },
      "source": [
        "# Start training"
      ]
    },
    {
      "cell_type": "markdown",
      "metadata": {},
      "source": [
        "## Optimizer"
      ]
    },
    {
      "cell_type": "code",
      "execution_count": 309,
      "metadata": {},
      "outputs": [],
      "source": [
        "def build_optimizer(args, params):\n",
        "    weight_decay = args.weight_decay\n",
        "    filter_fn = filter(lambda p : p.requires_grad, params)\n",
        "    if args.opt == 'adam':\n",
        "        optimizer = optim.Adam(filter_fn, lr=args.lr, weight_decay=weight_decay)\n",
        "    elif args.opt == 'sgd':\n",
        "        optimizer = optim.SGD(filter_fn, lr=args.lr, momentum=0.95, weight_decay=weight_decay)\n",
        "    elif args.opt == 'rmsprop':\n",
        "        optimizer = optim.RMSprop(filter_fn, lr=args.lr, weight_decay=weight_decay)\n",
        "    elif args.opt == 'adagrad':\n",
        "        optimizer = optim.Adagrad(filter_fn, lr=args.lr, weight_decay=weight_decay)\n",
        "    if args.opt_scheduler == 'none':\n",
        "        return None, optimizer\n",
        "    elif args.opt_scheduler == 'step':\n",
        "        scheduler = optim.lr_scheduler.StepLR(optimizer, step_size=args.opt_decay_step, gamma=args.opt_decay_rate)\n",
        "    elif args.opt_scheduler == 'cos':\n",
        "        scheduler = optim.lr_scheduler.CosineAnnealingLR(optimizer, T_max=args.opt_restart)\n",
        "    elif args.opt_scheduler == 'exponential':\n",
        "        scheduler = optim.lr_scheduler.ExponentialLR(optimizer, gamma=args.opt_decay_rate)\n",
        "    return scheduler, optimizer"
      ]
    },
    {
      "cell_type": "code",
      "execution_count": 310,
      "metadata": {
        "id": "QkDNmn_ACKbG"
      },
      "outputs": [],
      "source": [
        "for args in [\n",
        "        {'model_type': 'meshgraphnet',\n",
        "         'num_layers': 3,\n",
        "         'batch_size': 2,\n",
        "         'hidden_dim': 100,\n",
        "         'epochs': 100,\n",
        "         'opt': 'adam',\n",
        "         'opt_scheduler': 'exponential',\n",
        "         'opt_restart': 0,\n",
        "         'weight_decay': 5e-4,\n",
        "         'opt_decay_rate': 0.1 ** (1 / 5e6),\n",
        "         'lr': 0.005,\n",
        "         'train_size': 80,\n",
        "         'val_size': 10,\n",
        "         'test_size': 10,\n",
        "         'device':'cpu',\n",
        "         'shuffle': False,\n",
        "         'save_velo_val': True,\n",
        "         'save_best_model': True,\n",
        "         'checkpoint_dir': './best_models/',\n",
        "         'postprocess_dir': './2d_loss_plots/'},\n",
        "    ]:\n",
        "        args = objectview(args)\n",
        "\n",
        "torch.manual_seed(5)  #Torch\n",
        "random.seed(5)        #Python\n",
        "np.random.seed(5)     #NumPy"
      ]
    },
    {
      "cell_type": "code",
      "execution_count": 311,
      "metadata": {
        "id": "C-0FiFT4CKbG"
      },
      "outputs": [],
      "source": [
        "# Load dataset\n",
        "dataset = torch.load(\"Data/Data4.pt\")"
      ]
    },
    {
      "cell_type": "code",
      "execution_count": 312,
      "metadata": {
        "colab": {
          "base_uri": "https://localhost:8080/"
        },
        "id": "pQzr20ce11Ht",
        "outputId": "be48a895-307a-4a24-bd3d-3576c15f5781"
      },
      "outputs": [
        {
          "name": "stdout",
          "output_type": "stream",
          "text": [
            "Train size:  12000\n",
            "Test size:  1500\n",
            "Val size:  1500\n"
          ]
        }
      ],
      "source": [
        "# Separate between training and test\n",
        "total_data_num = len(dataset)\n",
        "train_size = int(total_data_num * args.train_size / 100)\n",
        "val_size = int(total_data_num * args.val_size / 100)\n",
        "test_size = total_data_num - train_size - val_size\n",
        "\n",
        "train_data = dataset[:train_size]\n",
        "val_data = dataset[train_size:train_size+test_size]\n",
        "test_data = dataset[train_size+test_size:]\n",
        "\n",
        "print(\"Train size: \", train_size)\n",
        "print(\"Test size: \", test_size)\n",
        "print(\"Val size: \", len(val_data))"
      ]
    },
    {
      "cell_type": "code",
      "execution_count": 313,
      "metadata": {},
      "outputs": [],
      "source": [
        "# Get stats for the training data, and normalize the data\n",
        "stats_list = get_stats(train_data)"
      ]
    },
    {
      "cell_type": "code",
      "execution_count": 314,
      "metadata": {
        "colab": {
          "base_uri": "https://localhost:8080/"
        },
        "id": "9XjLUqUsFnMQ",
        "outputId": "89ac6c62-d667-45d5-cd8a-dd686ebcb665"
      },
      "outputs": [
        {
          "name": "stdout",
          "output_type": "stream",
          "text": [
            "cpu\n"
          ]
        }
      ],
      "source": [
        "# Define device\n",
        "device = torch.device(\"cuda\" if torch.cuda.is_available() else \"cpu\")\n",
        "print(device)"
      ]
    },
    {
      "cell_type": "code",
      "execution_count": 315,
      "metadata": {
        "colab": {
          "base_uri": "https://localhost:8080/"
        },
        "id": "DyDr8KRBCKbG",
        "outputId": "04ae4442-887f-4e9c-b9db-a0415ae034f1"
      },
      "outputs": [
        {
          "name": "stderr",
          "output_type": "stream",
          "text": [
            "Training:   0%|          | 0/100 [08:27<?, ?Epochs/s]\n"
          ]
        },
        {
          "ename": "KeyboardInterrupt",
          "evalue": "",
          "output_type": "error",
          "traceback": [
            "\u001b[1;31m---------------------------------------------------------------------------\u001b[0m",
            "\u001b[1;31mKeyboardInterrupt\u001b[0m                         Traceback (most recent call last)",
            "Cell \u001b[1;32mIn[315], line 2\u001b[0m\n\u001b[0;32m      1\u001b[0m \u001b[38;5;66;03m# Train\u001b[39;00m\n\u001b[1;32m----> 2\u001b[0m model, df_train \u001b[38;5;241m=\u001b[39m \u001b[43mtrain\u001b[49m\u001b[43m(\u001b[49m\u001b[43mtrain_data\u001b[49m\u001b[43m,\u001b[49m\u001b[43m \u001b[49m\u001b[43mval_data\u001b[49m\u001b[43m,\u001b[49m\u001b[43m \u001b[49m\u001b[43mstats_list\u001b[49m\u001b[43m,\u001b[49m\u001b[43m \u001b[49m\u001b[43margs\u001b[49m\u001b[43m,\u001b[49m\u001b[43m \u001b[49m\u001b[43mdevice\u001b[49m\u001b[43m)\u001b[49m\n",
            "Cell \u001b[1;32mIn[307], line 45\u001b[0m, in \u001b[0;36mtrain\u001b[1;34m(dataset, val_dataset, stats_list, args, device)\u001b[0m\n\u001b[0;32m     43\u001b[0m loss \u001b[38;5;241m=\u001b[39m model\u001b[38;5;241m.\u001b[39mloss(pred, batch, mean_vec_y, std_vec_y, mean_vec_x, std_vec_x)\n\u001b[0;32m     44\u001b[0m loss\u001b[38;5;241m.\u001b[39mbackward()\n\u001b[1;32m---> 45\u001b[0m \u001b[43moptimizer\u001b[49m\u001b[38;5;241;43m.\u001b[39;49m\u001b[43mstep\u001b[49m\u001b[43m(\u001b[49m\u001b[43m)\u001b[49m\n\u001b[0;32m     46\u001b[0m total_loss \u001b[38;5;241m+\u001b[39m\u001b[38;5;241m=\u001b[39m loss\u001b[38;5;241m.\u001b[39mitem()\n\u001b[0;32m     48\u001b[0m \u001b[38;5;28;01mif\u001b[39;00m scheduler \u001b[38;5;129;01mis\u001b[39;00m \u001b[38;5;129;01mnot\u001b[39;00m \u001b[38;5;28;01mNone\u001b[39;00m:\n",
            "File \u001b[1;32mc:\\Users\\kurt-\\miniconda3\\envs\\ML\\Lib\\site-packages\\torch\\optim\\lr_scheduler.py:75\u001b[0m, in \u001b[0;36mLRScheduler.__init__.<locals>.with_counter.<locals>.wrapper\u001b[1;34m(*args, **kwargs)\u001b[0m\n\u001b[0;32m     73\u001b[0m instance\u001b[38;5;241m.\u001b[39m_step_count \u001b[38;5;241m+\u001b[39m\u001b[38;5;241m=\u001b[39m \u001b[38;5;241m1\u001b[39m\n\u001b[0;32m     74\u001b[0m wrapped \u001b[38;5;241m=\u001b[39m func\u001b[38;5;241m.\u001b[39m\u001b[38;5;21m__get__\u001b[39m(instance, \u001b[38;5;28mcls\u001b[39m)\n\u001b[1;32m---> 75\u001b[0m \u001b[38;5;28;01mreturn\u001b[39;00m \u001b[43mwrapped\u001b[49m\u001b[43m(\u001b[49m\u001b[38;5;241;43m*\u001b[39;49m\u001b[43margs\u001b[49m\u001b[43m,\u001b[49m\u001b[43m \u001b[49m\u001b[38;5;241;43m*\u001b[39;49m\u001b[38;5;241;43m*\u001b[39;49m\u001b[43mkwargs\u001b[49m\u001b[43m)\u001b[49m\n",
            "File \u001b[1;32mc:\\Users\\kurt-\\miniconda3\\envs\\ML\\Lib\\site-packages\\torch\\optim\\optimizer.py:391\u001b[0m, in \u001b[0;36mOptimizer.profile_hook_step.<locals>.wrapper\u001b[1;34m(*args, **kwargs)\u001b[0m\n\u001b[0;32m    386\u001b[0m         \u001b[38;5;28;01melse\u001b[39;00m:\n\u001b[0;32m    387\u001b[0m             \u001b[38;5;28;01mraise\u001b[39;00m \u001b[38;5;167;01mRuntimeError\u001b[39;00m(\n\u001b[0;32m    388\u001b[0m                 \u001b[38;5;124mf\u001b[39m\u001b[38;5;124m\"\u001b[39m\u001b[38;5;132;01m{\u001b[39;00mfunc\u001b[38;5;132;01m}\u001b[39;00m\u001b[38;5;124m must return None or a tuple of (new_args, new_kwargs), but got \u001b[39m\u001b[38;5;132;01m{\u001b[39;00mresult\u001b[38;5;132;01m}\u001b[39;00m\u001b[38;5;124m.\u001b[39m\u001b[38;5;124m\"\u001b[39m\n\u001b[0;32m    389\u001b[0m             )\n\u001b[1;32m--> 391\u001b[0m out \u001b[38;5;241m=\u001b[39m \u001b[43mfunc\u001b[49m\u001b[43m(\u001b[49m\u001b[38;5;241;43m*\u001b[39;49m\u001b[43margs\u001b[49m\u001b[43m,\u001b[49m\u001b[43m \u001b[49m\u001b[38;5;241;43m*\u001b[39;49m\u001b[38;5;241;43m*\u001b[39;49m\u001b[43mkwargs\u001b[49m\u001b[43m)\u001b[49m\n\u001b[0;32m    392\u001b[0m \u001b[38;5;28mself\u001b[39m\u001b[38;5;241m.\u001b[39m_optimizer_step_code()\n\u001b[0;32m    394\u001b[0m \u001b[38;5;66;03m# call optimizer step post hooks\u001b[39;00m\n",
            "File \u001b[1;32mc:\\Users\\kurt-\\miniconda3\\envs\\ML\\Lib\\site-packages\\torch\\optim\\optimizer.py:76\u001b[0m, in \u001b[0;36m_use_grad_for_differentiable.<locals>._use_grad\u001b[1;34m(self, *args, **kwargs)\u001b[0m\n\u001b[0;32m     74\u001b[0m     torch\u001b[38;5;241m.\u001b[39mset_grad_enabled(\u001b[38;5;28mself\u001b[39m\u001b[38;5;241m.\u001b[39mdefaults[\u001b[38;5;124m'\u001b[39m\u001b[38;5;124mdifferentiable\u001b[39m\u001b[38;5;124m'\u001b[39m])\n\u001b[0;32m     75\u001b[0m     torch\u001b[38;5;241m.\u001b[39m_dynamo\u001b[38;5;241m.\u001b[39mgraph_break()\n\u001b[1;32m---> 76\u001b[0m     ret \u001b[38;5;241m=\u001b[39m \u001b[43mfunc\u001b[49m\u001b[43m(\u001b[49m\u001b[38;5;28;43mself\u001b[39;49m\u001b[43m,\u001b[49m\u001b[43m \u001b[49m\u001b[38;5;241;43m*\u001b[39;49m\u001b[43margs\u001b[49m\u001b[43m,\u001b[49m\u001b[43m \u001b[49m\u001b[38;5;241;43m*\u001b[39;49m\u001b[38;5;241;43m*\u001b[39;49m\u001b[43mkwargs\u001b[49m\u001b[43m)\u001b[49m\n\u001b[0;32m     77\u001b[0m \u001b[38;5;28;01mfinally\u001b[39;00m:\n\u001b[0;32m     78\u001b[0m     torch\u001b[38;5;241m.\u001b[39m_dynamo\u001b[38;5;241m.\u001b[39mgraph_break()\n",
            "File \u001b[1;32mc:\\Users\\kurt-\\miniconda3\\envs\\ML\\Lib\\site-packages\\torch\\optim\\adam.py:168\u001b[0m, in \u001b[0;36mAdam.step\u001b[1;34m(self, closure)\u001b[0m\n\u001b[0;32m    157\u001b[0m     beta1, beta2 \u001b[38;5;241m=\u001b[39m group[\u001b[38;5;124m'\u001b[39m\u001b[38;5;124mbetas\u001b[39m\u001b[38;5;124m'\u001b[39m]\n\u001b[0;32m    159\u001b[0m     has_complex \u001b[38;5;241m=\u001b[39m \u001b[38;5;28mself\u001b[39m\u001b[38;5;241m.\u001b[39m_init_group(\n\u001b[0;32m    160\u001b[0m         group,\n\u001b[0;32m    161\u001b[0m         params_with_grad,\n\u001b[1;32m   (...)\u001b[0m\n\u001b[0;32m    165\u001b[0m         max_exp_avg_sqs,\n\u001b[0;32m    166\u001b[0m         state_steps)\n\u001b[1;32m--> 168\u001b[0m     \u001b[43madam\u001b[49m\u001b[43m(\u001b[49m\n\u001b[0;32m    169\u001b[0m \u001b[43m        \u001b[49m\u001b[43mparams_with_grad\u001b[49m\u001b[43m,\u001b[49m\n\u001b[0;32m    170\u001b[0m \u001b[43m        \u001b[49m\u001b[43mgrads\u001b[49m\u001b[43m,\u001b[49m\n\u001b[0;32m    171\u001b[0m \u001b[43m        \u001b[49m\u001b[43mexp_avgs\u001b[49m\u001b[43m,\u001b[49m\n\u001b[0;32m    172\u001b[0m \u001b[43m        \u001b[49m\u001b[43mexp_avg_sqs\u001b[49m\u001b[43m,\u001b[49m\n\u001b[0;32m    173\u001b[0m \u001b[43m        \u001b[49m\u001b[43mmax_exp_avg_sqs\u001b[49m\u001b[43m,\u001b[49m\n\u001b[0;32m    174\u001b[0m \u001b[43m        \u001b[49m\u001b[43mstate_steps\u001b[49m\u001b[43m,\u001b[49m\n\u001b[0;32m    175\u001b[0m \u001b[43m        \u001b[49m\u001b[43mamsgrad\u001b[49m\u001b[38;5;241;43m=\u001b[39;49m\u001b[43mgroup\u001b[49m\u001b[43m[\u001b[49m\u001b[38;5;124;43m'\u001b[39;49m\u001b[38;5;124;43mamsgrad\u001b[39;49m\u001b[38;5;124;43m'\u001b[39;49m\u001b[43m]\u001b[49m\u001b[43m,\u001b[49m\n\u001b[0;32m    176\u001b[0m \u001b[43m        \u001b[49m\u001b[43mhas_complex\u001b[49m\u001b[38;5;241;43m=\u001b[39;49m\u001b[43mhas_complex\u001b[49m\u001b[43m,\u001b[49m\n\u001b[0;32m    177\u001b[0m \u001b[43m        \u001b[49m\u001b[43mbeta1\u001b[49m\u001b[38;5;241;43m=\u001b[39;49m\u001b[43mbeta1\u001b[49m\u001b[43m,\u001b[49m\n\u001b[0;32m    178\u001b[0m \u001b[43m        \u001b[49m\u001b[43mbeta2\u001b[49m\u001b[38;5;241;43m=\u001b[39;49m\u001b[43mbeta2\u001b[49m\u001b[43m,\u001b[49m\n\u001b[0;32m    179\u001b[0m \u001b[43m        \u001b[49m\u001b[43mlr\u001b[49m\u001b[38;5;241;43m=\u001b[39;49m\u001b[43mgroup\u001b[49m\u001b[43m[\u001b[49m\u001b[38;5;124;43m'\u001b[39;49m\u001b[38;5;124;43mlr\u001b[39;49m\u001b[38;5;124;43m'\u001b[39;49m\u001b[43m]\u001b[49m\u001b[43m,\u001b[49m\n\u001b[0;32m    180\u001b[0m \u001b[43m        \u001b[49m\u001b[43mweight_decay\u001b[49m\u001b[38;5;241;43m=\u001b[39;49m\u001b[43mgroup\u001b[49m\u001b[43m[\u001b[49m\u001b[38;5;124;43m'\u001b[39;49m\u001b[38;5;124;43mweight_decay\u001b[39;49m\u001b[38;5;124;43m'\u001b[39;49m\u001b[43m]\u001b[49m\u001b[43m,\u001b[49m\n\u001b[0;32m    181\u001b[0m \u001b[43m        \u001b[49m\u001b[43meps\u001b[49m\u001b[38;5;241;43m=\u001b[39;49m\u001b[43mgroup\u001b[49m\u001b[43m[\u001b[49m\u001b[38;5;124;43m'\u001b[39;49m\u001b[38;5;124;43meps\u001b[39;49m\u001b[38;5;124;43m'\u001b[39;49m\u001b[43m]\u001b[49m\u001b[43m,\u001b[49m\n\u001b[0;32m    182\u001b[0m \u001b[43m        \u001b[49m\u001b[43mmaximize\u001b[49m\u001b[38;5;241;43m=\u001b[39;49m\u001b[43mgroup\u001b[49m\u001b[43m[\u001b[49m\u001b[38;5;124;43m'\u001b[39;49m\u001b[38;5;124;43mmaximize\u001b[39;49m\u001b[38;5;124;43m'\u001b[39;49m\u001b[43m]\u001b[49m\u001b[43m,\u001b[49m\n\u001b[0;32m    183\u001b[0m \u001b[43m        \u001b[49m\u001b[43mforeach\u001b[49m\u001b[38;5;241;43m=\u001b[39;49m\u001b[43mgroup\u001b[49m\u001b[43m[\u001b[49m\u001b[38;5;124;43m'\u001b[39;49m\u001b[38;5;124;43mforeach\u001b[39;49m\u001b[38;5;124;43m'\u001b[39;49m\u001b[43m]\u001b[49m\u001b[43m,\u001b[49m\n\u001b[0;32m    184\u001b[0m \u001b[43m        \u001b[49m\u001b[43mcapturable\u001b[49m\u001b[38;5;241;43m=\u001b[39;49m\u001b[43mgroup\u001b[49m\u001b[43m[\u001b[49m\u001b[38;5;124;43m'\u001b[39;49m\u001b[38;5;124;43mcapturable\u001b[39;49m\u001b[38;5;124;43m'\u001b[39;49m\u001b[43m]\u001b[49m\u001b[43m,\u001b[49m\n\u001b[0;32m    185\u001b[0m \u001b[43m        \u001b[49m\u001b[43mdifferentiable\u001b[49m\u001b[38;5;241;43m=\u001b[39;49m\u001b[43mgroup\u001b[49m\u001b[43m[\u001b[49m\u001b[38;5;124;43m'\u001b[39;49m\u001b[38;5;124;43mdifferentiable\u001b[39;49m\u001b[38;5;124;43m'\u001b[39;49m\u001b[43m]\u001b[49m\u001b[43m,\u001b[49m\n\u001b[0;32m    186\u001b[0m \u001b[43m        \u001b[49m\u001b[43mfused\u001b[49m\u001b[38;5;241;43m=\u001b[39;49m\u001b[43mgroup\u001b[49m\u001b[43m[\u001b[49m\u001b[38;5;124;43m'\u001b[39;49m\u001b[38;5;124;43mfused\u001b[39;49m\u001b[38;5;124;43m'\u001b[39;49m\u001b[43m]\u001b[49m\u001b[43m,\u001b[49m\n\u001b[0;32m    187\u001b[0m \u001b[43m        \u001b[49m\u001b[43mgrad_scale\u001b[49m\u001b[38;5;241;43m=\u001b[39;49m\u001b[38;5;28;43mgetattr\u001b[39;49m\u001b[43m(\u001b[49m\u001b[38;5;28;43mself\u001b[39;49m\u001b[43m,\u001b[49m\u001b[43m \u001b[49m\u001b[38;5;124;43m\"\u001b[39;49m\u001b[38;5;124;43mgrad_scale\u001b[39;49m\u001b[38;5;124;43m\"\u001b[39;49m\u001b[43m,\u001b[49m\u001b[43m \u001b[49m\u001b[38;5;28;43;01mNone\u001b[39;49;00m\u001b[43m)\u001b[49m\u001b[43m,\u001b[49m\n\u001b[0;32m    188\u001b[0m \u001b[43m        \u001b[49m\u001b[43mfound_inf\u001b[49m\u001b[38;5;241;43m=\u001b[39;49m\u001b[38;5;28;43mgetattr\u001b[39;49m\u001b[43m(\u001b[49m\u001b[38;5;28;43mself\u001b[39;49m\u001b[43m,\u001b[49m\u001b[43m \u001b[49m\u001b[38;5;124;43m\"\u001b[39;49m\u001b[38;5;124;43mfound_inf\u001b[39;49m\u001b[38;5;124;43m\"\u001b[39;49m\u001b[43m,\u001b[49m\u001b[43m \u001b[49m\u001b[38;5;28;43;01mNone\u001b[39;49;00m\u001b[43m)\u001b[49m\u001b[43m,\u001b[49m\n\u001b[0;32m    189\u001b[0m \u001b[43m    \u001b[49m\u001b[43m)\u001b[49m\n\u001b[0;32m    191\u001b[0m \u001b[38;5;28;01mreturn\u001b[39;00m loss\n",
            "File \u001b[1;32mc:\\Users\\kurt-\\miniconda3\\envs\\ML\\Lib\\site-packages\\torch\\optim\\adam.py:318\u001b[0m, in \u001b[0;36madam\u001b[1;34m(params, grads, exp_avgs, exp_avg_sqs, max_exp_avg_sqs, state_steps, foreach, capturable, differentiable, fused, grad_scale, found_inf, has_complex, amsgrad, beta1, beta2, lr, weight_decay, eps, maximize)\u001b[0m\n\u001b[0;32m    315\u001b[0m \u001b[38;5;28;01melse\u001b[39;00m:\n\u001b[0;32m    316\u001b[0m     func \u001b[38;5;241m=\u001b[39m _single_tensor_adam\n\u001b[1;32m--> 318\u001b[0m \u001b[43mfunc\u001b[49m\u001b[43m(\u001b[49m\u001b[43mparams\u001b[49m\u001b[43m,\u001b[49m\n\u001b[0;32m    319\u001b[0m \u001b[43m     \u001b[49m\u001b[43mgrads\u001b[49m\u001b[43m,\u001b[49m\n\u001b[0;32m    320\u001b[0m \u001b[43m     \u001b[49m\u001b[43mexp_avgs\u001b[49m\u001b[43m,\u001b[49m\n\u001b[0;32m    321\u001b[0m \u001b[43m     \u001b[49m\u001b[43mexp_avg_sqs\u001b[49m\u001b[43m,\u001b[49m\n\u001b[0;32m    322\u001b[0m \u001b[43m     \u001b[49m\u001b[43mmax_exp_avg_sqs\u001b[49m\u001b[43m,\u001b[49m\n\u001b[0;32m    323\u001b[0m \u001b[43m     \u001b[49m\u001b[43mstate_steps\u001b[49m\u001b[43m,\u001b[49m\n\u001b[0;32m    324\u001b[0m \u001b[43m     \u001b[49m\u001b[43mamsgrad\u001b[49m\u001b[38;5;241;43m=\u001b[39;49m\u001b[43mamsgrad\u001b[49m\u001b[43m,\u001b[49m\n\u001b[0;32m    325\u001b[0m \u001b[43m     \u001b[49m\u001b[43mhas_complex\u001b[49m\u001b[38;5;241;43m=\u001b[39;49m\u001b[43mhas_complex\u001b[49m\u001b[43m,\u001b[49m\n\u001b[0;32m    326\u001b[0m \u001b[43m     \u001b[49m\u001b[43mbeta1\u001b[49m\u001b[38;5;241;43m=\u001b[39;49m\u001b[43mbeta1\u001b[49m\u001b[43m,\u001b[49m\n\u001b[0;32m    327\u001b[0m \u001b[43m     \u001b[49m\u001b[43mbeta2\u001b[49m\u001b[38;5;241;43m=\u001b[39;49m\u001b[43mbeta2\u001b[49m\u001b[43m,\u001b[49m\n\u001b[0;32m    328\u001b[0m \u001b[43m     \u001b[49m\u001b[43mlr\u001b[49m\u001b[38;5;241;43m=\u001b[39;49m\u001b[43mlr\u001b[49m\u001b[43m,\u001b[49m\n\u001b[0;32m    329\u001b[0m \u001b[43m     \u001b[49m\u001b[43mweight_decay\u001b[49m\u001b[38;5;241;43m=\u001b[39;49m\u001b[43mweight_decay\u001b[49m\u001b[43m,\u001b[49m\n\u001b[0;32m    330\u001b[0m \u001b[43m     \u001b[49m\u001b[43meps\u001b[49m\u001b[38;5;241;43m=\u001b[39;49m\u001b[43meps\u001b[49m\u001b[43m,\u001b[49m\n\u001b[0;32m    331\u001b[0m \u001b[43m     \u001b[49m\u001b[43mmaximize\u001b[49m\u001b[38;5;241;43m=\u001b[39;49m\u001b[43mmaximize\u001b[49m\u001b[43m,\u001b[49m\n\u001b[0;32m    332\u001b[0m \u001b[43m     \u001b[49m\u001b[43mcapturable\u001b[49m\u001b[38;5;241;43m=\u001b[39;49m\u001b[43mcapturable\u001b[49m\u001b[43m,\u001b[49m\n\u001b[0;32m    333\u001b[0m \u001b[43m     \u001b[49m\u001b[43mdifferentiable\u001b[49m\u001b[38;5;241;43m=\u001b[39;49m\u001b[43mdifferentiable\u001b[49m\u001b[43m,\u001b[49m\n\u001b[0;32m    334\u001b[0m \u001b[43m     \u001b[49m\u001b[43mgrad_scale\u001b[49m\u001b[38;5;241;43m=\u001b[39;49m\u001b[43mgrad_scale\u001b[49m\u001b[43m,\u001b[49m\n\u001b[0;32m    335\u001b[0m \u001b[43m     \u001b[49m\u001b[43mfound_inf\u001b[49m\u001b[38;5;241;43m=\u001b[39;49m\u001b[43mfound_inf\u001b[49m\u001b[43m)\u001b[49m\n",
            "File \u001b[1;32mc:\\Users\\kurt-\\miniconda3\\envs\\ML\\Lib\\site-packages\\torch\\optim\\adam.py:441\u001b[0m, in \u001b[0;36m_single_tensor_adam\u001b[1;34m(params, grads, exp_avgs, exp_avg_sqs, max_exp_avg_sqs, state_steps, grad_scale, found_inf, amsgrad, has_complex, beta1, beta2, lr, weight_decay, eps, maximize, capturable, differentiable)\u001b[0m\n\u001b[0;32m    439\u001b[0m         denom \u001b[38;5;241m=\u001b[39m (max_exp_avg_sqs[i]\u001b[38;5;241m.\u001b[39msqrt() \u001b[38;5;241m/\u001b[39m bias_correction2_sqrt)\u001b[38;5;241m.\u001b[39madd_(eps)\n\u001b[0;32m    440\u001b[0m     \u001b[38;5;28;01melse\u001b[39;00m:\n\u001b[1;32m--> 441\u001b[0m         denom \u001b[38;5;241m=\u001b[39m (\u001b[43mexp_avg_sq\u001b[49m\u001b[38;5;241;43m.\u001b[39;49m\u001b[43msqrt\u001b[49m\u001b[43m(\u001b[49m\u001b[43m)\u001b[49m \u001b[38;5;241m/\u001b[39m bias_correction2_sqrt)\u001b[38;5;241m.\u001b[39madd_(eps)\n\u001b[0;32m    443\u001b[0m     param\u001b[38;5;241m.\u001b[39maddcdiv_(exp_avg, denom, value\u001b[38;5;241m=\u001b[39m\u001b[38;5;241m-\u001b[39mstep_size)\n\u001b[0;32m    445\u001b[0m \u001b[38;5;66;03m# Lastly, switch back to complex view\u001b[39;00m\n",
            "\u001b[1;31mKeyboardInterrupt\u001b[0m: "
          ]
        }
      ],
      "source": [
        "# Train\n",
        "model, df_train = train(train_data, val_data, stats_list, args, device)"
      ]
    },
    {
      "cell_type": "code",
      "execution_count": 270,
      "metadata": {
        "colab": {
          "base_uri": "https://localhost:8080/",
          "height": 472
        },
        "id": "Tnym8ll6CKbG",
        "outputId": "ad773510-88c1-4bff-83c9-71643a7e5107"
      },
      "outputs": [
        {
          "data": {
            "image/png": "[encoded data removed]",
            "text/plain": [
              "<Figure size 640x480 with 1 Axes>"
            ]
          },
          "metadata": {},
          "output_type": "display_data"
        }
      ],
      "source": [
        "# Plot losses using seaborn\n",
        "import seaborn as sns\n",
        "\n",
        "sns.lineplot(x=\"Epoch\", y=\"Loss\", data=df_train, label=\"Training Loss\")\n",
        "sns.lineplot(x=\"Epoch\", y=\"Val_Loss\", data=df_train, label=\"Validation Loss\")\n",
        "\n",
        "# Y label in log scale\n",
        "plt.yscale('log')\n",
        "\n",
        "plt.xlabel(\"Epoch\")\n",
        "plt.ylabel(\"Loss\")\n",
        "plt.title(\"Training Loss\")\n",
        "plt.legend()\n",
        "plt.show()"
      ]
    },
    {
      "cell_type": "code",
      "execution_count": 302,
      "metadata": {
        "colab": {
          "base_uri": "https://localhost:8080/"
        },
        "id": "55JyV2SyEfax",
        "outputId": "d131f7bb-3e10-4be7-adf9-befbc6a1de11"
      },
      "outputs": [
        {
          "name": "stdout",
          "output_type": "stream",
          "text": [
            "Test Loss: 0.04126559910923243\n"
          ]
        }
      ],
      "source": [
        "# Test\n",
        "test_loss, results = test(test_data, stats_list, model, args)"
      ]
    },
    {
      "cell_type": "markdown",
      "metadata": {},
      "source": [
        "# Check output"
      ]
    },
    {
      "cell_type": "code",
      "execution_count": 303,
      "metadata": {},
      "outputs": [],
      "source": [
        "def predict(dataset, model, stats_list, device=\"cuda\"):\n",
        "    model.eval()\n",
        "\n",
        "    test_loader = DataLoader(dataset, batch_size=1, shuffle=False)\n",
        "    results = []\n",
        "\n",
        "    # Unpack the statistics and move them to the device\n",
        "    [mean_vec_x, std_vec_x, mean_vec_edge, std_vec_edge, mean_vec_y, std_vec_y] = stats_list\n",
        "    (mean_vec_x, std_vec_x, mean_vec_edge, std_vec_edge, mean_vec_y, std_vec_y) = (\n",
        "        mean_vec_x.to(device), std_vec_x.to(device), mean_vec_edge.to(device),\n",
        "        std_vec_edge.to(device), mean_vec_y.to(device), std_vec_y.to(device)\n",
        "    )\n",
        "\n",
        "    with torch.no_grad():\n",
        "        for batch in test_loader:\n",
        "            batch = batch.to(device)\n",
        "            pred = model(batch, mean_vec_x, std_vec_x, mean_vec_edge, std_vec_edge).to(device)\n",
        "            results.append(pred * std_vec_y + mean_vec_y + batch.x * std_vec_x + mean_vec_x)\n",
        "\n",
        "    return results"
      ]
    },
    {
      "cell_type": "code",
      "execution_count": 304,
      "metadata": {},
      "outputs": [],
      "source": [
        "results = predict(dataset, model, stats_list, device)\n",
        "\n",
        "# Convert to numpy\n",
        "results = [result.cpu().numpy() for result in results]\n",
        "results = np.array(results).squeeze()\n",
        "\n",
        "# Extract from ground truth \n",
        "y = [data.y.cpu().numpy() for data in dataset]\n",
        "y = np.array(y).squeeze()"
      ]
    },
    {
      "cell_type": "code",
      "execution_count": 305,
      "metadata": {},
      "outputs": [
        {
          "name": "stdout",
          "output_type": "stream",
          "text": [
            "(15000, 2) (15000, 2)\n"
          ]
        }
      ],
      "source": [
        "# Select only first and final row\n",
        "y = y[:,[0,-1]]\n",
        "results = results[:,[0,-1]]\n",
        "\n",
        "print(y.shape, results.shape)"
      ]
    },
    {
      "cell_type": "code",
      "execution_count": 306,
      "metadata": {},
      "outputs": [
        {
          "data": {
            "image/png": "[encoded data removed]",
            "text/plain": [
              "<Figure size 640x480 with 1 Axes>"
            ]
          },
          "metadata": {},
          "output_type": "display_data"
        },
        {
          "data": {
            "image/png": "[encoded data removed]",
            "text/plain": [
              "<Figure size 640x480 with 1 Axes>"
            ]
          },
          "metadata": {},
          "output_type": "display_data"
        }
      ],
      "source": [
        "import matplotlib.pyplot as plt\n",
        "\n",
        "# Plot the results\n",
        "name=[\"Bottom\", \"Top\"]\n",
        "\n",
        "for i in range(y.shape[1]):\n",
        "    plt.plot(y[:,i], label=\"Real\")\n",
        "    plt.plot(results[:,i], label=\"Predicted\", linestyle=\"--\")\n",
        "    plt.title(\"Acceleration at \" + name[i])\n",
        "    plt.legend()\n",
        "    plt.show()"
      ]
    },
    {
      "cell_type": "code",
      "execution_count": 174,
      "metadata": {
        "id": "2G_8BvUJZkuF"
      },
      "outputs": [],
      "source": [
        "# Save model\n",
        "model_name = 'model_nl'+str(args.num_layers)+'_bs'+str(args.batch_size) + \\\n",
        "               '_hd'+str(args.hidden_dim)+'_ep'+str(args.epochs)+'_wd'+str(args.weight_decay) + \\\n",
        "               '_lr'+str(args.lr)+'_shuff_'+str(args.shuffle)+'_tr'+str(args.train_size)+'_te'+str(args.test_size)\n",
        "\n",
        "# Save the model\n",
        "# Create the folder\n",
        "os.makedirs(args.checkpoint_dir, exist_ok=True)\n",
        "torch.save(model.state_dict(), os.path.join(args.checkpoint_dir, model_name + \".pt\"))"
      ]
    },
    {
      "cell_type": "code",
      "execution_count": null,
      "metadata": {
        "id": "4RTcYpPWaAiM"
      },
      "outputs": [],
      "source": []
    }
  ],
  "metadata": {
    "accelerator": "GPU",
    "colab": {
      "gpuType": "L4",
      "provenance": []
    },
    "kernelspec": {
      "display_name": "Python 3",
      "name": "python3"
    },
    "language_info": {
      "codemirror_mode": {
        "name": "ipython",
        "version": 3
      },
      "file_extension": ".py",
      "mimetype": "text/x-python",
      "name": "python",
      "nbconvert_exporter": "python",
      "pygments_lexer": "ipython3",
      "version": "3.12.4"
    }
  },
  "nbformat": 4,
  "nbformat_minor": 0
}
