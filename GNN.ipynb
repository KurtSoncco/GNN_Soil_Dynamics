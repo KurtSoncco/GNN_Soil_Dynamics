{
 "cells": [
  {
   "cell_type": "code",
   "execution_count": 5,
   "metadata": {},
   "outputs": [],
   "source": [
    "import torch\n",
    "from torch_geometric.data import Data\n",
    "from torch_geometric.loader import DataLoader\n",
    "from torch_geometric.nn import radius_graph\n",
    "import enum\n",
    "import torch\n",
    "import torch.nn as nn\n",
    "import torch.nn.functional as F\n",
    "from torch_scatter import scatter_add\n",
    "from torch_geometric.utils import to_networkx\n",
    "import networkx as nx\n",
    "import matplotlib.pyplot as plt\n",
    "import numpy as np\n",
    "import os"
   ]
  },
  {
   "cell_type": "code",
   "execution_count": 6,
   "metadata": {},
   "outputs": [],
   "source": [
    "def decompose_graph(graph):\n",
    "    # graph: torch_geometric.data.data.Data\n",
    "    # TODO: make it more robust\n",
    "    x, edge_index, edge_attr, global_attr = None, None, None, None\n",
    "    for key in graph.keys():\n",
    "        if key==\"x\":\n",
    "            x = graph.x\n",
    "        elif key==\"edge_index\":\n",
    "            edge_index = graph.edge_index\n",
    "        elif key==\"edge_attr\":\n",
    "            edge_attr = graph.edge_attr\n",
    "        elif key==\"global_attr\":\n",
    "            global_attr = graph.global_attr\n",
    "        else:\n",
    "            pass\n",
    "    return (x, edge_index, edge_attr, global_attr)\n",
    "\n",
    "def copy_geometric_data(graph):\n",
    "    \"\"\"return a copy of torch_geometric.data.data.Data\n",
    "    This function should be carefully used based on\n",
    "    which keys in a given graph.\n",
    "    \"\"\"\n",
    "    node_attr, edge_index, edge_attr, global_attr = decompose_graph(graph)\n",
    "\n",
    "    ret = Data(x=node_attr, edge_index=edge_index, edge_attr=edge_attr)\n",
    "    ret.global_attr = global_attr\n",
    "\n",
    "    return ret"
   ]
  },
  {
   "cell_type": "code",
   "execution_count": 7,
   "metadata": {},
   "outputs": [],
   "source": [
    "def build_mlp(in_size, hidden_size, out_size, lay_norm=True):\n",
    "\n",
    "    module = nn.Sequential(nn.Linear(in_size, hidden_size), nn.ReLU(), nn.Linear(hidden_size, hidden_size), nn.ReLU(), nn.Linear(hidden_size, hidden_size), nn.ReLU(), nn.Linear(hidden_size, out_size))\n",
    "    if lay_norm: return nn.Sequential(module,  nn.LayerNorm(normalized_shape=out_size))\n",
    "    return module"
   ]
  },
  {
   "cell_type": "markdown",
   "metadata": {},
   "source": [
    "# Blocks"
   ]
  },
  {
   "cell_type": "code",
   "execution_count": 8,
   "metadata": {},
   "outputs": [],
   "source": [
    "class EdgeBlock(nn.Module):\n",
    "    \"\"\" EdgeBlock, a block that updates edge attributes\n",
    "\n",
    "    Args:\n",
    "        custom_func: nn.Module, a custom function that updates edge attributes\n",
    "    \"\"\"\n",
    "\n",
    "    def __init__(self, custom_func=None):\n",
    "        super(EdgeBlock, self).__init__()\n",
    "        self.net = custom_func\n",
    "\n",
    "    def forward(self, graph):\n",
    "        node_attr, edge_index, edge_attr, _ = decompose_graph(graph)\n",
    "        senders_idx, receivers_idx = edge_index\n",
    "        edges_to_collect = []\n",
    "\n",
    "        senders_attr = node_attr[senders_idx]\n",
    "        receivers_attr = node_attr[receivers_idx]\n",
    "\n",
    "        edges_to_collect.append(senders_attr)\n",
    "        edges_to_collect.append(receivers_attr)\n",
    "        edges_to_collect.append(edge_attr)\n",
    "\n",
    "        collected_edges = torch.cat(edges_to_collect, dim=1)\n",
    "\n",
    "        edge_attr_ = self.net(collected_edges)   # Update\n",
    "\n",
    "        return Data(x=node_attr, edge_attr=edge_attr_, edge_index=edge_index)\n",
    "\n",
    "class NodeBlock(nn.Module):\n",
    "    \"\"\" NodeBlock, a block that updates node attributes\n",
    "\n",
    "    Args:\n",
    "        custom_func: nn.Module, a custom function that updates node attributes\n",
    "    \"\"\"\n",
    "\n",
    "    def __init__(self, custom_func=None):\n",
    "        super(NodeBlock, self).__init__()\n",
    "        self.net = custom_func\n",
    "\n",
    "    def forward(self, graph):\n",
    "        # Decompose graph\n",
    "        edge_attr = graph.edge_attr\n",
    "        nodes_to_collect = []\n",
    "\n",
    "        _, receivers_idx = graph.edge_index\n",
    "        num_nodes = graph.num_nodes\n",
    "        agg_received_edges = scatter_add(edge_attr, receivers_idx, dim=0, dim_size=num_nodes)\n",
    "\n",
    "        nodes_to_collect.append(graph.x)\n",
    "        nodes_to_collect.append(agg_received_edges)\n",
    "        collected_nodes = torch.cat(nodes_to_collect, dim=-1)\n",
    "        x = self.net(collected_nodes)\n",
    "        return Data(x=x, edge_attr=edge_attr, edge_index=graph.edge_index)"
   ]
  },
  {
   "cell_type": "code",
   "execution_count": null,
   "metadata": {},
   "outputs": [],
   "source": []
  }
 ],
 "metadata": {
  "kernelspec": {
   "display_name": "ML",
   "language": "python",
   "name": "python3"
  },
  "language_info": {
   "codemirror_mode": {
    "name": "ipython",
    "version": 3
   },
   "file_extension": ".py",
   "mimetype": "text/x-python",
   "name": "python",
   "nbconvert_exporter": "python",
   "pygments_lexer": "ipython3",
   "version": "3.12.4"
  }
 },
 "nbformat": 4,
 "nbformat_minor": 2
}
