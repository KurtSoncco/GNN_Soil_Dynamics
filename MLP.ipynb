{
 "cells": [
  {
   "cell_type": "markdown",
   "metadata": {},
   "source": [
    "# MLP idea"
   ]
  },
  {
   "cell_type": "code",
   "execution_count": 1,
   "metadata": {},
   "outputs": [
    {
     "name": "stdout",
     "output_type": "stream",
     "text": [
      "PyTorch has version 2.3.1+cu121 with cuda 12.1\n"
     ]
    }
   ],
   "source": [
    "import os\n",
    "import torch\n",
    "import math\n",
    "print(f\"PyTorch has version {torch.__version__} with cuda {torch.version.cuda}\")"
   ]
  },
  {
   "cell_type": "code",
   "execution_count": 149,
   "metadata": {},
   "outputs": [],
   "source": [
    "from torch import nn\n",
    "from torch.nn import functional as F\n",
    "from torch.utils.data import DataLoader\n",
    "from torch.utils.data import Dataset\n",
    "import pandas as pd\n",
    "import numpy as np\n",
    "import matplotlib.pyplot as plt"
   ]
  },
  {
   "cell_type": "markdown",
   "metadata": {},
   "source": [
    "# Input"
   ]
  },
  {
   "cell_type": "code",
   "execution_count": 150,
   "metadata": {},
   "outputs": [],
   "source": [
    "# Define material properties\n",
    "Vs_values = np.array([140,250,1000,1500,2000,100,500,800,950,2500], dtype=float)\n",
    "f_values = np.array([1, 1.5, 1.75, 2.25, 3], dtype=float)\n",
    "t_values = np.linspace(0.5, 2.5, 10)\n",
    "\n",
    "# Create a list of all possible combinations of Vs, f, and t\n",
    "Vs_val, f_val, t_val = np.meshgrid(Vs_values, f_values, t_values, indexing='ij')\n",
    "Vs_val = Vs_val.flatten()\n",
    "f_val = f_val.flatten()\n",
    "t_val = t_val.flatten()\n",
    "\n",
    "# Create array with the combinations\n",
    "data = np.array([Vs_val, f_val, t_val]).T\n",
    "\n",
    "# Read all csv files from folder\n",
    "folder_path = r\"FLAC\\FLAC2D - Case 1a\\data\"\n",
    "files = os.listdir(folder_path)\n",
    "files = [f for f in files if f.endswith('.csv')]"
   ]
  },
  {
   "cell_type": "code",
   "execution_count": 151,
   "metadata": {},
   "outputs": [],
   "source": [
    "# Create DataSet class\n",
    "class MyDataset(Dataset):\n",
    "    def __init__(self, data, folder_path):\n",
    "        self.data = data\n",
    "        self.folder_path = folder_path\n",
    "\n",
    "    def __len__(self):\n",
    "        return len(self.data)\n",
    "\n",
    "    def __getitem__(self, idx):\n",
    "        # Read the file\n",
    "        file = files[idx]\n",
    "        df = pd.read_csv(os.path.join(self.folder_path, file))\n",
    "        # Get the data\n",
    "        target = df.values[:, 1:]\n",
    "        # Get the target\n",
    "        input_2 = self.data[idx]\n",
    "\n",
    "        # Get the additional input\n",
    "        freq1 = input_2[1]\n",
    "        t01 = input_2[2]\n",
    "        t = df.values[:, 0]\n",
    "        wave = -2*freq1**2*np.pi**2*np.exp(-freq1**2*np.pi**2*(t01 - t)**2)*(t01 - t)*(2*freq1**2*np.pi**2*t01**2 - 4*freq1**2*np.pi**2*t01*t + 2*freq1**2*np.pi**2*t**2 - 3)\n",
    "        input_1 = wave\n",
    "    \n",
    "        # Get final input\n",
    "        input_2 = input_2[0] * np.ones((30,))\n",
    "\n",
    "        # Convert to tensor\n",
    "        input_1 = torch.tensor(input_1, dtype=torch.float32)\n",
    "        input_2 = torch.tensor(input_2, dtype=torch.float32)\n",
    "        target = torch.tensor(target, dtype=torch.float32)\n",
    "        \n",
    "        return input_1, input_2, target"
   ]
  },
  {
   "cell_type": "code",
   "execution_count": 208,
   "metadata": {},
   "outputs": [
    {
     "name": "stdout",
     "output_type": "stream",
     "text": [
      "450 25 25\n",
      "Training set: torch.Size([10, 1500]) torch.Size([10, 30]) torch.Size([10, 1500, 2])\n",
      "Validation set: torch.Size([10, 1500]) torch.Size([10, 30]) torch.Size([10, 1500, 2])\n",
      "Testing set: torch.Size([10, 1500]) torch.Size([10, 30]) torch.Size([10, 1500, 2])\n"
     ]
    }
   ],
   "source": [
    "import torch\n",
    "from torch.utils.data import DataLoader, random_split\n",
    "\n",
    "# Assuming MyDataset is already defined and data is loaded\n",
    "dataset = MyDataset(data, folder_path)\n",
    "\n",
    "# Define the sizes for training, validation, and testing sets\n",
    "train_size = int(0.9 * len(dataset))\n",
    "val_size = int(0.05 * len(dataset))\n",
    "test_size = len(dataset) - train_size - val_size\n",
    "print(train_size, val_size, test_size)\n",
    "\n",
    "# Split the dataset\n",
    "train_dataset, val_dataset, test_dataset = random_split(dataset, [train_size, val_size, test_size])\n",
    "\n",
    "# Create DataLoaders for each set\n",
    "train_loader = DataLoader(train_dataset, batch_size=10, shuffle=True)\n",
    "val_loader = DataLoader(val_dataset, batch_size=10, shuffle=False)\n",
    "test_loader = DataLoader(test_dataset, batch_size=10, shuffle=False)\n",
    "\n",
    "# Check the first batch of the training set\n",
    "for i, (input_1, input_2, target) in enumerate(train_loader):\n",
    "    print(\"Training set:\", input_1.shape, input_2.shape, target.shape)\n",
    "    break\n",
    "\n",
    "# Check the first batch of the validation set\n",
    "for i, (input_1, input_2, target) in enumerate(val_loader):\n",
    "    print(\"Validation set:\", input_1.shape, input_2.shape, target.shape)\n",
    "    break\n",
    "\n",
    "# Check the first batch of the testing set\n",
    "for i, (input_1, input_2, target) in enumerate(test_loader):\n",
    "    print(\"Testing set:\", input_1.shape, input_2.shape, target.shape)\n",
    "    break"
   ]
  },
  {
   "cell_type": "code",
   "execution_count": 220,
   "metadata": {},
   "outputs": [],
   "source": [
    "# Create Model\n",
    "class MLP(nn.Module):\n",
    "    def __init__(self, input_dim, hidden_dim, hidden_layers, output_dim, activation=nn.ReLU, batch_norm=False):\n",
    "        super(MLP, self).__init__()\n",
    "        self.hidden_layers = nn.ModuleList()\n",
    "        self.batch_norm = batch_norm\n",
    "        self.activation = activation\n",
    "\n",
    "        # Input layer\n",
    "        self.hidden_layers.append(nn.Linear(input_dim, hidden_dim))\n",
    "        if self.batch_norm:\n",
    "            self.hidden_layers.append(nn.BatchNorm1d(hidden_dim))\n",
    "\n",
    "        # Hidden layers\n",
    "        for _ in range(hidden_layers - 1):\n",
    "            self.hidden_layers.append(nn.Linear(hidden_dim, hidden_dim))\n",
    "            if self.batch_norm:\n",
    "                self.hidden_layers.append(nn.BatchNorm1d(hidden_dim))\n",
    "\n",
    "        # Output layer\n",
    "        self.out = nn.Linear(hidden_dim, output_dim)\n",
    "\n",
    "\n",
    "    def forward(self, x):\n",
    "        for layer in self.hidden_layers:\n",
    "            if isinstance(layer, nn.Linear):\n",
    "                x = layer(x)\n",
    "                x = self.activation()(x)\n",
    "            elif isinstance(layer, nn.BatchNorm1d):\n",
    "                x = layer(x)\n",
    "        x = self.out(x)\n",
    "        return x"
   ]
  },
  {
   "cell_type": "code",
   "execution_count": 221,
   "metadata": {},
   "outputs": [
    {
     "data": {
      "text/plain": [
       "torch.Size([10, 30])"
      ]
     },
     "execution_count": 221,
     "metadata": {},
     "output_type": "execute_result"
    }
   ],
   "source": [
    "input_2.shape"
   ]
  },
  {
   "cell_type": "code",
   "execution_count": 223,
   "metadata": {},
   "outputs": [],
   "source": [
    "class Model(nn.Module):\n",
    "    def __init__(self, input_Vs, input_acc, output_dim, output_channels=2, batch_norm=False):\n",
    "        super(Model, self).__init__()\n",
    "        self.mlp1 = MLP(input_Vs, 100, 3, 30, batch_norm=batch_norm)\n",
    "        self.mlp2 = MLP(input_acc, 100, 3, 30, batch_norm=batch_norm)\n",
    "        self.mlp3 = MLP(60, 100, 4, output_dim*output_channels, batch_norm=batch_norm)\n",
    "        \n",
    "        self.output_dim = output_dim\n",
    "        self.output_channels = output_channels\n",
    "\n",
    "    def forward(self, acc, Vs):\n",
    "        x1 = self.mlp1(Vs)\n",
    "        x2 = self.mlp2(acc)\n",
    "        x = torch.cat((x1, x2), dim=1)\n",
    "        x = self.mlp3(x)\n",
    "        x = x.view(-1, self.output_dim, self.output_channels)\n",
    "        return x"
   ]
  },
  {
   "cell_type": "code",
   "execution_count": 224,
   "metadata": {},
   "outputs": [
    {
     "name": "stdout",
     "output_type": "stream",
     "text": [
      "torch.Size([10, 1500]) torch.Size([10, 30]) torch.Size([10, 1500, 2])\n",
      "tensor(5.0603, grad_fn=<MseLossBackward0>)\n"
     ]
    }
   ],
   "source": [
    "# Check model\n",
    "\n",
    "for i, (input_1, input_2, target) in enumerate(train_loader):\n",
    "    break\n",
    "\n",
    "print(input_1.shape, input_2.shape, target.shape)\n",
    "\n",
    "model = Model(input_Vs=30, input_acc=1500, output_dim=1500)\n",
    "pred = model(Vs=input_2, acc=input_1)\n",
    "assert pred.shape == target.shape, f\"Expected shape {target.shape} but got {pred.shape}\"\n",
    "\n",
    "# Define the loss function\n",
    "loss_fn = nn.MSELoss()\n",
    "loss = loss_fn(pred, target)\n",
    "print(loss)"
   ]
  },
  {
   "cell_type": "code",
   "execution_count": 225,
   "metadata": {},
   "outputs": [],
   "source": [
    "from tqdm import trange\n",
    "import torch\n",
    "\n",
    "def train(model, loss_function, optimizer, scheduler, train_dataloader, val_dataloader, epochs=100, device=\"cpu\"):\n",
    "    model.to(device)\n",
    "    train_losses = []\n",
    "    val_losses = []\n",
    "    scaler = torch.cuda.amp.GradScaler()  # For mixed precision training\n",
    "\n",
    "    for epoch in trange(epochs, desc=\"Training\", unit=\"Epoch\"):\n",
    "        model.train()\n",
    "        running_train_loss = 0.0\n",
    "        for X1, X2, y in train_dataloader:\n",
    "            X1, X2, y = X1.to(device, non_blocking=True), X2.to(device, non_blocking=True), y.to(device, non_blocking=True)\n",
    "            optimizer.zero_grad()\n",
    "            with torch.cuda.amp.autocast():  # Mixed precision context\n",
    "                y_pred = model(X1, X2)\n",
    "                single_loss = loss_function(y_pred, y)\n",
    "            scaler.scale(single_loss).backward()\n",
    "            scaler.step(optimizer)\n",
    "            scaler.update()\n",
    "            running_train_loss += single_loss.item()\n",
    "        \n",
    "        scheduler.step()\n",
    "        avg_train_loss = running_train_loss / len(train_dataloader)\n",
    "        train_losses.append(avg_train_loss)\n",
    "\n",
    "        # Validation\n",
    "        model.eval()\n",
    "        running_val_loss = 0.0\n",
    "        for X1, X2, y in val_dataloader:\n",
    "            X1, X2, y = X1.to(device, non_blocking=True), X2.to(device, non_blocking=True), y.to(device, non_blocking=True)\n",
    "            with torch.no_grad():\n",
    "                with torch.cuda.amp.autocast():  # Mixed precision context\n",
    "                    y_pred = model(X1, X2)\n",
    "                single_loss = loss_function(y_pred, y)\n",
    "                running_val_loss += single_loss.item()\n",
    "        \n",
    "        avg_val_loss = running_val_loss / len(val_dataloader)\n",
    "        val_losses.append(avg_val_loss)\n",
    "\n",
    "        if epoch % 10 == 0:\n",
    "            print(f'Epoch: {epoch:3} Train Loss: {avg_train_loss:10.8f} Val Loss: {avg_val_loss:10.8f}')\n",
    "\n",
    "    return train_losses, val_losses, model"
   ]
  },
  {
   "cell_type": "code",
   "execution_count": 226,
   "metadata": {},
   "outputs": [],
   "source": [
    "# Define test function\n",
    "def test(model, dataloader, device=\"cpu\", loss_function=nn.MSELoss()):\n",
    "    model.to(device)\n",
    "    model.eval()\n",
    "    predictions = []\n",
    "    total_loss = 0\n",
    "    with torch.no_grad():\n",
    "        for X1, X2, y in dataloader:\n",
    "            X1, X2, y = X1.to(device), X2.to(device), y.to(device)\n",
    "            y_pred = model(X1, X2)\n",
    "            predictions.append(y_pred)\n",
    "            # Loss\n",
    "            loss = loss_function(y_pred, y)\n",
    "            total_loss += loss.item()\n",
    "\n",
    "    avg_loss = total_loss / len(dataloader)\n",
    "    return predictions, avg_loss"
   ]
  },
  {
   "cell_type": "code",
   "execution_count": 227,
   "metadata": {},
   "outputs": [],
   "source": [
    "model = Model(input_Vs=30, input_acc=1500, output_dim=1500, batch_norm=True)\n",
    "loss_function = nn.MSELoss()\n",
    "optimizer = torch.optim.Adam(model.parameters(), lr=0.001)\n",
    "scheduler = torch.optim.lr_scheduler.StepLR(optimizer, step_size=100, gamma=0.1)\n",
    "\n"
   ]
  },
  {
   "cell_type": "code",
   "execution_count": 228,
   "metadata": {},
   "outputs": [
    {
     "name": "stdout",
     "output_type": "stream",
     "text": [
      "X1 shape: torch.Size([10, 1500]), X2 shape: torch.Size([10, 30]), y shape: torch.Size([10, 1500, 2])\n",
      "Prediction shape: torch.Size([10, 1500, 2]), y shape: torch.Size([10, 1500, 2])\n",
      "Loss: 5.16208028793335\n"
     ]
    }
   ],
   "source": [
    "# Check size of input\n",
    "for i, (X1, X2, y) in enumerate(train_loader):\n",
    "    print(f\"X1 shape: {X1.shape}, X2 shape: {X2.shape}, y shape: {y.shape}\")\n",
    "    pred = model(X1, X2)\n",
    "    print(f\"Prediction shape: {pred.shape}, y shape: {y.shape}\")\n",
    "    loss = loss_function(pred, y)\n",
    "    print(f\"Loss: {loss}\")\n",
    "    break"
   ]
  },
  {
   "cell_type": "code",
   "execution_count": 229,
   "metadata": {},
   "outputs": [
    {
     "name": "stdout",
     "output_type": "stream",
     "text": [
      "Device: cuda\n"
     ]
    }
   ],
   "source": [
    "# Check device\n",
    "device = \"cuda\" if torch.cuda.is_available() else \"cpu\"\n",
    "print(f\"Device: {device}\")"
   ]
  },
  {
   "cell_type": "code",
   "execution_count": 230,
   "metadata": {},
   "outputs": [
    {
     "name": "stderr",
     "output_type": "stream",
     "text": [
      "Training:   0%|          | 1/500 [00:11<1:39:43, 11.99s/Epoch]"
     ]
    },
    {
     "name": "stdout",
     "output_type": "stream",
     "text": [
      "Epoch:   0 Train Loss: 5.02760925 Val Loss: 4.49087032\n"
     ]
    },
    {
     "name": "stderr",
     "output_type": "stream",
     "text": [
      "Training:   2%|▏         | 11/500 [00:39<27:41,  3.40s/Epoch] "
     ]
    },
    {
     "name": "stdout",
     "output_type": "stream",
     "text": [
      "Epoch:  10 Train Loss: 4.22755181 Val Loss: 3.91842063\n"
     ]
    },
    {
     "name": "stderr",
     "output_type": "stream",
     "text": [
      "Training:   4%|▍         | 21/500 [01:12<25:29,  3.19s/Epoch]"
     ]
    },
    {
     "name": "stdout",
     "output_type": "stream",
     "text": [
      "Epoch:  20 Train Loss: 4.09258074 Val Loss: 3.74673891\n"
     ]
    },
    {
     "name": "stderr",
     "output_type": "stream",
     "text": [
      "Training:   6%|▌         | 31/500 [01:43<24:13,  3.10s/Epoch]"
     ]
    },
    {
     "name": "stdout",
     "output_type": "stream",
     "text": [
      "Epoch:  30 Train Loss: 3.99597676 Val Loss: 3.79613090\n"
     ]
    },
    {
     "name": "stderr",
     "output_type": "stream",
     "text": [
      "Training:   8%|▊         | 41/500 [02:13<22:00,  2.88s/Epoch]"
     ]
    },
    {
     "name": "stdout",
     "output_type": "stream",
     "text": [
      "Epoch:  40 Train Loss: 3.88268665 Val Loss: 3.67046301\n"
     ]
    },
    {
     "name": "stderr",
     "output_type": "stream",
     "text": [
      "Training:  10%|█         | 51/500 [02:39<23:14,  3.10s/Epoch]"
     ]
    },
    {
     "name": "stdout",
     "output_type": "stream",
     "text": [
      "Epoch:  50 Train Loss: 3.83496156 Val Loss: 3.59856661\n"
     ]
    },
    {
     "name": "stderr",
     "output_type": "stream",
     "text": [
      "Training:  12%|█▏        | 61/500 [03:11<23:14,  3.18s/Epoch]"
     ]
    },
    {
     "name": "stdout",
     "output_type": "stream",
     "text": [
      "Epoch:  60 Train Loss: 3.80457320 Val Loss: 3.55895185\n"
     ]
    },
    {
     "name": "stderr",
     "output_type": "stream",
     "text": [
      "Training:  14%|█▍        | 71/500 [03:43<23:03,  3.23s/Epoch]"
     ]
    },
    {
     "name": "stdout",
     "output_type": "stream",
     "text": [
      "Epoch:  70 Train Loss: 3.81127284 Val Loss: 3.61633897\n"
     ]
    },
    {
     "name": "stderr",
     "output_type": "stream",
     "text": [
      "Training:  16%|█▌        | 81/500 [04:18<24:04,  3.45s/Epoch]"
     ]
    },
    {
     "name": "stdout",
     "output_type": "stream",
     "text": [
      "Epoch:  80 Train Loss: 3.64355316 Val Loss: 3.51180577\n"
     ]
    },
    {
     "name": "stderr",
     "output_type": "stream",
     "text": [
      "Training:  18%|█▊        | 91/500 [04:36<11:20,  1.66s/Epoch]"
     ]
    },
    {
     "name": "stdout",
     "output_type": "stream",
     "text": [
      "Epoch:  90 Train Loss: 3.65614312 Val Loss: 3.43374594\n"
     ]
    },
    {
     "name": "stderr",
     "output_type": "stream",
     "text": [
      "Training:  20%|██        | 101/500 [04:53<12:02,  1.81s/Epoch]"
     ]
    },
    {
     "name": "stdout",
     "output_type": "stream",
     "text": [
      "Epoch: 100 Train Loss: 3.59159634 Val Loss: 3.28955420\n"
     ]
    },
    {
     "name": "stderr",
     "output_type": "stream",
     "text": [
      "Training:  22%|██▏       | 111/500 [05:12<12:15,  1.89s/Epoch]"
     ]
    },
    {
     "name": "stdout",
     "output_type": "stream",
     "text": [
      "Epoch: 110 Train Loss: 3.35233156 Val Loss: 3.30768681\n"
     ]
    },
    {
     "name": "stderr",
     "output_type": "stream",
     "text": [
      "Training:  24%|██▍       | 121/500 [05:29<12:39,  2.00s/Epoch]"
     ]
    },
    {
     "name": "stdout",
     "output_type": "stream",
     "text": [
      "Epoch: 120 Train Loss: 3.36352281 Val Loss: 3.28603649\n"
     ]
    },
    {
     "name": "stderr",
     "output_type": "stream",
     "text": [
      "Training:  26%|██▌       | 131/500 [06:00<19:20,  3.15s/Epoch]"
     ]
    },
    {
     "name": "stdout",
     "output_type": "stream",
     "text": [
      "Epoch: 130 Train Loss: 3.32030657 Val Loss: 3.28860903\n"
     ]
    },
    {
     "name": "stderr",
     "output_type": "stream",
     "text": [
      "Training:  28%|██▊       | 141/500 [06:24<11:37,  1.94s/Epoch]"
     ]
    },
    {
     "name": "stdout",
     "output_type": "stream",
     "text": [
      "Epoch: 140 Train Loss: 3.38362032 Val Loss: 3.19946559\n"
     ]
    },
    {
     "name": "stderr",
     "output_type": "stream",
     "text": [
      "Training:  30%|███       | 151/500 [06:39<08:36,  1.48s/Epoch]"
     ]
    },
    {
     "name": "stdout",
     "output_type": "stream",
     "text": [
      "Epoch: 150 Train Loss: 3.38511530 Val Loss: 3.26684848\n"
     ]
    },
    {
     "name": "stderr",
     "output_type": "stream",
     "text": [
      "Training:  32%|███▏      | 161/500 [06:54<08:18,  1.47s/Epoch]"
     ]
    },
    {
     "name": "stdout",
     "output_type": "stream",
     "text": [
      "Epoch: 160 Train Loss: 3.32053062 Val Loss: 3.25338229\n"
     ]
    },
    {
     "name": "stderr",
     "output_type": "stream",
     "text": [
      "Training:  34%|███▍      | 171/500 [07:13<13:03,  2.38s/Epoch]"
     ]
    },
    {
     "name": "stdout",
     "output_type": "stream",
     "text": [
      "Epoch: 170 Train Loss: 3.35243585 Val Loss: 3.20002333\n"
     ]
    },
    {
     "name": "stderr",
     "output_type": "stream",
     "text": [
      "Training:  36%|███▌      | 181/500 [07:45<16:46,  3.16s/Epoch]"
     ]
    },
    {
     "name": "stdout",
     "output_type": "stream",
     "text": [
      "Epoch: 180 Train Loss: 3.33039150 Val Loss: 3.23764292\n"
     ]
    },
    {
     "name": "stderr",
     "output_type": "stream",
     "text": [
      "Training:  38%|███▊      | 191/500 [08:16<16:00,  3.11s/Epoch]"
     ]
    },
    {
     "name": "stdout",
     "output_type": "stream",
     "text": [
      "Epoch: 190 Train Loss: 3.42355221 Val Loss: 3.20886207\n"
     ]
    },
    {
     "name": "stderr",
     "output_type": "stream",
     "text": [
      "Training:  40%|████      | 201/500 [08:48<16:17,  3.27s/Epoch]"
     ]
    },
    {
     "name": "stdout",
     "output_type": "stream",
     "text": [
      "Epoch: 200 Train Loss: 3.30763520 Val Loss: 3.09775798\n"
     ]
    },
    {
     "name": "stderr",
     "output_type": "stream",
     "text": [
      "Training:  42%|████▏     | 211/500 [09:08<09:17,  1.93s/Epoch]"
     ]
    },
    {
     "name": "stdout",
     "output_type": "stream",
     "text": [
      "Epoch: 210 Train Loss: 3.35842501 Val Loss: 3.14957579\n"
     ]
    },
    {
     "name": "stderr",
     "output_type": "stream",
     "text": [
      "Training:  44%|████▍     | 221/500 [09:26<07:40,  1.65s/Epoch]"
     ]
    },
    {
     "name": "stdout",
     "output_type": "stream",
     "text": [
      "Epoch: 220 Train Loss: 3.33457337 Val Loss: 3.25502610\n"
     ]
    },
    {
     "name": "stderr",
     "output_type": "stream",
     "text": [
      "Training:  46%|████▌     | 231/500 [09:41<06:34,  1.47s/Epoch]"
     ]
    },
    {
     "name": "stdout",
     "output_type": "stream",
     "text": [
      "Epoch: 230 Train Loss: 3.30261296 Val Loss: 3.15602382\n"
     ]
    },
    {
     "name": "stderr",
     "output_type": "stream",
     "text": [
      "Training:  48%|████▊     | 241/500 [09:57<07:26,  1.72s/Epoch]"
     ]
    },
    {
     "name": "stdout",
     "output_type": "stream",
     "text": [
      "Epoch: 240 Train Loss: 3.26779457 Val Loss: 3.26053715\n"
     ]
    },
    {
     "name": "stderr",
     "output_type": "stream",
     "text": [
      "Training:  50%|█████     | 251/500 [10:12<06:11,  1.49s/Epoch]"
     ]
    },
    {
     "name": "stdout",
     "output_type": "stream",
     "text": [
      "Epoch: 250 Train Loss: 3.27494291 Val Loss: 3.23249276\n"
     ]
    },
    {
     "name": "stderr",
     "output_type": "stream",
     "text": [
      "Training:  52%|█████▏    | 261/500 [10:28<06:16,  1.57s/Epoch]"
     ]
    },
    {
     "name": "stdout",
     "output_type": "stream",
     "text": [
      "Epoch: 260 Train Loss: 3.22962763 Val Loss: 3.18495107\n"
     ]
    },
    {
     "name": "stderr",
     "output_type": "stream",
     "text": [
      "Training:  54%|█████▍    | 271/500 [10:44<06:15,  1.64s/Epoch]"
     ]
    },
    {
     "name": "stdout",
     "output_type": "stream",
     "text": [
      "Epoch: 270 Train Loss: 3.32424227 Val Loss: 3.22640395\n"
     ]
    },
    {
     "name": "stderr",
     "output_type": "stream",
     "text": [
      "Training:  56%|█████▌    | 281/500 [10:59<05:42,  1.56s/Epoch]"
     ]
    },
    {
     "name": "stdout",
     "output_type": "stream",
     "text": [
      "Epoch: 280 Train Loss: 3.24259299 Val Loss: 3.23226062\n"
     ]
    },
    {
     "name": "stderr",
     "output_type": "stream",
     "text": [
      "Training:  58%|█████▊    | 291/500 [11:15<05:23,  1.55s/Epoch]"
     ]
    },
    {
     "name": "stdout",
     "output_type": "stream",
     "text": [
      "Epoch: 290 Train Loss: 3.27059081 Val Loss: 3.23727282\n"
     ]
    },
    {
     "name": "stderr",
     "output_type": "stream",
     "text": [
      "Training:  60%|██████    | 301/500 [11:43<10:10,  3.07s/Epoch]"
     ]
    },
    {
     "name": "stdout",
     "output_type": "stream",
     "text": [
      "Epoch: 300 Train Loss: 3.26806777 Val Loss: 3.19099021\n"
     ]
    },
    {
     "name": "stderr",
     "output_type": "stream",
     "text": [
      "Training:  62%|██████▏   | 311/500 [12:17<10:25,  3.31s/Epoch]"
     ]
    },
    {
     "name": "stdout",
     "output_type": "stream",
     "text": [
      "Epoch: 310 Train Loss: 3.22751622 Val Loss: 3.18608705\n"
     ]
    },
    {
     "name": "stderr",
     "output_type": "stream",
     "text": [
      "Training:  64%|██████▍   | 321/500 [12:50<09:38,  3.23s/Epoch]"
     ]
    },
    {
     "name": "stdout",
     "output_type": "stream",
     "text": [
      "Epoch: 320 Train Loss: 3.40718826 Val Loss: 3.07664847\n"
     ]
    },
    {
     "name": "stderr",
     "output_type": "stream",
     "text": [
      "Training:  66%|██████▌   | 331/500 [13:24<09:15,  3.29s/Epoch]"
     ]
    },
    {
     "name": "stdout",
     "output_type": "stream",
     "text": [
      "Epoch: 330 Train Loss: 3.32802458 Val Loss: 3.19922042\n"
     ]
    },
    {
     "name": "stderr",
     "output_type": "stream",
     "text": [
      "Training:  68%|██████▊   | 341/500 [13:56<08:30,  3.21s/Epoch]"
     ]
    },
    {
     "name": "stdout",
     "output_type": "stream",
     "text": [
      "Epoch: 340 Train Loss: 3.24564581 Val Loss: 3.39359784\n"
     ]
    },
    {
     "name": "stderr",
     "output_type": "stream",
     "text": [
      "Training:  70%|███████   | 351/500 [14:29<08:17,  3.34s/Epoch]"
     ]
    },
    {
     "name": "stdout",
     "output_type": "stream",
     "text": [
      "Epoch: 350 Train Loss: 3.24608434 Val Loss: 3.24348863\n"
     ]
    },
    {
     "name": "stderr",
     "output_type": "stream",
     "text": [
      "Training:  72%|███████▏  | 361/500 [15:03<07:51,  3.39s/Epoch]"
     ]
    },
    {
     "name": "stdout",
     "output_type": "stream",
     "text": [
      "Epoch: 360 Train Loss: 3.26304841 Val Loss: 3.19279401\n"
     ]
    },
    {
     "name": "stderr",
     "output_type": "stream",
     "text": [
      "Training:  74%|███████▍  | 371/500 [15:19<03:25,  1.60s/Epoch]"
     ]
    },
    {
     "name": "stdout",
     "output_type": "stream",
     "text": [
      "Epoch: 370 Train Loss: 3.28795550 Val Loss: 3.17656883\n"
     ]
    },
    {
     "name": "stderr",
     "output_type": "stream",
     "text": [
      "Training:  76%|███████▌  | 381/500 [15:35<03:02,  1.53s/Epoch]"
     ]
    },
    {
     "name": "stdout",
     "output_type": "stream",
     "text": [
      "Epoch: 380 Train Loss: 3.34439432 Val Loss: 3.21658731\n"
     ]
    },
    {
     "name": "stderr",
     "output_type": "stream",
     "text": [
      "Training:  78%|███████▊  | 391/500 [16:08<05:57,  3.28s/Epoch]"
     ]
    },
    {
     "name": "stdout",
     "output_type": "stream",
     "text": [
      "Epoch: 390 Train Loss: 3.29686442 Val Loss: 3.17071144\n"
     ]
    },
    {
     "name": "stderr",
     "output_type": "stream",
     "text": [
      "Training:  80%|████████  | 401/500 [16:40<05:17,  3.21s/Epoch]"
     ]
    },
    {
     "name": "stdout",
     "output_type": "stream",
     "text": [
      "Epoch: 400 Train Loss: 3.18157434 Val Loss: 3.13337644\n"
     ]
    },
    {
     "name": "stderr",
     "output_type": "stream",
     "text": [
      "Training:  82%|████████▏ | 411/500 [17:09<03:32,  2.39s/Epoch]"
     ]
    },
    {
     "name": "stdout",
     "output_type": "stream",
     "text": [
      "Epoch: 410 Train Loss: 3.33395101 Val Loss: 3.13268789\n"
     ]
    },
    {
     "name": "stderr",
     "output_type": "stream",
     "text": [
      "Training:  84%|████████▍ | 421/500 [17:26<02:10,  1.65s/Epoch]"
     ]
    },
    {
     "name": "stdout",
     "output_type": "stream",
     "text": [
      "Epoch: 420 Train Loss: 3.26333885 Val Loss: 3.16488441\n"
     ]
    },
    {
     "name": "stderr",
     "output_type": "stream",
     "text": [
      "Training:  86%|████████▌ | 431/500 [17:44<02:02,  1.78s/Epoch]"
     ]
    },
    {
     "name": "stdout",
     "output_type": "stream",
     "text": [
      "Epoch: 430 Train Loss: 3.24239780 Val Loss: 3.21846859\n"
     ]
    },
    {
     "name": "stderr",
     "output_type": "stream",
     "text": [
      "Training:  88%|████████▊ | 441/500 [18:02<01:47,  1.82s/Epoch]"
     ]
    },
    {
     "name": "stdout",
     "output_type": "stream",
     "text": [
      "Epoch: 440 Train Loss: 3.14947537 Val Loss: 3.16052111\n"
     ]
    },
    {
     "name": "stderr",
     "output_type": "stream",
     "text": [
      "Training:  90%|█████████ | 451/500 [18:31<02:46,  3.39s/Epoch]"
     ]
    },
    {
     "name": "stdout",
     "output_type": "stream",
     "text": [
      "Epoch: 450 Train Loss: 3.31359392 Val Loss: 3.15362215\n"
     ]
    },
    {
     "name": "stderr",
     "output_type": "stream",
     "text": [
      "Training:  92%|█████████▏| 461/500 [19:05<02:15,  3.48s/Epoch]"
     ]
    },
    {
     "name": "stdout",
     "output_type": "stream",
     "text": [
      "Epoch: 460 Train Loss: 3.23324400 Val Loss: 3.20495637\n"
     ]
    },
    {
     "name": "stderr",
     "output_type": "stream",
     "text": [
      "Training:  94%|█████████▍| 471/500 [19:38<01:35,  3.28s/Epoch]"
     ]
    },
    {
     "name": "stdout",
     "output_type": "stream",
     "text": [
      "Epoch: 470 Train Loss: 3.23212244 Val Loss: 3.23662408\n"
     ]
    },
    {
     "name": "stderr",
     "output_type": "stream",
     "text": [
      "Training:  96%|█████████▌| 481/500 [20:06<00:40,  2.15s/Epoch]"
     ]
    },
    {
     "name": "stdout",
     "output_type": "stream",
     "text": [
      "Epoch: 480 Train Loss: 3.28854526 Val Loss: 3.26086140\n"
     ]
    },
    {
     "name": "stderr",
     "output_type": "stream",
     "text": [
      "Training:  98%|█████████▊| 491/500 [20:22<00:14,  1.56s/Epoch]"
     ]
    },
    {
     "name": "stdout",
     "output_type": "stream",
     "text": [
      "Epoch: 490 Train Loss: 3.17937204 Val Loss: 3.21921293\n"
     ]
    },
    {
     "name": "stderr",
     "output_type": "stream",
     "text": [
      "Training: 100%|██████████| 500/500 [20:35<00:00,  2.47s/Epoch]\n"
     ]
    }
   ],
   "source": [
    "# Train the model\n",
    "train_losses, val_losses, model = train(model, loss_function, optimizer, scheduler, train_loader, val_loader, epochs=500, device=device)"
   ]
  },
  {
   "cell_type": "code",
   "execution_count": 231,
   "metadata": {},
   "outputs": [
    {
     "data": {
      "text/plain": [
       "Text(0.5, 1.0, 'Training Loss')"
      ]
     },
     "execution_count": 231,
     "metadata": {},
     "output_type": "execute_result"
    },
    {
     "data": {
      "image/png": "[encoded data removed]",
      "text/plain": [
       "<Figure size 640x480 with 1 Axes>"
      ]
     },
     "metadata": {},
     "output_type": "display_data"
    }
   ],
   "source": [
    "# Plot the losses\n",
    "import seaborn as sns\n",
    "sns.lineplot(x=range(len(train_losses)), y=train_losses, label=\"Train Loss\")\n",
    "sns.lineplot(x=range(len(val_losses)), y=val_losses, label=\"Validation Loss\")\n",
    "plt.yscale(\"log\")\n",
    "plt.xlabel(\"Epoch\")\n",
    "plt.ylabel(\"Loss\")\n",
    "plt.title(\"Training Loss\")"
   ]
  },
  {
   "cell_type": "code",
   "execution_count": 250,
   "metadata": {},
   "outputs": [
    {
     "name": "stdout",
     "output_type": "stream",
     "text": [
      "Test Loss: 4.064711093902588\n",
      "Test Loss per batch: 3.956911563873291\n",
      "Test Loss per batch: 3.933271884918213\n",
      "Test Loss per batch: 4.30394983291626\n"
     ]
    },
    {
     "data": {
      "image/png": "[encoded data removed]",
      "text/plain": [
       "<Figure size 1200x600 with 2 Axes>"
      ]
     },
     "metadata": {},
     "output_type": "display_data"
    }
   ],
   "source": [
    "# Test the model\n",
    "predictions, test_loss = test(model, test_loader, device=device)\n",
    "print(f\"Test Loss: {test_loss}\")\n",
    "\n",
    "\n",
    "for i, (X1, X2, y) in enumerate(test_loader):\n",
    "    print(\"Test Loss per batch:\", loss_function(predictions[i], y.to(device)).item())\n",
    "\n",
    "    # Plot the first sample\n",
    "    if i == 2:\n",
    "        plt.figure(figsize=(12, 6))\n",
    "        plt.subplot(2, 1, 1)\n",
    "        plt.plot(y[0,:,0].cpu(), label=\"True\")\n",
    "        plt.plot(predictions[i][0,:,0].cpu().detach(), label=\"Predicted\", linestyle=\"--\")\n",
    "        plt.legend()\n",
    "        plt.title(\"Test Sample\")\n",
    "        \n",
    "        plt.subplot(2, 1, 2)\n",
    "        plt.plot(y[0,:,1].cpu(), label=\"True\")\n",
    "        plt.plot(predictions[i][0,:,1].cpu().detach(), label=\"Predicted\", linestyle=\"--\")\n",
    "        plt.legend()\n",
    "        plt.title(\"Test Sample\")\n",
    "\n",
    "    \n"
   ]
  },
  {
   "cell_type": "code",
   "execution_count": null,
   "metadata": {},
   "outputs": [],
   "source": []
  }
 ],
 "metadata": {
  "kernelspec": {
   "display_name": "ML",
   "language": "python",
   "name": "python3"
  },
  "language_info": {
   "codemirror_mode": {
    "name": "ipython",
    "version": 3
   },
   "file_extension": ".py",
   "mimetype": "text/x-python",
   "name": "python",
   "nbconvert_exporter": "python",
   "pygments_lexer": "ipython3",
   "version": "3.12.4"
  }
 },
 "nbformat": 4,
 "nbformat_minor": 2
}
