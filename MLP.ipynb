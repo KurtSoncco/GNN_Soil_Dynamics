{
 "cells": [
  {
   "cell_type": "markdown",
   "metadata": {},
   "source": [
    "# MLP idea"
   ]
  },
  {
   "cell_type": "code",
   "execution_count": 376,
   "metadata": {},
   "outputs": [
    {
     "name": "stdout",
     "output_type": "stream",
     "text": [
      "PyTorch has version 2.3.1+cu121 with cuda 12.1\n"
     ]
    }
   ],
   "source": [
    "import os\n",
    "import torch\n",
    "import math\n",
    "print(f\"PyTorch has version {torch.__version__} with cuda {torch.version.cuda}\")"
   ]
  },
  {
   "cell_type": "code",
   "execution_count": 377,
   "metadata": {},
   "outputs": [],
   "source": [
    "from torch import nn\n",
    "from torch.nn import functional as F\n",
    "from torch.utils.data import DataLoader\n",
    "from torch.utils.data import Dataset\n",
    "import pandas as pd\n",
    "import numpy as np\n",
    "import matplotlib.pyplot as plt"
   ]
  },
  {
   "cell_type": "markdown",
   "metadata": {},
   "source": [
    "# Input"
   ]
  },
  {
   "cell_type": "code",
   "execution_count": 378,
   "metadata": {},
   "outputs": [],
   "source": [
    "# Define material properties\n",
    "Vs_values = np.array([140,250,1000,1500,2000,100,500,800,950,2500], dtype=float)\n",
    "f_values = np.array([1, 1.5, 1.75, 2.25, 3], dtype=float)\n",
    "t_values = np.linspace(0.5, 2.5, 10)\n",
    "\n",
    "# Create a list of all possible combinations of Vs, f, and t\n",
    "Vs_val, f_val, t_val = np.meshgrid(Vs_values, f_values, t_values, indexing='ij')\n",
    "Vs_val = Vs_val.flatten()\n",
    "f_val = f_val.flatten()\n",
    "t_val = t_val.flatten()\n",
    "\n",
    "# Create array with the combinations\n",
    "data = np.array([Vs_val, f_val, t_val]).T\n",
    "\n",
    "# Read all csv files from folder\n",
    "folder_path = r\"FLAC\\FLAC2D - Case 1a\\data\"\n",
    "files = os.listdir(folder_path)\n",
    "files = [f for f in files if f.endswith('.csv')]"
   ]
  },
  {
   "cell_type": "code",
   "execution_count": 379,
   "metadata": {},
   "outputs": [],
   "source": [
    "# Create DataSet class\n",
    "class MyDataset(Dataset):\n",
    "    def __init__(self, data, folder_path):\n",
    "        self.data = data\n",
    "        self.folder_path = folder_path\n",
    "\n",
    "    def __len__(self):\n",
    "        return len(self.data)\n",
    "\n",
    "    def __getitem__(self, idx):\n",
    "        # Read the file\n",
    "        file = files[idx]\n",
    "        df = pd.read_csv(os.path.join(self.folder_path, file))\n",
    "        # Get the data\n",
    "        target = df.values[:, 2:]\n",
    "        # Get the target\n",
    "        input_2 = self.data[idx]\n",
    "\n",
    "        # Get the additional input\n",
    "        freq1 = input_2[1]\n",
    "        t01 = input_2[2]\n",
    "        t = df.values[:, 0]\n",
    "        wave = -2*freq1**2*np.pi**2*np.exp(-freq1**2*np.pi**2*(t01 - t)**2)*(t01 - t)*(2*freq1**2*np.pi**2*t01**2 - 4*freq1**2*np.pi**2*t01*t + 2*freq1**2*np.pi**2*t**2 - 3)\n",
    "        input_1 = wave\n",
    "    \n",
    "        # Get final input\n",
    "        input_2 = input_2[0] * np.ones((30,))\n",
    "\n",
    "        # Convert to tensor\n",
    "        input_1 = torch.tensor(input_1, dtype=torch.float32)\n",
    "        input_2 = torch.tensor(input_2, dtype=torch.float32)\n",
    "        target = torch.tensor(target, dtype=torch.float32).squeeze()\n",
    "        \n",
    "        return input_1, input_2, target"
   ]
  },
  {
   "cell_type": "code",
   "execution_count": 380,
   "metadata": {},
   "outputs": [
    {
     "name": "stdout",
     "output_type": "stream",
     "text": [
      "450 25 25\n",
      "Training set: torch.Size([2, 1500]) torch.Size([2, 30]) torch.Size([2, 1500])\n",
      "Validation set: torch.Size([2, 1500]) torch.Size([2, 30]) torch.Size([2, 1500])\n",
      "Testing set: torch.Size([2, 1500]) torch.Size([2, 30]) torch.Size([2, 1500])\n"
     ]
    }
   ],
   "source": [
    "import torch\n",
    "from torch.utils.data import DataLoader, random_split\n",
    "\n",
    "# Assuming MyDataset is already defined and data is loaded\n",
    "dataset = MyDataset(data, folder_path)\n",
    "\n",
    "# Define the sizes for training, validation, and testing sets\n",
    "train_size = int(0.9 * len(dataset))\n",
    "val_size = int(0.05 * len(dataset))\n",
    "test_size = len(dataset) - train_size - val_size\n",
    "print(train_size, val_size, test_size)\n",
    "\n",
    "# Split the dataset\n",
    "train_dataset, val_dataset, test_dataset = random_split(dataset, [train_size, val_size, test_size])\n",
    "\n",
    "# Create DataLoaders for each set\n",
    "batch_size = 2\n",
    "train_loader = DataLoader(train_dataset, batch_size=batch_size, shuffle=True)\n",
    "val_loader = DataLoader(val_dataset, batch_size=batch_size, shuffle=True)\n",
    "test_loader = DataLoader(test_dataset, batch_size=batch_size, shuffle=True)\n",
    "\n",
    "# Check the first batch of the training set\n",
    "for i, (input_1, input_2, target) in enumerate(train_loader):\n",
    "    print(\"Training set:\", input_1.shape, input_2.shape, target.shape)\n",
    "    break\n",
    "\n",
    "# Check the first batch of the validation set\n",
    "for i, (input_1, input_2, target) in enumerate(val_loader):\n",
    "    print(\"Validation set:\", input_1.shape, input_2.shape, target.shape)\n",
    "    break\n",
    "\n",
    "# Check the first batch of the testing set\n",
    "for i, (input_1, input_2, target) in enumerate(test_loader):\n",
    "    print(\"Testing set:\", input_1.shape, input_2.shape, target.shape)\n",
    "    break"
   ]
  },
  {
   "cell_type": "code",
   "execution_count": 381,
   "metadata": {},
   "outputs": [],
   "source": [
    "# Create Model\n",
    "class MLP(nn.Module):\n",
    "    def __init__(self, input_dim, hidden_dim, hidden_layers, output_dim, activation=nn.ReLU, batch_norm=False):\n",
    "        super(MLP, self).__init__()\n",
    "        self.hidden_layers = nn.ModuleList()\n",
    "        self.batch_norm = batch_norm\n",
    "        self.activation = activation\n",
    "\n",
    "        # Input layer\n",
    "        self.hidden_layers.append(nn.Linear(input_dim, hidden_dim))\n",
    "        if self.batch_norm:\n",
    "            self.hidden_layers.append(nn.BatchNorm1d(hidden_dim))\n",
    "\n",
    "        # Hidden layers\n",
    "        for _ in range(hidden_layers - 1):\n",
    "            self.hidden_layers.append(nn.Linear(hidden_dim, hidden_dim))\n",
    "            if self.batch_norm:\n",
    "                self.hidden_layers.append(nn.BatchNorm1d(hidden_dim))\n",
    "\n",
    "        # Output layer\n",
    "        self.out = nn.Linear(hidden_dim, output_dim)\n",
    "\n",
    "\n",
    "    def forward(self, x):\n",
    "        for layer in self.hidden_layers:\n",
    "            if isinstance(layer, nn.Linear):\n",
    "                x = layer(x)\n",
    "                x = self.activation()(x)\n",
    "            elif isinstance(layer, nn.BatchNorm1d):\n",
    "                x = layer(x)\n",
    "        x = self.out(x)\n",
    "        return x"
   ]
  },
  {
   "cell_type": "code",
   "execution_count": 382,
   "metadata": {},
   "outputs": [],
   "source": [
    "# Create simple 1D CNN MLP model\n",
    "class CNN_1D_MLP(nn.Module):\n",
    "    def __init__(self, input_size, input_channels, hidden_dim, hidden_layers, hidden_conv_layers, output_size, kernel_size, stride, padding, \n",
    "                 activation=nn.ReLU, batch_norm=False):\n",
    "        super(CNN_1D_MLP, self).__init__()\n",
    "\n",
    "        self.batch_norm = batch_norm\n",
    "        self.activation = activation\n",
    "\n",
    "        # Convolutional layers\n",
    "        conv_layers = []\n",
    "        for _ in range(hidden_conv_layers):\n",
    "            conv_layers.append(nn.Conv1d(input_channels, input_channels, kernel_size, stride, padding))\n",
    "            if self.batch_norm:\n",
    "                conv_layers.append(nn.BatchNorm1d(input_channels))\n",
    "            conv_layers.append(self.activation())\n",
    "        self.conv_layers = nn.Sequential(*conv_layers)\n",
    "\n",
    "        # Flatten the output\n",
    "        self.flatten = nn.Flatten()\n",
    "\n",
    "        # Fully connected layers\n",
    "        fc_layers = []\n",
    "        for _ in range(hidden_layers):\n",
    "            fc_layers.append(nn.Linear(input_size, hidden_dim))\n",
    "            if self.batch_norm:\n",
    "                fc_layers.append(nn.BatchNorm1d(hidden_dim))\n",
    "            fc_layers.append(self.activation())\n",
    "            input_size = hidden_dim\n",
    "        self.hidden_layers = nn.Sequential(*fc_layers)\n",
    "\n",
    "        # Output layer\n",
    "        self.out = nn.Linear(hidden_dim, output_size)\n",
    "\n",
    "    def forward(self, x):\n",
    "        x = self.conv_layers(x)\n",
    "        x = self.flatten(x)\n",
    "        x = self.hidden_layers(x)\n",
    "        x = self.out(x)\n",
    "        return x"
   ]
  },
  {
   "cell_type": "code",
   "execution_count": 383,
   "metadata": {},
   "outputs": [],
   "source": [
    "class Model(nn.Module):\n",
    "    def __init__(self, input_Vs, input_acc, output_dim, batch_norm=False):\n",
    "        super(Model, self).__init__()\n",
    "        self.mlp1 = MLP(input_Vs, 100, 3, 20, batch_norm=batch_norm)\n",
    "        #self.mlp2 = CNN_1D_MLP(input_acc, 1, 100, 3, 2, 30, 3, 1, 1, batch_norm=batch_norm)\n",
    "        self.mlp2 = MLP(input_acc, 100, 3, 20, batch_norm=batch_norm)\n",
    "        self.mlp3 = MLP(40, 100, 5, output_dim, batch_norm=batch_norm)\n",
    "        \n",
    "        self.output_dim = output_dim\n",
    "        #self.output_channels = output_channels\n",
    "\n",
    "    def forward(self, acc, Vs):\n",
    "        x1 = self.mlp1(Vs)\n",
    "        x2 = self.mlp2(acc)\n",
    "        #x2 = self.mlp2(acc.unsqueeze(1))\n",
    "        x = torch.cat((x1, x2), dim=1)\n",
    "        x = self.mlp3(x)\n",
    "        #x = x.view(-1, self.output_dim, self.output_channels)\n",
    "        return x"
   ]
  },
  {
   "cell_type": "code",
   "execution_count": 384,
   "metadata": {},
   "outputs": [
    {
     "name": "stdout",
     "output_type": "stream",
     "text": [
      "Training set: torch.Size([2, 1500]) torch.Size([2, 30]) torch.Size([2, 1500])\n"
     ]
    }
   ],
   "source": [
    "for i, (input_1, input_2, target) in enumerate(train_loader):\n",
    "    print(\"Training set:\", input_1.shape, input_2.shape, target.shape)\n",
    "    break"
   ]
  },
  {
   "cell_type": "code",
   "execution_count": 385,
   "metadata": {},
   "outputs": [
    {
     "name": "stdout",
     "output_type": "stream",
     "text": [
      "torch.Size([2, 1500]) torch.Size([2, 30]) torch.Size([2, 1500])\n",
      "tensor(6.7873, grad_fn=<MseLossBackward0>)\n"
     ]
    }
   ],
   "source": [
    "# Check model\n",
    "\n",
    "for i, (input_1, input_2, target) in enumerate(train_loader):\n",
    "    break\n",
    "\n",
    "print(input_1.shape, input_2.shape, target.shape)\n",
    "\n",
    "model = Model(input_Vs=30, input_acc=1500, output_dim=1500)\n",
    "pred = model(Vs=input_2, acc=input_1)\n",
    "assert pred.shape == target.shape, f\"Expected shape {target.shape} but got {pred.shape}\"\n",
    "\n",
    "# Define the loss function\n",
    "loss_fn = nn.MSELoss()\n",
    "loss = loss_fn(pred, target)\n",
    "print(loss)"
   ]
  },
  {
   "cell_type": "code",
   "execution_count": 386,
   "metadata": {},
   "outputs": [],
   "source": [
    "# Early stopping\n",
    "class EarlyStopping:\n",
    "    def __init__(self, patience=5, verbose=False, delta=0):\n",
    "        self.patience = patience\n",
    "        self.verbose = verbose\n",
    "        self.counter = 0\n",
    "        self.best_loss = None\n",
    "        self.early_stop = False\n",
    "        self.delta = delta\n",
    "\n",
    "    def __call__(self, val_loss):\n",
    "        if self.best_loss is None:\n",
    "            self.best_loss = val_loss\n",
    "        elif val_loss > self.best_loss - self.delta:\n",
    "            self.counter += 1\n",
    "            if self.verbose:\n",
    "                print(f'EarlyStopping counter: {self.counter} out of {self.patience}')\n",
    "            if self.counter >= self.patience:\n",
    "                self.early_stop = True\n",
    "        else:\n",
    "            self.best_loss = val_loss\n",
    "            self.counter = 0"
   ]
  },
  {
   "cell_type": "code",
   "execution_count": 400,
   "metadata": {},
   "outputs": [],
   "source": [
    "import torch\n",
    "from tqdm import trange\n",
    "import logging\n",
    "\n",
    "\n",
    "def train(model, loss_function, optimizer, scheduler, train_dataloader, val_dataloader, epochs=100, device=\"cpu\", patience=5, log_interval=10):\n",
    "    model.to(device)\n",
    "    train_losses = []\n",
    "    val_losses = []\n",
    "    scaler = torch.cuda.amp.GradScaler()  # For mixed precision training\n",
    "    early_stopping = EarlyStopping(patience=patience, verbose=True)\n",
    "\n",
    "    # Set up logging\n",
    "    logging.basicConfig(filename='training.log', level=logging.INFO, filemode='w')\n",
    "    logging.info('Starting training...')\n",
    "\n",
    "    for epoch in trange(epochs, desc=\"Training\", unit=\"Epoch\"):\n",
    "        model.train()\n",
    "        running_train_loss = 0.0\n",
    "        for X1, X2, y in train_dataloader:\n",
    "            X1, X2, y = X1.to(device, non_blocking=True), X2.to(device, non_blocking=True), y.to(device, non_blocking=True)\n",
    "            optimizer.zero_grad()\n",
    "            with torch.cuda.amp.autocast():  # Mixed precision context\n",
    "                #y_pred = model(X1, X2)\n",
    "                y_pred = model(X1)\n",
    "                single_loss = loss_function(y_pred, y)\n",
    "            scaler.scale(single_loss).backward()\n",
    "            scaler.step(optimizer)\n",
    "            scaler.update()\n",
    "            running_train_loss += single_loss.item()\n",
    "        \n",
    "        avg_train_loss = running_train_loss / len(train_dataloader)\n",
    "        train_losses.append(avg_train_loss)\n",
    "\n",
    "        # Validation\n",
    "        model.eval()\n",
    "        running_val_loss = 0.0\n",
    "        for X1, X2, y in val_dataloader:\n",
    "            X1, X2, y = X1.to(device, non_blocking=True), X2.to(device, non_blocking=True), y.to(device, non_blocking=True)\n",
    "            with torch.no_grad():\n",
    "                with torch.cuda.amp.autocast():  # Mixed precision context\n",
    "                    #y_pred = model(X1, X2)\n",
    "                    y_pred = model(X1)\n",
    "                single_loss = loss_function(y_pred, y)\n",
    "                running_val_loss += single_loss.item()\n",
    "        \n",
    "        avg_val_loss = running_val_loss / len(val_dataloader)\n",
    "        val_losses.append(avg_val_loss)\n",
    "\n",
    "        # Update the learning rate\n",
    "        scheduler.step()\n",
    "\n",
    "        if epoch % log_interval == 0:\n",
    "            log_message = f'Epoch: {epoch:3} Train Loss: {avg_train_loss:10.8f} Val Loss: {avg_val_loss:10.8f}'\n",
    "            print(log_message)\n",
    "            logging.info(log_message)\n",
    "\n",
    "        # Check early stopping condition\n",
    "        early_stopping(avg_val_loss)\n",
    "        if early_stopping.early_stop:\n",
    "            print(\"Early stopping\")\n",
    "            logging.info(\"Early stopping\")\n",
    "            break\n",
    "\n",
    "    logging.info('Training complete.')\n",
    "    return train_losses, val_losses, model"
   ]
  },
  {
   "cell_type": "code",
   "execution_count": 401,
   "metadata": {},
   "outputs": [],
   "source": [
    "# Define test function\n",
    "def test(model, dataloader, device=\"cpu\", loss_function=nn.MSELoss()):\n",
    "    model.to(device)\n",
    "    model.eval()\n",
    "    predictions = []\n",
    "    total_loss = 0\n",
    "    with torch.no_grad():\n",
    "        for X1, X2, y in dataloader:\n",
    "            X1, X2, y = X1.to(device), X2.to(device), y.to(device)\n",
    "            y_pred = model(X1, X2)\n",
    "            predictions.append(y_pred)\n",
    "            # Loss\n",
    "            loss = loss_function(y_pred, y)\n",
    "            total_loss += loss.item()\n",
    "\n",
    "    avg_loss = total_loss / len(dataloader)\n",
    "    return predictions, avg_loss"
   ]
  },
  {
   "cell_type": "code",
   "execution_count": 402,
   "metadata": {},
   "outputs": [],
   "source": [
    "#model = Model(input_Vs=30, input_acc=1500, output_dim=1500, batch_norm=False)\n",
    "model = MLP(input_dim=1500, hidden_dim=100, hidden_layers=3, output_dim=1500, batch_norm=False)\n",
    "loss_function = nn.MSELoss()\n",
    "optimizer = torch.optim.Adam(model.parameters(), lr=0.001)\n",
    "scheduler = torch.optim.lr_scheduler.ExponentialLR(optimizer, gamma=0.95)"
   ]
  },
  {
   "cell_type": "code",
   "execution_count": 404,
   "metadata": {},
   "outputs": [
    {
     "name": "stdout",
     "output_type": "stream",
     "text": [
      "X1 shape: torch.Size([2, 1500]), X2 shape: torch.Size([2, 30]), y shape: torch.Size([2, 1500])\n",
      "Prediction shape: torch.Size([2, 1500]), y shape: torch.Size([2, 1500])\n",
      "Loss: 6.15317964553833\n"
     ]
    }
   ],
   "source": [
    "# Check size of input\n",
    "for i, (X1, X2, y) in enumerate(train_loader):\n",
    "    print(f\"X1 shape: {X1.shape}, X2 shape: {X2.shape}, y shape: {y.shape}\")\n",
    "    #pred = model(X1, X2)\n",
    "    pred = model(X1)\n",
    "    print(f\"Prediction shape: {pred.shape}, y shape: {y.shape}\")\n",
    "    loss = loss_function(pred, y)\n",
    "    print(f\"Loss: {loss}\")\n",
    "    break"
   ]
  },
  {
   "cell_type": "code",
   "execution_count": 405,
   "metadata": {},
   "outputs": [
    {
     "name": "stdout",
     "output_type": "stream",
     "text": [
      "Device: cuda\n"
     ]
    }
   ],
   "source": [
    "# Check device\n",
    "device = \"cuda\" if torch.cuda.is_available() else \"cpu\"\n",
    "print(f\"Device: {device}\")"
   ]
  },
  {
   "cell_type": "code",
   "execution_count": 406,
   "metadata": {},
   "outputs": [
    {
     "name": "stderr",
     "output_type": "stream",
     "text": [
      "Training:   0%|          | 1/1000 [00:13<3:50:59, 13.87s/Epoch]"
     ]
    },
    {
     "name": "stdout",
     "output_type": "stream",
     "text": [
      "Epoch:   0 Train Loss: 6.64261449 Val Loss: 5.83627881\n"
     ]
    },
    {
     "name": "stderr",
     "output_type": "stream",
     "text": [
      "Training:   0%|          | 4/1000 [00:22<1:11:22,  4.30s/Epoch]"
     ]
    },
    {
     "name": "stdout",
     "output_type": "stream",
     "text": [
      "EarlyStopping counter: 1 out of 50\n"
     ]
    },
    {
     "name": "stderr",
     "output_type": "stream",
     "text": [
      "Training:   0%|          | 5/1000 [00:25<1:04:10,  3.87s/Epoch]"
     ]
    },
    {
     "name": "stdout",
     "output_type": "stream",
     "text": [
      "EarlyStopping counter: 2 out of 50\n"
     ]
    },
    {
     "name": "stderr",
     "output_type": "stream",
     "text": [
      "Training:   1%|          | 7/1000 [00:31<55:42,  3.37s/Epoch]  "
     ]
    },
    {
     "name": "stdout",
     "output_type": "stream",
     "text": [
      "EarlyStopping counter: 1 out of 50\n"
     ]
    },
    {
     "name": "stderr",
     "output_type": "stream",
     "text": [
      "Training:   1%|          | 8/1000 [00:33<50:26,  3.05s/Epoch]"
     ]
    },
    {
     "name": "stdout",
     "output_type": "stream",
     "text": [
      "EarlyStopping counter: 2 out of 50\n"
     ]
    },
    {
     "name": "stderr",
     "output_type": "stream",
     "text": [
      "Training:   1%|          | 9/1000 [00:36<49:44,  3.01s/Epoch]"
     ]
    },
    {
     "name": "stdout",
     "output_type": "stream",
     "text": [
      "EarlyStopping counter: 3 out of 50\n"
     ]
    },
    {
     "name": "stderr",
     "output_type": "stream",
     "text": [
      "Training:   1%|          | 11/1000 [00:42<47:42,  2.89s/Epoch]"
     ]
    },
    {
     "name": "stdout",
     "output_type": "stream",
     "text": [
      "Epoch:  10 Train Loss: 6.09102898 Val Loss: 5.35280418\n",
      "EarlyStopping counter: 1 out of 50\n"
     ]
    },
    {
     "name": "stderr",
     "output_type": "stream",
     "text": [
      "Training:   1%|          | 12/1000 [00:44<44:15,  2.69s/Epoch]"
     ]
    },
    {
     "name": "stdout",
     "output_type": "stream",
     "text": [
      "EarlyStopping counter: 2 out of 50\n"
     ]
    },
    {
     "name": "stderr",
     "output_type": "stream",
     "text": [
      "Training:   1%|▏         | 13/1000 [00:46<42:15,  2.57s/Epoch]"
     ]
    },
    {
     "name": "stdout",
     "output_type": "stream",
     "text": [
      "EarlyStopping counter: 3 out of 50\n"
     ]
    },
    {
     "name": "stderr",
     "output_type": "stream",
     "text": [
      "Training:   1%|▏         | 14/1000 [00:52<55:18,  3.37s/Epoch]"
     ]
    },
    {
     "name": "stdout",
     "output_type": "stream",
     "text": [
      "EarlyStopping counter: 4 out of 50\n"
     ]
    },
    {
     "name": "stderr",
     "output_type": "stream",
     "text": [
      "Training:   2%|▏         | 15/1000 [00:55<58:12,  3.55s/Epoch]"
     ]
    },
    {
     "name": "stdout",
     "output_type": "stream",
     "text": [
      "EarlyStopping counter: 5 out of 50\n"
     ]
    },
    {
     "name": "stderr",
     "output_type": "stream",
     "text": [
      "Training:   2%|▏         | 16/1000 [01:00<1:01:43,  3.76s/Epoch]"
     ]
    },
    {
     "name": "stdout",
     "output_type": "stream",
     "text": [
      "EarlyStopping counter: 6 out of 50\n"
     ]
    },
    {
     "name": "stderr",
     "output_type": "stream",
     "text": [
      "Training:   2%|▏         | 17/1000 [01:04<1:01:51,  3.78s/Epoch]"
     ]
    },
    {
     "name": "stdout",
     "output_type": "stream",
     "text": [
      "EarlyStopping counter: 7 out of 50\n"
     ]
    },
    {
     "name": "stderr",
     "output_type": "stream",
     "text": [
      "Training:   2%|▏         | 18/1000 [01:08<1:05:38,  4.01s/Epoch]"
     ]
    },
    {
     "name": "stdout",
     "output_type": "stream",
     "text": [
      "EarlyStopping counter: 8 out of 50\n"
     ]
    },
    {
     "name": "stderr",
     "output_type": "stream",
     "text": [
      "Training:   2%|▏         | 19/1000 [01:13<1:07:21,  4.12s/Epoch]"
     ]
    },
    {
     "name": "stdout",
     "output_type": "stream",
     "text": [
      "EarlyStopping counter: 9 out of 50\n"
     ]
    },
    {
     "name": "stderr",
     "output_type": "stream",
     "text": [
      "Training:   2%|▏         | 20/1000 [01:17<1:08:57,  4.22s/Epoch]"
     ]
    },
    {
     "name": "stdout",
     "output_type": "stream",
     "text": [
      "EarlyStopping counter: 10 out of 50\n"
     ]
    },
    {
     "name": "stderr",
     "output_type": "stream",
     "text": [
      "Training:   2%|▏         | 21/1000 [01:22<1:11:10,  4.36s/Epoch]"
     ]
    },
    {
     "name": "stdout",
     "output_type": "stream",
     "text": [
      "Epoch:  20 Train Loss: 5.95344316 Val Loss: 5.22723049\n",
      "EarlyStopping counter: 11 out of 50\n"
     ]
    },
    {
     "name": "stderr",
     "output_type": "stream",
     "text": [
      "Training:   2%|▏         | 23/1000 [01:31<1:12:39,  4.46s/Epoch]"
     ]
    },
    {
     "name": "stdout",
     "output_type": "stream",
     "text": [
      "EarlyStopping counter: 1 out of 50\n"
     ]
    },
    {
     "name": "stderr",
     "output_type": "stream",
     "text": [
      "Training:   2%|▏         | 24/1000 [01:35<1:13:16,  4.50s/Epoch]"
     ]
    },
    {
     "name": "stdout",
     "output_type": "stream",
     "text": [
      "EarlyStopping counter: 2 out of 50\n"
     ]
    },
    {
     "name": "stderr",
     "output_type": "stream",
     "text": [
      "Training:   2%|▎         | 25/1000 [01:40<1:13:15,  4.51s/Epoch]"
     ]
    },
    {
     "name": "stdout",
     "output_type": "stream",
     "text": [
      "EarlyStopping counter: 3 out of 50\n"
     ]
    },
    {
     "name": "stderr",
     "output_type": "stream",
     "text": [
      "Training:   3%|▎         | 26/1000 [01:44<1:10:19,  4.33s/Epoch]"
     ]
    },
    {
     "name": "stdout",
     "output_type": "stream",
     "text": [
      "EarlyStopping counter: 4 out of 50\n"
     ]
    },
    {
     "name": "stderr",
     "output_type": "stream",
     "text": [
      "Training:   3%|▎         | 27/1000 [01:48<1:08:24,  4.22s/Epoch]"
     ]
    },
    {
     "name": "stdout",
     "output_type": "stream",
     "text": [
      "EarlyStopping counter: 5 out of 50\n"
     ]
    },
    {
     "name": "stderr",
     "output_type": "stream",
     "text": [
      "Training:   3%|▎         | 28/1000 [01:52<1:10:08,  4.33s/Epoch]"
     ]
    },
    {
     "name": "stdout",
     "output_type": "stream",
     "text": [
      "EarlyStopping counter: 6 out of 50\n"
     ]
    },
    {
     "name": "stderr",
     "output_type": "stream",
     "text": [
      "Training:   3%|▎         | 30/1000 [02:02<1:13:52,  4.57s/Epoch]"
     ]
    },
    {
     "name": "stdout",
     "output_type": "stream",
     "text": [
      "EarlyStopping counter: 1 out of 50\n"
     ]
    },
    {
     "name": "stderr",
     "output_type": "stream",
     "text": [
      "Training:   3%|▎         | 31/1000 [02:07<1:13:53,  4.58s/Epoch]"
     ]
    },
    {
     "name": "stdout",
     "output_type": "stream",
     "text": [
      "Epoch:  30 Train Loss: 5.89436647 Val Loss: 5.20885060\n",
      "EarlyStopping counter: 2 out of 50\n"
     ]
    },
    {
     "name": "stderr",
     "output_type": "stream",
     "text": [
      "Training:   3%|▎         | 32/1000 [02:11<1:13:15,  4.54s/Epoch]"
     ]
    },
    {
     "name": "stdout",
     "output_type": "stream",
     "text": [
      "EarlyStopping counter: 3 out of 50\n"
     ]
    },
    {
     "name": "stderr",
     "output_type": "stream",
     "text": [
      "Training:   3%|▎         | 33/1000 [02:16<1:13:38,  4.57s/Epoch]"
     ]
    },
    {
     "name": "stdout",
     "output_type": "stream",
     "text": [
      "EarlyStopping counter: 4 out of 50\n"
     ]
    },
    {
     "name": "stderr",
     "output_type": "stream",
     "text": [
      "Training:   4%|▎         | 35/1000 [02:25<1:13:35,  4.58s/Epoch]"
     ]
    },
    {
     "name": "stdout",
     "output_type": "stream",
     "text": [
      "EarlyStopping counter: 1 out of 50\n"
     ]
    },
    {
     "name": "stderr",
     "output_type": "stream",
     "text": [
      "Training:   4%|▎         | 36/1000 [02:29<1:13:22,  4.57s/Epoch]"
     ]
    },
    {
     "name": "stdout",
     "output_type": "stream",
     "text": [
      "EarlyStopping counter: 2 out of 50\n"
     ]
    },
    {
     "name": "stderr",
     "output_type": "stream",
     "text": [
      "Training:   4%|▎         | 37/1000 [02:34<1:12:00,  4.49s/Epoch]"
     ]
    },
    {
     "name": "stdout",
     "output_type": "stream",
     "text": [
      "EarlyStopping counter: 3 out of 50\n"
     ]
    },
    {
     "name": "stderr",
     "output_type": "stream",
     "text": [
      "Training:   4%|▍         | 39/1000 [02:43<1:13:01,  4.56s/Epoch]"
     ]
    },
    {
     "name": "stdout",
     "output_type": "stream",
     "text": [
      "EarlyStopping counter: 1 out of 50\n"
     ]
    },
    {
     "name": "stderr",
     "output_type": "stream",
     "text": [
      "Training:   4%|▍         | 40/1000 [02:47<1:12:17,  4.52s/Epoch]"
     ]
    },
    {
     "name": "stdout",
     "output_type": "stream",
     "text": [
      "EarlyStopping counter: 2 out of 50\n"
     ]
    },
    {
     "name": "stderr",
     "output_type": "stream",
     "text": [
      "Training:   4%|▍         | 41/1000 [02:52<1:12:07,  4.51s/Epoch]"
     ]
    },
    {
     "name": "stdout",
     "output_type": "stream",
     "text": [
      "Epoch:  40 Train Loss: 5.86416725 Val Loss: 5.23485723\n",
      "EarlyStopping counter: 3 out of 50\n"
     ]
    },
    {
     "name": "stderr",
     "output_type": "stream",
     "text": [
      "Training:   4%|▍         | 42/1000 [02:56<1:11:14,  4.46s/Epoch]"
     ]
    },
    {
     "name": "stdout",
     "output_type": "stream",
     "text": [
      "EarlyStopping counter: 4 out of 50\n"
     ]
    },
    {
     "name": "stderr",
     "output_type": "stream",
     "text": [
      "Training:   4%|▍         | 43/1000 [03:00<1:10:42,  4.43s/Epoch]"
     ]
    },
    {
     "name": "stdout",
     "output_type": "stream",
     "text": [
      "EarlyStopping counter: 5 out of 50\n"
     ]
    },
    {
     "name": "stderr",
     "output_type": "stream",
     "text": [
      "Training:   4%|▍         | 44/1000 [03:05<1:09:36,  4.37s/Epoch]"
     ]
    },
    {
     "name": "stdout",
     "output_type": "stream",
     "text": [
      "EarlyStopping counter: 6 out of 50\n"
     ]
    },
    {
     "name": "stderr",
     "output_type": "stream",
     "text": [
      "Training:   4%|▍         | 45/1000 [03:09<1:08:52,  4.33s/Epoch]"
     ]
    },
    {
     "name": "stdout",
     "output_type": "stream",
     "text": [
      "EarlyStopping counter: 7 out of 50\n"
     ]
    },
    {
     "name": "stderr",
     "output_type": "stream",
     "text": [
      "Training:   5%|▍         | 46/1000 [03:13<1:06:55,  4.21s/Epoch]"
     ]
    },
    {
     "name": "stdout",
     "output_type": "stream",
     "text": [
      "EarlyStopping counter: 8 out of 50\n"
     ]
    },
    {
     "name": "stderr",
     "output_type": "stream",
     "text": [
      "Training:   5%|▍         | 47/1000 [03:17<1:07:29,  4.25s/Epoch]"
     ]
    },
    {
     "name": "stdout",
     "output_type": "stream",
     "text": [
      "EarlyStopping counter: 9 out of 50\n"
     ]
    },
    {
     "name": "stderr",
     "output_type": "stream",
     "text": [
      "Training:   5%|▍         | 48/1000 [03:21<1:07:22,  4.25s/Epoch]"
     ]
    },
    {
     "name": "stdout",
     "output_type": "stream",
     "text": [
      "EarlyStopping counter: 10 out of 50\n"
     ]
    },
    {
     "name": "stderr",
     "output_type": "stream",
     "text": [
      "Training:   5%|▍         | 49/1000 [03:26<1:07:53,  4.28s/Epoch]"
     ]
    },
    {
     "name": "stdout",
     "output_type": "stream",
     "text": [
      "EarlyStopping counter: 11 out of 50\n"
     ]
    },
    {
     "name": "stderr",
     "output_type": "stream",
     "text": [
      "Training:   5%|▌         | 50/1000 [03:30<1:07:58,  4.29s/Epoch]"
     ]
    },
    {
     "name": "stdout",
     "output_type": "stream",
     "text": [
      "EarlyStopping counter: 12 out of 50\n"
     ]
    },
    {
     "name": "stderr",
     "output_type": "stream",
     "text": [
      "Training:   5%|▌         | 51/1000 [03:34<1:07:46,  4.28s/Epoch]"
     ]
    },
    {
     "name": "stdout",
     "output_type": "stream",
     "text": [
      "Epoch:  50 Train Loss: 5.84382745 Val Loss: 5.20742266\n",
      "EarlyStopping counter: 13 out of 50\n"
     ]
    },
    {
     "name": "stderr",
     "output_type": "stream",
     "text": [
      "Training:   5%|▌         | 52/1000 [03:39<1:06:57,  4.24s/Epoch]"
     ]
    },
    {
     "name": "stdout",
     "output_type": "stream",
     "text": [
      "EarlyStopping counter: 14 out of 50\n"
     ]
    },
    {
     "name": "stderr",
     "output_type": "stream",
     "text": [
      "Training:   5%|▌         | 53/1000 [03:43<1:07:56,  4.30s/Epoch]"
     ]
    },
    {
     "name": "stdout",
     "output_type": "stream",
     "text": [
      "EarlyStopping counter: 15 out of 50\n"
     ]
    },
    {
     "name": "stderr",
     "output_type": "stream",
     "text": [
      "Training:   5%|▌         | 54/1000 [03:47<1:05:49,  4.18s/Epoch]"
     ]
    },
    {
     "name": "stdout",
     "output_type": "stream",
     "text": [
      "EarlyStopping counter: 16 out of 50\n"
     ]
    },
    {
     "name": "stderr",
     "output_type": "stream",
     "text": [
      "Training:   6%|▌         | 55/1000 [03:49<58:12,  3.70s/Epoch]  "
     ]
    },
    {
     "name": "stdout",
     "output_type": "stream",
     "text": [
      "EarlyStopping counter: 17 out of 50\n"
     ]
    },
    {
     "name": "stderr",
     "output_type": "stream",
     "text": [
      "Training:   6%|▌         | 56/1000 [03:52<53:35,  3.41s/Epoch]"
     ]
    },
    {
     "name": "stdout",
     "output_type": "stream",
     "text": [
      "EarlyStopping counter: 18 out of 50\n"
     ]
    },
    {
     "name": "stderr",
     "output_type": "stream",
     "text": [
      "Training:   6%|▌         | 57/1000 [03:55<49:07,  3.13s/Epoch]"
     ]
    },
    {
     "name": "stdout",
     "output_type": "stream",
     "text": [
      "EarlyStopping counter: 19 out of 50\n"
     ]
    },
    {
     "name": "stderr",
     "output_type": "stream",
     "text": [
      "Training:   6%|▌         | 58/1000 [03:57<46:45,  2.98s/Epoch]"
     ]
    },
    {
     "name": "stdout",
     "output_type": "stream",
     "text": [
      "EarlyStopping counter: 20 out of 50\n"
     ]
    },
    {
     "name": "stderr",
     "output_type": "stream",
     "text": [
      "Training:   6%|▌         | 59/1000 [04:00<45:12,  2.88s/Epoch]"
     ]
    },
    {
     "name": "stdout",
     "output_type": "stream",
     "text": [
      "EarlyStopping counter: 21 out of 50\n"
     ]
    },
    {
     "name": "stderr",
     "output_type": "stream",
     "text": [
      "Training:   6%|▌         | 60/1000 [04:03<44:00,  2.81s/Epoch]"
     ]
    },
    {
     "name": "stdout",
     "output_type": "stream",
     "text": [
      "EarlyStopping counter: 22 out of 50\n"
     ]
    },
    {
     "name": "stderr",
     "output_type": "stream",
     "text": [
      "Training:   6%|▌         | 61/1000 [04:05<44:17,  2.83s/Epoch]"
     ]
    },
    {
     "name": "stdout",
     "output_type": "stream",
     "text": [
      "Epoch:  60 Train Loss: 5.83251422 Val Loss: 5.30591248\n",
      "EarlyStopping counter: 23 out of 50\n"
     ]
    },
    {
     "name": "stderr",
     "output_type": "stream",
     "text": [
      "Training:   6%|▌         | 62/1000 [04:08<43:48,  2.80s/Epoch]"
     ]
    },
    {
     "name": "stdout",
     "output_type": "stream",
     "text": [
      "EarlyStopping counter: 24 out of 50\n"
     ]
    },
    {
     "name": "stderr",
     "output_type": "stream",
     "text": [
      "Training:   6%|▋         | 63/1000 [04:11<42:51,  2.74s/Epoch]"
     ]
    },
    {
     "name": "stdout",
     "output_type": "stream",
     "text": [
      "EarlyStopping counter: 25 out of 50\n"
     ]
    },
    {
     "name": "stderr",
     "output_type": "stream",
     "text": [
      "Training:   6%|▋         | 64/1000 [04:13<42:34,  2.73s/Epoch]"
     ]
    },
    {
     "name": "stdout",
     "output_type": "stream",
     "text": [
      "EarlyStopping counter: 26 out of 50\n"
     ]
    },
    {
     "name": "stderr",
     "output_type": "stream",
     "text": [
      "Training:   6%|▋         | 65/1000 [04:16<42:09,  2.71s/Epoch]"
     ]
    },
    {
     "name": "stdout",
     "output_type": "stream",
     "text": [
      "EarlyStopping counter: 27 out of 50\n"
     ]
    },
    {
     "name": "stderr",
     "output_type": "stream",
     "text": [
      "Training:   7%|▋         | 66/1000 [04:19<41:31,  2.67s/Epoch]"
     ]
    },
    {
     "name": "stdout",
     "output_type": "stream",
     "text": [
      "EarlyStopping counter: 28 out of 50\n"
     ]
    },
    {
     "name": "stderr",
     "output_type": "stream",
     "text": [
      "Training:   7%|▋         | 67/1000 [04:21<41:52,  2.69s/Epoch]"
     ]
    },
    {
     "name": "stdout",
     "output_type": "stream",
     "text": [
      "EarlyStopping counter: 29 out of 50\n"
     ]
    },
    {
     "name": "stderr",
     "output_type": "stream",
     "text": [
      "Training:   7%|▋         | 68/1000 [04:24<39:38,  2.55s/Epoch]"
     ]
    },
    {
     "name": "stdout",
     "output_type": "stream",
     "text": [
      "EarlyStopping counter: 30 out of 50\n"
     ]
    },
    {
     "name": "stderr",
     "output_type": "stream",
     "text": [
      "Training:   7%|▋         | 69/1000 [04:27<41:14,  2.66s/Epoch]"
     ]
    },
    {
     "name": "stdout",
     "output_type": "stream",
     "text": [
      "EarlyStopping counter: 31 out of 50\n"
     ]
    },
    {
     "name": "stderr",
     "output_type": "stream",
     "text": [
      "Training:   7%|▋         | 70/1000 [04:32<54:40,  3.53s/Epoch]"
     ]
    },
    {
     "name": "stdout",
     "output_type": "stream",
     "text": [
      "EarlyStopping counter: 32 out of 50\n"
     ]
    },
    {
     "name": "stderr",
     "output_type": "stream",
     "text": [
      "Training:   7%|▋         | 71/1000 [04:37<1:02:45,  4.05s/Epoch]"
     ]
    },
    {
     "name": "stdout",
     "output_type": "stream",
     "text": [
      "Epoch:  70 Train Loss: 5.82564915 Val Loss: 5.27078419\n",
      "EarlyStopping counter: 33 out of 50\n"
     ]
    },
    {
     "name": "stderr",
     "output_type": "stream",
     "text": [
      "Training:   7%|▋         | 72/1000 [04:43<1:08:12,  4.41s/Epoch]"
     ]
    },
    {
     "name": "stdout",
     "output_type": "stream",
     "text": [
      "EarlyStopping counter: 34 out of 50\n"
     ]
    },
    {
     "name": "stderr",
     "output_type": "stream",
     "text": [
      "Training:   7%|▋         | 73/1000 [04:48<1:12:52,  4.72s/Epoch]"
     ]
    },
    {
     "name": "stdout",
     "output_type": "stream",
     "text": [
      "EarlyStopping counter: 35 out of 50\n"
     ]
    },
    {
     "name": "stderr",
     "output_type": "stream",
     "text": [
      "Training:   7%|▋         | 74/1000 [04:53<1:15:18,  4.88s/Epoch]"
     ]
    },
    {
     "name": "stdout",
     "output_type": "stream",
     "text": [
      "EarlyStopping counter: 36 out of 50\n"
     ]
    },
    {
     "name": "stderr",
     "output_type": "stream",
     "text": [
      "Training:   8%|▊         | 75/1000 [04:59<1:17:23,  5.02s/Epoch]"
     ]
    },
    {
     "name": "stdout",
     "output_type": "stream",
     "text": [
      "EarlyStopping counter: 37 out of 50\n"
     ]
    },
    {
     "name": "stderr",
     "output_type": "stream",
     "text": [
      "Training:   8%|▊         | 76/1000 [05:04<1:19:05,  5.14s/Epoch]"
     ]
    },
    {
     "name": "stdout",
     "output_type": "stream",
     "text": [
      "EarlyStopping counter: 38 out of 50\n"
     ]
    },
    {
     "name": "stderr",
     "output_type": "stream",
     "text": [
      "Training:   8%|▊         | 77/1000 [05:09<1:19:56,  5.20s/Epoch]"
     ]
    },
    {
     "name": "stdout",
     "output_type": "stream",
     "text": [
      "EarlyStopping counter: 39 out of 50\n"
     ]
    },
    {
     "name": "stderr",
     "output_type": "stream",
     "text": [
      "Training:   8%|▊         | 78/1000 [05:15<1:20:37,  5.25s/Epoch]"
     ]
    },
    {
     "name": "stdout",
     "output_type": "stream",
     "text": [
      "EarlyStopping counter: 40 out of 50\n"
     ]
    },
    {
     "name": "stderr",
     "output_type": "stream",
     "text": [
      "Training:   8%|▊         | 79/1000 [05:20<1:20:15,  5.23s/Epoch]"
     ]
    },
    {
     "name": "stdout",
     "output_type": "stream",
     "text": [
      "EarlyStopping counter: 41 out of 50\n"
     ]
    },
    {
     "name": "stderr",
     "output_type": "stream",
     "text": [
      "Training:   8%|▊         | 80/1000 [05:26<1:22:34,  5.39s/Epoch]"
     ]
    },
    {
     "name": "stdout",
     "output_type": "stream",
     "text": [
      "EarlyStopping counter: 42 out of 50\n"
     ]
    },
    {
     "name": "stderr",
     "output_type": "stream",
     "text": [
      "Training:   8%|▊         | 81/1000 [05:31<1:21:47,  5.34s/Epoch]"
     ]
    },
    {
     "name": "stdout",
     "output_type": "stream",
     "text": [
      "Epoch:  80 Train Loss: 5.82121084 Val Loss: 5.18139669\n",
      "EarlyStopping counter: 43 out of 50\n"
     ]
    },
    {
     "name": "stderr",
     "output_type": "stream",
     "text": [
      "Training:   8%|▊         | 82/1000 [05:36<1:21:28,  5.32s/Epoch]"
     ]
    },
    {
     "name": "stdout",
     "output_type": "stream",
     "text": [
      "EarlyStopping counter: 44 out of 50\n"
     ]
    },
    {
     "name": "stderr",
     "output_type": "stream",
     "text": [
      "Training:   8%|▊         | 83/1000 [05:41<1:20:34,  5.27s/Epoch]"
     ]
    },
    {
     "name": "stdout",
     "output_type": "stream",
     "text": [
      "EarlyStopping counter: 45 out of 50\n"
     ]
    },
    {
     "name": "stderr",
     "output_type": "stream",
     "text": [
      "Training:   8%|▊         | 84/1000 [05:47<1:20:45,  5.29s/Epoch]"
     ]
    },
    {
     "name": "stdout",
     "output_type": "stream",
     "text": [
      "EarlyStopping counter: 46 out of 50\n"
     ]
    },
    {
     "name": "stderr",
     "output_type": "stream",
     "text": [
      "Training:   8%|▊         | 85/1000 [05:52<1:19:59,  5.25s/Epoch]"
     ]
    },
    {
     "name": "stdout",
     "output_type": "stream",
     "text": [
      "EarlyStopping counter: 47 out of 50\n"
     ]
    },
    {
     "name": "stderr",
     "output_type": "stream",
     "text": [
      "Training:   9%|▊         | 86/1000 [05:57<1:19:58,  5.25s/Epoch]"
     ]
    },
    {
     "name": "stdout",
     "output_type": "stream",
     "text": [
      "EarlyStopping counter: 48 out of 50\n"
     ]
    },
    {
     "name": "stderr",
     "output_type": "stream",
     "text": [
      "Training:   9%|▊         | 87/1000 [06:02<1:19:51,  5.25s/Epoch]"
     ]
    },
    {
     "name": "stdout",
     "output_type": "stream",
     "text": [
      "EarlyStopping counter: 49 out of 50\n"
     ]
    },
    {
     "name": "stderr",
     "output_type": "stream",
     "text": [
      "Training:   9%|▊         | 87/1000 [06:08<1:04:22,  4.23s/Epoch]"
     ]
    },
    {
     "name": "stdout",
     "output_type": "stream",
     "text": [
      "EarlyStopping counter: 50 out of 50\n",
      "Early stopping\n"
     ]
    },
    {
     "name": "stderr",
     "output_type": "stream",
     "text": [
      "\n"
     ]
    }
   ],
   "source": [
    "# Train the model\n",
    "train_losses, val_losses, model = train(model, loss_function, optimizer, scheduler, train_loader, val_loader, epochs=1000, device=device, patience=50)"
   ]
  },
  {
   "cell_type": "code",
   "execution_count": 393,
   "metadata": {},
   "outputs": [
    {
     "data": {
      "text/plain": [
       "Text(0.5, 1.0, 'Training Loss')"
      ]
     },
     "execution_count": 393,
     "metadata": {},
     "output_type": "execute_result"
    },
    {
     "data": {
      "image/png": "[encoded data removed]",
      "text/plain": [
       "<Figure size 640x480 with 1 Axes>"
      ]
     },
     "metadata": {},
     "output_type": "display_data"
    }
   ],
   "source": [
    "# Plot the losses\n",
    "import seaborn as sns\n",
    "sns.lineplot(x=range(len(train_losses)), y=train_losses, label=\"Train Loss\")\n",
    "sns.lineplot(x=range(len(val_losses)), y=val_losses, label=\"Validation Loss\")\n",
    "plt.yscale(\"log\")\n",
    "plt.xlabel(\"Epoch\")\n",
    "plt.ylabel(\"Loss\")\n",
    "plt.title(\"Training Loss\")"
   ]
  },
  {
   "cell_type": "code",
   "execution_count": 394,
   "metadata": {},
   "outputs": [
    {
     "name": "stdout",
     "output_type": "stream",
     "text": [
      "Test Loss: 6.300220086024358\n",
      "Test Loss per batch: 8.4163818359375\n"
     ]
    },
    {
     "data": {
      "image/png": "[encoded data removed]",
      "text/plain": [
       "<Figure size 1200x600 with 2 Axes>"
      ]
     },
     "metadata": {},
     "output_type": "display_data"
    }
   ],
   "source": [
    "# Test the model\n",
    "predictions, test_loss = test(model, test_loader, device=device)\n",
    "print(f\"Test Loss: {test_loss}\")\n",
    "\n",
    "\n",
    "for i, (X1, X2, y) in enumerate(test_loader):\n",
    "    print(\"Test Loss per batch:\", loss_function(predictions[i], y.to(device)).item())\n",
    "\n",
    "    # Plot the first sample\n",
    "    if i == 0:\n",
    "        break\n",
    "\n",
    "plt.figure(figsize=(12, 6))\n",
    "plt.subplot(2, 1, 1)\n",
    "plt.plot(y[0,:].cpu(), label=\"True\")\n",
    "plt.plot(predictions[i][0,:].cpu().detach(), label=\"Predicted\", linestyle=\"--\")\n",
    "plt.legend()\n",
    "plt.title(\"Surface Sample\")\n",
    "\n",
    "plt.subplot(2, 1, 2)\n",
    "diff = y[0,:].cpu() - predictions[i][0,:].cpu().detach()\n",
    "plt.plot(diff, label=\"Difference\")\n",
    "plt.legend()\n",
    "plt.title(\"Difference\")\n",
    "plt.tight_layout()\n",
    "plt.show()\n",
    "    \n"
   ]
  },
  {
   "cell_type": "code",
   "execution_count": null,
   "metadata": {},
   "outputs": [],
   "source": []
  }
 ],
 "metadata": {
  "kernelspec": {
   "display_name": "ML",
   "language": "python",
   "name": "python3"
  },
  "language_info": {
   "codemirror_mode": {
    "name": "ipython",
    "version": 3
   },
   "file_extension": ".py",
   "mimetype": "text/x-python",
   "name": "python",
   "nbconvert_exporter": "python",
   "pygments_lexer": "ipython3",
   "version": "3.12.4"
  }
 },
 "nbformat": 4,
 "nbformat_minor": 2
}
