{
 "cells": [
  {
   "cell_type": "markdown",
   "metadata": {},
   "source": [
    "# Use of UNet"
   ]
  },
  {
   "cell_type": "code",
   "execution_count": 7,
   "metadata": {},
   "outputs": [],
   "source": [
    "import torch\n",
    "import torch.nn as nn\n",
    "from torch.nn import Sequential, Conv1d, ReLU, BatchNorm1d, MaxPool1d, Flatten, Linear, Upsample\n",
    "from torch.utils.data import DataLoader, Dataset\n",
    "import pandas as pd\n",
    "import numpy as np\n",
    "import os\n",
    "import seaborn as sns\n",
    "import matplotlib.pyplot as plt"
   ]
  },
  {
   "cell_type": "code",
   "execution_count": 8,
   "metadata": {},
   "outputs": [],
   "source": [
    "class Conv1D_Layer(nn.Module):\n",
    "    def __init__(self, in_channels, out_channels, kernel_size, padding):\n",
    "        super(Conv1D_Layer, self).__init__()\n",
    "        self.conv1d = Conv1d(in_channels, out_channels, kernel_size, padding)\n",
    "        self.relu = Sigmoid()\n",
    "        self.batchnorm = BatchNorm1d(out_channels)\n",
    "\n",
    "    def forward(self, x):\n",
    "        x = self.conv1d(x)\n",
    "        x = self.batchnorm(x)\n",
    "        x = self.relu(x)\n",
    "        return x"
   ]
  },
  {
   "cell_type": "code",
   "execution_count": 20,
   "metadata": {},
   "outputs": [],
   "source": [
    "class UNet(nn.Module):\n",
    "    def __init__(self, in_channels, out_channels):\n",
    "        super(UNet, self).__init__()\n",
    "\n",
    "        self.encoder = nn.Sequential(\n",
    "            nn.Conv1d(in_channels, 64, kernel_size=3, padding=1),\n",
    "            nn.BatchNorm1d(64),\n",
    "            nn.Sigmoid(),\n",
    "            nn.Conv1d(64, 128, kernel_size=3, padding=1),\n",
    "            nn.BatchNorm1d(128),\n",
    "            nn.Sigmoid(),\n",
    "            nn.Conv1d(128, 256, kernel_size=3, padding=1),\n",
    "            nn.BatchNorm1d(256),\n",
    "            nn.Sigmoid(),\n",
    "            nn.Conv1d(256, 512, kernel_size=3, padding=1),\n",
    "            nn.BatchNorm1d(512),\n",
    "            nn.Sigmoid(),\n",
    "        )\n",
    "\n",
    "        self.decoder = nn.Sequential(\n",
    "            nn.Conv1d(512, 256, kernel_size=3, padding=1),\n",
    "            nn.BatchNorm1d(256),\n",
    "            nn.Sigmoid(),\n",
    "            nn.Conv1d(256, 128, kernel_size=3, padding=1),\n",
    "            nn.BatchNorm1d(128),\n",
    "            nn.Sigmoid(),\n",
    "            nn.Conv1d(128, 64, kernel_size=3, padding=1),\n",
    "            nn.BatchNorm1d(64),\n",
    "            nn.Sigmoid(),\n",
    "            nn.Conv1d(64, out_channels, kernel_size=3, padding=1),\n",
    "            nn.BatchNorm1d(out_channels),\n",
    "            nn.Sigmoid(),\n",
    "        )\n",
    "\n",
    "    def forward(self, x):\n",
    "        x = self.encoder(x)\n",
    "        x = self.decoder(x)\n",
    "        return x"
   ]
  },
  {
   "cell_type": "code",
   "execution_count": 21,
   "metadata": {},
   "outputs": [],
   "source": [
    "class objectview(object):\n",
    "    def __init__(self, d):\n",
    "        self.__dict__ = d"
   ]
  },
  {
   "cell_type": "code",
   "execution_count": 22,
   "metadata": {},
   "outputs": [],
   "source": [
    "# Define material properties\n",
    "Vs_values = np.array([140,250,1000,1500,2000,100,500,800,950,2500], dtype=float)\n",
    "f_values = np.array([1, 1.5, 1.75, 2.25, 3], dtype=float)\n",
    "t_values = np.linspace(0.5, 2.5, 10)\n",
    "\n",
    "# Create a list of all possible combinations of Vs, f, and t\n",
    "Vs_val, f_val, t_val = np.meshgrid(Vs_values, f_values, t_values, indexing='ij')\n",
    "Vs_val = Vs_val.flatten()\n",
    "f_val = f_val.flatten()\n",
    "t_val = t_val.flatten()\n",
    "\n",
    "# Create array with the combinations\n",
    "data = np.array([Vs_val, f_val, t_val]).T\n",
    "\n",
    "# Read all csv files from folder\n",
    "folder_path = r\"FLAC\\FLAC2D - Case 1a\\data\"\n",
    "files = os.listdir(folder_path)\n",
    "files = [f for f in files if f.endswith('.csv')]"
   ]
  },
  {
   "cell_type": "code",
   "execution_count": 27,
   "metadata": {},
   "outputs": [],
   "source": [
    "# Create DataSet class\n",
    "class MyDataset(Dataset):\n",
    "    def __init__(self, data, folder_path):\n",
    "        self.data = data\n",
    "        self.folder_path = folder_path\n",
    "\n",
    "    def __len__(self):\n",
    "        return len(self.data)\n",
    "\n",
    "    def __getitem__(self, idx):\n",
    "        # Read the file\n",
    "        file = files[idx]\n",
    "        df = pd.read_csv(os.path.join(self.folder_path, file))\n",
    "        # Get the data\n",
    "        target = df.values[:, 2:]\n",
    "        # Get the target\n",
    "        input_2 = self.data[idx]\n",
    "\n",
    "        # Get the additional input\n",
    "        freq1 = input_2[1]\n",
    "        t01 = input_2[2]\n",
    "        t = df.values[:, 0]\n",
    "        wave = -2*freq1**2*np.pi**2*np.exp(-freq1**2*np.pi**2*(t01 - t)**2)*(t01 - t)*(2*freq1**2*np.pi**2*t01**2 - 4*freq1**2*np.pi**2*t01*t + 2*freq1**2*np.pi**2*t**2 - 3)\n",
    "        input_1 = wave\n",
    "    \n",
    "        # Get final input\n",
    "        input_2 = input_2[0] * np.ones((30,))\n",
    "\n",
    "        # Convert to tensor\n",
    "        input_1 = torch.tensor(input_1, dtype=torch.float32)\n",
    "        input_2 = torch.tensor(input_2, dtype=torch.float32)\n",
    "        # Concat inputs\n",
    "        input_total = torch.cat((input_1, input_2), 0).unsqueeze(1)\n",
    "        target = torch.tensor(target, dtype=torch.float32)\n",
    "        \n",
    "        return input_total, target"
   ]
  },
  {
   "cell_type": "code",
   "execution_count": 28,
   "metadata": {},
   "outputs": [],
   "source": [
    "dataset = MyDataset(data, folder_path)"
   ]
  },
  {
   "cell_type": "code",
   "execution_count": 29,
   "metadata": {},
   "outputs": [
    {
     "name": "stdout",
     "output_type": "stream",
     "text": [
      "450 25 25\n",
      "Training set: torch.Size([2, 1530, 1]) torch.Size([2, 1500, 1])\n",
      "Validation set: torch.Size([2, 1530, 1]) torch.Size([2, 1500, 1])\n",
      "Testing set: torch.Size([2, 1530, 1]) torch.Size([2, 1500, 1])\n"
     ]
    }
   ],
   "source": [
    "# Define the sizes for training, validation, and testing sets\n",
    "from torch.utils.data import DataLoader, random_split\n",
    "\n",
    "train_size = int(0.9 * len(dataset))\n",
    "val_size = int(0.05 * len(dataset))\n",
    "test_size = len(dataset) - train_size - val_size\n",
    "print(train_size, val_size, test_size)\n",
    "\n",
    "# Split the dataset\n",
    "train_dataset, val_dataset, test_dataset = random_split(dataset, [train_size, val_size, test_size])\n",
    "\n",
    "# Create DataLoaders for each set\n",
    "batch_size = 2\n",
    "train_loader = DataLoader(train_dataset, batch_size=batch_size, shuffle=True)\n",
    "val_loader = DataLoader(val_dataset, batch_size=batch_size, shuffle=True)\n",
    "test_loader = DataLoader(test_dataset, batch_size=batch_size, shuffle=True)\n",
    "\n",
    "# Check the first batch of the training set\n",
    "for i, (input_1, target) in enumerate(train_loader):\n",
    "    print(\"Training set:\", input_1.shape, target.shape)\n",
    "    break\n",
    "\n",
    "# Check the first batch of the validation set\n",
    "for i, (input_1, target) in enumerate(val_loader):\n",
    "    print(\"Validation set:\", input_1.shape, target.shape)\n",
    "    break\n",
    "\n",
    "# Check the first batch of the testing set\n",
    "for i, (input_1, target) in enumerate(test_loader):\n",
    "    print(\"Testing set:\", input_1.shape, target.shape)\n",
    "    break"
   ]
  },
  {
   "cell_type": "code",
   "execution_count": 32,
   "metadata": {},
   "outputs": [
    {
     "name": "stdout",
     "output_type": "stream",
     "text": [
      "torch.Size([2, 1500, 1]) torch.Size([2, 1500, 1]) torch.Size([2, 1530, 1])\n"
     ]
    }
   ],
   "source": [
    "model = UNet(in_channels=1530, out_channels=1500)\n",
    "pred = model(input_1)\n",
    "print(pred.shape, target.shape, input_1.shape)\n",
    "assert pred.shape == target.shape"
   ]
  },
  {
   "cell_type": "code",
   "execution_count": 41,
   "metadata": {},
   "outputs": [],
   "source": [
    "from tqdm import trange\n",
    "\n",
    "# Training function\n",
    "def train(model, train_loader, val_loader, num_epochs=100, learning_rate=1e-3, device=\"cpu\"):\n",
    "    criterion = nn.MSELoss()\n",
    "    optimizer = torch.optim.Adam(model.parameters(), lr=learning_rate)\n",
    "    train_losses = []\n",
    "    val_losses = []\n",
    "\n",
    "    model.to(device)\n",
    "\n",
    "    for epoch in trange(num_epochs, desc=\"Training\", unit=\"epoch\"):\n",
    "        model.train()\n",
    "        train_loss = 0\n",
    "        for input_1, target in train_loader:\n",
    "            input_1 = input_1.to(device)\n",
    "            target = target.to(device)\n",
    "            # Forward pass\n",
    "            pred = model(input_1)\n",
    "            loss = criterion(pred, target)\n",
    "\n",
    "            # Backward pass\n",
    "            optimizer.zero_grad()\n",
    "            loss.backward()\n",
    "\n",
    "            # Optimize\n",
    "            optimizer.step()\n",
    "\n",
    "            train_loss += loss.item()\n",
    "\n",
    "        train_loss /= len(train_loader)\n",
    "\n",
    "        model.eval()\n",
    "        val_loss = 0\n",
    "        with torch.no_grad():\n",
    "            for input_1, target in val_loader:\n",
    "                input_1 = input_1.to(device)\n",
    "                target = target.to(device)\n",
    "                pred = model(input_1)\n",
    "                loss = criterion(pred, target)\n",
    "                val_loss += loss.item()\n",
    "\n",
    "        val_loss /= len(val_loader)\n",
    "\n",
    "        train_losses.append(train_loss)\n",
    "        val_losses.append(val_loss)\n",
    "\n",
    "        if epoch % 10 == 0:\n",
    "            print(f\"Epoch {epoch}, Train Loss: {train_loss}, Val Loss: {val_loss}\")\n",
    "\n",
    "    return train_losses, val_losses, model\n",
    "        "
   ]
  },
  {
   "cell_type": "code",
   "execution_count": 42,
   "metadata": {},
   "outputs": [
    {
     "name": "stdout",
     "output_type": "stream",
     "text": [
      "cuda\n"
     ]
    }
   ],
   "source": [
    "# Check device\n",
    "device = torch.device(\"cuda\" if torch.cuda.is_available() else \"cpu\")\n",
    "print(device)"
   ]
  },
  {
   "cell_type": "code",
   "execution_count": 46,
   "metadata": {},
   "outputs": [],
   "source": [
    "# Start training\n",
    "\n",
    "model = UNet(1530,1500).to(device)\n",
    "\n",
    "loss_function = nn.MSELoss()\n",
    "optimizer = torch.optim.Adam(model.parameters(), lr=0.001)\n",
    "scheduler = torch.optim.lr_scheduler.ExponentialLR(optimizer, gamma=0.1 ** (1 / 5e6))\n",
    "num_epochs = 100\n"
   ]
  },
  {
   "cell_type": "code",
   "execution_count": 47,
   "metadata": {},
   "outputs": [
    {
     "name": "stderr",
     "output_type": "stream",
     "text": [
      "Training:   1%|          | 1/100 [00:02<04:19,  2.62s/epoch]"
     ]
    },
    {
     "name": "stdout",
     "output_type": "stream",
     "text": [
      "Epoch 0, Train Loss: 6.882585006290012, Val Loss: 7.71866512298584\n"
     ]
    },
    {
     "name": "stderr",
     "output_type": "stream",
     "text": [
      "Training:  11%|█         | 11/100 [00:38<05:36,  3.78s/epoch]"
     ]
    },
    {
     "name": "stdout",
     "output_type": "stream",
     "text": [
      "Epoch 10, Train Loss: 6.676355928844876, Val Loss: 7.456470049344576\n"
     ]
    },
    {
     "name": "stderr",
     "output_type": "stream",
     "text": [
      "Training:  21%|██        | 21/100 [01:09<04:17,  3.25s/epoch]"
     ]
    },
    {
     "name": "stdout",
     "output_type": "stream",
     "text": [
      "Epoch 20, Train Loss: 6.642046396467421, Val Loss: 7.445951608511118\n"
     ]
    },
    {
     "name": "stderr",
     "output_type": "stream",
     "text": [
      "Training:  31%|███       | 31/100 [01:46<04:30,  3.93s/epoch]"
     ]
    },
    {
     "name": "stdout",
     "output_type": "stream",
     "text": [
      "Epoch 30, Train Loss: 6.627397695117526, Val Loss: 7.425530543694129\n"
     ]
    },
    {
     "name": "stderr",
     "output_type": "stream",
     "text": [
      "Training:  41%|████      | 41/100 [02:23<03:48,  3.88s/epoch]"
     ]
    },
    {
     "name": "stdout",
     "output_type": "stream",
     "text": [
      "Epoch 40, Train Loss: 6.621230638292101, Val Loss: 7.421956905951867\n"
     ]
    },
    {
     "name": "stderr",
     "output_type": "stream",
     "text": [
      "Training:  51%|█████     | 51/100 [03:01<03:04,  3.77s/epoch]"
     ]
    },
    {
     "name": "stdout",
     "output_type": "stream",
     "text": [
      "Epoch 50, Train Loss: 6.614143583509657, Val Loss: 7.416110405555139\n"
     ]
    },
    {
     "name": "stderr",
     "output_type": "stream",
     "text": [
      "Training:  61%|██████    | 61/100 [03:41<02:27,  3.78s/epoch]"
     ]
    },
    {
     "name": "stdout",
     "output_type": "stream",
     "text": [
      "Epoch 60, Train Loss: 6.6111434841156, Val Loss: 7.530754199394813\n"
     ]
    },
    {
     "name": "stderr",
     "output_type": "stream",
     "text": [
      "Training:  71%|███████   | 71/100 [04:25<01:58,  4.08s/epoch]"
     ]
    },
    {
     "name": "stdout",
     "output_type": "stream",
     "text": [
      "Epoch 70, Train Loss: 6.608798348108928, Val Loss: 7.613828915816087\n"
     ]
    },
    {
     "name": "stderr",
     "output_type": "stream",
     "text": [
      "Training:  81%|████████  | 81/100 [05:03<01:10,  3.69s/epoch]"
     ]
    },
    {
     "name": "stdout",
     "output_type": "stream",
     "text": [
      "Epoch 80, Train Loss: 6.607639223734537, Val Loss: 7.369074784792387\n"
     ]
    },
    {
     "name": "stderr",
     "output_type": "stream",
     "text": [
      "Training:  91%|█████████ | 91/100 [05:46<00:38,  4.23s/epoch]"
     ]
    },
    {
     "name": "stdout",
     "output_type": "stream",
     "text": [
      "Epoch 90, Train Loss: 6.606080010732015, Val Loss: 7.5244041956388035\n"
     ]
    },
    {
     "name": "stderr",
     "output_type": "stream",
     "text": [
      "Training: 100%|██████████| 100/100 [06:20<00:00,  3.81s/epoch]\n"
     ]
    }
   ],
   "source": [
    "train_losses, val_losses, model = train(model, train_loader, val_loader, num_epochs=num_epochs, learning_rate=1e-3, device=device)"
   ]
  },
  {
   "cell_type": "code",
   "execution_count": 354,
   "metadata": {},
   "outputs": [
    {
     "data": {
      "text/plain": [
       "Text(0.5, 1.0, 'Loss vs Epoch')"
      ]
     },
     "execution_count": 354,
     "metadata": {},
     "output_type": "execute_result"
    },
    {
     "data": {
      "image/png": "[encoded data removed]",
      "text/plain": [
       "<Figure size 640x480 with 1 Axes>"
      ]
     },
     "metadata": {},
     "output_type": "display_data"
    }
   ],
   "source": [
    "sns.lineplot(x=range(len(train_losses)), y=train_losses, label=\"Train Loss\")\n",
    "sns.lineplot(x=range(len(val_losses)), y=val_losses, label=\"Val Loss\")\n",
    "\n",
    "plt.yscale(\"log\")\n",
    "\n",
    "plt.xlabel(\"Epochs\")\n",
    "plt.ylabel(\"Loss\")\n",
    "plt.title(\"Loss vs Epochs\")\n",
    "plt.show()\n",
    "\n"
   ]
  },
  {
   "cell_type": "code",
   "execution_count": 49,
   "metadata": {},
   "outputs": [],
   "source": [
    "def test(model, test_loader, device=\"cpu\"):\n",
    "    criterion = nn.MSELoss()\n",
    "    model.to(device)\n",
    "    model.eval()\n",
    "\n",
    "    test_loss = 0\n",
    "    predictions = []\n",
    "    with torch.no_grad():\n",
    "        for input_1, target in test_loader:\n",
    "            input_1 = input_1.to(device)\n",
    "            target = target.to(device)\n",
    "            pred = model(input_1)\n",
    "            loss = criterion(pred, target)\n",
    "            test_loss += loss.item()\n",
    "            predictions.append(pred)\n",
    "\n",
    "    test_loss /= len(test_loader)\n",
    "\n",
    "    return test_loss, predictions\n",
    "\n",
    "            "
   ]
  },
  {
   "cell_type": "code",
   "execution_count": 50,
   "metadata": {},
   "outputs": [
    {
     "name": "stdout",
     "output_type": "stream",
     "text": [
      "Test Loss: [tensor([[[0.0013],\n",
      "         [0.0013],\n",
      "         [0.0013],\n",
      "         ...,\n",
      "         [0.0013],\n",
      "         [0.0013],\n",
      "         [0.0013]],\n",
      "\n",
      "        [[0.0013],\n",
      "         [0.0013],\n",
      "         [0.0013],\n",
      "         ...,\n",
      "         [0.0013],\n",
      "         [0.0013],\n",
      "         [0.0013]]], device='cuda:0'), tensor([[[0.0013],\n",
      "         [0.0013],\n",
      "         [0.0013],\n",
      "         ...,\n",
      "         [0.0013],\n",
      "         [0.0013],\n",
      "         [0.0013]],\n",
      "\n",
      "        [[0.0013],\n",
      "         [0.0013],\n",
      "         [0.0013],\n",
      "         ...,\n",
      "         [0.0013],\n",
      "         [0.0013],\n",
      "         [0.0013]]], device='cuda:0'), tensor([[[0.0013],\n",
      "         [0.0013],\n",
      "         [0.0013],\n",
      "         ...,\n",
      "         [0.0013],\n",
      "         [0.0013],\n",
      "         [0.0013]],\n",
      "\n",
      "        [[0.0013],\n",
      "         [0.0013],\n",
      "         [0.0013],\n",
      "         ...,\n",
      "         [0.0013],\n",
      "         [0.0013],\n",
      "         [0.0013]]], device='cuda:0'), tensor([[[0.0013],\n",
      "         [0.0013],\n",
      "         [0.0013],\n",
      "         ...,\n",
      "         [0.0013],\n",
      "         [0.0013],\n",
      "         [0.0013]],\n",
      "\n",
      "        [[0.0013],\n",
      "         [0.0013],\n",
      "         [0.0013],\n",
      "         ...,\n",
      "         [0.0013],\n",
      "         [0.0013],\n",
      "         [0.0013]]], device='cuda:0'), tensor([[[0.0013],\n",
      "         [0.0013],\n",
      "         [0.0013],\n",
      "         ...,\n",
      "         [0.0013],\n",
      "         [0.0013],\n",
      "         [0.0013]],\n",
      "\n",
      "        [[0.0013],\n",
      "         [0.0013],\n",
      "         [0.0013],\n",
      "         ...,\n",
      "         [0.0013],\n",
      "         [0.0013],\n",
      "         [0.0013]]], device='cuda:0'), tensor([[[0.0013],\n",
      "         [0.0013],\n",
      "         [0.0013],\n",
      "         ...,\n",
      "         [0.0013],\n",
      "         [0.0013],\n",
      "         [0.0013]],\n",
      "\n",
      "        [[0.0013],\n",
      "         [0.0013],\n",
      "         [0.0013],\n",
      "         ...,\n",
      "         [0.0013],\n",
      "         [0.0013],\n",
      "         [0.0013]]], device='cuda:0'), tensor([[[0.0013],\n",
      "         [0.0013],\n",
      "         [0.0013],\n",
      "         ...,\n",
      "         [0.0013],\n",
      "         [0.0013],\n",
      "         [0.0013]],\n",
      "\n",
      "        [[0.0013],\n",
      "         [0.0013],\n",
      "         [0.0013],\n",
      "         ...,\n",
      "         [0.0013],\n",
      "         [0.0013],\n",
      "         [0.0013]]], device='cuda:0'), tensor([[[0.0013],\n",
      "         [0.0013],\n",
      "         [0.0013],\n",
      "         ...,\n",
      "         [0.0013],\n",
      "         [0.0013],\n",
      "         [0.0013]],\n",
      "\n",
      "        [[0.0013],\n",
      "         [0.0013],\n",
      "         [0.0013],\n",
      "         ...,\n",
      "         [0.0013],\n",
      "         [0.0013],\n",
      "         [0.0013]]], device='cuda:0'), tensor([[[0.0013],\n",
      "         [0.0013],\n",
      "         [0.0013],\n",
      "         ...,\n",
      "         [0.0013],\n",
      "         [0.0013],\n",
      "         [0.0013]],\n",
      "\n",
      "        [[0.0013],\n",
      "         [0.0013],\n",
      "         [0.0013],\n",
      "         ...,\n",
      "         [0.0013],\n",
      "         [0.0013],\n",
      "         [0.0013]]], device='cuda:0'), tensor([[[0.0013],\n",
      "         [0.0013],\n",
      "         [0.0013],\n",
      "         ...,\n",
      "         [0.0013],\n",
      "         [0.0013],\n",
      "         [0.0013]],\n",
      "\n",
      "        [[0.0013],\n",
      "         [0.0013],\n",
      "         [0.0013],\n",
      "         ...,\n",
      "         [0.0013],\n",
      "         [0.0013],\n",
      "         [0.0013]]], device='cuda:0'), tensor([[[0.0013],\n",
      "         [0.0013],\n",
      "         [0.0013],\n",
      "         ...,\n",
      "         [0.0013],\n",
      "         [0.0013],\n",
      "         [0.0013]],\n",
      "\n",
      "        [[0.0013],\n",
      "         [0.0013],\n",
      "         [0.0013],\n",
      "         ...,\n",
      "         [0.0013],\n",
      "         [0.0013],\n",
      "         [0.0013]]], device='cuda:0'), tensor([[[0.0013],\n",
      "         [0.0013],\n",
      "         [0.0013],\n",
      "         ...,\n",
      "         [0.0013],\n",
      "         [0.0013],\n",
      "         [0.0013]],\n",
      "\n",
      "        [[0.0013],\n",
      "         [0.0013],\n",
      "         [0.0013],\n",
      "         ...,\n",
      "         [0.0013],\n",
      "         [0.0013],\n",
      "         [0.0013]]], device='cuda:0'), tensor([[[0.0013],\n",
      "         [0.0013],\n",
      "         [0.0013],\n",
      "         ...,\n",
      "         [0.0013],\n",
      "         [0.0013],\n",
      "         [0.0013]]], device='cuda:0')]\n"
     ]
    }
   ],
   "source": [
    "predictions, test_loss = test(model, test_loader, device=device)\n",
    "print(f\"Test Loss: {test_loss}\")"
   ]
  },
  {
   "cell_type": "code",
   "execution_count": 48,
   "metadata": {},
   "outputs": [
    {
     "ename": "NameError",
     "evalue": "name 'predictions' is not defined",
     "output_type": "error",
     "traceback": [
      "\u001b[1;31m---------------------------------------------------------------------------\u001b[0m",
      "\u001b[1;31mNameError\u001b[0m                                 Traceback (most recent call last)",
      "Cell \u001b[1;32mIn[48], line 2\u001b[0m\n\u001b[0;32m      1\u001b[0m \u001b[38;5;66;03m# Plot the first prediction\u001b[39;00m\n\u001b[1;32m----> 2\u001b[0m \u001b[43mpredictions\u001b[49m\n",
      "\u001b[1;31mNameError\u001b[0m: name 'predictions' is not defined"
     ]
    }
   ],
   "source": [
    "# Plot the first prediction\n",
    "predictions"
   ]
  },
  {
   "cell_type": "code",
   "execution_count": null,
   "metadata": {},
   "outputs": [],
   "source": []
  }
 ],
 "metadata": {
  "kernelspec": {
   "display_name": "ML",
   "language": "python",
   "name": "python3"
  },
  "language_info": {
   "codemirror_mode": {
    "name": "ipython",
    "version": 3
   },
   "file_extension": ".py",
   "mimetype": "text/x-python",
   "name": "python",
   "nbconvert_exporter": "python",
   "pygments_lexer": "ipython3",
   "version": "3.12.4"
  }
 },
 "nbformat": 4,
 "nbformat_minor": 2
}
