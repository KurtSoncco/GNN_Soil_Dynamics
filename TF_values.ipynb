{
 "cells": [
  {
   "cell_type": "code",
   "execution_count": 1,
   "metadata": {},
   "outputs": [],
   "source": [
    "import pandas as pd \n",
    "import numpy as np \n",
    "\n",
    "# Import TF Functions\n",
    "import sys \n",
    "sys.path.append(r'C:\\Users\\kurt-\\Documents\\GitHub\\GNN_Soil_Dynamics\\TF Functions')\n",
    "from TTF import TTF"
   ]
  },
  {
   "cell_type": "code",
   "execution_count": 2,
   "metadata": {},
   "outputs": [
    {
     "name": "stdout",
     "output_type": "stream",
     "text": [
      "Extracted value: 100.000\n"
     ]
    }
   ],
   "source": [
    "# Read all files with csv\n",
    "import os\n",
    "import re\n",
    "path = r\"FLAC\\FLAC2D - Case 1a\\data2\"\n",
    "\n",
    "files = [ f for f in os.listdir(path) if f.endswith('.csv')]\n",
    "\n",
    "# Use regular expression to extract the value\n",
    "pattern = r'Data_(\\d+\\.\\d+)_\\d+\\.\\d+_\\d+\\.\\d+\\.csv'\n",
    "match = re.search(pattern, files[0])\n",
    "if match:\n",
    "    extracted_value = match.group(1)\n",
    "    print(f'Extracted value: {extracted_value}')\n",
    "else:\n",
    "    print('No match found')\n",
    "\n",
    "\n",
    "# Extract all patterns\n",
    "Vs_values = []\n",
    "for f in files:\n",
    "    match = re.search(pattern, f)\n",
    "    if match:\n",
    "        extracted_value = match.group(1)\n",
    "        Vs_values.append(float(extracted_value))\n",
    "    else:\n",
    "        print('No match found')\n",
    "\n"
   ]
  },
  {
   "cell_type": "code",
   "execution_count": 4,
   "metadata": {},
   "outputs": [],
   "source": [
    "# Create a class that reads the csv and appends the TTF data\n",
    "\n",
    "class TTF_Reader:\n",
    "    def __init__(self, path):\n",
    "        self.path = path\n",
    "        self.files = [ f for f in os.listdir(path) if f.endswith('.csv')]\n",
    "        self.data = []\n",
    "        \n",
    "    def read(self):\n",
    "        prev_freq = None\n",
    "        for file in self.files:\n",
    "            data = pd.read_csv(os.path.join(self.path, file))\n",
    "            freq, TTF_val = TTF(data.iloc[:, 2].values, data.iloc[:, 1].values, data.iloc[0, 0])\n",
    "            # Check if the frequency is the same\n",
    "            if prev_freq is not None:\n",
    "                if np.allclose(prev_freq, freq) == False:\n",
    "                    print(f\"Frequency is not the same for file {file}\")\n",
    "                    break\n",
    "            prev_freq = freq\n",
    "            np.savetxt(f\"TTF_{file}.csv\", freq, delimiter=',')\n",
    "            break\n",
    "            # Just append TTF\n",
    "            self.data.append(TTF_val)\n",
    "            print(f\"File {file} has been read\")\n",
    "            \n",
    "        return self.data"
   ]
  },
  {
   "cell_type": "code",
   "execution_count": 5,
   "metadata": {},
   "outputs": [
    {
     "data": {
      "text/plain": [
       "[]"
      ]
     },
     "execution_count": 5,
     "metadata": {},
     "output_type": "execute_result"
    }
   ],
   "source": [
    "A = TTF_Reader(path)\n",
    "A.read()\n",
    "\n"
   ]
  },
  {
   "cell_type": "code",
   "execution_count": 62,
   "metadata": {},
   "outputs": [
    {
     "name": "stdout",
     "output_type": "stream",
     "text": [
      "Data has been saved\n",
      "Vs values have been saved\n"
     ]
    }
   ],
   "source": [
    "# Save the data to a pt file\n",
    "import pickle\n",
    "\n",
    "with open('TTF_data.pt', 'wb') as f:\n",
    "    pickle.dump(A.data, f)\n",
    "    print('Data has been saved')\n",
    "\n",
    "# Save the Vs values\n",
    "with open('Vs_values.pt', 'wb') as f:\n",
    "    pickle.dump(Vs_values, f)\n",
    "    print('Vs values have been saved')"
   ]
  },
  {
   "cell_type": "code",
   "execution_count": null,
   "metadata": {},
   "outputs": [],
   "source": []
  }
 ],
 "metadata": {
  "kernelspec": {
   "display_name": "base",
   "language": "python",
   "name": "python3"
  },
  "language_info": {
   "codemirror_mode": {
    "name": "ipython",
    "version": 3
   },
   "file_extension": ".py",
   "mimetype": "text/x-python",
   "name": "python",
   "nbconvert_exporter": "python",
   "pygments_lexer": "ipython3",
   "version": "3.12.2"
  }
 },
 "nbformat": 4,
 "nbformat_minor": 2
}
