{
 "cells": [
  {
   "cell_type": "code",
   "execution_count": 1,
   "id": "9877d3a9",
   "metadata": {},
   "outputs": [],
   "source": [
    "import requests\n",
    "from requests.auth import HTTPBasicAuth\n",
    "import getpass\n",
    "import json\n",
    "\n",
    "email = \"kurtwal98@berkeley.edu\"\n",
    "password = \"aWd4Aqk-rS2EKDV\"\n",
    "url = 'http://www.vspdb.org/users/login'\n",
    "headers = {}\n",
    "headers['User-Agent'] = \"Mozilla/5.0 (Windows NT 10.0; Win64; x64) AppleWebKit/537.36 (KHTML, like Gecko) 134.0.6998.118 Safari/537.36\"\n",
    "headers['Accept'] = \"application/json\"\n",
    "r = requests.get(url, headers=headers, auth=HTTPBasicAuth(email,password))\n",
    "token = json.loads(r.text)['token']"
   ]
  },
  {
   "cell_type": "code",
   "execution_count": 2,
   "id": "c97926bf",
   "metadata": {},
   "outputs": [],
   "source": [
    "import pandas as pd\n",
    "import requests\n",
    "import json\n",
    "\n",
    "headers = {}\n",
    "headers[\"Accept\"] = \"application/json\"\n",
    "headers[\"User-Agent\"] = \"Mozilla/5.0 (Windows NT 10.0; Win64; x64) AppleWebKit/537.36 (KHTML, like Gecko) 134.0.6998.118 Safari/537.36\"\n",
    "headers[\"Authorization\"] = \"Bearer {}\".format(token)\n",
    "url = 'https://www.vspdb.org/vsLayerData?limit=20'\n",
    "r= requests.get(url, headers=headers)\n",
    "df = pd.DataFrame.from_dict(json.loads(r.text))"
   ]
  },
  {
   "cell_type": "code",
   "execution_count": null,
   "id": "f3865aee",
   "metadata": {},
   "outputs": [],
   "source": [
    "import pandas as pd\n",
    "import requests\n",
    "import json\n",
    "\n",
    "# Define headers and authentication\n",
    "headers = {\n",
    "    \"Accept\": \"application/json\",\n",
    "    \"User-Agent\": \"Mozilla/5.0 (Windows NT 10.0; Win64; x64) AppleWebKit/537.36 (KHTML, like Gecko) 134.0.6998.118 Safari/537.36\",\n",
    "    \"Authorization\": f\"Bearer {token}\"\n",
    "}\n",
    "\n",
    "# Base URL\n",
    "base_url = 'https://www.vspdb.org/vsLayerData?contain=VelocityMetadata'\n",
    "\n",
    "# Initialize an empty DataFrame to store all data\n",
    "all_data = pd.DataFrame()\n",
    "\n",
    "# Pagination loop\n",
    "page = 1\n",
    "while True:\n",
    "    # Add the page parameter to the URL\n",
    "    url = f\"{base_url}&page={page}&limit=100\"\n",
    "    response = requests.get(url, headers=headers)\n",
    "    \n",
    "    # Check if the response is successful\n",
    "    if response.status_code != 200:\n",
    "        print(f\"Failed to fetch data for page {page}. Status code: {response.status_code}\")\n",
    "        break\n",
    "    \n",
    "    # Parse the JSON response\n",
    "    data = json.loads(response.text)\n",
    "    \n",
    "    # Check if there is data in the current page\n",
    "    if not data:\n",
    "        print(\"No more data to fetch.\")\n",
    "        break\n",
    "    \n",
    "    # Append the data to the DataFrame\n",
    "    all_data = pd.concat([all_data, pd.DataFrame.from_dict(data)], ignore_index=True)\n",
    "    \n",
    "    # Move to the next page\n",
    "    page += 1\n",
    "\n",
    "# Display the collected data\n",
    "print(all_data.head())\n",
    "\n",
    "# Save the data to a CSV file\n",
    "all_data.to_csv('vspdb_data.csv', index=False)"
   ]
  },
  {
   "cell_type": "code",
   "execution_count": 3,
   "id": "014e663e",
   "metadata": {},
   "outputs": [],
   "source": [
    "# Save this data in a zip file\n",
    "import zipfile\n",
    "import os\n",
    "import pandas as pd\n",
    "\n",
    "# Define the filename for the CSV file\n",
    "csv_filename = 'vspdb_data.csv'\n",
    "\n",
    "# Save the DataFrame to a CSV file\n",
    "all_data = pd.read_csv(csv_filename)\n",
    "\n"
   ]
  },
  {
   "cell_type": "code",
   "execution_count": 4,
   "id": "644aeffa",
   "metadata": {},
   "outputs": [
    {
     "name": "stdout",
     "output_type": "stream",
     "text": [
      "NaN counts in each column:\n"
     ]
    }
   ],
   "source": [
    "# Check Nans in the DataFrame\n",
    "nan_counts = all_data.isna().sum()\n",
    "print(\"NaN counts in each column:\")"
   ]
  },
  {
   "cell_type": "code",
   "execution_count": 5,
   "id": "df87b78d",
   "metadata": {},
   "outputs": [
    {
     "data": {
      "application/vnd.microsoft.datawrangler.viewer.v0+json": {
       "columns": [
        {
         "name": "index",
         "rawType": "object",
         "type": "string"
        },
        {
         "name": "id",
         "rawType": "float64",
         "type": "float"
        },
        {
         "name": "velocity_metadata_id",
         "rawType": "float64",
         "type": "float"
        },
        {
         "name": "vs_top_depth",
         "rawType": "float64",
         "type": "float"
        },
        {
         "name": "vs_bottom_depth",
         "rawType": "float64",
         "type": "float"
        },
        {
         "name": "vs_layer_value",
         "rawType": "float64",
         "type": "float"
        }
       ],
       "conversionMethod": "pd.DataFrame",
       "ref": "338cd9b9-cd9d-42ef-af67-e84e6778dc01",
       "rows": [
        [
         "count",
         "18186.0",
         "18186.0",
         "18186.0",
         "17977.0",
         "18165.0"
        ],
        [
         "mean",
         "9138.344330803915",
         "1667.5164412185197",
         "30.51514550577367",
         "40.032390526951104",
         "463.942446209744"
        ],
        [
         "std",
         "5278.405645366936",
         "926.7378957935257",
         "84.46653715926874",
         "106.14201592417959",
         "432.64851091134886"
        ],
        [
         "min",
         "1.0",
         "1.0",
         "0.0",
         "0.06096",
         "14.0885"
        ],
        [
         "25%",
         "4584.25",
         "761.0",
         "3.3528",
         "7.0",
         "216.641"
        ],
        [
         "50%",
         "9137.5",
         "1958.5",
         "11.392900000000001",
         "16.7762",
         "321.869"
        ],
        [
         "75%",
         "13683.75",
         "2466.0",
         "25.0",
         "30.05",
         "532.0"
        ],
        [
         "max",
         "18279.0",
         "2968.0",
         "2222.91",
         "2259.48",
         "8500.0"
        ]
       ],
       "shape": {
        "columns": 5,
        "rows": 8
       }
      },
      "text/html": [
       "<div>\n",
       "<style scoped>\n",
       "    .dataframe tbody tr th:only-of-type {\n",
       "        vertical-align: middle;\n",
       "    }\n",
       "\n",
       "    .dataframe tbody tr th {\n",
       "        vertical-align: top;\n",
       "    }\n",
       "\n",
       "    .dataframe thead th {\n",
       "        text-align: right;\n",
       "    }\n",
       "</style>\n",
       "<table border=\"1\" class=\"dataframe\">\n",
       "  <thead>\n",
       "    <tr style=\"text-align: right;\">\n",
       "      <th></th>\n",
       "      <th>id</th>\n",
       "      <th>velocity_metadata_id</th>\n",
       "      <th>vs_top_depth</th>\n",
       "      <th>vs_bottom_depth</th>\n",
       "      <th>vs_layer_value</th>\n",
       "    </tr>\n",
       "  </thead>\n",
       "  <tbody>\n",
       "    <tr>\n",
       "      <th>count</th>\n",
       "      <td>18186.000000</td>\n",
       "      <td>18186.000000</td>\n",
       "      <td>18186.000000</td>\n",
       "      <td>17977.000000</td>\n",
       "      <td>18165.000000</td>\n",
       "    </tr>\n",
       "    <tr>\n",
       "      <th>mean</th>\n",
       "      <td>9138.344331</td>\n",
       "      <td>1667.516441</td>\n",
       "      <td>30.515146</td>\n",
       "      <td>40.032391</td>\n",
       "      <td>463.942446</td>\n",
       "    </tr>\n",
       "    <tr>\n",
       "      <th>std</th>\n",
       "      <td>5278.405645</td>\n",
       "      <td>926.737896</td>\n",
       "      <td>84.466537</td>\n",
       "      <td>106.142016</td>\n",
       "      <td>432.648511</td>\n",
       "    </tr>\n",
       "    <tr>\n",
       "      <th>min</th>\n",
       "      <td>1.000000</td>\n",
       "      <td>1.000000</td>\n",
       "      <td>0.000000</td>\n",
       "      <td>0.060960</td>\n",
       "      <td>14.088500</td>\n",
       "    </tr>\n",
       "    <tr>\n",
       "      <th>25%</th>\n",
       "      <td>4584.250000</td>\n",
       "      <td>761.000000</td>\n",
       "      <td>3.352800</td>\n",
       "      <td>7.000000</td>\n",
       "      <td>216.641000</td>\n",
       "    </tr>\n",
       "    <tr>\n",
       "      <th>50%</th>\n",
       "      <td>9137.500000</td>\n",
       "      <td>1958.500000</td>\n",
       "      <td>11.392900</td>\n",
       "      <td>16.776200</td>\n",
       "      <td>321.869000</td>\n",
       "    </tr>\n",
       "    <tr>\n",
       "      <th>75%</th>\n",
       "      <td>13683.750000</td>\n",
       "      <td>2466.000000</td>\n",
       "      <td>25.000000</td>\n",
       "      <td>30.050000</td>\n",
       "      <td>532.000000</td>\n",
       "    </tr>\n",
       "    <tr>\n",
       "      <th>max</th>\n",
       "      <td>18279.000000</td>\n",
       "      <td>2968.000000</td>\n",
       "      <td>2222.910000</td>\n",
       "      <td>2259.480000</td>\n",
       "      <td>8500.000000</td>\n",
       "    </tr>\n",
       "  </tbody>\n",
       "</table>\n",
       "</div>"
      ],
      "text/plain": [
       "                 id  velocity_metadata_id  vs_top_depth  vs_bottom_depth  \\\n",
       "count  18186.000000          18186.000000  18186.000000     17977.000000   \n",
       "mean    9138.344331           1667.516441     30.515146        40.032391   \n",
       "std     5278.405645            926.737896     84.466537       106.142016   \n",
       "min        1.000000              1.000000      0.000000         0.060960   \n",
       "25%     4584.250000            761.000000      3.352800         7.000000   \n",
       "50%     9137.500000           1958.500000     11.392900        16.776200   \n",
       "75%    13683.750000           2466.000000     25.000000        30.050000   \n",
       "max    18279.000000           2968.000000   2222.910000      2259.480000   \n",
       "\n",
       "       vs_layer_value  \n",
       "count    18165.000000  \n",
       "mean       463.942446  \n",
       "std        432.648511  \n",
       "min         14.088500  \n",
       "25%        216.641000  \n",
       "50%        321.869000  \n",
       "75%        532.000000  \n",
       "max       8500.000000  "
      ]
     },
     "execution_count": 5,
     "metadata": {},
     "output_type": "execute_result"
    }
   ],
   "source": [
    "all_data.describe()"
   ]
  },
  {
   "cell_type": "markdown",
   "id": "63096b55",
   "metadata": {},
   "source": [
    "# Extract vs values"
   ]
  },
  {
   "cell_type": "code",
   "execution_count": 6,
   "id": "bf40b9e4",
   "metadata": {},
   "outputs": [
    {
     "name": "stdout",
     "output_type": "stream",
     "text": [
      "(2382,)\n"
     ]
    }
   ],
   "source": [
    "vs_id = all_data[\"velocity_metadata_id\"].unique()\n",
    "print(vs_id.shape)"
   ]
  },
  {
   "cell_type": "code",
   "execution_count": 32,
   "id": "fdfa6960",
   "metadata": {},
   "outputs": [
    {
     "data": {
      "image/png": "[encoded data removed]",
      "text/plain": [
       "<Figure size 640x480 with 1 Axes>"
      ]
     },
     "metadata": {},
     "output_type": "display_data"
    }
   ],
   "source": [
    "import numpy as np\n",
    "import matplotlib.pyplot as plt\n",
    "\n",
    "# Define the depth array\n",
    "df = all_data[all_data[\"velocity_metadata_id\"] == 1513]\n",
    "min_depth = df[\"vs_top_depth\"].min()\n",
    "max_depth = df[\"vs_bottom_depth\"].max()\n",
    "depth = np.arange(min_depth, max_depth, 0.5)\n",
    "\n",
    "# Initialize the vs_array with NaN values\n",
    "vs_array = np.full_like(depth, np.nan, dtype=float)\n",
    "\n",
    "# Iterate through each layer in the DataFrame\n",
    "for _, row in df.iterrows():\n",
    "    # Get the depth range for the current layer\n",
    "    top_depth = row[\"vs_top_depth\"]\n",
    "    bottom_depth = row[\"vs_bottom_depth\"]\n",
    "    vs_value = row[\"vs_layer_value\"]\n",
    "    \n",
    "    # Assign the vs_layer_value to the corresponding depth range in vs_array\n",
    "    vs_array[(depth >= top_depth) & (depth < bottom_depth)] = vs_value\n",
    "\n",
    "# Now, depth and vs_array are aligned\n",
    "\n",
    "plt.scatter(vs_array, depth, s=1)\n",
    "#plt.hlines(y=df[\"vs_bottom_depth\"], xmin=0, xmax=5000, color=\"red\", lw=1)\n",
    "plt.gca().invert_yaxis()"
   ]
  },
  {
   "cell_type": "code",
   "execution_count": 34,
   "id": "0627eec0",
   "metadata": {},
   "outputs": [
    {
     "data": {
      "application/vnd.microsoft.datawrangler.viewer.v0+json": {
       "columns": [
        {
         "name": "index",
         "rawType": "int64",
         "type": "integer"
        },
        {
         "name": "id",
         "rawType": "int64",
         "type": "integer"
        },
        {
         "name": "velocity_metadata_id",
         "rawType": "int64",
         "type": "integer"
        },
        {
         "name": "vs_top_depth",
         "rawType": "float64",
         "type": "float"
        },
        {
         "name": "vs_bottom_depth",
         "rawType": "float64",
         "type": "float"
        },
        {
         "name": "vs_layer_value",
         "rawType": "float64",
         "type": "float"
        },
        {
         "name": "vs_halfspace",
         "rawType": "bool",
         "type": "boolean"
        },
        {
         "name": "velocity_metadata",
         "rawType": "object",
         "type": "string"
        }
       ],
       "conversionMethod": "pd.DataFrame",
       "ref": "90c501fa-81f4-4b9a-a39b-561cb7c40343",
       "rows": [
        [
         "8189",
         "8230",
         "1513",
         "0.0",
         "1.0",
         null,
         "False",
         "{'id': 1513, 'test_id': 1455, 'velocity_name': '96-37', 'velocity_method': 'Suspension Logging', 'velocity_date': None, 'velocity_quality': None, 'vs30': 191.851, 'vs30_method': 0, 'velocity_comment': 'Suspension'}"
        ],
        [
         "8190",
         "8231",
         "1513",
         "1.0",
         "1.5",
         null,
         "False",
         "{'id': 1513, 'test_id': 1455, 'velocity_name': '96-37', 'velocity_method': 'Suspension Logging', 'velocity_date': None, 'velocity_quality': None, 'vs30': 191.851, 'vs30_method': 0, 'velocity_comment': 'Suspension'}"
        ],
        [
         "8191",
         "8232",
         "1513",
         "1.5",
         "2.0",
         "79.0",
         "False",
         "{'id': 1513, 'test_id': 1455, 'velocity_name': '96-37', 'velocity_method': 'Suspension Logging', 'velocity_date': None, 'velocity_quality': None, 'vs30': 191.851, 'vs30_method': 0, 'velocity_comment': 'Suspension'}"
        ],
        [
         "8192",
         "8233",
         "1513",
         "2.0",
         "2.5",
         "82.0",
         "False",
         "{'id': 1513, 'test_id': 1455, 'velocity_name': '96-37', 'velocity_method': 'Suspension Logging', 'velocity_date': None, 'velocity_quality': None, 'vs30': 191.851, 'vs30_method': 0, 'velocity_comment': 'Suspension'}"
        ],
        [
         "8193",
         "8234",
         "1513",
         "2.5",
         "3.0",
         "124.0",
         "False",
         "{'id': 1513, 'test_id': 1455, 'velocity_name': '96-37', 'velocity_method': 'Suspension Logging', 'velocity_date': None, 'velocity_quality': None, 'vs30': 191.851, 'vs30_method': 0, 'velocity_comment': 'Suspension'}"
        ],
        [
         "8194",
         "8235",
         "1513",
         "3.0",
         "3.5",
         null,
         "False",
         "{'id': 1513, 'test_id': 1455, 'velocity_name': '96-37', 'velocity_method': 'Suspension Logging', 'velocity_date': None, 'velocity_quality': None, 'vs30': 191.851, 'vs30_method': 0, 'velocity_comment': 'Suspension'}"
        ],
        [
         "8195",
         "8236",
         "1513",
         "3.5",
         "4.0",
         "67.0",
         "False",
         "{'id': 1513, 'test_id': 1455, 'velocity_name': '96-37', 'velocity_method': 'Suspension Logging', 'velocity_date': None, 'velocity_quality': None, 'vs30': 191.851, 'vs30_method': 0, 'velocity_comment': 'Suspension'}"
        ],
        [
         "8196",
         "8237",
         "1513",
         "4.0",
         "4.5",
         "63.0",
         "False",
         "{'id': 1513, 'test_id': 1455, 'velocity_name': '96-37', 'velocity_method': 'Suspension Logging', 'velocity_date': None, 'velocity_quality': None, 'vs30': 191.851, 'vs30_method': 0, 'velocity_comment': 'Suspension'}"
        ],
        [
         "8197",
         "8238",
         "1513",
         "4.5",
         "5.0",
         "76.0",
         "False",
         "{'id': 1513, 'test_id': 1455, 'velocity_name': '96-37', 'velocity_method': 'Suspension Logging', 'velocity_date': None, 'velocity_quality': None, 'vs30': 191.851, 'vs30_method': 0, 'velocity_comment': 'Suspension'}"
        ],
        [
         "8198",
         "8239",
         "1513",
         "5.0",
         "5.5",
         "71.0",
         "False",
         "{'id': 1513, 'test_id': 1455, 'velocity_name': '96-37', 'velocity_method': 'Suspension Logging', 'velocity_date': None, 'velocity_quality': None, 'vs30': 191.851, 'vs30_method': 0, 'velocity_comment': 'Suspension'}"
        ],
        [
         "8199",
         "8240",
         "1513",
         "5.5",
         "6.0",
         "69.0",
         "False",
         "{'id': 1513, 'test_id': 1455, 'velocity_name': '96-37', 'velocity_method': 'Suspension Logging', 'velocity_date': None, 'velocity_quality': None, 'vs30': 191.851, 'vs30_method': 0, 'velocity_comment': 'Suspension'}"
        ],
        [
         "8200",
         "8241",
         "1513",
         "6.0",
         "6.5",
         "63.0",
         "False",
         "{'id': 1513, 'test_id': 1455, 'velocity_name': '96-37', 'velocity_method': 'Suspension Logging', 'velocity_date': None, 'velocity_quality': None, 'vs30': 191.851, 'vs30_method': 0, 'velocity_comment': 'Suspension'}"
        ],
        [
         "8201",
         "8242",
         "1513",
         "6.5",
         "7.0",
         "75.0",
         "False",
         "{'id': 1513, 'test_id': 1455, 'velocity_name': '96-37', 'velocity_method': 'Suspension Logging', 'velocity_date': None, 'velocity_quality': None, 'vs30': 191.851, 'vs30_method': 0, 'velocity_comment': 'Suspension'}"
        ],
        [
         "8202",
         "8243",
         "1513",
         "7.0",
         "7.5",
         "84.0",
         "False",
         "{'id': 1513, 'test_id': 1455, 'velocity_name': '96-37', 'velocity_method': 'Suspension Logging', 'velocity_date': None, 'velocity_quality': None, 'vs30': 191.851, 'vs30_method': 0, 'velocity_comment': 'Suspension'}"
        ],
        [
         "8203",
         "8244",
         "1513",
         "7.5",
         "8.0",
         "85.0",
         "False",
         "{'id': 1513, 'test_id': 1455, 'velocity_name': '96-37', 'velocity_method': 'Suspension Logging', 'velocity_date': None, 'velocity_quality': None, 'vs30': 191.851, 'vs30_method': 0, 'velocity_comment': 'Suspension'}"
        ],
        [
         "8204",
         "8245",
         "1513",
         "8.0",
         "8.5",
         "127.0",
         "False",
         "{'id': 1513, 'test_id': 1455, 'velocity_name': '96-37', 'velocity_method': 'Suspension Logging', 'velocity_date': None, 'velocity_quality': None, 'vs30': 191.851, 'vs30_method': 0, 'velocity_comment': 'Suspension'}"
        ],
        [
         "8205",
         "8246",
         "1513",
         "8.5",
         "9.0",
         "311.0",
         "False",
         "{'id': 1513, 'test_id': 1455, 'velocity_name': '96-37', 'velocity_method': 'Suspension Logging', 'velocity_date': None, 'velocity_quality': None, 'vs30': 191.851, 'vs30_method': 0, 'velocity_comment': 'Suspension'}"
        ],
        [
         "8206",
         "8247",
         "1513",
         "9.0",
         "9.5",
         "285.0",
         "False",
         "{'id': 1513, 'test_id': 1455, 'velocity_name': '96-37', 'velocity_method': 'Suspension Logging', 'velocity_date': None, 'velocity_quality': None, 'vs30': 191.851, 'vs30_method': 0, 'velocity_comment': 'Suspension'}"
        ],
        [
         "8207",
         "8248",
         "1513",
         "9.5",
         "10.0",
         "293.0",
         "False",
         "{'id': 1513, 'test_id': 1455, 'velocity_name': '96-37', 'velocity_method': 'Suspension Logging', 'velocity_date': None, 'velocity_quality': None, 'vs30': 191.851, 'vs30_method': 0, 'velocity_comment': 'Suspension'}"
        ],
        [
         "8208",
         "8249",
         "1513",
         "10.0",
         "10.5",
         "287.0",
         "False",
         "{'id': 1513, 'test_id': 1455, 'velocity_name': '96-37', 'velocity_method': 'Suspension Logging', 'velocity_date': None, 'velocity_quality': None, 'vs30': 191.851, 'vs30_method': 0, 'velocity_comment': 'Suspension'}"
        ],
        [
         "8209",
         "8250",
         "1513",
         "10.5",
         "11.0",
         "313.0",
         "False",
         "{'id': 1513, 'test_id': 1455, 'velocity_name': '96-37', 'velocity_method': 'Suspension Logging', 'velocity_date': None, 'velocity_quality': None, 'vs30': 191.851, 'vs30_method': 0, 'velocity_comment': 'Suspension'}"
        ],
        [
         "8210",
         "8251",
         "1513",
         "11.0",
         "11.5",
         "223.0",
         "False",
         "{'id': 1513, 'test_id': 1455, 'velocity_name': '96-37', 'velocity_method': 'Suspension Logging', 'velocity_date': None, 'velocity_quality': None, 'vs30': 191.851, 'vs30_method': 0, 'velocity_comment': 'Suspension'}"
        ],
        [
         "8211",
         "8252",
         "1513",
         "11.5",
         "12.0",
         "240.0",
         "False",
         "{'id': 1513, 'test_id': 1455, 'velocity_name': '96-37', 'velocity_method': 'Suspension Logging', 'velocity_date': None, 'velocity_quality': None, 'vs30': 191.851, 'vs30_method': 0, 'velocity_comment': 'Suspension'}"
        ],
        [
         "8212",
         "8253",
         "1513",
         "12.0",
         "12.5",
         "251.0",
         "False",
         "{'id': 1513, 'test_id': 1455, 'velocity_name': '96-37', 'velocity_method': 'Suspension Logging', 'velocity_date': None, 'velocity_quality': None, 'vs30': 191.851, 'vs30_method': 0, 'velocity_comment': 'Suspension'}"
        ],
        [
         "8213",
         "8254",
         "1513",
         "12.5",
         "13.0",
         "422.0",
         "False",
         "{'id': 1513, 'test_id': 1455, 'velocity_name': '96-37', 'velocity_method': 'Suspension Logging', 'velocity_date': None, 'velocity_quality': None, 'vs30': 191.851, 'vs30_method': 0, 'velocity_comment': 'Suspension'}"
        ],
        [
         "8214",
         "8255",
         "1513",
         "13.0",
         "13.5",
         "429.0",
         "False",
         "{'id': 1513, 'test_id': 1455, 'velocity_name': '96-37', 'velocity_method': 'Suspension Logging', 'velocity_date': None, 'velocity_quality': None, 'vs30': 191.851, 'vs30_method': 0, 'velocity_comment': 'Suspension'}"
        ],
        [
         "8215",
         "8256",
         "1513",
         "13.5",
         "14.0",
         "444.0",
         "False",
         "{'id': 1513, 'test_id': 1455, 'velocity_name': '96-37', 'velocity_method': 'Suspension Logging', 'velocity_date': None, 'velocity_quality': None, 'vs30': 191.851, 'vs30_method': 0, 'velocity_comment': 'Suspension'}"
        ],
        [
         "8216",
         "8257",
         "1513",
         "14.0",
         "14.5",
         "508.0",
         "False",
         "{'id': 1513, 'test_id': 1455, 'velocity_name': '96-37', 'velocity_method': 'Suspension Logging', 'velocity_date': None, 'velocity_quality': None, 'vs30': 191.851, 'vs30_method': 0, 'velocity_comment': 'Suspension'}"
        ],
        [
         "8217",
         "8258",
         "1513",
         "14.5",
         "15.0",
         "566.0",
         "False",
         "{'id': 1513, 'test_id': 1455, 'velocity_name': '96-37', 'velocity_method': 'Suspension Logging', 'velocity_date': None, 'velocity_quality': None, 'vs30': 191.851, 'vs30_method': 0, 'velocity_comment': 'Suspension'}"
        ],
        [
         "8218",
         "8259",
         "1513",
         "15.0",
         "15.5",
         "490.0",
         "False",
         "{'id': 1513, 'test_id': 1455, 'velocity_name': '96-37', 'velocity_method': 'Suspension Logging', 'velocity_date': None, 'velocity_quality': None, 'vs30': 191.851, 'vs30_method': 0, 'velocity_comment': 'Suspension'}"
        ],
        [
         "8219",
         "8260",
         "1513",
         "15.5",
         "16.0",
         "456.0",
         "False",
         "{'id': 1513, 'test_id': 1455, 'velocity_name': '96-37', 'velocity_method': 'Suspension Logging', 'velocity_date': None, 'velocity_quality': None, 'vs30': 191.851, 'vs30_method': 0, 'velocity_comment': 'Suspension'}"
        ],
        [
         "8220",
         "8261",
         "1513",
         "16.0",
         "16.5",
         "384.0",
         "False",
         "{'id': 1513, 'test_id': 1455, 'velocity_name': '96-37', 'velocity_method': 'Suspension Logging', 'velocity_date': None, 'velocity_quality': None, 'vs30': 191.851, 'vs30_method': 0, 'velocity_comment': 'Suspension'}"
        ],
        [
         "8221",
         "8262",
         "1513",
         "16.5",
         "17.0",
         "360.0",
         "False",
         "{'id': 1513, 'test_id': 1455, 'velocity_name': '96-37', 'velocity_method': 'Suspension Logging', 'velocity_date': None, 'velocity_quality': None, 'vs30': 191.851, 'vs30_method': 0, 'velocity_comment': 'Suspension'}"
        ],
        [
         "8222",
         "8263",
         "1513",
         "17.0",
         "17.5",
         "362.0",
         "False",
         "{'id': 1513, 'test_id': 1455, 'velocity_name': '96-37', 'velocity_method': 'Suspension Logging', 'velocity_date': None, 'velocity_quality': None, 'vs30': 191.851, 'vs30_method': 0, 'velocity_comment': 'Suspension'}"
        ],
        [
         "8223",
         "8264",
         "1513",
         "17.5",
         "18.0",
         "410.0",
         "False",
         "{'id': 1513, 'test_id': 1455, 'velocity_name': '96-37', 'velocity_method': 'Suspension Logging', 'velocity_date': None, 'velocity_quality': None, 'vs30': 191.851, 'vs30_method': 0, 'velocity_comment': 'Suspension'}"
        ],
        [
         "8224",
         "8265",
         "1513",
         "18.0",
         "18.5",
         "426.0",
         "False",
         "{'id': 1513, 'test_id': 1455, 'velocity_name': '96-37', 'velocity_method': 'Suspension Logging', 'velocity_date': None, 'velocity_quality': None, 'vs30': 191.851, 'vs30_method': 0, 'velocity_comment': 'Suspension'}"
        ],
        [
         "8225",
         "8266",
         "1513",
         "18.5",
         "19.0",
         "393.0",
         "False",
         "{'id': 1513, 'test_id': 1455, 'velocity_name': '96-37', 'velocity_method': 'Suspension Logging', 'velocity_date': None, 'velocity_quality': None, 'vs30': 191.851, 'vs30_method': 0, 'velocity_comment': 'Suspension'}"
        ],
        [
         "8226",
         "8267",
         "1513",
         "19.0",
         "19.5",
         "416.0",
         "False",
         "{'id': 1513, 'test_id': 1455, 'velocity_name': '96-37', 'velocity_method': 'Suspension Logging', 'velocity_date': None, 'velocity_quality': None, 'vs30': 191.851, 'vs30_method': 0, 'velocity_comment': 'Suspension'}"
        ],
        [
         "8227",
         "8268",
         "1513",
         "19.5",
         "20.0",
         "448.0",
         "False",
         "{'id': 1513, 'test_id': 1455, 'velocity_name': '96-37', 'velocity_method': 'Suspension Logging', 'velocity_date': None, 'velocity_quality': None, 'vs30': 191.851, 'vs30_method': 0, 'velocity_comment': 'Suspension'}"
        ],
        [
         "8228",
         "8269",
         "1513",
         "20.0",
         "20.5",
         "467.0",
         "False",
         "{'id': 1513, 'test_id': 1455, 'velocity_name': '96-37', 'velocity_method': 'Suspension Logging', 'velocity_date': None, 'velocity_quality': None, 'vs30': 191.851, 'vs30_method': 0, 'velocity_comment': 'Suspension'}"
        ],
        [
         "8229",
         "8270",
         "1513",
         "20.5",
         "21.0",
         "549.0",
         "False",
         "{'id': 1513, 'test_id': 1455, 'velocity_name': '96-37', 'velocity_method': 'Suspension Logging', 'velocity_date': None, 'velocity_quality': None, 'vs30': 191.851, 'vs30_method': 0, 'velocity_comment': 'Suspension'}"
        ],
        [
         "8230",
         "8271",
         "1513",
         "21.0",
         "21.5",
         "645.0",
         "False",
         "{'id': 1513, 'test_id': 1455, 'velocity_name': '96-37', 'velocity_method': 'Suspension Logging', 'velocity_date': None, 'velocity_quality': None, 'vs30': 191.851, 'vs30_method': 0, 'velocity_comment': 'Suspension'}"
        ],
        [
         "8231",
         "8272",
         "1513",
         "21.5",
         "22.0",
         "592.0",
         "False",
         "{'id': 1513, 'test_id': 1455, 'velocity_name': '96-37', 'velocity_method': 'Suspension Logging', 'velocity_date': None, 'velocity_quality': None, 'vs30': 191.851, 'vs30_method': 0, 'velocity_comment': 'Suspension'}"
        ],
        [
         "8232",
         "8273",
         "1513",
         "22.0",
         "22.5",
         "629.0",
         "False",
         "{'id': 1513, 'test_id': 1455, 'velocity_name': '96-37', 'velocity_method': 'Suspension Logging', 'velocity_date': None, 'velocity_quality': None, 'vs30': 191.851, 'vs30_method': 0, 'velocity_comment': 'Suspension'}"
        ],
        [
         "8233",
         "8274",
         "1513",
         "22.5",
         "23.0",
         "667.0",
         "False",
         "{'id': 1513, 'test_id': 1455, 'velocity_name': '96-37', 'velocity_method': 'Suspension Logging', 'velocity_date': None, 'velocity_quality': None, 'vs30': 191.851, 'vs30_method': 0, 'velocity_comment': 'Suspension'}"
        ],
        [
         "8234",
         "8275",
         "1513",
         "23.0",
         "23.5",
         "649.0",
         "False",
         "{'id': 1513, 'test_id': 1455, 'velocity_name': '96-37', 'velocity_method': 'Suspension Logging', 'velocity_date': None, 'velocity_quality': None, 'vs30': 191.851, 'vs30_method': 0, 'velocity_comment': 'Suspension'}"
        ],
        [
         "8235",
         "8276",
         "1513",
         "23.5",
         "24.0",
         "645.0",
         "False",
         "{'id': 1513, 'test_id': 1455, 'velocity_name': '96-37', 'velocity_method': 'Suspension Logging', 'velocity_date': None, 'velocity_quality': None, 'vs30': 191.851, 'vs30_method': 0, 'velocity_comment': 'Suspension'}"
        ],
        [
         "8236",
         "8277",
         "1513",
         "24.0",
         "24.5",
         "645.0",
         "False",
         "{'id': 1513, 'test_id': 1455, 'velocity_name': '96-37', 'velocity_method': 'Suspension Logging', 'velocity_date': None, 'velocity_quality': None, 'vs30': 191.851, 'vs30_method': 0, 'velocity_comment': 'Suspension'}"
        ],
        [
         "8237",
         "8278",
         "1513",
         "24.5",
         "25.0",
         "457.0",
         "False",
         "{'id': 1513, 'test_id': 1455, 'velocity_name': '96-37', 'velocity_method': 'Suspension Logging', 'velocity_date': None, 'velocity_quality': None, 'vs30': 191.851, 'vs30_method': 0, 'velocity_comment': 'Suspension'}"
        ],
        [
         "8238",
         "8279",
         "1513",
         "25.0",
         "25.5",
         "437.0",
         "False",
         "{'id': 1513, 'test_id': 1455, 'velocity_name': '96-37', 'velocity_method': 'Suspension Logging', 'velocity_date': None, 'velocity_quality': None, 'vs30': 191.851, 'vs30_method': 0, 'velocity_comment': 'Suspension'}"
        ]
       ],
       "shape": {
        "columns": 7,
        "rows": 69
       }
      },
      "text/html": [
       "<div>\n",
       "<style scoped>\n",
       "    .dataframe tbody tr th:only-of-type {\n",
       "        vertical-align: middle;\n",
       "    }\n",
       "\n",
       "    .dataframe tbody tr th {\n",
       "        vertical-align: top;\n",
       "    }\n",
       "\n",
       "    .dataframe thead th {\n",
       "        text-align: right;\n",
       "    }\n",
       "</style>\n",
       "<table border=\"1\" class=\"dataframe\">\n",
       "  <thead>\n",
       "    <tr style=\"text-align: right;\">\n",
       "      <th></th>\n",
       "      <th>id</th>\n",
       "      <th>velocity_metadata_id</th>\n",
       "      <th>vs_top_depth</th>\n",
       "      <th>vs_bottom_depth</th>\n",
       "      <th>vs_layer_value</th>\n",
       "      <th>vs_halfspace</th>\n",
       "      <th>velocity_metadata</th>\n",
       "    </tr>\n",
       "  </thead>\n",
       "  <tbody>\n",
       "    <tr>\n",
       "      <th>8189</th>\n",
       "      <td>8230</td>\n",
       "      <td>1513</td>\n",
       "      <td>0.0</td>\n",
       "      <td>1.0</td>\n",
       "      <td>NaN</td>\n",
       "      <td>False</td>\n",
       "      <td>{'id': 1513, 'test_id': 1455, 'velocity_name':...</td>\n",
       "    </tr>\n",
       "    <tr>\n",
       "      <th>8190</th>\n",
       "      <td>8231</td>\n",
       "      <td>1513</td>\n",
       "      <td>1.0</td>\n",
       "      <td>1.5</td>\n",
       "      <td>NaN</td>\n",
       "      <td>False</td>\n",
       "      <td>{'id': 1513, 'test_id': 1455, 'velocity_name':...</td>\n",
       "    </tr>\n",
       "    <tr>\n",
       "      <th>8191</th>\n",
       "      <td>8232</td>\n",
       "      <td>1513</td>\n",
       "      <td>1.5</td>\n",
       "      <td>2.0</td>\n",
       "      <td>79.0</td>\n",
       "      <td>False</td>\n",
       "      <td>{'id': 1513, 'test_id': 1455, 'velocity_name':...</td>\n",
       "    </tr>\n",
       "    <tr>\n",
       "      <th>8192</th>\n",
       "      <td>8233</td>\n",
       "      <td>1513</td>\n",
       "      <td>2.0</td>\n",
       "      <td>2.5</td>\n",
       "      <td>82.0</td>\n",
       "      <td>False</td>\n",
       "      <td>{'id': 1513, 'test_id': 1455, 'velocity_name':...</td>\n",
       "    </tr>\n",
       "    <tr>\n",
       "      <th>8193</th>\n",
       "      <td>8234</td>\n",
       "      <td>1513</td>\n",
       "      <td>2.5</td>\n",
       "      <td>3.0</td>\n",
       "      <td>124.0</td>\n",
       "      <td>False</td>\n",
       "      <td>{'id': 1513, 'test_id': 1455, 'velocity_name':...</td>\n",
       "    </tr>\n",
       "    <tr>\n",
       "      <th>...</th>\n",
       "      <td>...</td>\n",
       "      <td>...</td>\n",
       "      <td>...</td>\n",
       "      <td>...</td>\n",
       "      <td>...</td>\n",
       "      <td>...</td>\n",
       "      <td>...</td>\n",
       "    </tr>\n",
       "    <tr>\n",
       "      <th>8253</th>\n",
       "      <td>8294</td>\n",
       "      <td>1513</td>\n",
       "      <td>32.5</td>\n",
       "      <td>33.0</td>\n",
       "      <td>455.0</td>\n",
       "      <td>False</td>\n",
       "      <td>{'id': 1513, 'test_id': 1455, 'velocity_name':...</td>\n",
       "    </tr>\n",
       "    <tr>\n",
       "      <th>8254</th>\n",
       "      <td>8295</td>\n",
       "      <td>1513</td>\n",
       "      <td>33.0</td>\n",
       "      <td>33.5</td>\n",
       "      <td>581.0</td>\n",
       "      <td>False</td>\n",
       "      <td>{'id': 1513, 'test_id': 1455, 'velocity_name':...</td>\n",
       "    </tr>\n",
       "    <tr>\n",
       "      <th>8255</th>\n",
       "      <td>8296</td>\n",
       "      <td>1513</td>\n",
       "      <td>33.5</td>\n",
       "      <td>34.0</td>\n",
       "      <td>505.0</td>\n",
       "      <td>False</td>\n",
       "      <td>{'id': 1513, 'test_id': 1455, 'velocity_name':...</td>\n",
       "    </tr>\n",
       "    <tr>\n",
       "      <th>8256</th>\n",
       "      <td>8297</td>\n",
       "      <td>1513</td>\n",
       "      <td>34.0</td>\n",
       "      <td>34.4</td>\n",
       "      <td>483.0</td>\n",
       "      <td>False</td>\n",
       "      <td>{'id': 1513, 'test_id': 1455, 'velocity_name':...</td>\n",
       "    </tr>\n",
       "    <tr>\n",
       "      <th>8257</th>\n",
       "      <td>8298</td>\n",
       "      <td>1513</td>\n",
       "      <td>34.4</td>\n",
       "      <td>35.0</td>\n",
       "      <td>617.0</td>\n",
       "      <td>False</td>\n",
       "      <td>{'id': 1513, 'test_id': 1455, 'velocity_name':...</td>\n",
       "    </tr>\n",
       "  </tbody>\n",
       "</table>\n",
       "<p>69 rows × 7 columns</p>\n",
       "</div>"
      ],
      "text/plain": [
       "        id  velocity_metadata_id  vs_top_depth  vs_bottom_depth  \\\n",
       "8189  8230                  1513           0.0              1.0   \n",
       "8190  8231                  1513           1.0              1.5   \n",
       "8191  8232                  1513           1.5              2.0   \n",
       "8192  8233                  1513           2.0              2.5   \n",
       "8193  8234                  1513           2.5              3.0   \n",
       "...    ...                   ...           ...              ...   \n",
       "8253  8294                  1513          32.5             33.0   \n",
       "8254  8295                  1513          33.0             33.5   \n",
       "8255  8296                  1513          33.5             34.0   \n",
       "8256  8297                  1513          34.0             34.4   \n",
       "8257  8298                  1513          34.4             35.0   \n",
       "\n",
       "      vs_layer_value  vs_halfspace  \\\n",
       "8189             NaN         False   \n",
       "8190             NaN         False   \n",
       "8191            79.0         False   \n",
       "8192            82.0         False   \n",
       "8193           124.0         False   \n",
       "...              ...           ...   \n",
       "8253           455.0         False   \n",
       "8254           581.0         False   \n",
       "8255           505.0         False   \n",
       "8256           483.0         False   \n",
       "8257           617.0         False   \n",
       "\n",
       "                                      velocity_metadata  \n",
       "8189  {'id': 1513, 'test_id': 1455, 'velocity_name':...  \n",
       "8190  {'id': 1513, 'test_id': 1455, 'velocity_name':...  \n",
       "8191  {'id': 1513, 'test_id': 1455, 'velocity_name':...  \n",
       "8192  {'id': 1513, 'test_id': 1455, 'velocity_name':...  \n",
       "8193  {'id': 1513, 'test_id': 1455, 'velocity_name':...  \n",
       "...                                                 ...  \n",
       "8253  {'id': 1513, 'test_id': 1455, 'velocity_name':...  \n",
       "8254  {'id': 1513, 'test_id': 1455, 'velocity_name':...  \n",
       "8255  {'id': 1513, 'test_id': 1455, 'velocity_name':...  \n",
       "8256  {'id': 1513, 'test_id': 1455, 'velocity_name':...  \n",
       "8257  {'id': 1513, 'test_id': 1455, 'velocity_name':...  \n",
       "\n",
       "[69 rows x 7 columns]"
      ]
     },
     "execution_count": 34,
     "metadata": {},
     "output_type": "execute_result"
    }
   ],
   "source": [
    "df"
   ]
  },
  {
   "cell_type": "code",
   "execution_count": 35,
   "id": "8748dc2d",
   "metadata": {},
   "outputs": [
    {
     "name": "stdout",
     "output_type": "stream",
     "text": [
      "Warning: NaN values found in vs_array for vs_id 235.\n",
      "Warning: NaN values found in vs_array for vs_id 602.\n",
      "Warning: NaN values found in vs_array for vs_id 1513.\n",
      "Warning: NaN values found in vs_array for vs_id 1514.\n",
      "Warning: NaN values found in vs_array for vs_id 2370.\n",
      "Warning: NaN values found in vs_array for vs_id 2543.\n",
      "Warning: NaN values found in vs_array for vs_id 2566.\n",
      "Warning: NaN values found in vs_array for vs_id 2733.\n",
      "Warning: NaN values found in vs_array for vs_id 2738.\n",
      "Warning: NaN values found in vs_array for vs_id 2740.\n",
      "Warning: NaN values found in vs_array for vs_id 1357.\n",
      "Warning: NaN values found in vs_array for vs_id 1358.\n",
      "Warning: NaN values found in vs_array for vs_id 1362.\n"
     ]
    }
   ],
   "source": [
    "import numpy as np\n",
    "\n",
    "def create_vs_profile(df, vs_id):\n",
    "    \"\"\"\n",
    "    Create depth and vs_array for a given vs_id.\n",
    "    \n",
    "    Parameters:\n",
    "        df (DataFrame): The DataFrame containing the data.\n",
    "        vs_id (int): The velocity metadata ID to filter the data.\n",
    "    \n",
    "    Returns:\n",
    "        tuple: A tuple containing the depth array and vs_array.\n",
    "    \"\"\"\n",
    "    # Filter the DataFrame for the given vs_id\n",
    "    warning_idx = 1\n",
    "    filtered_df = df[df[\"velocity_metadata_id\"] == vs_id]\n",
    "    \n",
    "    # Define the depth array\n",
    "    min_depth = filtered_df[\"vs_top_depth\"].min()\n",
    "    max_depth = filtered_df[\"vs_bottom_depth\"].max()\n",
    "    #print(f\"min_depth: {min_depth}, max_depth: {max_depth}\")\n",
    "    depth = np.arange(min_depth, max_depth, 0.5)\n",
    "    \n",
    "    # Initialize the vs_array with NaN values\n",
    "    vs_array = np.full_like(depth, np.nan, dtype=float)\n",
    "    \n",
    "    # Iterate through each layer in the filtered DataFrame\n",
    "    for _, row in filtered_df.iterrows():\n",
    "        # Get the depth range for the current layer\n",
    "        top_depth = row[\"vs_top_depth\"]\n",
    "        bottom_depth = row[\"vs_bottom_depth\"]\n",
    "        vs_value = row[\"vs_layer_value\"]\n",
    "        \n",
    "        # Assign the vs_layer_value to the corresponding depth range in vs_array\n",
    "        vs_array[(depth >= top_depth) & (depth < bottom_depth)] = vs_value\n",
    "\n",
    "    # Check if Nans are present in vs_array\n",
    "    if np.isnan(vs_array).any():\n",
    "        # Avoid case\n",
    "        print(f\"Warning: NaN values found in vs_array for vs_id {vs_id}.\")\n",
    "        warning_idx = 0\n",
    "        \n",
    "    \n",
    "    return depth, vs_array, warning_idx\n",
    "\n",
    "# Create a dictionary to store the depth and vs_array for each vs_id\n",
    "vs_profiles = {}\n",
    "\n",
    "# Iterate over all unique vs_id values\n",
    "for vs_id in all_data[\"velocity_metadata_id\"].unique():\n",
    "    depth, vs_array, warning_idx = create_vs_profile(all_data, vs_id)\n",
    "    if warning_idx == 1:\n",
    "        # Store the depth and vs_array in the dictionary\n",
    "        vs_profiles[vs_id] = (depth, vs_array)\n",
    "\n",
    "# Now vs_profiles is a dictionary where each key is a vs_id, and the value is a tuple (depth, vs_array)"
   ]
  },
  {
   "cell_type": "code",
   "execution_count": 36,
   "id": "21a04d28",
   "metadata": {},
   "outputs": [],
   "source": [
    "# Save the dictionary\n",
    "import pickle\n",
    "with open('vs_profiles.pkl', 'wb') as f:\n",
    "    pickle.dump(vs_profiles, f)"
   ]
  },
  {
   "cell_type": "code",
   "execution_count": null,
   "id": "846cb14f",
   "metadata": {},
   "outputs": [],
   "source": []
  },
  {
   "cell_type": "code",
   "execution_count": null,
   "id": "33a1f5e1",
   "metadata": {},
   "outputs": [],
   "source": []
  }
 ],
 "metadata": {
  "kernelspec": {
   "display_name": "base",
   "language": "python",
   "name": "python3"
  },
  "language_info": {
   "codemirror_mode": {
    "name": "ipython",
    "version": 3
   },
   "file_extension": ".py",
   "mimetype": "text/x-python",
   "name": "python",
   "nbconvert_exporter": "python",
   "pygments_lexer": "ipython3",
   "version": "3.12.2"
  }
 },
 "nbformat": 4,
 "nbformat_minor": 5
}
