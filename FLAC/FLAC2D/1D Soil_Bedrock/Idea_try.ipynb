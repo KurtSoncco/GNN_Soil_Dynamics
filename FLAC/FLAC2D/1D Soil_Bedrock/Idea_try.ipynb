{
 "cells": [
  {
   "cell_type": "code",
   "execution_count": 1,
   "metadata": {},
   "outputs": [],
   "source": [
    "import torch \n",
    "import pandas as pd \n",
    "import pickle\n",
    "import numpy as np\n",
    "import os\n",
    "import sys \n",
    "\n",
    "from torch.utils.data import Dataset, DataLoader\n",
    "from torch.nn.utils.rnn import pad_sequence\n",
    "from torch import nn\n",
    "import torch.nn.functional as F\n",
    "import torch.optim as optim\n",
    "\n",
    "\n",
    "import matplotlib.pyplot as plt\n",
    "import seaborn as sns\n",
    "\n",
    "from tqdm import tqdm\n",
    "from tqdm import trange\n",
    "\n",
    "sns.set_theme()"
   ]
  },
  {
   "cell_type": "code",
   "execution_count": 212,
   "metadata": {},
   "outputs": [
    {
     "name": "stdout",
     "output_type": "stream",
     "text": [
      "2.4.1+cu121\n",
      "cuda\n"
     ]
    }
   ],
   "source": [
    "# Print the versions of pytorch\n",
    "print(torch.__version__)\n",
    "\n",
    "# Set the device\n",
    "device = torch.device('cuda' if torch.cuda.is_available() else 'cpu')\n",
    "print(device)"
   ]
  },
  {
   "cell_type": "markdown",
   "metadata": {},
   "source": [
    "# Data"
   ]
  },
  {
   "cell_type": "code",
   "execution_count": 2,
   "metadata": {},
   "outputs": [],
   "source": [
    "path = r'TF_HLC'"
   ]
  },
  {
   "cell_type": "code",
   "execution_count": 126,
   "metadata": {},
   "outputs": [
    {
     "name": "stdout",
     "output_type": "stream",
     "text": [
      "(1000, 200) (1000, 29) (200,)\n"
     ]
    }
   ],
   "source": [
    "# Load data\n",
    "freq_data = np.genfromtxt(os.path.join(path,\"TTF_freq_200.csv\"), delimiter=\",\")\n",
    "\n",
    "# Load pickle\n",
    "with open(os.path.join(path,\"TTF_data_200.pt\"), \"rb\") as f:\n",
    "    TTF_data = pickle.load(f)\n",
    "\n",
    "with open(os.path.join(path,\"Vs_values_200.pt\"), \"rb\") as f:\n",
    "    Vs_data = pickle.load(f)\n",
    "\n",
    "TTF_data = np.array(TTF_data)\n",
    "Vs_data = np.array(Vs_data)\n",
    "\n",
    "print(TTF_data.shape, Vs_data.shape,freq_data.shape)\n",
    "\n",
    "freq_vals = freq_data\n"
   ]
  },
  {
   "cell_type": "code",
   "execution_count": 175,
   "metadata": {},
   "outputs": [],
   "source": [
    "class TTF_dataset(Dataset):\n",
    "    def __init__(self, TTF_values, Vs_values, freq_values=None):\n",
    "        self.TTF_values = TTF_values\n",
    "        self.Vs_values = Vs_values\n",
    "        self.freq_values = freq_values\n",
    "        \n",
    "    def __len__(self):\n",
    "        return len(self.TTF_values)\n",
    "    \n",
    "    def __getitem__(self, idx):\n",
    "        \n",
    "        # Target data\n",
    "        target_data = self.TTF_values[idx]\n",
    "        target_data = torch.tensor(target_data, dtype=torch.float32)\n",
    "\n",
    "        # Input data\n",
    "        input_data = self.Vs_values[idx]\n",
    "        input_data = torch.tensor(input_data, dtype=torch.float32).unsqueeze(0)\n",
    "        input_data = torch.nan_to_num(input_data, nan=0.0, posinf=0.0, neginf=0.0)\n",
    "\n",
    "        return input_data, target_data"
   ]
  },
  {
   "cell_type": "code",
   "execution_count": null,
   "metadata": {},
   "outputs": [
    {
     "name": "stdout",
     "output_type": "stream",
     "text": [
      "Sizes in the dataset:  1000\n",
      "Data shapes for input and target:  torch.Size([1, 29]) torch.Size([200])\n"
     ]
    }
   ],
   "source": [
    "dataset = TTF_dataset(TTF_data, Vs_data, freq_values=None)\n",
    "print(\"Sizes in the dataset: \", len(dataset))\n",
    "print(\"Data shapes for input and target: \", dataset[0][0].shape, dataset[0][1].shape)"
   ]
  },
  {
   "cell_type": "code",
   "execution_count": 177,
   "metadata": {},
   "outputs": [
    {
     "name": "stdout",
     "output_type": "stream",
     "text": [
      "Train, validation and test sizes:  700 150 150\n",
      "Number of batches:  70 15 15\n",
      "Training shapes:  torch.Size([10, 1, 29]) torch.Size([10, 200])\n"
     ]
    }
   ],
   "source": [
    "# Separate into training and testing\n",
    "train_size = int(0.7 * len(dataset))\n",
    "val_size = (len(dataset) - train_size) // 2\n",
    "test_size = len(dataset) - train_size - val_size\n",
    "print(\"Train, validation and test sizes: \" , train_size, val_size, test_size)\n",
    "\n",
    "train_dataset, val_dataset, test_dataset = torch.utils.data.random_split(dataset, [train_size, val_size, test_size])\n",
    "\n",
    "batch_size = 10\n",
    "train_loader = DataLoader(train_dataset, batch_size=batch_size, shuffle=True)\n",
    "val_loader = DataLoader(val_dataset, batch_size=batch_size, shuffle=False)\n",
    "test_loader = DataLoader(test_dataset, batch_size=batch_size, shuffle=False)\n",
    "print(\"Number of batches: \", len(train_loader), len(val_loader), len(test_loader))\n",
    "print(\"Training shapes: \", next(iter(train_loader))[0].shape, next(iter(train_loader))[1].shape)"
   ]
  },
  {
   "cell_type": "markdown",
   "metadata": {},
   "source": [
    "# Model architecture"
   ]
  },
  {
   "cell_type": "code",
   "execution_count": 178,
   "metadata": {},
   "outputs": [],
   "source": [
    "class MLP(nn.Module):\n",
    "    def __init__(self, input_dim, hidden_dim, hidden_layers, output_dim=1, activation=nn.ReLU, batch_norm=False):\n",
    "        super(MLP, self).__init__()\n",
    "        self.hidden_layers = nn.ModuleList()\n",
    "        self.batch_norm = batch_norm\n",
    "        self.activation = activation\n",
    "        self.output_dim = output_dim\n",
    "\n",
    "        # Input layer\n",
    "        self.hidden_layers.append(nn.Linear(input_dim, hidden_dim))\n",
    "        if self.batch_norm:\n",
    "            self.hidden_layers.append(nn.BatchNorm1d(hidden_dim))\n",
    "\n",
    "        # Hidden layers\n",
    "        for _ in range(hidden_layers - 1):\n",
    "            self.hidden_layers.append(nn.Linear(hidden_dim, hidden_dim))\n",
    "            if self.batch_norm:\n",
    "                self.hidden_layers.append(nn.BatchNorm1d(hidden_dim))\n",
    "\n",
    "        # Output layer\n",
    "        self.out = nn.Linear(hidden_dim, output_dim)\n",
    "\n",
    "\n",
    "    def forward(self, x):\n",
    "        for layer in self.hidden_layers:\n",
    "            if isinstance(layer, nn.Linear):\n",
    "                x = layer(x)\n",
    "                x = self.activation()(x)\n",
    "            elif isinstance(layer, nn.BatchNorm1d):\n",
    "                x = layer(x)\n",
    "        x = self.out(x)\n",
    "        return x"
   ]
  },
  {
   "cell_type": "code",
   "execution_count": 179,
   "metadata": {},
   "outputs": [],
   "source": [
    "class CN1D(nn.Module):\n",
    "    def __init__(self, input_dim, kernel_size=3, pooling=nn.MaxPool1d, activation=nn.ReLU, cn_layer_list=[32, 64, 128]):\n",
    "        super(CN1D, self).__init__()\n",
    "        self.cn_layers = nn.ModuleList()\n",
    "        self.pooling = pooling\n",
    "        self.activation = activation\n",
    "        self.input_dim = input_dim\n",
    "\n",
    "        # Input layer\n",
    "        self.cn_layers.append(nn.Conv1d(1, cn_layer_list[0], kernel_size))\n",
    "        self.cn_layers.append(self.pooling(kernel_size=2))\n",
    "        self.cn_layers.append(self.activation())\n",
    "\n",
    "        # Hidden layers\n",
    "        for i in range(1, len(cn_layer_list)):\n",
    "            self.cn_layers.append(nn.Conv1d(cn_layer_list[i-1], cn_layer_list[i], kernel_size))\n",
    "            self.cn_layers.append(self.pooling(kernel_size=2))\n",
    "            self.cn_layers.append(self.activation())\n",
    "        \n",
    "    def forward(self, x):\n",
    "        for layer in self.cn_layers:\n",
    "            x = layer(x)\n",
    "        return x\n",
    "    "
   ]
  },
  {
   "cell_type": "code",
   "execution_count": 189,
   "metadata": {},
   "outputs": [],
   "source": [
    "class OutputModel(nn.Module):\n",
    "    def __init__(self):\n",
    "        super(OutputModel, self).__init__()\n",
    "        self.Vs_model = CN1D(29)\n",
    "        self.outmlp = MLP(128+1, output_dim=1, hidden_dim=128, hidden_layers=3, batch_norm=False)\n",
    "\n",
    "    def forward(self, x, freq_tensor):\n",
    "        x = self.Vs_model(x)\n",
    "        x = x.view(x.size(0), -1)\n",
    "        result = []\n",
    "        for i, freq_i in enumerate(freq_tensor):\n",
    "            freq_i = torch.repeat_interleave(freq_i.unsqueeze(0), x.size(0), dim=0)\n",
    "            x_freq = torch.cat((x, freq_i), dim=1)\n",
    "            x_freq = self.outmlp(x_freq)\n",
    "            result.append(x_freq)\n",
    "\n",
    "        result = torch.stack(result, dim=1).squeeze(2)\n",
    "        return result"
   ]
  },
  {
   "cell_type": "code",
   "execution_count": 211,
   "metadata": {},
   "outputs": [
    {
     "name": "stdout",
     "output_type": "stream",
     "text": [
      "Output shape:  torch.Size([10, 200])\n"
     ]
    }
   ],
   "source": [
    "model = OutputModel()\n",
    "\n",
    "# Example input data\n",
    "X, y = next(iter(train_loader))\n",
    "\n",
    "# Example frequency data\n",
    "freq = torch.tensor(freq_vals, dtype=torch.float32).unsqueeze(1)\n",
    "\n",
    "# Forward pass\n",
    "output = model(X, freq)\n",
    "\n",
    "print(\"Output shape: \", output.shape)\n",
    "\n",
    "# Define loss function\n",
    "criterion = nn.L1Loss()"
   ]
  },
  {
   "cell_type": "code",
   "execution_count": null,
   "metadata": {},
   "outputs": [
    {
     "name": "stdout",
     "output_type": "stream",
     "text": [
      "Epoch 1/10 - Train loss: 2.0062 - Validation loss: 1.8078\n",
      "Epoch 2/10 - Train loss: 1.5866 - Validation loss: 1.5702\n",
      "Epoch 3/10 - Train loss: 1.5389 - Validation loss: 1.5502\n",
      "Epoch 4/10 - Train loss: 1.5381 - Validation loss: 1.5447\n",
      "Epoch 5/10 - Train loss: 1.5156 - Validation loss: 1.5169\n",
      "Epoch 6/10 - Train loss: 1.5112 - Validation loss: 1.5492\n",
      "Epoch 7/10 - Train loss: 1.4835 - Validation loss: 1.5010\n",
      "Epoch 8/10 - Train loss: 1.4741 - Validation loss: 1.4882\n",
      "Epoch 9/10 - Train loss: 1.4739 - Validation loss: 1.4905\n",
      "Epoch 10/10 - Train loss: 1.4714 - Validation loss: 1.4854\n"
     ]
    }
   ],
   "source": [
    "# Define model\n",
    "model = OutputModel()\n",
    "freq = torch.tensor(freq_vals, dtype=torch.float32).unsqueeze(1)\n",
    "\n",
    "# Criterion\n",
    "criterion = nn.L1Loss()\n",
    "\n",
    "# Define optimizer\n",
    "optimizer = optim.AdamW(model.parameters(), lr=5e-3, weight_decay=1e-4, amsgrad=True, \n",
    "eps=1e-08, betas=(0.7, 0.999))\n",
    "\n",
    "# Training loop\n",
    "n_epochs = 10\n",
    "train_losses = []\n",
    "val_losses = []\n",
    "\n",
    "# Define device\n",
    "device = torch.device(\"cuda\" if torch.cuda.is_available() else \"cpu\")\n",
    "\n",
    "# Move model to device\n",
    "model = model.to(device)\n",
    "\n",
    "# Move frequency tensor to device\n",
    "freq = freq.to(device)\n",
    "\n",
    "\n",
    "\n",
    "# Training loop\n",
    "for epoch in range(n_epochs):\n",
    "    model.train()\n",
    "    train_loss = 0.0\n",
    "    for i, data in enumerate(train_loader):\n",
    "        inputs, targets = data\n",
    "        inputs, targets = inputs.to(device), targets.to(device)\n",
    "        optimizer.zero_grad()\n",
    "        outputs = model(inputs, freq)\n",
    "        loss = criterion(outputs, targets)\n",
    "        loss.backward()\n",
    "        optimizer.step()\n",
    "        train_loss += loss.item()\n",
    "    train_loss /= len(train_loader)\n",
    "    train_losses.append(train_loss)\n",
    "\n",
    "    model.eval()\n",
    "    val_loss = 0.0\n",
    "    with torch.no_grad():\n",
    "        for i, data in enumerate(val_loader):\n",
    "            inputs, targets = data\n",
    "            inputs, targets = inputs.to(device), targets.to(device)\n",
    "            outputs = model(inputs, freq)\n",
    "            loss = criterion(outputs, targets)\n",
    "            val_loss += loss.item()\n",
    "        val_loss /= len(val_loader)\n",
    "        val_losses.append(val_loss)\n",
    "\n",
    "    print(f\"Epoch {epoch+1}/{n_epochs} - Train loss: {train_loss:.4f} - Validation loss: {val_loss:.4f}\")\n"
   ]
  },
  {
   "cell_type": "code",
   "execution_count": 198,
   "metadata": {},
   "outputs": [
    {
     "data": {
      "text/plain": [
       "<matplotlib.legend.Legend at 0x1de3e0e0350>"
      ]
     },
     "execution_count": 198,
     "metadata": {},
     "output_type": "execute_result"
    },
    {
     "data": {
      "image/png": "[encoded data removed]",
      "text/plain": [
       "<Figure size 640x480 with 1 Axes>"
      ]
     },
     "metadata": {},
     "output_type": "display_data"
    }
   ],
   "source": [
    "# Plot the losses\n",
    "plt.figure()\n",
    "plt.plot(train_losses, label=\"Train loss\")\n",
    "plt.plot(val_losses, label=\"Validation loss\")\n",
    "plt.xlabel(\"Epoch\")\n",
    "plt.ylabel(\"Loss\")\n",
    "plt.yscale(\"log\")\n",
    "plt.legend()"
   ]
  },
  {
   "cell_type": "markdown",
   "metadata": {},
   "source": [
    "\n"
   ]
  },
  {
   "cell_type": "code",
   "execution_count": 204,
   "metadata": {},
   "outputs": [
    {
     "name": "stdout",
     "output_type": "stream",
     "text": [
      "Test loss: 1.4329\n"
     ]
    }
   ],
   "source": [
    "# Predict for test data\n",
    "model.eval()\n",
    "test_predictions = []\n",
    "test_targets = []\n",
    "test_inputs = []\n",
    "test_loss = 0.0\n",
    "with torch.no_grad():\n",
    "    for i, data in enumerate(test_loader):\n",
    "        inputs, targets = data\n",
    "        inputs, targets = inputs.to(device), targets.to(device)\n",
    "        outputs = model(inputs, freq)\n",
    "        test_predictions.append(outputs)\n",
    "        test_targets.append(targets)\n",
    "        test_inputs.append(inputs)\n",
    "        loss = criterion(outputs, targets)\n",
    "        test_loss += loss.item()\n",
    "\n",
    "test_loss /= len(test_loader)\n",
    "\n",
    "print(f\"Test loss: {test_loss:.4f}\")\n"
   ]
  },
  {
   "cell_type": "code",
   "execution_count": 205,
   "metadata": {},
   "outputs": [],
   "source": [
    "test_predictions = torch.cat(test_predictions, dim=0).cpu().numpy()\n",
    "test_targets = torch.cat(test_targets, dim=0).cpu().numpy()\n",
    "test_inputs = torch.cat(test_inputs, dim=0).cpu().numpy()\n"
   ]
  },
  {
   "cell_type": "code",
   "execution_count": 207,
   "metadata": {},
   "outputs": [
    {
     "data": {
      "text/plain": [
       "15"
      ]
     },
     "execution_count": 207,
     "metadata": {},
     "output_type": "execute_result"
    }
   ],
   "source": [
    "len(test_loader)"
   ]
  },
  {
   "cell_type": "code",
   "execution_count": 210,
   "metadata": {},
   "outputs": [
    {
     "data": {
      "text/plain": [
       "[<matplotlib.lines.Line2D at 0x1de45b94590>]"
      ]
     },
     "execution_count": 210,
     "metadata": {},
     "output_type": "execute_result"
    },
    {
     "data": {
      "image/png": "[encoded data removed]",
      "text/plain": [
       "<Figure size 640x480 with 1 Axes>"
      ]
     },
     "metadata": {},
     "output_type": "display_data"
    }
   ],
   "source": [
    "plt.loglog(freq_vals, test_predictions[0])\n",
    "plt.loglog(freq_vals, test_targets[0])"
   ]
  },
  {
   "cell_type": "markdown",
   "metadata": {},
   "source": []
  },
  {
   "cell_type": "code",
   "execution_count": 161,
   "metadata": {},
   "outputs": [],
   "source": [
    "# Early stopping\n",
    "class EarlyStopping():\n",
    "    def __init__(self, patience=5, delta=0.0, progress_bar=None):\n",
    "        self.patience = patience\n",
    "        self.counter = 0\n",
    "        self.best_score = None\n",
    "        self.early_stop = False\n",
    "        self.delta = delta\n",
    "        self.progress_bar = progress_bar\n",
    "\n",
    "    def __call__(self, val_loss, model):\n",
    "        if self.best_score is None:\n",
    "            self.best_score = val_loss\n",
    "        elif val_loss > self.best_score + self.delta:\n",
    "            self.counter += 1\n",
    "            if self.progress_bar:\n",
    "                self.progress_bar.set_postfix_str(f'EarlyStopping counter: {self.counter} out of {self.patience}')\n",
    "            if self.counter >= self.patience:\n",
    "                self.early_stop = True\n",
    "        else:\n",
    "            self.best_score = val_loss\n",
    "            self.counter = 0\n",
    "            if self.progress_bar:\n",
    "                self.progress_bar.set_postfix_str('')"
   ]
  },
  {
   "cell_type": "code",
   "execution_count": 163,
   "metadata": {},
   "outputs": [],
   "source": [
    "from tqdm import trange, tqdm\n",
    "\n",
    "def train_model(model, optimizer, scheduler, train_dataloader, validation_dataloader, loss_fn, epochs=100, device=\"cpu\", \n",
    "patience=50, clipping=True, print_epoch=10, freq_data=None):\n",
    "    \"\"\"\n",
    "    Train a PyTorch model with early stopping and learning rate scheduler.\n",
    "    \n",
    "    Args:\n",
    "    model: PyTorch model\n",
    "    optimizer: PyTorch optimizer\n",
    "    scheduler: PyTorch learning rate scheduler\n",
    "    train_dataloader: PyTorch DataLoader for training data\n",
    "    validation_dataloader: PyTorch DataLoader for validation data\n",
    "    loss_fn: PyTorch loss function\n",
    "    epochs: Number of epochs to train\n",
    "    device: PyTorch device, e.g. \"cpu\" or \"cuda\"\n",
    "    patience: Patience for early stopping, i.e. number of epochs without improvement before stopping\n",
    "    clipping: Whether to use gradient clipping\n",
    "    print_epoch: Print training and validation loss every print_epoch epochs\n",
    "\n",
    "    Returns:\n",
    "    train_losses: List of training losses\n",
    "    val_losses: List of validation losses\n",
    "    model: Trained PyTorch model\n",
    "    \"\"\"\n",
    "    \n",
    "    train_losses = []\n",
    "    val_losses = []\n",
    "    model.to(device)\n",
    "    progress_bar = tqdm(range(epochs), desc=\"Training\", unit=\"epoch\")\n",
    "    early_stopping = EarlyStopping(patience=patience, progress_bar=progress_bar)\n",
    "    best_model = None\n",
    "    freq_tensor = torch.tensor(freq_data, dtype=torch.float32).unsqueeze(1).to(device)\n",
    "\n",
    "    for epoch in progress_bar:\n",
    "        model.train()\n",
    "        train_loss = 0\n",
    "        for X, y in train_dataloader:\n",
    "            X, y = X.to(device), y.to(device)\n",
    "            optimizer.zero_grad()\n",
    "            y_pred = model(X, freq_tensor)\n",
    "            loss = loss_fn(y_pred, y)\n",
    "            loss.backward()\n",
    "            if clipping:\n",
    "                torch.nn.utils.clip_grad_norm_(model.parameters(), max_norm=1.0)  # Gradient clipping\n",
    "            optimizer.step()\n",
    "            train_loss += loss.item()\n",
    "        train_loss /= len(train_dataloader)\n",
    "        train_losses.append(train_loss)\n",
    "\n",
    "        # Validation loss\n",
    "        model.eval()\n",
    "        val_loss = 0\n",
    "        with torch.no_grad():\n",
    "            for X, y in validation_dataloader:\n",
    "                X, y = X.to(device), y.to(device)\n",
    "                y_pred = model(X, freq_tensor)\n",
    "                loss = loss_fn(y_pred, y)\n",
    "                val_loss += loss.item()\n",
    "        val_loss /= len(validation_dataloader)\n",
    "        val_losses.append(val_loss)\n",
    "\n",
    "        if early_stopping is not None:\n",
    "            early_stopping(val_loss, model)\n",
    "            if early_stopping.early_stop:\n",
    "                print(\"Early stopping\")\n",
    "                break\n",
    "\n",
    "        if scheduler is not None:\n",
    "            scheduler.step(val_loss)\n",
    "\n",
    "        if epoch % print_epoch == 0:\n",
    "            print(f\"Epoch {epoch}, Train Loss: {train_loss}, Val Loss: {val_loss}, LR: {optimizer.param_groups[0]['lr']}\")\n",
    "\n",
    "        # Stop if loss is nan\n",
    "        if np.isnan(train_loss) or np.isnan(val_loss):\n",
    "            print(\"Loss is nan\")\n",
    "            break\n",
    "\n",
    "    return train_losses, val_losses, model\n",
    "\n",
    "\n",
    "def test_model(model, test_dataloader, loss_fn, device=\"cpu\", freq_data=None):\n",
    "    \"\"\"\n",
    "    Test a PyTorch model.\n",
    "    Args:\n",
    "    model: PyTorch model\n",
    "    test_dataloader: PyTorch DataLoader for test data\n",
    "    loss_fn: PyTorch loss function\n",
    "    device: PyTorch device, e.g. \"cpu\" or \"cuda\"\n",
    "    Returns:\n",
    "    test_loss: Average test loss\n",
    "    \"\"\"\n",
    "    \n",
    "    model.eval()\n",
    "    test_loss = 0\n",
    "    freq_tensor = torch.tensor(freq_data, dtype=torch.float32).unsqueeze(1).to(device)\n",
    "    for X, y in test_dataloader:\n",
    "        X, y = X.to(device), y.to(device)\n",
    "        y_pred = model(X, freq_tensor)\n",
    "        loss = loss_fn(y_pred, y)\n",
    "        test_loss += loss.item()\n",
    "    test_loss /= len(test_dataloader)\n",
    "    return test_loss"
   ]
  },
  {
   "cell_type": "code",
   "execution_count": 164,
   "metadata": {},
   "outputs": [
    {
     "name": "stdout",
     "output_type": "stream",
     "text": [
      "Device:  cuda\n"
     ]
    }
   ],
   "source": [
    "import torch\n",
    "import torch.optim as optim\n",
    "import torch.nn as nn\n",
    "\n",
    "# Optimizer\n",
    "optimizer = optim.AdamW(model.parameters(), lr=5e-3, weight_decay=1e-4, amsgrad=True, \n",
    "eps=1e-08, betas=(0.7, 0.999))\n",
    "\n",
    "# Scheduler\n",
    "scheduler = torch.optim.lr_scheduler.ReduceLROnPlateau(optimizer, mode='min', factor=0.5, \n",
    "patience=250, \n",
    "threshold_mode='rel', cooldown=0, min_lr=1e-5, eps=1e-08)\n",
    "\n",
    "# Training\n",
    "num_epochs = 20000\n",
    "device = \"cuda\" if torch.cuda.is_available() else \"cpu\"\n",
    "print(\"Device: \", device)\n",
    "\n",
    "# RMSE\n",
    "def rmse(y_true, y_pred):\n",
    "    return torch.sqrt(torch.mean((y_true - y_pred) ** 2))\n",
    "\n",
    "loss_fn = nn.L1Loss()\n",
    "\n",
    "# Join L1Loss and cosine similarity\n",
    "def custom_loss(y_true, y_pred, alpha=0.5):\n",
    "    l1_loss = loss_fn(y_true, y_pred)\n",
    "    cosine_loss = 1 - torch.nn.functional.cosine_similarity(y_true, y_pred).mean()\n",
    "    return alpha * l1_loss + (1 - alpha) * cosine_loss"
   ]
  },
  {
   "cell_type": "code",
   "execution_count": 165,
   "metadata": {},
   "outputs": [
    {
     "name": "stderr",
     "output_type": "stream",
     "text": [
      "Training:   0%|          | 0/1000 [00:22<?, ?epoch/s]"
     ]
    },
    {
     "name": "stdout",
     "output_type": "stream",
     "text": [
      "Epoch 0, Train Loss: nan, Val Loss: nan, LR: 0.005\n",
      "Loss is nan\n"
     ]
    },
    {
     "name": "stderr",
     "output_type": "stream",
     "text": [
      "\n"
     ]
    }
   ],
   "source": [
    "train_losses, val_losses, model = train_model(model, optimizer, scheduler, train_loader, val_loader, loss_fn, \n",
    "epochs=1000, device=device, patience=500, clipping=True, print_epoch=100, freq_data=freq_vals)"
   ]
  }
 ],
 "metadata": {
  "kernelspec": {
   "display_name": "ML",
   "language": "python",
   "name": "python3"
  },
  "language_info": {
   "codemirror_mode": {
    "name": "ipython",
    "version": 3
   },
   "file_extension": ".py",
   "mimetype": "text/x-python",
   "name": "python",
   "nbconvert_exporter": "python",
   "pygments_lexer": "ipython3",
   "version": "3.12.5"
  }
 },
 "nbformat": 4,
 "nbformat_minor": 2
}
