{
 "cells": [
  {
   "cell_type": "markdown",
   "metadata": {},
   "source": [
    "# Seq2Seq model for each frequency"
   ]
  },
  {
   "cell_type": "code",
   "execution_count": 115,
   "metadata": {},
   "outputs": [],
   "source": [
    "import torch \n",
    "import pandas as pd \n",
    "import pickle\n",
    "import numpy as np\n",
    "import os\n",
    "import sys \n",
    "\n",
    "from torch.utils.data import Dataset, DataLoader\n",
    "from torch.nn.utils.rnn import pad_sequence\n",
    "from torch import nn\n",
    "import torch.nn.functional as F\n",
    "import torch.optim as optim\n",
    "\n",
    "\n",
    "import matplotlib.pyplot as plt\n",
    "import seaborn as sns\n",
    "\n",
    "from tqdm import tqdm\n",
    "from tqdm import trange\n",
    "\n",
    "sns.set_theme()"
   ]
  },
  {
   "cell_type": "code",
   "execution_count": null,
   "metadata": {},
   "outputs": [
    {
     "name": "stdout",
     "output_type": "stream",
     "text": [
      "PyTorch version: 2.4.1+cu121\n"
     ]
    }
   ],
   "source": [
    "# Print torch version\n",
    "print(f\"PyTorch version: {torch.__version__}\")\n",
    "\n",
    "# Print device\n",
    "device = torch.device('cuda' if torch.cuda.is_available() else 'cpu')\n",
    "print(f\"Device: {device}\")"
   ]
  },
  {
   "cell_type": "markdown",
   "metadata": {},
   "source": [
    "## Load Data"
   ]
  },
  {
   "cell_type": "code",
   "execution_count": 116,
   "metadata": {},
   "outputs": [],
   "source": [
    "path = r'TF_HLC'"
   ]
  },
  {
   "cell_type": "code",
   "execution_count": 117,
   "metadata": {},
   "outputs": [
    {
     "name": "stdout",
     "output_type": "stream",
     "text": [
      "(1000, 200) (1000, 29) (200,)\n",
      "(200,)\n"
     ]
    }
   ],
   "source": [
    "# Load data\n",
    "freq_data = np.genfromtxt(os.path.join(path,\"TTF_freq_200.csv\"), delimiter=\",\")\n",
    "\n",
    "# Load pickle\n",
    "with open(os.path.join(path,\"TTF_data_200.pt\"), \"rb\") as f:\n",
    "    TTF_data = pickle.load(f)\n",
    "\n",
    "with open(os.path.join(path,\"Vs_values_200.pt\"), \"rb\") as f:\n",
    "    Vs_data = pickle.load(f)\n",
    "\n",
    "TTF_data = np.array(TTF_data)\n",
    "Vs_data = np.array(Vs_data)\n",
    "\n",
    "print(TTF_data.shape, Vs_data.shape,freq_data.shape)\n",
    "\n",
    "# Convert freq_data to 1000,2000 vector\n",
    "#freq_vals = np.repeat(np.expand_dims(freq_data, axis=0), 1000, axis=0)\n",
    "freq_vals = freq_data\n",
    "print(freq_vals.shape)\n"
   ]
  },
  {
   "cell_type": "code",
   "execution_count": 118,
   "metadata": {},
   "outputs": [],
   "source": [
    "def text_plot(Vs):\n",
    "    # Eliminate the nan at the end of the array\n",
    "    Vs = Vs[~np.isnan(Vs)]\n",
    "    vs_soil = Vs[0]\n",
    "    h_soil = len(Vs[:-1]) * 5\n",
    "    vs_bedrock = Vs[-1]\n",
    "    return f\"Vs soil: {vs_soil:.0f} m/s\\nVs bedrock: {vs_bedrock:.0f} m/s\\nh soil: {h_soil} m\\nfreq_calc: {vs_soil/(4*(h_soil+5)):.2f} Hz\"\n",
    "\n",
    "def freq_calc(Vs):\n",
    "    # Eliminate the nan at the end of the array\n",
    "    Vs = Vs[~np.isnan(Vs)]\n",
    "    vs_soil = Vs[0]\n",
    "    h_soil = len(Vs[:-1]) * 5\n",
    "    return vs_soil/(4*(h_soil+5))\n"
   ]
  },
  {
   "cell_type": "code",
   "execution_count": 119,
   "metadata": {},
   "outputs": [
    {
     "data": {
      "image/png": "[encoded data removed]",
      "text/plain": [
       "<Figure size 640x480 with 1 Axes>"
      ]
     },
     "metadata": {},
     "output_type": "display_data"
    }
   ],
   "source": [
    "idx = np.random.randint(0,1000)\n",
    "plt.loglog(freq_data, TTF_data[idx])\n",
    "plt.title(text_plot(Vs_data[idx]))\n",
    "plt.xlabel(\"Frequency [Hz]\")\n",
    "plt.ylabel(\"TF\")\n",
    "plt.ylim([1e-1, 1e2])\n",
    "plt.show()"
   ]
  },
  {
   "cell_type": "markdown",
   "metadata": {},
   "source": [
    "## Create Dataset and DataLoader"
   ]
  },
  {
   "cell_type": "code",
   "execution_count": 120,
   "metadata": {},
   "outputs": [
    {
     "data": {
      "text/plain": [
       "(200,)"
      ]
     },
     "execution_count": 120,
     "metadata": {},
     "output_type": "execute_result"
    }
   ],
   "source": [
    "freq_vals.shape"
   ]
  },
  {
   "cell_type": "code",
   "execution_count": 123,
   "metadata": {},
   "outputs": [],
   "source": [
    "class TTF_dataset(Dataset):\n",
    "    def __init__(self, TTF_values, Vs_values, freq_values=None):\n",
    "        self.TTF_values = TTF_values\n",
    "        self.Vs_values = Vs_values\n",
    "        self.freq_values = freq_values\n",
    "        \n",
    "    def __len__(self):\n",
    "        return len(self.TTF_values)\n",
    "    \n",
    "    def __getitem__(self, idx):\n",
    "        # Target data\n",
    "        target_data = self.TTF_values[idx]\n",
    "        target_data = torch.tensor(target_data, dtype=torch.float32)\n",
    "        #print(target_data.shape)\n",
    "        # Input data\n",
    "        input_data = torch.tensor(self.Vs_values[idx], dtype=torch.float32)\n",
    "        #input_data = torch.repeat_interleave(input_data, target_data.shape[0], dim=0).unsqueeze(1)\n",
    "        #print(input_data.shape)\n",
    "\n",
    "        input_data = torch.nan_to_num(input_data, nan=0.0, posinf=0.0, neginf=0.0)\n",
    "\n",
    "        \n",
    "        return input_data, target_data"
   ]
  },
  {
   "cell_type": "code",
   "execution_count": 124,
   "metadata": {},
   "outputs": [
    {
     "name": "stdout",
     "output_type": "stream",
     "text": [
      "Sizes in the dataset:  1000\n",
      "Data shapes for input and target:  torch.Size([29]) torch.Size([200])\n"
     ]
    }
   ],
   "source": [
    "dataset = TTF_dataset(TTF_data, Vs_data, freq_values=None)\n",
    "print(\"Sizes in the dataset: \", len(dataset))\n",
    "print(\"Data shapes for input and target: \", dataset[0][0].shape, dataset[0][1].shape)"
   ]
  },
  {
   "cell_type": "code",
   "execution_count": 125,
   "metadata": {},
   "outputs": [
    {
     "name": "stdout",
     "output_type": "stream",
     "text": [
      "Train, validation and test sizes:  700 150 150\n",
      "Number of batches:  70 15 15\n",
      "Training shapes:  torch.Size([10, 29]) torch.Size([10, 200])\n"
     ]
    }
   ],
   "source": [
    "# Separate into training and testing\n",
    "train_size = int(0.7 * len(dataset))\n",
    "val_size = (len(dataset) - train_size) // 2\n",
    "test_size = len(dataset) - train_size - val_size\n",
    "print(\"Train, validation and test sizes: \" , train_size, val_size, test_size)\n",
    "\n",
    "train_dataset, val_dataset, test_dataset = torch.utils.data.random_split(dataset, [train_size, val_size, test_size])\n",
    "\n",
    "batch_size = 10\n",
    "train_loader = DataLoader(train_dataset, batch_size=batch_size, shuffle=True)\n",
    "val_loader = DataLoader(val_dataset, batch_size=batch_size, shuffle=False)\n",
    "test_loader = DataLoader(test_dataset, batch_size=batch_size, shuffle=False)\n",
    "print(\"Number of batches: \", len(train_loader), len(val_loader), len(test_loader))\n",
    "print(\"Training shapes: \", next(iter(train_loader))[0].shape, next(iter(train_loader))[1].shape)"
   ]
  },
  {
   "cell_type": "markdown",
   "metadata": {},
   "source": [
    "## Create Model"
   ]
  },
  {
   "cell_type": "code",
   "execution_count": 126,
   "metadata": {},
   "outputs": [
    {
     "name": "stdout",
     "output_type": "stream",
     "text": [
      "torch.Size([10, 29]) torch.Size([10, 200])\n"
     ]
    }
   ],
   "source": [
    "X, y = next(iter(train_loader))\n",
    "print(X.shape, y.shape)"
   ]
  },
  {
   "cell_type": "markdown",
   "metadata": {},
   "source": [
    "### CNN1D"
   ]
  },
  {
   "cell_type": "code",
   "execution_count": 127,
   "metadata": {},
   "outputs": [],
   "source": [
    "class CNN1D(nn.Module):\n",
    "    def __init__(self, input_channels, output_size, n_layers=3, n_filters=16, kernel_size=3):\n",
    "        super(CNN1D, self).__init__()\n",
    "        self.conv1 = nn.Conv1d(input_channels, 16, kernel_size=3)\n",
    "        self.conv2 = nn.Conv1d(16, 32, kernel_size=3, padding=1)\n",
    "        self.conv3 = nn.Conv1d(32, 64, kernel_size=3, padding=1)\n",
    "        self.fc1 = nn.Linear(64*3, 128)\n",
    "        self.fc2 = nn.Linear(128, output_size)\n",
    "        self.relu = nn.ReLU()\n",
    "        self.pool = nn.MaxPool1d(kernel_size=2, stride=2)\n",
    "\n",
    "    def forward(self, x):\n",
    "        batch_size, sequence_length, input_channels, features_size = x.shape\n",
    "        x = x.reshape(-1, input_channels, features_size)\n",
    "        x = self.pool(self.relu(self.conv1(x)))\n",
    "        x = self.pool(self.relu(self.conv2(x)))\n",
    "        x = self.pool(self.relu(self.conv3(x)))\n",
    "        #print(x.shape)\n",
    "        x = x.view(x.size(0), -1)  # Flatten the tensor\n",
    "        #print(x.shape)\n",
    "        x = self.relu(self.fc1(x))\n",
    "        x = self.fc2(x)\n",
    "        x = x.reshape(batch_size, sequence_length, -1).squeeze(-1)\n",
    "        return x"
   ]
  },
  {
   "cell_type": "markdown",
   "metadata": {},
   "source": [
    "### LSTM"
   ]
  },
  {
   "cell_type": "code",
   "execution_count": 128,
   "metadata": {},
   "outputs": [],
   "source": [
    "# Define the Encoder LSTM\n",
    "class EncoderLSTM(nn.Module):\n",
    "    def __init__(self, input_size, hidden_size, num_layers, bidirectional=False):\n",
    "        super(EncoderLSTM, self).__init__()\n",
    "        self.hidden_size = hidden_size\n",
    "        self.num_layers = num_layers\n",
    "        self.bidirectional = bidirectional\n",
    "        self.num_directions = 2 if bidirectional else 1\n",
    "        self.lstm = nn.LSTM(input_size, hidden_size, num_layers, batch_first=True, bidirectional=bidirectional)\n",
    "\n",
    "    def forward(self, x):\n",
    "        h0 = torch.zeros(self.num_layers * self.num_directions, x.size(0), self.hidden_size).to(x.device)\n",
    "        c0 = torch.zeros(self.num_layers * self.num_directions, x.size(0), self.hidden_size).to(x.device)\n",
    "        out, (h1, c1) = self.lstm(x, (h0, c0))\n",
    "        return out, (h1, c1)"
   ]
  },
  {
   "cell_type": "code",
   "execution_count": 129,
   "metadata": {},
   "outputs": [],
   "source": [
    "class DecoderLSTM(nn.Module):\n",
    "    def __init__(self, input_size, hidden_size, num_layers, bidirectional_encoder=False):\n",
    "        super(DecoderLSTM, self).__init__()\n",
    "        self.hidden_size = hidden_size\n",
    "        self.num_layers = num_layers\n",
    "        self.bidirectional_encoder = bidirectional_encoder\n",
    "        self.num_directions = 2 if bidirectional_encoder else 1\n",
    "        self.lstm = nn.LSTM(input_size, hidden_size * self.num_directions, num_layers, batch_first=True)\n",
    "\n",
    "    def forward(self, x, hidden):\n",
    "        if self.bidirectional_encoder:\n",
    "            # Concatenate the hidden states from both directions\n",
    "            h0, c0 = hidden\n",
    "            h0 = h0.view(self.num_layers, self.num_directions, -1, self.hidden_size)\n",
    "            c0 = c0.view(self.num_layers, self.num_directions, -1, self.hidden_size)\n",
    "            h0 = torch.cat((h0[:, 0, :, :], h0[:, 1, :, :]), dim=2)\n",
    "            c0 = torch.cat((c0[:, 0, :, :], c0[:, 1, :, :]), dim=2)\n",
    "            h0 = h0.view(self.num_layers, -1, self.hidden_size * 2)\n",
    "            c0 = c0.view(self.num_layers, -1, self.hidden_size * 2)\n",
    "            hidden = (h0, c0)\n",
    "        out, hidden = self.lstm(x, hidden)\n",
    "        return out, hidden\n"
   ]
  },
  {
   "cell_type": "markdown",
   "metadata": {},
   "source": [
    "## MLP"
   ]
  },
  {
   "cell_type": "code",
   "execution_count": 130,
   "metadata": {},
   "outputs": [],
   "source": [
    "class MLP(nn.Module):\n",
    "    def __init__(self, input_dim, hidden_dim, hidden_layers, output_dim=1, activation=nn.ReLU, batch_norm=False):\n",
    "        super(MLP, self).__init__()\n",
    "        self.hidden_layers = nn.ModuleList()\n",
    "        self.batch_norm = batch_norm\n",
    "        self.activation = activation\n",
    "        self.output_dim = output_dim\n",
    "\n",
    "        # Input layer\n",
    "        self.hidden_layers.append(nn.Linear(input_dim, hidden_dim))\n",
    "        if self.batch_norm:\n",
    "            self.hidden_layers.append(nn.BatchNorm1d(hidden_dim))\n",
    "\n",
    "        # Hidden layers\n",
    "        for _ in range(hidden_layers - 1):\n",
    "            self.hidden_layers.append(nn.Linear(hidden_dim, hidden_dim))\n",
    "            if self.batch_norm:\n",
    "                self.hidden_layers.append(nn.BatchNorm1d(hidden_dim))\n",
    "\n",
    "        # Output layer\n",
    "        self.out = nn.Linear(hidden_dim, output_dim)\n",
    "\n",
    "\n",
    "    def forward(self, x):\n",
    "        for layer in self.hidden_layers:\n",
    "            if isinstance(layer, nn.Linear):\n",
    "                x = layer(x)\n",
    "                x = self.activation()(x)\n",
    "            elif isinstance(layer, nn.BatchNorm1d):\n",
    "                x = layer(x)\n",
    "        x = self.out(x)\n",
    "        return x"
   ]
  },
  {
   "cell_type": "code",
   "execution_count": 132,
   "metadata": {},
   "outputs": [
    {
     "data": {
      "text/plain": [
       "torch.Size([10, 200])"
      ]
     },
     "execution_count": 132,
     "metadata": {},
     "output_type": "execute_result"
    }
   ],
   "source": [
    "model = MLP(input_dim=29, hidden_dim=64, hidden_layers=3, output_dim=200, activation=nn.ReLU, batch_norm=False)\n",
    "\n",
    "model(X).shape"
   ]
  },
  {
   "cell_type": "code",
   "execution_count": 131,
   "metadata": {},
   "outputs": [],
   "source": [
    "import torch\n",
    "import torch.nn as nn\n",
    "\n",
    "class TransferFunctionModel(nn.Module):\n",
    "    def __init__(self, num_depths, num_frequencies):\n",
    "        super(TransferFunctionModel, self).__init__()\n",
    "        \n",
    "        # 1D Convolutional layers to process depth-dependent material properties\n",
    "        self.conv_layers = nn.Sequential(\n",
    "            nn.Conv1d(1, 32, kernel_size=3, padding=1),\n",
    "            nn.ReLU(),\n",
    "            nn.Conv1d(32, 64, kernel_size=3, padding=1),\n",
    "            nn.ReLU(),\n",
    "            nn.Conv1d(64, 64, kernel_size=3, padding=1),\n",
    "            nn.ReLU()\n",
    "        )\n",
    "        \n",
    "        # Global average pooling to reduce spatial dimensions\n",
    "        self.global_avg_pool = nn.AdaptiveAvgPool1d(1)\n",
    "        \n",
    "        # LSTM to process frequency-dependent behavior\n",
    "        self.lstm = nn.LSTM(input_size=65, hidden_size=128, num_layers=2, batch_first=True)\n",
    "        \n",
    "        # Output layer\n",
    "        self.output_layer = nn.Linear(128, 1)\n",
    "    \n",
    "    def forward(self, X):\n",
    "        material_props, frequencies = X\n",
    "        batch_size = material_props.size(0)\n",
    "        \n",
    "        # Process material properties with 1D convolutions\n",
    "        # Reshape input: (batch, depths) -> (batch, 1, depths)\n",
    "        x = material_props.unsqueeze(1)\n",
    "        x = self.conv_layers(x)\n",
    "        \n",
    "        # Global average pooling\n",
    "        x = self.global_avg_pool(x).squeeze(-1)  # (batch, 64)\n",
    "        \n",
    "        # Repeat material features for each frequency\n",
    "        x_repeated = x.unsqueeze(1).repeat(1, frequencies.size(1), 1) # (batch, frequencies, 64)\n",
    "        \n",
    "        # Combine material features with frequencies\n",
    "        combined = torch.cat([x_repeated, frequencies], dim=2)\n",
    "        \n",
    "        # Process with LSTM\n",
    "        lstm_out, _ = self.lstm(combined)\n",
    "        \n",
    "        # Generate output for each frequency\n",
    "        output = self.output_layer(lstm_out)\n",
    "        \n",
    "        return output.squeeze(-1)\n",
    "\n",
    "# Create the model\n",
    "model = TransferFunctionModel(num_depths=29, num_frequencies=200)"
   ]
  },
  {
   "cell_type": "code",
   "execution_count": 619,
   "metadata": {},
   "outputs": [
    {
     "name": "stdout",
     "output_type": "stream",
     "text": [
      "torch.Size([100, 64])\n",
      "torch.Size([100, 200, 64])\n",
      "torch.Size([100, 200, 65])\n",
      "torch.Size([100, 200, 64])\n",
      "torch.Size([100, 200, 1])\n"
     ]
    }
   ],
   "source": [
    "material_test = torch.randn(100, 29)\n",
    "freq_test = torch.randn(100, 200, 1)\n",
    "X = (material_test, freq_test)\n",
    "\n",
    "# Model\n",
    "material_proccesor = MLP(29, 64,2,64)\n",
    "lstm = nn.LSTM(65, 64, 2, batch_first=True)\n",
    "output_processor = nn.Linear(64, 1)\n",
    "\n",
    "\n",
    "# Test the model\n",
    "material_proccesed = material_proccesor(material_test)\n",
    "print(material_proccesed.shape)\n",
    "material_proccesed = material_proccesed.unsqueeze(1).repeat(1, 200, 1)\n",
    "print(material_proccesed.shape)\n",
    "input_data = torch.cat((material_proccesed, freq_test), dim=2)\n",
    "print(input_data.shape)\n",
    "\n",
    "output, (_, _) = lstm(input_data)\n",
    "print(output.shape)\n",
    "\n",
    "output = output_processor(output)\n",
    "print(output.shape)\n"
   ]
  },
  {
   "cell_type": "code",
   "execution_count": 620,
   "metadata": {},
   "outputs": [
    {
     "name": "stdout",
     "output_type": "stream",
     "text": [
      "torch.Size([100, 200])\n"
     ]
    }
   ],
   "source": [
    "model = TransferFunctionModel(29, 200, hidden_dim=64)\n",
    "out = model(X)\n",
    "print(out.shape)"
   ]
  },
  {
   "cell_type": "code",
   "execution_count": 374,
   "metadata": {},
   "outputs": [
    {
     "name": "stdout",
     "output_type": "stream",
     "text": [
      "Encoder output shape: torch.Size([50, 1, 2])\n",
      "Encoder hidden state shape: torch.Size([5, 50, 2])\n",
      "Encoder cell state shape: torch.Size([5, 50, 2])\n",
      "Decoder output shape: torch.Size([50, 1, 1])\n"
     ]
    }
   ],
   "source": [
    "# Example usage\n",
    "input_size = 30\n",
    "hidden_size = 2\n",
    "num_layers = 5\n",
    "bidirectional_encoder = False\n",
    "\n",
    "# MLP\n",
    "hidden_layers = 3\n",
    "hidden_dim = 10\n",
    "output_dim = 1\n",
    "\n",
    "# Example\n",
    "X = torch.randn(50, 1, input_size)\n",
    "encoder = EncoderLSTM(input_size, hidden_size, num_layers, bidirectional_encoder)\n",
    "decoder = MLP(hidden_size*2 if bidirectional_encoder else hidden_size, hidden_dim, hidden_layers, output_dim)\n",
    "\n",
    "# Encode the input sequence\n",
    "encoder_output, (h1, c1) = encoder(X)\n",
    "print(\"Encoder output shape:\", encoder_output.shape)\n",
    "print(\"Encoder hidden state shape:\", h1.shape)\n",
    "print(\"Encoder cell state shape:\", c1.shape)\n",
    "\n",
    "# Decode the output sequence\n",
    "decoder_output = decoder(encoder_output)\n",
    "print(\"Decoder output shape:\", decoder_output.shape)\n"
   ]
  },
  {
   "cell_type": "code",
   "execution_count": 375,
   "metadata": {},
   "outputs": [],
   "source": [
    "class Seq2Seq(nn.Module):\n",
    "    def __init__(self, encoder, mlp, device=\"cpu\", freq_linear=None):\n",
    "        super(Seq2Seq, self).__init__()\n",
    "        self.encoder = encoder.to(device)\n",
    "        self.mlp = mlp.to(device)\n",
    "\n",
    "        # LSTM weights for material properties\n",
    "        self.freq_linear = freq_linear.to(device) if freq_linear is not None else None\n",
    "\n",
    "    def forward(self, x, print_shapes=False):\n",
    "        # Separate the data\n",
    "        material_input, freq_input = x[:, :, :-1], x[:, :, -1].unsqueeze(2)\n",
    "        if print_shapes:\n",
    "            print(\"Material input shape:\", material_input.shape)\n",
    "            print(\"Frequency input shape:\", freq_input.shape)\n",
    "\n",
    "        # Encode the input sequence\n",
    "        encoder_output, (h1, c1) = self.encoder(material_input)\n",
    "        if print_shapes:\n",
    "            print(\"Encoder output shape:\", encoder_output.shape)\n",
    "            print(\"Encoder hidden state shape:\", h1.shape)\n",
    "            print(\"Encoder cell state shape:\", c1.shape)\n",
    "\n",
    "        # Encode frequency\n",
    "        if self.freq_linear is not None:\n",
    "            freq_output = self.freq_linear(freq_input)\n",
    "            freq_output = freq_output.reshape(encoder_output.shape[0], encoder_output.shape[1], -1)\n",
    "            encoder_output = torch.cat((encoder_output, freq_output), dim=2)\n",
    "            if print_shapes:\n",
    "                print(\"Frequency output shape:\", freq_output.shape)\n",
    "                print(\"Encoder output shape after frequency:\", encoder_output.shape)\n",
    "\n",
    "        # Decode the output sequence\n",
    "        output = self.mlp(encoder_output)\n",
    "        if print_shapes:\n",
    "            print(\"Decoder output shape:\", output.shape)\n",
    "\n",
    "        return output\n"
   ]
  },
  {
   "cell_type": "code",
   "execution_count": null,
   "metadata": {},
   "outputs": [],
   "source": []
  },
  {
   "cell_type": "code",
   "execution_count": 376,
   "metadata": {},
   "outputs": [
    {
     "name": "stdout",
     "output_type": "stream",
     "text": [
      "Material input shape: torch.Size([50, 1, 29])\n",
      "Frequency input shape: torch.Size([50, 1, 1])\n",
      "Encoder output shape: torch.Size([50, 1, 10])\n",
      "Encoder hidden state shape: torch.Size([4, 50, 5])\n",
      "Encoder cell state shape: torch.Size([4, 50, 5])\n",
      "Frequency output shape: torch.Size([50, 1, 10])\n",
      "Encoder output shape after frequency: torch.Size([50, 1, 20])\n",
      "Decoder output shape: torch.Size([50, 1, 1])\n",
      "Output shape: torch.Size([50, 1, 1])\n"
     ]
    }
   ],
   "source": [
    "# Example usage\n",
    "# Assuming input_size, hidden_size, num_layers are defined\n",
    "input_size = 30\n",
    "hidden_size = 5\n",
    "num_layers = 1\n",
    "bidirectional_encoder = True\n",
    "\n",
    "# MLP\n",
    "hidden_layers = 2\n",
    "hidden_dim = 10\n",
    "output_dim = 1\n",
    "num_layers = 2\n",
    "\n",
    "\n",
    "encoder = EncoderLSTM(input_size-1, hidden_size, num_layers, bidirectional=bidirectional_encoder)\n",
    "freq_mlp = MLP(1, hidden_dim=hidden_dim, hidden_layers=hidden_layers, output_dim=hidden_size*2 if bidirectional_encoder else hidden_size)\n",
    "\n",
    "#freq_linear = nn.Linear(1, hidden_size * 2 if bidirectional_encoder else hidden_size)\n",
    "#mlp = nn.Linear(hidden_size *2 * 2 if bidirectional_encoder else hidden_size*2, 1)\n",
    "mlp = MLP(hidden_size*2 * 2 if bidirectional_encoder else hidden_size*2, 10, 3, 1)\n",
    "\n",
    "model = Seq2Seq(encoder, mlp, device=\"cuda\", freq_linear=freq_mlp)\n",
    "\n",
    "# Assuming X is the input tensor\n",
    "X = torch.randn(50, 1, input_size).to(\"cuda\")\n",
    "output = model(X, print_shapes=True)\n",
    "print(\"Output shape:\", output.shape)"
   ]
  },
  {
   "cell_type": "markdown",
   "metadata": {},
   "source": [
    "## Training"
   ]
  },
  {
   "cell_type": "code",
   "execution_count": 133,
   "metadata": {},
   "outputs": [],
   "source": [
    "# Early stopping\n",
    "class EarlyStopping():\n",
    "    def __init__(self, patience=5, delta=0.0, progress_bar=None):\n",
    "        self.patience = patience\n",
    "        self.counter = 0\n",
    "        self.best_score = None\n",
    "        self.early_stop = False\n",
    "        self.delta = delta\n",
    "        self.progress_bar = progress_bar\n",
    "\n",
    "    def __call__(self, val_loss, model):\n",
    "        if self.best_score is None:\n",
    "            self.best_score = val_loss\n",
    "        elif val_loss > self.best_score + self.delta:\n",
    "            self.counter += 1\n",
    "            if self.progress_bar:\n",
    "                self.progress_bar.set_postfix_str(f'EarlyStopping counter: {self.counter} out of {self.patience}')\n",
    "            if self.counter >= self.patience:\n",
    "                self.early_stop = True\n",
    "        else:\n",
    "            self.best_score = val_loss\n",
    "            self.counter = 0\n",
    "            if self.progress_bar:\n",
    "                self.progress_bar.set_postfix_str('')"
   ]
  },
  {
   "cell_type": "code",
   "execution_count": 134,
   "metadata": {},
   "outputs": [],
   "source": [
    "from tqdm import trange, tqdm\n",
    "\n",
    "def train_model(model, optimizer, scheduler, train_dataloader, validation_dataloader, loss_fn, epochs=100, device=\"cpu\", \n",
    "patience=50, clipping=True, print_epoch=10):\n",
    "    \"\"\"\n",
    "    Train a PyTorch model with early stopping and learning rate scheduler.\n",
    "    \n",
    "    Args:\n",
    "    model: PyTorch model\n",
    "    optimizer: PyTorch optimizer\n",
    "    scheduler: PyTorch learning rate scheduler\n",
    "    train_dataloader: PyTorch DataLoader for training data\n",
    "    validation_dataloader: PyTorch DataLoader for validation data\n",
    "    loss_fn: PyTorch loss function\n",
    "    epochs: Number of epochs to train\n",
    "    device: PyTorch device, e.g. \"cpu\" or \"cuda\"\n",
    "    patience: Patience for early stopping, i.e. number of epochs without improvement before stopping\n",
    "    clipping: Whether to use gradient clipping\n",
    "    print_epoch: Print training and validation loss every print_epoch epochs\n",
    "\n",
    "    Returns:\n",
    "    train_losses: List of training losses\n",
    "    val_losses: List of validation losses\n",
    "    model: Trained PyTorch model\n",
    "    \"\"\"\n",
    "    \n",
    "    train_losses = []\n",
    "    val_losses = []\n",
    "    model.to(device)\n",
    "    progress_bar = tqdm(range(epochs), desc=\"Training\", unit=\"epoch\")\n",
    "    early_stopping = EarlyStopping(patience=patience, progress_bar=progress_bar)\n",
    "    best_model = None\n",
    "\n",
    "    for epoch in progress_bar:\n",
    "        model.train()\n",
    "        train_loss = 0\n",
    "        for X, y in train_dataloader:\n",
    "            X, y = X.to(device), y.to(device)\n",
    "            optimizer.zero_grad()\n",
    "            y_pred = model(X)\n",
    "            loss = loss_fn(y_pred, y)\n",
    "            loss.backward()\n",
    "            if clipping:\n",
    "                torch.nn.utils.clip_grad_norm_(model.parameters(), max_norm=1.0)  # Gradient clipping\n",
    "            optimizer.step()\n",
    "            train_loss += loss.item()\n",
    "        train_loss /= len(train_dataloader)\n",
    "        train_losses.append(train_loss)\n",
    "\n",
    "        # Validation loss\n",
    "        model.eval()\n",
    "        val_loss = 0\n",
    "        with torch.no_grad():\n",
    "            for X, y in validation_dataloader:\n",
    "                X, y = X.to(device), y.to(device)\n",
    "                y_pred = model(X)\n",
    "                loss = loss_fn(y_pred, y)\n",
    "                val_loss += loss.item()\n",
    "        val_loss /= len(validation_dataloader)\n",
    "        val_losses.append(val_loss)\n",
    "\n",
    "        if early_stopping is not None:\n",
    "            early_stopping(val_loss, model)\n",
    "            if early_stopping.early_stop:\n",
    "                print(\"Early stopping\")\n",
    "                break\n",
    "\n",
    "        if scheduler is not None:\n",
    "            scheduler.step(val_loss)\n",
    "\n",
    "        if epoch % print_epoch == 0:\n",
    "            print(f\"Epoch {epoch}, Train Loss: {train_loss}, Val Loss: {val_loss}, LR: {optimizer.param_groups[0]['lr']}\")\n",
    "\n",
    "        # Stop if loss is nan\n",
    "        if np.isnan(train_loss) or np.isnan(val_loss):\n",
    "            print(\"Loss is nan\")\n",
    "            break\n",
    "\n",
    "    return train_losses, val_losses, model\n",
    "\n",
    "\n",
    "def test_model(model, test_dataloader, loss_fn, device=\"cpu\"):\n",
    "    \"\"\"\n",
    "    Test a PyTorch model.\n",
    "    Args:\n",
    "    model: PyTorch model\n",
    "    test_dataloader: PyTorch DataLoader for test data\n",
    "    loss_fn: PyTorch loss function\n",
    "    device: PyTorch device, e.g. \"cpu\" or \"cuda\"\n",
    "    Returns:\n",
    "    test_loss: Average test loss\n",
    "    \"\"\"\n",
    "    \n",
    "    model.eval()\n",
    "    test_loss = 0\n",
    "    for X, y in test_dataloader:\n",
    "        X, y = X.to(device), y.to(device)\n",
    "        y_pred = model(X)\n",
    "        loss = loss_fn(y_pred, y)\n",
    "        test_loss += loss.item()\n",
    "    test_loss /= len(test_dataloader)\n",
    "    return test_loss"
   ]
  },
  {
   "cell_type": "code",
   "execution_count": 142,
   "metadata": {},
   "outputs": [
    {
     "name": "stdout",
     "output_type": "stream",
     "text": [
      "Device:  cuda\n"
     ]
    }
   ],
   "source": [
    "import torch\n",
    "import torch.optim as optim\n",
    "import torch.nn as nn\n",
    "\n",
    "# Optimizer\n",
    "optimizer = optim.AdamW(model.parameters(), lr=5e-3, weight_decay=1e-4, amsgrad=True, \n",
    "eps=1e-08, betas=(0.7, 0.999))\n",
    "\n",
    "# Scheduler\n",
    "scheduler = torch.optim.lr_scheduler.ReduceLROnPlateau(optimizer, mode='min', factor=0.5, \n",
    "patience=250, \n",
    "threshold_mode='rel', cooldown=0, min_lr=1e-5, eps=1e-08)\n",
    "\n",
    "# Training\n",
    "num_epochs = 20000\n",
    "device = \"cuda\" if torch.cuda.is_available() else \"cpu\"\n",
    "print(\"Device: \", device)\n",
    "\n",
    "# RMSE\n",
    "def rmse(y_true, y_pred):\n",
    "    return torch.sqrt(torch.mean((y_true - y_pred) ** 2))\n",
    "\n",
    "loss_fn = nn.L1Loss()\n",
    "\n",
    "# Join L1Loss and cosine similarity\n",
    "def custom_loss(y_true, y_pred, alpha=0.5):\n",
    "    l1_loss = loss_fn(y_true, y_pred)\n",
    "    cosine_loss = 1 - torch.nn.functional.cosine_similarity(y_true, y_pred).mean()\n",
    "    return alpha * l1_loss + (1 - alpha) * cosine_loss"
   ]
  },
  {
   "cell_type": "code",
   "execution_count": 143,
   "metadata": {},
   "outputs": [],
   "source": [
    "import yaml\n",
    "\n",
    "# Update config file\n",
    "config_file = 'config/default.yaml'\n",
    "\n",
    "# Update config file"
   ]
  },
  {
   "cell_type": "code",
   "execution_count": 144,
   "metadata": {},
   "outputs": [
    {
     "name": "stderr",
     "output_type": "stream",
     "text": [
      "Training:   0%|          | 1/1000 [00:00<06:40,  2.49epoch/s]"
     ]
    },
    {
     "name": "stdout",
     "output_type": "stream",
     "text": [
      "Epoch 0, Train Loss: 1.509103148324149, Val Loss: 1.5322178602218628, LR: 0.005\n"
     ]
    },
    {
     "name": "stderr",
     "output_type": "stream",
     "text": [
      "Training:  10%|█         | 101/1000 [00:35<05:31,  2.71epoch/s, EarlyStopping counter: 51 out of 500]"
     ]
    },
    {
     "name": "stdout",
     "output_type": "stream",
     "text": [
      "Epoch 100, Train Loss: 1.5078731332506452, Val Loss: 1.531588077545166, LR: 0.005\n"
     ]
    },
    {
     "name": "stderr",
     "output_type": "stream",
     "text": [
      "Training:  20%|██        | 201/1000 [01:21<04:59,  2.66epoch/s, EarlyStopping counter: 67 out of 500]"
     ]
    },
    {
     "name": "stdout",
     "output_type": "stream",
     "text": [
      "Epoch 200, Train Loss: 1.507905752318246, Val Loss: 1.5313925981521606, LR: 0.005\n"
     ]
    },
    {
     "name": "stderr",
     "output_type": "stream",
     "text": [
      "Training:  30%|███       | 301/1000 [02:13<06:12,  1.88epoch/s, EarlyStopping counter: 167 out of 500]"
     ]
    },
    {
     "name": "stdout",
     "output_type": "stream",
     "text": [
      "Epoch 300, Train Loss: 1.5078753522464208, Val Loss: 1.531477411588033, LR: 0.0025\n"
     ]
    },
    {
     "name": "stderr",
     "output_type": "stream",
     "text": [
      "Training:  40%|████      | 401/1000 [03:08<05:34,  1.79epoch/s, EarlyStopping counter: 267 out of 500]"
     ]
    },
    {
     "name": "stdout",
     "output_type": "stream",
     "text": [
      "Epoch 400, Train Loss: 1.5076218553951808, Val Loss: 1.5315684080123901, LR: 0.0025\n"
     ]
    },
    {
     "name": "stderr",
     "output_type": "stream",
     "text": [
      "Training:  50%|█████     | 501/1000 [04:03<04:23,  1.89epoch/s, EarlyStopping counter: 367 out of 500]"
     ]
    },
    {
     "name": "stdout",
     "output_type": "stream",
     "text": [
      "Epoch 500, Train Loss: 1.5076129947389876, Val Loss: 1.5316239595413208, LR: 0.0025\n"
     ]
    },
    {
     "name": "stderr",
     "output_type": "stream",
     "text": [
      "Training:  60%|██████    | 601/1000 [04:58<03:42,  1.80epoch/s, EarlyStopping counter: 467 out of 500]"
     ]
    },
    {
     "name": "stdout",
     "output_type": "stream",
     "text": [
      "Epoch 600, Train Loss: 1.5074951069695608, Val Loss: 1.5315461794535319, LR: 0.00125\n"
     ]
    },
    {
     "name": "stderr",
     "output_type": "stream",
     "text": [
      "Training:  63%|██████▎   | 633/1000 [05:16<03:03,  2.00epoch/s, EarlyStopping counter: 500 out of 500]"
     ]
    },
    {
     "name": "stdout",
     "output_type": "stream",
     "text": [
      "Early stopping\n"
     ]
    },
    {
     "name": "stderr",
     "output_type": "stream",
     "text": [
      "\n"
     ]
    }
   ],
   "source": [
    "train_losses, val_losses, model = train_model(model, optimizer, scheduler, train_loader, val_loader, loss_fn, \n",
    "epochs=1000, device=device, patience=500, clipping=True, print_epoch=100)"
   ]
  },
  {
   "cell_type": "code",
   "execution_count": 146,
   "metadata": {},
   "outputs": [
    {
     "data": {
      "image/png": "[encoded data removed]",
      "text/plain": [
       "<Figure size 640x480 with 1 Axes>"
      ]
     },
     "metadata": {},
     "output_type": "display_data"
    }
   ],
   "source": [
    "# Plot losses\n",
    "sns.lineplot(x=range(len(train_losses)), y=train_losses, label=\"Train loss\")\n",
    "sns.lineplot(x=range(len(val_losses)), y=val_losses, label=\"Validation loss\")\n",
    "plt.xlabel(\"Epoch\")\n",
    "plt.ylabel(\"Loss\")\n",
    "plt.title(\"Train and validation loss\")\n",
    "plt.show()"
   ]
  },
  {
   "cell_type": "markdown",
   "metadata": {},
   "source": [
    "## Evaluation"
   ]
  },
  {
   "cell_type": "code",
   "execution_count": 139,
   "metadata": {},
   "outputs": [
    {
     "name": "stdout",
     "output_type": "stream",
     "text": [
      "Test loss:  1.6121288855870566\n"
     ]
    }
   ],
   "source": [
    "# Test model    \n",
    "test_loss = test_model(model, test_loader, loss_fn, device=device)\n",
    "print(\"Test loss: \", test_loss)"
   ]
  },
  {
   "cell_type": "code",
   "execution_count": 140,
   "metadata": {},
   "outputs": [],
   "source": [
    "def extract_Vs(Vs):\n",
    "    # Eliminate the zeros at the end of the array\n",
    "    Vs = Vs[Vs != 0]\n",
    "    vs_soil = Vs[0]\n",
    "    h_soil = len(Vs[:-2]) * 5\n",
    "    vs_bedrock = Vs[-2]\n",
    "    return vs_soil, vs_bedrock, h_soil"
   ]
  },
  {
   "cell_type": "code",
   "execution_count": 141,
   "metadata": {},
   "outputs": [
    {
     "ename": "IndexError",
     "evalue": "index -2 is out of bounds for axis 0 with size 1",
     "output_type": "error",
     "traceback": [
      "\u001b[1;31m---------------------------------------------------------------------------\u001b[0m",
      "\u001b[1;31mIndexError\u001b[0m                                Traceback (most recent call last)",
      "Cell \u001b[1;32mIn[141], line 1\u001b[0m\n\u001b[1;32m----> 1\u001b[0m [\u001b[43mextract_Vs\u001b[49m\u001b[43m(\u001b[49m\u001b[43mVs\u001b[49m\u001b[43m)\u001b[49m \u001b[38;5;28;01mfor\u001b[39;00m Vs \u001b[38;5;129;01min\u001b[39;00m X[:,\u001b[38;5;241m0\u001b[39m]\u001b[38;5;241m.\u001b[39mcpu()\u001b[38;5;241m.\u001b[39mnumpy()]\n",
      "Cell \u001b[1;32mIn[140], line 6\u001b[0m, in \u001b[0;36mextract_Vs\u001b[1;34m(Vs)\u001b[0m\n\u001b[0;32m      4\u001b[0m vs_soil \u001b[38;5;241m=\u001b[39m Vs[\u001b[38;5;241m0\u001b[39m]\n\u001b[0;32m      5\u001b[0m h_soil \u001b[38;5;241m=\u001b[39m \u001b[38;5;28mlen\u001b[39m(Vs[:\u001b[38;5;241m-\u001b[39m\u001b[38;5;241m2\u001b[39m]) \u001b[38;5;241m*\u001b[39m \u001b[38;5;241m5\u001b[39m\n\u001b[1;32m----> 6\u001b[0m vs_bedrock \u001b[38;5;241m=\u001b[39m \u001b[43mVs\u001b[49m\u001b[43m[\u001b[49m\u001b[38;5;241;43m-\u001b[39;49m\u001b[38;5;241;43m2\u001b[39;49m\u001b[43m]\u001b[49m\n\u001b[0;32m      7\u001b[0m \u001b[38;5;28;01mreturn\u001b[39;00m vs_soil, vs_bedrock, h_soil\n",
      "\u001b[1;31mIndexError\u001b[0m: index -2 is out of bounds for axis 0 with size 1"
     ]
    }
   ],
   "source": [
    "[extract_Vs(Vs) for Vs in X[:,0].cpu().numpy()]"
   ]
  },
  {
   "cell_type": "code",
   "execution_count": null,
   "metadata": {},
   "outputs": [],
   "source": [
    "import scipy.stats as stats\n",
    "def correlation_calc(y_true, y_pred):\n",
    "    y_true = y_true.cpu().numpy()\n",
    "    y_pred = y_pred.cpu().numpy()\n",
    "    batch_size = y_true.shape[0]\n",
    "    corr = []\n",
    "\n",
    "    assert y_true.shape[1] > 1, \"Correlation can only be calculated for more than one value\"\n",
    "\n",
    "    # Calculate correlation for every batch\n",
    "    for i in range(batch_size):\n",
    "        corr.append(stats.pearsonr(y_true[i].flatten(), y_pred[i].flatten())[0])\n",
    "    \n",
    "    return np.array(corr)"
   ]
  },
  {
   "cell_type": "code",
   "execution_count": null,
   "metadata": {},
   "outputs": [],
   "source": []
  },
  {
   "cell_type": "code",
   "execution_count": 396,
   "metadata": {},
   "outputs": [
    {
     "name": "stdout",
     "output_type": "stream",
     "text": [
      "(150, 1, 1) (150, 1, 1) (150,) (150,) (150,) (3,)\n"
     ]
    }
   ],
   "source": [
    "# Show results\n",
    "import scipy\n",
    "model.eval()\n",
    "target = []\n",
    "predicted = []\n",
    "Vs_soil = []\n",
    "Vs_bedrock = []\n",
    "h_soil = []\n",
    "correlation = []\n",
    "with torch.no_grad():\n",
    "    for X, y in test_loader:\n",
    "        X, y = X.to(device), y.to(device)\n",
    "        y_pred = model(X)\n",
    "        target.append(y.cpu().numpy())\n",
    "        predicted.append(y_pred.cpu().numpy())\n",
    "        Vs_soil_i, Vs_bedrock_i, h_soil_i = zip(*[extract_Vs(Vs) for Vs in X[:,0].cpu().numpy()])\n",
    "        Vs_soil.append(Vs_soil_i)\n",
    "        Vs_bedrock.append(Vs_bedrock_i)\n",
    "        h_soil.append(h_soil_i)\n",
    "        correlation.append(stats.pearsonr(y.cpu().numpy().flatten(), y_pred.cpu().numpy().flatten())[0])\n",
    "\n",
    "target = np.concatenate(target)\n",
    "predicted = np.concatenate(predicted)\n",
    "Vs_soil = np.concatenate(Vs_soil)\n",
    "Vs_bedrock = np.concatenate(Vs_bedrock)\n",
    "h_soil = np.concatenate(h_soil)\n",
    "#correlation = np.concatenate(correlation)\n",
    "correlation = np.array(correlation)\n",
    "\n",
    "print(target.shape, predicted.shape, Vs_soil.shape, Vs_bedrock.shape, h_soil.shape, correlation.shape)"
   ]
  },
  {
   "cell_type": "code",
   "execution_count": null,
   "metadata": {},
   "outputs": [
    {
     "ename": "ValueError",
     "evalue": "x and y must have same first dimension, but have shapes (200,) and (1, 1)",
     "output_type": "error",
     "traceback": [
      "\u001b[1;31m---------------------------------------------------------------------------\u001b[0m",
      "\u001b[1;31mValueError\u001b[0m                                Traceback (most recent call last)",
      "Cell \u001b[1;32mIn[398], line 3\u001b[0m\n\u001b[0;32m      1\u001b[0m \u001b[38;5;28;01mfor\u001b[39;00m i \u001b[38;5;129;01min\u001b[39;00m \u001b[38;5;28mrange\u001b[39m(target\u001b[38;5;241m.\u001b[39mshape[\u001b[38;5;241m0\u001b[39m]):\n\u001b[0;32m      2\u001b[0m     text_Vs \u001b[38;5;241m=\u001b[39m [Vs_soil[i], h_soil[i], Vs_bedrock[i]]\n\u001b[1;32m----> 3\u001b[0m     \u001b[43mplt\u001b[49m\u001b[38;5;241;43m.\u001b[39;49m\u001b[43mloglog\u001b[49m\u001b[43m(\u001b[49m\u001b[43mfreq_data\u001b[49m\u001b[43m,\u001b[49m\u001b[43m \u001b[49m\u001b[43mtarget\u001b[49m\u001b[43m[\u001b[49m\u001b[43mi\u001b[49m\u001b[43m,\u001b[49m\u001b[43m:\u001b[49m\u001b[43m]\u001b[49m\u001b[43m,\u001b[49m\u001b[43m \u001b[49m\u001b[43mlabel\u001b[49m\u001b[38;5;241;43m=\u001b[39;49m\u001b[38;5;124;43m\"\u001b[39;49m\u001b[38;5;124;43mTarget\u001b[39;49m\u001b[38;5;124;43m\"\u001b[39;49m\u001b[43m)\u001b[49m\n\u001b[0;32m      4\u001b[0m     plt\u001b[38;5;241m.\u001b[39mloglog(freq_data, predicted[i,:], label\u001b[38;5;241m=\u001b[39m\u001b[38;5;124m\"\u001b[39m\u001b[38;5;124mPredicted\u001b[39m\u001b[38;5;124m\"\u001b[39m)\n\u001b[0;32m      5\u001b[0m     plt\u001b[38;5;241m.\u001b[39mxlabel(\u001b[38;5;124m\"\u001b[39m\u001b[38;5;124mFrequency [Hz]\u001b[39m\u001b[38;5;124m\"\u001b[39m)\n",
      "File \u001b[1;32mc:\\Users\\kurt-\\miniconda3\\envs\\ML\\Lib\\site-packages\\matplotlib\\pyplot.py:3602\u001b[0m, in \u001b[0;36mloglog\u001b[1;34m(*args, **kwargs)\u001b[0m\n\u001b[0;32m   3600\u001b[0m \u001b[38;5;129m@_copy_docstring_and_deprecators\u001b[39m(Axes\u001b[38;5;241m.\u001b[39mloglog)\n\u001b[0;32m   3601\u001b[0m \u001b[38;5;28;01mdef\u001b[39;00m \u001b[38;5;21mloglog\u001b[39m(\u001b[38;5;241m*\u001b[39margs, \u001b[38;5;241m*\u001b[39m\u001b[38;5;241m*\u001b[39mkwargs) \u001b[38;5;241m-\u001b[39m\u001b[38;5;241m>\u001b[39m \u001b[38;5;28mlist\u001b[39m[Line2D]:\n\u001b[1;32m-> 3602\u001b[0m     \u001b[38;5;28;01mreturn\u001b[39;00m \u001b[43mgca\u001b[49m\u001b[43m(\u001b[49m\u001b[43m)\u001b[49m\u001b[38;5;241;43m.\u001b[39;49m\u001b[43mloglog\u001b[49m\u001b[43m(\u001b[49m\u001b[38;5;241;43m*\u001b[39;49m\u001b[43margs\u001b[49m\u001b[43m,\u001b[49m\u001b[43m \u001b[49m\u001b[38;5;241;43m*\u001b[39;49m\u001b[38;5;241;43m*\u001b[39;49m\u001b[43mkwargs\u001b[49m\u001b[43m)\u001b[49m\n",
      "File \u001b[1;32mc:\\Users\\kurt-\\miniconda3\\envs\\ML\\Lib\\site-packages\\matplotlib\\axes\\_axes.py:1920\u001b[0m, in \u001b[0;36mAxes.loglog\u001b[1;34m(self, *args, **kwargs)\u001b[0m\n\u001b[0;32m   1916\u001b[0m dy \u001b[38;5;241m=\u001b[39m {k: v \u001b[38;5;28;01mfor\u001b[39;00m k, v \u001b[38;5;129;01min\u001b[39;00m kwargs\u001b[38;5;241m.\u001b[39mitems()\n\u001b[0;32m   1917\u001b[0m       \u001b[38;5;28;01mif\u001b[39;00m k \u001b[38;5;129;01min\u001b[39;00m [\u001b[38;5;124m'\u001b[39m\u001b[38;5;124mbase\u001b[39m\u001b[38;5;124m'\u001b[39m, \u001b[38;5;124m'\u001b[39m\u001b[38;5;124msubs\u001b[39m\u001b[38;5;124m'\u001b[39m, \u001b[38;5;124m'\u001b[39m\u001b[38;5;124mnonpositive\u001b[39m\u001b[38;5;124m'\u001b[39m,\n\u001b[0;32m   1918\u001b[0m                \u001b[38;5;124m'\u001b[39m\u001b[38;5;124mbasey\u001b[39m\u001b[38;5;124m'\u001b[39m, \u001b[38;5;124m'\u001b[39m\u001b[38;5;124msubsy\u001b[39m\u001b[38;5;124m'\u001b[39m, \u001b[38;5;124m'\u001b[39m\u001b[38;5;124mnonposy\u001b[39m\u001b[38;5;124m'\u001b[39m]}\n\u001b[0;32m   1919\u001b[0m \u001b[38;5;28mself\u001b[39m\u001b[38;5;241m.\u001b[39mset_yscale(\u001b[38;5;124m'\u001b[39m\u001b[38;5;124mlog\u001b[39m\u001b[38;5;124m'\u001b[39m, \u001b[38;5;241m*\u001b[39m\u001b[38;5;241m*\u001b[39mdy)\n\u001b[1;32m-> 1920\u001b[0m \u001b[38;5;28;01mreturn\u001b[39;00m \u001b[38;5;28;43mself\u001b[39;49m\u001b[38;5;241;43m.\u001b[39;49m\u001b[43mplot\u001b[49m\u001b[43m(\u001b[49m\n\u001b[0;32m   1921\u001b[0m \u001b[43m    \u001b[49m\u001b[38;5;241;43m*\u001b[39;49m\u001b[43margs\u001b[49m\u001b[43m,\u001b[49m\u001b[43m \u001b[49m\u001b[38;5;241;43m*\u001b[39;49m\u001b[38;5;241;43m*\u001b[39;49m\u001b[43m{\u001b[49m\u001b[43mk\u001b[49m\u001b[43m:\u001b[49m\u001b[43m \u001b[49m\u001b[43mv\u001b[49m\u001b[43m \u001b[49m\u001b[38;5;28;43;01mfor\u001b[39;49;00m\u001b[43m \u001b[49m\u001b[43mk\u001b[49m\u001b[43m,\u001b[49m\u001b[43m \u001b[49m\u001b[43mv\u001b[49m\u001b[43m \u001b[49m\u001b[38;5;129;43;01min\u001b[39;49;00m\u001b[43m \u001b[49m\u001b[43mkwargs\u001b[49m\u001b[38;5;241;43m.\u001b[39;49m\u001b[43mitems\u001b[49m\u001b[43m(\u001b[49m\u001b[43m)\u001b[49m\u001b[43m \u001b[49m\u001b[38;5;28;43;01mif\u001b[39;49;00m\u001b[43m \u001b[49m\u001b[43mk\u001b[49m\u001b[43m \u001b[49m\u001b[38;5;129;43;01mnot\u001b[39;49;00m\u001b[43m \u001b[49m\u001b[38;5;129;43;01min\u001b[39;49;00m\u001b[43m \u001b[49m\u001b[43m{\u001b[49m\u001b[38;5;241;43m*\u001b[39;49m\u001b[43mdx\u001b[49m\u001b[43m,\u001b[49m\u001b[43m \u001b[49m\u001b[38;5;241;43m*\u001b[39;49m\u001b[43mdy\u001b[49m\u001b[43m}\u001b[49m\u001b[43m}\u001b[49m\u001b[43m)\u001b[49m\n",
      "File \u001b[1;32mc:\\Users\\kurt-\\miniconda3\\envs\\ML\\Lib\\site-packages\\matplotlib\\axes\\_axes.py:1779\u001b[0m, in \u001b[0;36mAxes.plot\u001b[1;34m(self, scalex, scaley, data, *args, **kwargs)\u001b[0m\n\u001b[0;32m   1536\u001b[0m \u001b[38;5;250m\u001b[39m\u001b[38;5;124;03m\"\"\"\u001b[39;00m\n\u001b[0;32m   1537\u001b[0m \u001b[38;5;124;03mPlot y versus x as lines and/or markers.\u001b[39;00m\n\u001b[0;32m   1538\u001b[0m \n\u001b[1;32m   (...)\u001b[0m\n\u001b[0;32m   1776\u001b[0m \u001b[38;5;124;03m(``'green'``) or hex strings (``'#008000'``).\u001b[39;00m\n\u001b[0;32m   1777\u001b[0m \u001b[38;5;124;03m\"\"\"\u001b[39;00m\n\u001b[0;32m   1778\u001b[0m kwargs \u001b[38;5;241m=\u001b[39m cbook\u001b[38;5;241m.\u001b[39mnormalize_kwargs(kwargs, mlines\u001b[38;5;241m.\u001b[39mLine2D)\n\u001b[1;32m-> 1779\u001b[0m lines \u001b[38;5;241m=\u001b[39m [\u001b[38;5;241m*\u001b[39m\u001b[38;5;28mself\u001b[39m\u001b[38;5;241m.\u001b[39m_get_lines(\u001b[38;5;28mself\u001b[39m, \u001b[38;5;241m*\u001b[39margs, data\u001b[38;5;241m=\u001b[39mdata, \u001b[38;5;241m*\u001b[39m\u001b[38;5;241m*\u001b[39mkwargs)]\n\u001b[0;32m   1780\u001b[0m \u001b[38;5;28;01mfor\u001b[39;00m line \u001b[38;5;129;01min\u001b[39;00m lines:\n\u001b[0;32m   1781\u001b[0m     \u001b[38;5;28mself\u001b[39m\u001b[38;5;241m.\u001b[39madd_line(line)\n",
      "File \u001b[1;32mc:\\Users\\kurt-\\miniconda3\\envs\\ML\\Lib\\site-packages\\matplotlib\\axes\\_base.py:296\u001b[0m, in \u001b[0;36m_process_plot_var_args.__call__\u001b[1;34m(self, axes, data, *args, **kwargs)\u001b[0m\n\u001b[0;32m    294\u001b[0m     this \u001b[38;5;241m+\u001b[39m\u001b[38;5;241m=\u001b[39m args[\u001b[38;5;241m0\u001b[39m],\n\u001b[0;32m    295\u001b[0m     args \u001b[38;5;241m=\u001b[39m args[\u001b[38;5;241m1\u001b[39m:]\n\u001b[1;32m--> 296\u001b[0m \u001b[38;5;28;01myield from\u001b[39;00m \u001b[38;5;28;43mself\u001b[39;49m\u001b[38;5;241;43m.\u001b[39;49m\u001b[43m_plot_args\u001b[49m\u001b[43m(\u001b[49m\n\u001b[0;32m    297\u001b[0m \u001b[43m    \u001b[49m\u001b[43maxes\u001b[49m\u001b[43m,\u001b[49m\u001b[43m \u001b[49m\u001b[43mthis\u001b[49m\u001b[43m,\u001b[49m\u001b[43m \u001b[49m\u001b[43mkwargs\u001b[49m\u001b[43m,\u001b[49m\u001b[43m \u001b[49m\u001b[43mambiguous_fmt_datakey\u001b[49m\u001b[38;5;241;43m=\u001b[39;49m\u001b[43mambiguous_fmt_datakey\u001b[49m\u001b[43m)\u001b[49m\n",
      "File \u001b[1;32mc:\\Users\\kurt-\\miniconda3\\envs\\ML\\Lib\\site-packages\\matplotlib\\axes\\_base.py:486\u001b[0m, in \u001b[0;36m_process_plot_var_args._plot_args\u001b[1;34m(self, axes, tup, kwargs, return_kwargs, ambiguous_fmt_datakey)\u001b[0m\n\u001b[0;32m    483\u001b[0m     axes\u001b[38;5;241m.\u001b[39myaxis\u001b[38;5;241m.\u001b[39mupdate_units(y)\n\u001b[0;32m    485\u001b[0m \u001b[38;5;28;01mif\u001b[39;00m x\u001b[38;5;241m.\u001b[39mshape[\u001b[38;5;241m0\u001b[39m] \u001b[38;5;241m!=\u001b[39m y\u001b[38;5;241m.\u001b[39mshape[\u001b[38;5;241m0\u001b[39m]:\n\u001b[1;32m--> 486\u001b[0m     \u001b[38;5;28;01mraise\u001b[39;00m \u001b[38;5;167;01mValueError\u001b[39;00m(\u001b[38;5;124mf\u001b[39m\u001b[38;5;124m\"\u001b[39m\u001b[38;5;124mx and y must have same first dimension, but \u001b[39m\u001b[38;5;124m\"\u001b[39m\n\u001b[0;32m    487\u001b[0m                      \u001b[38;5;124mf\u001b[39m\u001b[38;5;124m\"\u001b[39m\u001b[38;5;124mhave shapes \u001b[39m\u001b[38;5;132;01m{\u001b[39;00mx\u001b[38;5;241m.\u001b[39mshape\u001b[38;5;132;01m}\u001b[39;00m\u001b[38;5;124m and \u001b[39m\u001b[38;5;132;01m{\u001b[39;00my\u001b[38;5;241m.\u001b[39mshape\u001b[38;5;132;01m}\u001b[39;00m\u001b[38;5;124m\"\u001b[39m)\n\u001b[0;32m    488\u001b[0m \u001b[38;5;28;01mif\u001b[39;00m x\u001b[38;5;241m.\u001b[39mndim \u001b[38;5;241m>\u001b[39m \u001b[38;5;241m2\u001b[39m \u001b[38;5;129;01mor\u001b[39;00m y\u001b[38;5;241m.\u001b[39mndim \u001b[38;5;241m>\u001b[39m \u001b[38;5;241m2\u001b[39m:\n\u001b[0;32m    489\u001b[0m     \u001b[38;5;28;01mraise\u001b[39;00m \u001b[38;5;167;01mValueError\u001b[39;00m(\u001b[38;5;124mf\u001b[39m\u001b[38;5;124m\"\u001b[39m\u001b[38;5;124mx and y can be no greater than 2D, but have \u001b[39m\u001b[38;5;124m\"\u001b[39m\n\u001b[0;32m    490\u001b[0m                      \u001b[38;5;124mf\u001b[39m\u001b[38;5;124m\"\u001b[39m\u001b[38;5;124mshapes \u001b[39m\u001b[38;5;132;01m{\u001b[39;00mx\u001b[38;5;241m.\u001b[39mshape\u001b[38;5;132;01m}\u001b[39;00m\u001b[38;5;124m and \u001b[39m\u001b[38;5;132;01m{\u001b[39;00my\u001b[38;5;241m.\u001b[39mshape\u001b[38;5;132;01m}\u001b[39;00m\u001b[38;5;124m\"\u001b[39m)\n",
      "\u001b[1;31mValueError\u001b[0m: x and y must have same first dimension, but have shapes (200,) and (1, 1)"
     ]
    },
    {
     "data": {
      "image/png": "[encoded data removed]",
      "text/plain": [
       "<Figure size 640x480 with 1 Axes>"
      ]
     },
     "metadata": {},
     "output_type": "display_data"
    }
   ],
   "source": [
    "for i in range(target.shape[0]):\n",
    "    text_Vs = [Vs_soil[i], h_soil[i], Vs_bedrock[i]]\n",
    "    plt.scatter(freq_data, target[i,:], label=\"Target\")\n",
    "    plt.scatter(freq_data, predicted[i,:], label=\"Predicted\")\n",
    "    plt.xlabel(\"Frequency [Hz]\")\n",
    "    plt.ylabel(\"TF\")\n",
    "    plt.title(\"TF at Vs = \" + str(text_Vs))\n",
    "    plt.legend()\n",
    "    plt.show()\n"
   ]
  },
  {
   "cell_type": "code",
   "execution_count": 121,
   "metadata": {},
   "outputs": [
    {
     "data": {
      "text/plain": [
       "((150,), (150,), (150,), (150,))"
      ]
     },
     "execution_count": 121,
     "metadata": {},
     "output_type": "execute_result"
    }
   ],
   "source": [
    "Vs_soil.shape, h_soil.shape, Vs_bedrock.shape, correlation.shape"
   ]
  },
  {
   "cell_type": "code",
   "execution_count": 124,
   "metadata": {},
   "outputs": [
    {
     "data": {
      "image/png": "[encoded data removed]",
      "text/plain": [
       "<Figure size 1500x500 with 3 Axes>"
      ]
     },
     "metadata": {},
     "output_type": "display_data"
    }
   ],
   "source": [
    "# Plot where x is Vs_soil, Vs_bedrock or height of soil column and y is correlation factor\n",
    "fig, ax = plt.subplots(1, 3, figsize=(15, 5))\n",
    "ax[0].scatter(Vs_soil, correlation)\n",
    "ax[0].set_xlabel(\"Vs_soil [m/s]\")\n",
    "ax[0].set_ylabel(\"Correlation factor\")\n",
    "\n",
    "ax[1].scatter(Vs_bedrock, correlation)\n",
    "ax[1].set_xlabel(\"Vs_bedrock [m/s]\")\n",
    "ax[1].set_ylabel(\"Correlation factor\")\n",
    "\n",
    "ax[2].scatter(h_soil, correlation)\n",
    "ax[2].set_xlabel(\"Height of soil column [m]\")\n",
    "ax[2].set_ylabel(\"Correlation factor\")\n",
    "\n",
    "plt.show()"
   ]
  },
  {
   "cell_type": "code",
   "execution_count": null,
   "metadata": {},
   "outputs": [],
   "source": []
  }
 ],
 "metadata": {
  "kernelspec": {
   "display_name": "ML",
   "language": "python",
   "name": "python3"
  },
  "language_info": {
   "codemirror_mode": {
    "name": "ipython",
    "version": 3
   },
   "file_extension": ".py",
   "mimetype": "text/x-python",
   "name": "python",
   "nbconvert_exporter": "python",
   "pygments_lexer": "ipython3",
   "version": "3.12.5"
  }
 },
 "nbformat": 4,
 "nbformat_minor": 2
}
