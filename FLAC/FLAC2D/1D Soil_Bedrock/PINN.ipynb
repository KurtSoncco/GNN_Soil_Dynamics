{
 "cells": [
  {
   "cell_type": "code",
   "execution_count": 2,
   "metadata": {},
   "outputs": [],
   "source": [
    "# Data packages\n",
    "import os\n",
    "import pandas as pd\n",
    "import pickle\n",
    "import numpy as np\n",
    "import matplotlib.pyplot as plt\n",
    "import seaborn as sns\n",
    "# Math\n",
    "import math\n",
    "# Pytorch\n",
    "import torch\n",
    "import torch.nn as nn\n",
    "import torch.optim as optim\n",
    "from torch.utils.data import DataLoader, Dataset\n",
    "# Import weights & Biases\n",
    "import wandb\n",
    "\n",
    "# From training.py \n",
    "from training import EarlyStopping, train_model, test_model"
   ]
  },
  {
   "cell_type": "code",
   "execution_count": 3,
   "metadata": {},
   "outputs": [],
   "source": [
    "class ElasticWavePINN(nn.Module):\n",
    "    def __init__(self):\n",
    "        super(ElasticWavePINN, self).__init__()\n",
    "        self.net = nn.Sequential(\n",
    "            nn.Linear(2, 50),\n",
    "            nn.Tanh(),\n",
    "            nn.Linear(50, 50),\n",
    "            nn.Tanh(),\n",
    "            nn.Linear(50, 50),\n",
    "            nn.Tanh(),\n",
    "            nn.Linear(50, 1)\n",
    "        )\n",
    "\n",
    "    def forward(self, x, t):\n",
    "        inputs = torch.cat([x, t], dim=1)\n",
    "        return self.net(inputs)"
   ]
  },
  {
   "cell_type": "code",
   "execution_count": 4,
   "metadata": {},
   "outputs": [],
   "source": [
    "def physics_informed_loss(model, x, t, mu, rho):\n",
    "    u = model(x, t)\n",
    "    u_t = torch.autograd.grad(u, t, grad_outputs=torch.ones_like(u),\n",
    "                              create_graph=True)[0]\n",
    "    u_tt = torch.autograd.grad(u_t, t, grad_outputs=torch.ones_like(u_t),\n",
    "                               create_graph=True)[0]\n",
    "    u_xx = torch.autograd.grad(u, x, grad_outputs=torch.ones_like(u),\n",
    "                               create_graph=True, retain_graph=True)[0]\n",
    "    u_xx = torch.autograd.grad(u_xx, x, grad_outputs=torch.ones_like(u_xx),\n",
    "                               create_graph=True)[0]\n",
    "    \n",
    "    c_s = torch.sqrt(mu / rho)\n",
    "    pde_loss = torch.mean((u_tt - c_s**2 * u_xx)**2)\n",
    "    return pde_loss"
   ]
  },
  {
   "cell_type": "code",
   "execution_count": null,
   "metadata": {},
   "outputs": [],
   "source": []
  },
  {
   "cell_type": "code",
   "execution_count": null,
   "metadata": {},
   "outputs": [],
   "source": []
  }
 ],
 "metadata": {
  "kernelspec": {
   "display_name": "ML",
   "language": "python",
   "name": "python3"
  },
  "language_info": {
   "codemirror_mode": {
    "name": "ipython",
    "version": 3
   },
   "file_extension": ".py",
   "mimetype": "text/x-python",
   "name": "python",
   "nbconvert_exporter": "python",
   "pygments_lexer": "ipython3",
   "version": "3.12.5"
  }
 },
 "nbformat": 4,
 "nbformat_minor": 2
}
