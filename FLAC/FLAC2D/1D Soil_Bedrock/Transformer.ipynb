{
 "cells": [
  {
   "cell_type": "markdown",
   "metadata": {},
   "source": [
    "# Regression Transformer"
   ]
  },
  {
   "cell_type": "markdown",
   "metadata": {},
   "source": [
    "## Import libraries"
   ]
  },
  {
   "cell_type": "code",
   "execution_count": 1,
   "metadata": {},
   "outputs": [],
   "source": [
    "# Data packages\n",
    "import os\n",
    "import pandas as pd\n",
    "import pickle\n",
    "import numpy as np\n",
    "import matplotlib.pyplot as plt\n",
    "import seaborn as sns\n",
    "# Math\n",
    "import math\n",
    "# Pytorch\n",
    "import torch\n",
    "import torch.nn as nn\n",
    "import torch.optim as optim\n",
    "from torch.utils.data import DataLoader, Dataset\n",
    "# Import weights & Biases\n",
    "import wandb"
   ]
  },
  {
   "cell_type": "code",
   "execution_count": 2,
   "metadata": {},
   "outputs": [
    {
     "name": "stderr",
     "output_type": "stream",
     "text": [
      "\u001b[34m\u001b[1mwandb\u001b[0m: Using wandb-core as the SDK backend.  Please refer to https://wandb.me/wandb-core for more information.\n",
      "\u001b[34m\u001b[1mwandb\u001b[0m: Currently logged in as: \u001b[33mkurtwal98\u001b[0m (\u001b[33mkurtwal98-university-of-california-berkeley\u001b[0m). Use \u001b[1m`wandb login --relogin`\u001b[0m to force relogin\n"
     ]
    },
    {
     "data": {
      "text/plain": [
       "True"
      ]
     },
     "execution_count": 2,
     "metadata": {},
     "output_type": "execute_result"
    }
   ],
   "source": [
    "# Set up weights & Biases\n",
    "wandb.login()"
   ]
  },
  {
   "cell_type": "code",
   "execution_count": 3,
   "metadata": {},
   "outputs": [
    {
     "name": "stdout",
     "output_type": "stream",
     "text": [
      "PyTorch version: 2.4.1+cu121\n",
      "Device: cuda\n"
     ]
    }
   ],
   "source": [
    "# Print torch version\n",
    "print(f\"PyTorch version: {torch.__version__}\")\n",
    "\n",
    "# Print device\n",
    "device = torch.device('cuda' if torch.cuda.is_available() else 'cpu')\n",
    "print(f\"Device: {device}\")"
   ]
  },
  {
   "cell_type": "markdown",
   "metadata": {},
   "source": [
    "## Data Loading"
   ]
  },
  {
   "cell_type": "code",
   "execution_count": 4,
   "metadata": {},
   "outputs": [],
   "source": [
    "path = r'TF_HLC'"
   ]
  },
  {
   "cell_type": "code",
   "execution_count": 5,
   "metadata": {},
   "outputs": [
    {
     "name": "stdout",
     "output_type": "stream",
     "text": [
      "(1000, 200) (1000, 29) (200,)\n",
      "(200,)\n"
     ]
    }
   ],
   "source": [
    "# Load data\n",
    "freq_data = np.genfromtxt(os.path.join(path,\"TTF_freq_200.csv\"), delimiter=\",\")\n",
    "\n",
    "# Load pickle\n",
    "with open(os.path.join(path,\"TTF_data_200.pt\"), \"rb\") as f:\n",
    "    TTF_data = pickle.load(f)\n",
    "\n",
    "with open(os.path.join(path,\"Vs_values_200.pt\"), \"rb\") as f:\n",
    "    Vs_data = pickle.load(f)\n",
    "\n",
    "TTF_data = np.array(TTF_data)\n",
    "Vs_data = np.array(Vs_data)\n",
    "\n",
    "print(TTF_data.shape, Vs_data.shape,freq_data.shape)\n",
    "\n",
    "# Convert freq_data to 1000,2000 vector\n",
    "#freq_vals = np.repeat(np.expand_dims(freq_data, axis=0), 1000, axis=0)\n",
    "freq_vals = freq_data\n",
    "print(freq_vals.shape)\n"
   ]
  },
  {
   "cell_type": "code",
   "execution_count": 6,
   "metadata": {},
   "outputs": [],
   "source": [
    "class TTF_dataset(Dataset):\n",
    "    def __init__(self, TTF_values, Vs_values):\n",
    "        self.TTF_values = TTF_values\n",
    "        self.Vs_values = Vs_values\n",
    "        \n",
    "    def __len__(self):\n",
    "        return len(self.TTF_values)\n",
    "    \n",
    "    def __getitem__(self, idx):\n",
    "        # Target data\n",
    "        target_data = self.TTF_values[idx]\n",
    "        target_data = torch.tensor(target_data, dtype=torch.float32).unsqueeze(1)\n",
    "        # Input data\n",
    "        input_data = torch.tensor(self.Vs_values[idx], dtype=torch.float32)\n",
    "        input_data = torch.nan_to_num(input_data, nan=0.0, posinf=0.0, neginf=0.0).unsqueeze(1)\n",
    "\n",
    "        return input_data, target_data"
   ]
  },
  {
   "cell_type": "code",
   "execution_count": 7,
   "metadata": {},
   "outputs": [
    {
     "name": "stdout",
     "output_type": "stream",
     "text": [
      "Dataset done!\n",
      "Dataset length:  1000\n",
      "Dataset shape:  torch.Size([29, 1]) torch.Size([200, 1])\n"
     ]
    }
   ],
   "source": [
    "dataset = TTF_dataset(TTF_data, Vs_data)\n",
    "print(\"Dataset done!\")\n",
    "print(\"Dataset length: \", len(dataset))\n",
    "print(\"Dataset shape: \", dataset[0][0].shape, dataset[0][1].shape)"
   ]
  },
  {
   "cell_type": "code",
   "execution_count": 8,
   "metadata": {},
   "outputs": [
    {
     "name": "stdout",
     "output_type": "stream",
     "text": [
      "Train, validation and test sizes:  700 150 150\n",
      "Number of batches:  14 3 3\n",
      "Training shapes:  torch.Size([50, 29, 1]) torch.Size([50, 200, 1])\n"
     ]
    }
   ],
   "source": [
    "# Separate into training and testing\n",
    "train_size = int(0.7 * len(dataset))\n",
    "val_size = (len(dataset) - train_size) // 2\n",
    "test_size = len(dataset) - train_size - val_size\n",
    "print(\"Train, validation and test sizes: \" , train_size, val_size, test_size)\n",
    "\n",
    "train_dataset, val_dataset, test_dataset = torch.utils.data.random_split(dataset, [train_size, val_size, test_size])\n",
    "\n",
    "batch_size = 50\n",
    "train_loader = DataLoader(train_dataset, batch_size=batch_size, shuffle=True)\n",
    "val_loader = DataLoader(val_dataset, batch_size=batch_size, shuffle=False)\n",
    "test_loader = DataLoader(test_dataset, batch_size=batch_size, shuffle=False)\n",
    "print(\"Number of batches: \", len(train_loader), len(val_loader), len(test_loader))\n",
    "print(\"Training shapes: \", next(iter(train_loader))[0].shape, next(iter(train_loader))[1].shape)"
   ]
  },
  {
   "cell_type": "markdown",
   "metadata": {},
   "source": [
    "## Regression Transformer"
   ]
  },
  {
   "cell_type": "code",
   "execution_count": 9,
   "metadata": {},
   "outputs": [],
   "source": [
    "# Positional encoding\n",
    "class PositionalEncoding(nn.Module):\n",
    "    def __init__(self, model_dim, dropout=0.1, max_len=5000):\n",
    "        super(PositionalEncoding, self).__init__()\n",
    "        self.dropout = nn.Dropout(p=dropout)\n",
    "\n",
    "        pe = torch.zeros(max_len, model_dim)\n",
    "        position = torch.arange(0, max_len, dtype=torch.float).unsqueeze(1)\n",
    "        div_term = torch.exp(torch.arange(0, model_dim, 2).float() * (-math.log(10000.0) / model_dim))\n",
    "        pe[:, 0::2] = torch.sin(position * div_term)\n",
    "        pe[:, 1::2] = torch.cos(position * div_term)\n",
    "        pe = pe.unsqueeze(0)\n",
    "        self.register_buffer('pe', pe)\n",
    "\n",
    "    def forward(self, x):\n",
    "        x = x + self.pe[:, :x.size(1), :]\n",
    "        return self.dropout(x)"
   ]
  },
  {
   "cell_type": "code",
   "execution_count": 10,
   "metadata": {},
   "outputs": [],
   "source": [
    "class RegressionTransformer(nn.Module):\n",
    "    def __init__(self, input_dim, model_dim, num_heads, num_layers, output_dim, target_seq_len, dropout=0.1):\n",
    "        super(RegressionTransformer, self).__init__()\n",
    "        self.model_dim = model_dim\n",
    "        self.embedding = nn.Linear(input_dim, model_dim)\n",
    "        self.pos_encoder = PositionalEncoding(model_dim, dropout)\n",
    "        encoder_layers = nn.TransformerEncoderLayer(model_dim, num_heads, model_dim * 2, dropout, batch_first=True)\n",
    "        self.transformer_encoder = nn.TransformerEncoder(encoder_layers, num_layers)\n",
    "        self.decoder = nn.Linear(model_dim, output_dim)\n",
    "        self.upsample = nn.Upsample(size=target_seq_len, mode='linear')\n",
    "        \n",
    "    def forward(self, src):\n",
    "        src = self.embedding(src) * math.sqrt(self.model_dim)\n",
    "        src = self.pos_encoder(src)\n",
    "        output = self.transformer_encoder(src)\n",
    "        \n",
    "        # Reshape for upsampling\n",
    "        output = output.permute(0, 2, 1)  # (batch_size, model_dim, sequence_length)\n",
    "        output = self.upsample(output)  # Upsample to (batch_size, model_dim, target_seq_len)\n",
    "        output = output.permute(0, 2, 1)  # (batch_size, target_seq_len, model_dim)\n",
    "        \n",
    "        output = self.decoder(output)\n",
    "        return output"
   ]
  },
  {
   "cell_type": "code",
   "execution_count": 11,
   "metadata": {},
   "outputs": [
    {
     "name": "stdout",
     "output_type": "stream",
     "text": [
      "torch.Size([50, 200, 1])\n"
     ]
    }
   ],
   "source": [
    "# Example usage\n",
    "input_dim = 1\n",
    "model_dim = 64\n",
    "num_heads = 8\n",
    "num_layers = 6\n",
    "output_dim = 1  # Desired output dimension\n",
    "target_seq_len = 200  # Desired sequence length\n",
    "dropout = 0.1\n",
    "\n",
    "model = RegressionTransformer(input_dim, model_dim, num_heads, num_layers, output_dim, target_seq_len, dropout)\n",
    "src = torch.randn(50, 29, input_dim)  # Example input\n",
    "output = model(src)\n",
    "print(output.shape) "
   ]
  },
  {
   "cell_type": "markdown",
   "metadata": {},
   "source": [
    "## Training"
   ]
  },
  {
   "cell_type": "code",
   "execution_count": 12,
   "metadata": {},
   "outputs": [],
   "source": [
    "from training import EarlyStopping, train_model, test_model"
   ]
  },
  {
   "cell_type": "code",
   "execution_count": 13,
   "metadata": {},
   "outputs": [],
   "source": [
    "# Define yaml for model configuration\n",
    "config = {\n",
    "    \"input_dim\": 1,\n",
    "    \"model_dim\": 10,\n",
    "    \"num_heads\": 2,\n",
    "    \"num_layers\": 6,\n",
    "    \"output_dim\": 1,\n",
    "    \"target_seq_len\": 200,\n",
    "    \"dropout\": 0.1,\n",
    "    \"batch_size\": 50,\n",
    "    \"lr\": 5e-3,\n",
    "    \"num_epochs\": 1000,\n",
    "    \"patience_scheduler\": 100,\n",
    "    \"patience_stopping\": 100,\n",
    "    \"loss\": \"L1\"\n",
    "}"
   ]
  },
  {
   "cell_type": "code",
   "execution_count": 14,
   "metadata": {},
   "outputs": [],
   "source": [
    "# Define model\n",
    "model = RegressionTransformer(config[\"input_dim\"], \n",
    "                              config[\"model_dim\"], \n",
    "                              config[\"num_heads\"], \n",
    "                              config[\"num_layers\"], \n",
    "                              config[\"output_dim\"], \n",
    "                              config[\"target_seq_len\"], \n",
    "                              config[\"dropout\"])"
   ]
  },
  {
   "cell_type": "code",
   "execution_count": 15,
   "metadata": {},
   "outputs": [],
   "source": [
    "# Define batch size and data loaders\n",
    "batch_size = config[\"batch_size\"]\n",
    "train_loader = DataLoader(train_dataset, batch_size=batch_size, shuffle=True)\n",
    "val_loader = DataLoader(val_dataset, batch_size=batch_size, shuffle=False)\n",
    "test_loader = DataLoader(test_dataset, batch_size=batch_size, shuffle=False)"
   ]
  },
  {
   "cell_type": "code",
   "execution_count": 16,
   "metadata": {},
   "outputs": [],
   "source": [
    "# Optimizer\n",
    "optimizer = optim.Adam(model.parameters(), lr=config[\"lr\"])\n",
    "\n",
    "# Scheduler\n",
    "scheduler = torch.optim.lr_scheduler.ReduceLROnPlateau(optimizer, mode='min', \n",
    "factor=0.5, \n",
    "patience=config[\"patience_scheduler\"], threshold_mode='rel', \n",
    "cooldown=0, min_lr=1e-5, eps=1e-08)\n",
    "\n",
    "# Training\n",
    "num_epochs = config[\"num_epochs\"]\n",
    "\n",
    "# Loss\n",
    "loss_fn = nn.L1Loss()\n"
   ]
  },
  {
   "cell_type": "code",
   "execution_count": 17,
   "metadata": {},
   "outputs": [
    {
     "name": "stderr",
     "output_type": "stream",
     "text": [
      "Training:   0%|          | 0/1000 [00:00<?, ?epoch/s]c:\\Users\\kurt-\\miniconda3\\envs\\ML\\Lib\\site-packages\\torch\\nn\\functional.py:5560: UserWarning: 1Torch was not compiled with flash attention. (Triggered internally at C:\\actions-runner\\_work\\pytorch\\pytorch\\builder\\windows\\pytorch\\aten\\src\\ATen\\native\\transformers\\cuda\\sdp_utils.cpp:555.)\n",
      "  attn_output = scaled_dot_product_attention(q, k, v, attn_mask, dropout_p, is_causal)\n",
      "Training:   0%|          | 1/1000 [00:00<10:40,  1.56epoch/s]"
     ]
    },
    {
     "name": "stdout",
     "output_type": "stream",
     "text": [
      " Epoch 0, Train Loss: 1.6333820564406258, Val Loss: 1.6703431208928425, LR: 0.005\n"
     ]
    },
    {
     "name": "stderr",
     "output_type": "stream",
     "text": [
      "Training:   1%|          | 11/1000 [00:03<04:40,  3.52epoch/s]                                    "
     ]
    },
    {
     "name": "stdout",
     "output_type": "stream",
     "text": [
      " Epoch 10, Train Loss: 1.4912167957850866, Val Loss: 1.628377874692281, LR: 0.005\n"
     ]
    },
    {
     "name": "stderr",
     "output_type": "stream",
     "text": [
      "Training:   2%|▏         | 21/1000 [00:06<04:42,  3.47epoch/s, EarlyStopping counter: 1 out of 100]"
     ]
    },
    {
     "name": "stdout",
     "output_type": "stream",
     "text": [
      " Epoch 20, Train Loss: 1.4605039528438024, Val Loss: 1.5890953143437703, LR: 0.005\n"
     ]
    },
    {
     "name": "stderr",
     "output_type": "stream",
     "text": [
      "Training:   3%|▎         | 31/1000 [00:09<04:40,  3.45epoch/s]                                     "
     ]
    },
    {
     "name": "stdout",
     "output_type": "stream",
     "text": [
      " Epoch 30, Train Loss: 1.4447516713823592, Val Loss: 1.5575480063756306, LR: 0.005\n"
     ]
    },
    {
     "name": "stderr",
     "output_type": "stream",
     "text": [
      "Training:   4%|▍         | 41/1000 [00:12<04:35,  3.48epoch/s, EarlyStopping counter: 7 out of 100]"
     ]
    },
    {
     "name": "stdout",
     "output_type": "stream",
     "text": [
      " Epoch 40, Train Loss: 1.422558605670929, Val Loss: 1.6119091510772705, LR: 0.005\n"
     ]
    },
    {
     "name": "stderr",
     "output_type": "stream",
     "text": [
      "Training:   5%|▌         | 51/1000 [00:14<04:32,  3.48epoch/s, EarlyStopping counter: 9 out of 100]"
     ]
    },
    {
     "name": "stdout",
     "output_type": "stream",
     "text": [
      " Epoch 50, Train Loss: 1.4161901133401054, Val Loss: 1.5517254273096721, LR: 0.005\n"
     ]
    },
    {
     "name": "stderr",
     "output_type": "stream",
     "text": [
      "Training:   6%|▌         | 61/1000 [00:17<04:29,  3.48epoch/s, EarlyStopping counter: 3 out of 100] "
     ]
    },
    {
     "name": "stdout",
     "output_type": "stream",
     "text": [
      " Epoch 60, Train Loss: 1.4059388041496277, Val Loss: 1.579529603322347, LR: 0.005\n"
     ]
    },
    {
     "name": "stderr",
     "output_type": "stream",
     "text": [
      "Training:   7%|▋         | 71/1000 [00:20<04:26,  3.49epoch/s, EarlyStopping counter: 1 out of 100] "
     ]
    },
    {
     "name": "stdout",
     "output_type": "stream",
     "text": [
      " Epoch 70, Train Loss: 1.4295987742287772, Val Loss: 1.5815817912419636, LR: 0.005\n"
     ]
    },
    {
     "name": "stderr",
     "output_type": "stream",
     "text": [
      "Training:   8%|▊         | 81/1000 [00:23<04:17,  3.57epoch/s, EarlyStopping counter: 11 out of 100]"
     ]
    },
    {
     "name": "stdout",
     "output_type": "stream",
     "text": [
      " Epoch 80, Train Loss: 1.404235942023141, Val Loss: 1.535932461420695, LR: 0.005\n"
     ]
    },
    {
     "name": "stderr",
     "output_type": "stream",
     "text": [
      "Training:   9%|▉         | 91/1000 [00:26<04:14,  3.57epoch/s, EarlyStopping counter: 21 out of 100]"
     ]
    },
    {
     "name": "stdout",
     "output_type": "stream",
     "text": [
      " Epoch 90, Train Loss: 1.4239670549120222, Val Loss: 1.5527594884236653, LR: 0.005\n"
     ]
    },
    {
     "name": "stderr",
     "output_type": "stream",
     "text": [
      "Training:  10%|█         | 101/1000 [00:29<04:17,  3.49epoch/s, EarlyStopping counter: 31 out of 100]"
     ]
    },
    {
     "name": "stdout",
     "output_type": "stream",
     "text": [
      " Epoch 100, Train Loss: 1.40895847763334, Val Loss: 1.5560600757598877, LR: 0.005\n"
     ]
    },
    {
     "name": "stderr",
     "output_type": "stream",
     "text": [
      "Training:  11%|█         | 111/1000 [00:32<04:11,  3.53epoch/s, EarlyStopping counter: 41 out of 100]"
     ]
    },
    {
     "name": "stdout",
     "output_type": "stream",
     "text": [
      " Epoch 110, Train Loss: 1.412170103618077, Val Loss: 1.563038428624471, LR: 0.005\n"
     ]
    },
    {
     "name": "stderr",
     "output_type": "stream",
     "text": [
      "Training:  12%|█▏        | 121/1000 [00:34<04:07,  3.55epoch/s, EarlyStopping counter: 51 out of 100]"
     ]
    },
    {
     "name": "stdout",
     "output_type": "stream",
     "text": [
      " Epoch 120, Train Loss: 1.40129987682615, Val Loss: 1.5598754088083904, LR: 0.005\n"
     ]
    },
    {
     "name": "stderr",
     "output_type": "stream",
     "text": [
      "Training:  13%|█▎        | 131/1000 [00:37<04:11,  3.46epoch/s, EarlyStopping counter: 61 out of 100]"
     ]
    },
    {
     "name": "stdout",
     "output_type": "stream",
     "text": [
      " Epoch 130, Train Loss: 1.4084209884916032, Val Loss: 1.6322492758433025, LR: 0.005\n"
     ]
    },
    {
     "name": "stderr",
     "output_type": "stream",
     "text": [
      "Training:  14%|█▍        | 141/1000 [00:40<04:04,  3.51epoch/s, EarlyStopping counter: 71 out of 100]"
     ]
    },
    {
     "name": "stdout",
     "output_type": "stream",
     "text": [
      " Epoch 140, Train Loss: 1.4031916516167777, Val Loss: 1.559305747350057, LR: 0.005\n"
     ]
    },
    {
     "name": "stderr",
     "output_type": "stream",
     "text": [
      "Training:  15%|█▌        | 151/1000 [00:43<04:04,  3.47epoch/s, EarlyStopping counter: 81 out of 100]"
     ]
    },
    {
     "name": "stdout",
     "output_type": "stream",
     "text": [
      " Epoch 150, Train Loss: 1.3984631640570504, Val Loss: 1.5729507605234783, LR: 0.005\n"
     ]
    },
    {
     "name": "stderr",
     "output_type": "stream",
     "text": [
      "Training:  16%|█▌        | 161/1000 [00:46<04:14,  3.29epoch/s, EarlyStopping counter: 7 out of 100] "
     ]
    },
    {
     "name": "stdout",
     "output_type": "stream",
     "text": [
      " Epoch 160, Train Loss: 1.4032121896743774, Val Loss: 1.5654367208480835, LR: 0.005\n"
     ]
    },
    {
     "name": "stderr",
     "output_type": "stream",
     "text": [
      "Training:  17%|█▋        | 171/1000 [00:49<03:54,  3.54epoch/s, EarlyStopping counter: 17 out of 100]"
     ]
    },
    {
     "name": "stdout",
     "output_type": "stream",
     "text": [
      " Epoch 170, Train Loss: 1.4044374568121774, Val Loss: 1.5755587021509807, LR: 0.005\n"
     ]
    },
    {
     "name": "stderr",
     "output_type": "stream",
     "text": [
      "Training:  18%|█▊        | 181/1000 [00:53<04:43,  2.89epoch/s, EarlyStopping counter: 27 out of 100]"
     ]
    },
    {
     "name": "stdout",
     "output_type": "stream",
     "text": [
      " Epoch 180, Train Loss: 1.4065329006740026, Val Loss: 1.5872517029444377, LR: 0.005\n"
     ]
    },
    {
     "name": "stderr",
     "output_type": "stream",
     "text": [
      "Training:  19%|█▉        | 191/1000 [00:56<04:01,  3.36epoch/s, EarlyStopping counter: 37 out of 100]"
     ]
    },
    {
     "name": "stdout",
     "output_type": "stream",
     "text": [
      " Epoch 190, Train Loss: 1.3935081277574812, Val Loss: 1.5628401041030884, LR: 0.005\n"
     ]
    },
    {
     "name": "stderr",
     "output_type": "stream",
     "text": [
      "Training:  20%|██        | 201/1000 [00:59<03:55,  3.39epoch/s, EarlyStopping counter: 47 out of 100]"
     ]
    },
    {
     "name": "stdout",
     "output_type": "stream",
     "text": [
      " Epoch 200, Train Loss: 1.3972844736916679, Val Loss: 1.5559966564178467, LR: 0.005\n"
     ]
    },
    {
     "name": "stderr",
     "output_type": "stream",
     "text": [
      "Training:  21%|██        | 211/1000 [01:02<04:09,  3.16epoch/s, EarlyStopping counter: 57 out of 100]"
     ]
    },
    {
     "name": "stdout",
     "output_type": "stream",
     "text": [
      " Epoch 210, Train Loss: 1.4023596899850028, Val Loss: 1.6038155158360798, LR: 0.005\n"
     ]
    },
    {
     "name": "stderr",
     "output_type": "stream",
     "text": [
      "Training:  22%|██▏       | 221/1000 [01:05<03:55,  3.31epoch/s, EarlyStopping counter: 67 out of 100]"
     ]
    },
    {
     "name": "stdout",
     "output_type": "stream",
     "text": [
      " Epoch 220, Train Loss: 1.397846988269261, Val Loss: 1.6112764279047649, LR: 0.005\n"
     ]
    },
    {
     "name": "stderr",
     "output_type": "stream",
     "text": [
      "Training:  23%|██▎       | 231/1000 [01:08<04:15,  3.01epoch/s, EarlyStopping counter: 77 out of 100]"
     ]
    },
    {
     "name": "stdout",
     "output_type": "stream",
     "text": [
      " Epoch 230, Train Loss: 1.4027576787131173, Val Loss: 1.535644809405009, LR: 0.005\n"
     ]
    },
    {
     "name": "stderr",
     "output_type": "stream",
     "text": [
      "Training:  24%|██▍       | 241/1000 [01:11<03:51,  3.28epoch/s, EarlyStopping counter: 87 out of 100]"
     ]
    },
    {
     "name": "stdout",
     "output_type": "stream",
     "text": [
      " Epoch 240, Train Loss: 1.3917789544378008, Val Loss: 1.5817497968673706, LR: 0.005\n"
     ]
    },
    {
     "name": "stderr",
     "output_type": "stream",
     "text": [
      "Training:  25%|██▌       | 251/1000 [01:14<03:35,  3.48epoch/s, EarlyStopping counter: 97 out of 100]"
     ]
    },
    {
     "name": "stdout",
     "output_type": "stream",
     "text": [
      " Epoch 250, Train Loss: 1.394007044179099, Val Loss: 1.5571290254592896, LR: 0.005\n"
     ]
    },
    {
     "name": "stderr",
     "output_type": "stream",
     "text": [
      "Training:  25%|██▌       | 253/1000 [01:15<03:42,  3.36epoch/s, EarlyStopping counter: 100 out of 100]"
     ]
    },
    {
     "name": "stdout",
     "output_type": "stream",
     "text": [
      "Early stopping\n"
     ]
    },
    {
     "name": "stderr",
     "output_type": "stream",
     "text": [
      "\n"
     ]
    }
   ],
   "source": [
    "train_losses, val_losses, model =  train_model(model, optimizer, scheduler, train_loader, val_loader, loss_fn, \n",
    "epochs=config[\"num_epochs\"]\n",
    ", device=device, patience=config[\"patience_stopping\"]\n",
    ", clipping=True, print_epoch=20)"
   ]
  },
  {
   "cell_type": "code",
   "execution_count": 18,
   "metadata": {},
   "outputs": [
    {
     "data": {
      "text/plain": [
       "Text(0.5, 1.0, 'Losses')"
      ]
     },
     "execution_count": 18,
     "metadata": {},
     "output_type": "execute_result"
    },
    {
     "data": {
      "image/png": "[encoded data removed]",
      "text/plain": [
       "<Figure size 640x480 with 1 Axes>"
      ]
     },
     "metadata": {},
     "output_type": "display_data"
    }
   ],
   "source": [
    "# Plot losses\n",
    "sns.lineplot(x=range(len(train_losses)), y=train_losses, label=\"Train loss\")\n",
    "sns.lineplot(x=range(len(val_losses)), y=val_losses, label=\"Validation loss\")\n",
    "plt.yscale(\"log\")\n",
    "plt.xlabel(\"Epoch\")\n",
    "plt.ylabel(\"Loss\")\n",
    "plt.title(\"Losses\")"
   ]
  },
  {
   "cell_type": "code",
   "execution_count": 19,
   "metadata": {},
   "outputs": [
    {
     "name": "stdout",
     "output_type": "stream",
     "text": [
      "Test loss: 1.37932554880778\n"
     ]
    }
   ],
   "source": [
    "# Test model\n",
    "test_loss, target, predictions = test_model(model, test_loader, loss_fn, device=device)\n",
    "print(f\"Test loss: {test_loss}\")"
   ]
  },
  {
   "cell_type": "code",
   "execution_count": 27,
   "metadata": {},
   "outputs": [
    {
     "data": {
      "text/plain": [
       "[<matplotlib.lines.Line2D at 0x15e9e8591f0>]"
      ]
     },
     "execution_count": 27,
     "metadata": {},
     "output_type": "execute_result"
    },
    {
     "data": {
      "image/png": "[encoded data removed]",
      "text/plain": [
       "<Figure size 640x480 with 1 Axes>"
      ]
     },
     "metadata": {},
     "output_type": "display_data"
    }
   ],
   "source": [
    "plt.loglog(freq_vals, target[0])\n",
    "plt.loglog(freq_vals, predictions[0])"
   ]
  },
  {
   "cell_type": "code",
   "execution_count": null,
   "metadata": {},
   "outputs": [],
   "source": []
  }
 ],
 "metadata": {
  "kernelspec": {
   "display_name": "ML",
   "language": "python",
   "name": "python3"
  },
  "language_info": {
   "codemirror_mode": {
    "name": "ipython",
    "version": 3
   },
   "file_extension": ".py",
   "mimetype": "text/x-python",
   "name": "python",
   "nbconvert_exporter": "python",
   "pygments_lexer": "ipython3",
   "version": "3.12.5"
  }
 },
 "nbformat": 4,
 "nbformat_minor": 2
}
