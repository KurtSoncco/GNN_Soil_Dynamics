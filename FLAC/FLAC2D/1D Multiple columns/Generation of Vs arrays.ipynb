{
 "cells": [
  {
   "cell_type": "markdown",
   "metadata": {},
   "source": [
    "# Start doing multiple columns"
   ]
  },
  {
   "cell_type": "code",
   "execution_count": 2,
   "metadata": {},
   "outputs": [],
   "source": [
    "import pandas as pd \n",
    "import numpy as np\n",
    "import scipy "
   ]
  },
  {
   "cell_type": "code",
   "execution_count": null,
   "metadata": {},
   "outputs": [],
   "source": []
  },
  {
   "cell_type": "code",
   "execution_count": 136,
   "metadata": {},
   "outputs": [
    {
     "name": "stdout",
     "output_type": "stream",
     "text": [
      "Region 1: Start Height = 0.00 m, End Height = 62.41 m, Vs = 100.0 m/s\n",
      "Region 2: Start Height = 62.41 m, End Height = 150.00 m, Vs = 177.77777777777777 m/s\n"
     ]
    }
   ],
   "source": [
    "import numpy as np\n",
    "\n",
    "# Given a range of Vs values\n",
    "Vs = np.linspace(100, 800, 10)\n",
    "\n",
    "# Given a total height of 150 meters\n",
    "h_total = 150  # meters\n",
    "\n",
    "# Randomly select the number of regions between 1 and 5\n",
    "num_regions = np.random.randint(1, 6)\n",
    "\n",
    "# Generate random heights for each region\n",
    "random_heights = np.random.rand(num_regions)\n",
    "random_heights = random_heights / sum(random_heights) * h_total\n",
    "\n",
    "# Assign Vs values to each region\n",
    "regions = {}\n",
    "start_height = 0\n",
    "for i in range(num_regions):\n",
    "    end_height = start_height + random_heights[i]\n",
    "    regions[f'Region {i+1}'] = {\n",
    "        'start_height': start_height,\n",
    "        'end_height': end_height,\n",
    "        'Vs': Vs[i % len(Vs)]\n",
    "    }\n",
    "    start_height = end_height\n",
    "\n",
    "# Print the regions\n",
    "for region, values in regions.items():\n",
    "    print(f\"{region}: Start Height = {values['start_height']:.2f} m, End Height = {values['end_height']:.2f} m, Vs = {values['Vs']} m/s\")"
   ]
  },
  {
   "cell_type": "code",
   "execution_count": 451,
   "metadata": {},
   "outputs": [],
   "source": [
    "import numpy as np\n",
    "\n",
    "def generate_models(num_models, h_total=150, Vs_range=(100, 800), num_regions_range=(1, 3)):\n",
    "    # Given a range of Vs values\n",
    "    Vs = np.linspace(Vs_range[0], Vs_range[1], 50)\n",
    "\n",
    "    # List to store all models\n",
    "    models = []\n",
    "\n",
    "    for _ in range(num_models):\n",
    "        # Randomly select the number of regions between num_regions_range\n",
    "        num_regions = np.random.randint(num_regions_range[0], num_regions_range[1] + 1)\n",
    "\n",
    "        # Generate random heights for each region\n",
    "        random_heights = np.random.rand(num_regions)\n",
    "        random_heights = random_heights / sum(random_heights) * h_total\n",
    "\n",
    "        # Round heights to the nearest multiple of 5\n",
    "        random_heights = np.round(random_heights / 5) * 5\n",
    "\n",
    "        # Adjust the heights to ensure the total height is h_total\n",
    "        height_diff = h_total - np.sum(random_heights)\n",
    "        if height_diff != 0:\n",
    "            random_heights[-1] += height_diff\n",
    "\n",
    "        # Assign random Vs values to each region\n",
    "        regions = []\n",
    "        start_height = 0\n",
    "        for i in range(num_regions):\n",
    "            end_height = start_height + random_heights[i]\n",
    "            regions.append({\n",
    "                'start_height': start_height,\n",
    "                'end_height': end_height,\n",
    "                'Vs': np.random.choice(Vs)\n",
    "            })\n",
    "            start_height = end_height\n",
    "\n",
    "        # Add the model to the list\n",
    "        models.append(regions)\n",
    "\n",
    "    return models\n",
    "\n",
    "def allocate_models_to_array(models, h_total=150, segment_height=5):\n",
    "    num_segments = h_total // segment_height\n",
    "    model_arrays = []\n",
    "\n",
    "    for model in models:\n",
    "        values = np.zeros(num_segments)\n",
    "        for region in model:\n",
    "            start_index = int(region['start_height'] / segment_height)\n",
    "            end_index = int(region['end_height'] / segment_height)\n",
    "            values[start_index:end_index] = region['Vs']\n",
    "        model_arrays.append(values)\n",
    "\n",
    "    return model_arrays"
   ]
  },
  {
   "cell_type": "code",
   "execution_count": 490,
   "metadata": {},
   "outputs": [
    {
     "data": {
      "text/plain": [
       "array([471.42857143, 471.42857143, 471.42857143, 471.42857143,\n",
       "       471.42857143, 471.42857143, 471.42857143, 471.42857143,\n",
       "       471.42857143, 471.42857143, 471.42857143, 471.42857143,\n",
       "       471.42857143, 471.42857143, 471.42857143, 471.42857143,\n",
       "       471.42857143, 471.42857143, 471.42857143, 471.42857143,\n",
       "       471.42857143, 471.42857143, 471.42857143, 471.42857143,\n",
       "       471.42857143, 471.42857143, 471.42857143, 471.42857143,\n",
       "       471.42857143, 471.42857143])"
      ]
     },
     "execution_count": 490,
     "metadata": {},
     "output_type": "execute_result"
    }
   ],
   "source": [
    "# Example usage\n",
    "models = generate_models(500)\n",
    "model_arrays = allocate_models_to_array(models)\n",
    "\n",
    "\n",
    "model_arrays[-6]"
   ]
  },
  {
   "cell_type": "code",
   "execution_count": 1,
   "metadata": {},
   "outputs": [
    {
     "ename": "NameError",
     "evalue": "name 'pd' is not defined",
     "output_type": "error",
     "traceback": [
      "\u001b[1;31m---------------------------------------------------------------------------\u001b[0m",
      "\u001b[1;31mNameError\u001b[0m                                 Traceback (most recent call last)",
      "Cell \u001b[1;32mIn[1], line 2\u001b[0m\n\u001b[0;32m      1\u001b[0m \u001b[38;5;66;03m# Save model arrays to a CSV file\u001b[39;00m\n\u001b[1;32m----> 2\u001b[0m df \u001b[38;5;241m=\u001b[39m \u001b[43mpd\u001b[49m\u001b[38;5;241m.\u001b[39mread_csv(\u001b[38;5;124mr\u001b[39m\u001b[38;5;124m\"\u001b[39m\u001b[38;5;124mFLAC\u001b[39m\u001b[38;5;124m\\\u001b[39m\u001b[38;5;124mFLAC2D\u001b[39m\u001b[38;5;124m\\\u001b[39m\u001b[38;5;124m1D Multiple columns\u001b[39m\u001b[38;5;124m\\\u001b[39m\u001b[38;5;124mmodel_arrays.csv\u001b[39m\u001b[38;5;124m\"\u001b[39m)\n\u001b[0;32m      3\u001b[0m \u001b[38;5;66;03m#df.to_csv('model_arrays.csv', index=False)\u001b[39;00m\n",
      "\u001b[1;31mNameError\u001b[0m: name 'pd' is not defined"
     ]
    }
   ],
   "source": [
    "# Save model arrays to a CSV file\n",
    "df = pd.read_csv(r\"FLAC\\FLAC2D\\1D Multiple columns\\model_arrays.csv\")\n",
    "#df.to_csv('model_arrays.csv', index=False)"
   ]
  },
  {
   "cell_type": "code",
   "execution_count": null,
   "metadata": {},
   "outputs": [],
   "source": []
  }
 ],
 "metadata": {
  "kernelspec": {
   "display_name": "base",
   "language": "python",
   "name": "python3"
  },
  "language_info": {
   "codemirror_mode": {
    "name": "ipython",
    "version": 3
   },
   "file_extension": ".py",
   "mimetype": "text/x-python",
   "name": "python",
   "nbconvert_exporter": "python",
   "pygments_lexer": "ipython3",
   "version": "3.12.2"
  }
 },
 "nbformat": 4,
 "nbformat_minor": 2
}
