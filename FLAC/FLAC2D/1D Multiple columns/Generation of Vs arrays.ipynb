{
 "cells": [
  {
   "cell_type": "markdown",
   "metadata": {},
   "source": [
    "# Start doing multiple columns"
   ]
  },
  {
   "cell_type": "code",
   "execution_count": 1,
   "metadata": {},
   "outputs": [],
   "source": [
    "import pandas as pd \n",
    "import numpy as np\n",
    "import scipy "
   ]
  },
  {
   "cell_type": "code",
   "execution_count": 2,
   "metadata": {},
   "outputs": [],
   "source": [
    "import numpy as np\n",
    "\n",
    "# Given a range of Vs values\n",
    "Vs_soil = np.linspace(100, 300, 10)\n",
    "Vs_base = np.linspace(760, 1500, 10)\n",
    "\n",
    "# Given a total height\n",
    "h_base = 5 # Height of the base\n",
    "low = 5\n",
    "high = 100\n",
    "h_soil = np.random.randint(low // 5, high // 5) * 5\n",
    "h_total = h_base + h_soil"
   ]
  },
  {
   "cell_type": "markdown",
   "metadata": {},
   "source": [
    "# Code to generate random heights and random number of layers:"
   ]
  },
  {
   "cell_type": "code",
   "execution_count": 3,
   "metadata": {},
   "outputs": [],
   "source": [
    "import numpy as np\n",
    "\n",
    "def generate_models(num_models, h_total=150, Vs_range=(100, 800), num_regions_range=(1, 3)):\n",
    "    # Given a range of Vs values\n",
    "    Vs = np.linspace(Vs_range[0], Vs_range[1], 50)\n",
    "\n",
    "    # List to store all models\n",
    "    models = []\n",
    "\n",
    "    for _ in range(num_models):\n",
    "        # Randomly select the number of regions between num_regions_range\n",
    "        num_regions = np.random.randint(num_regions_range[0], num_regions_range[1] + 1)\n",
    "\n",
    "        # Generate random heights for each region\n",
    "        random_heights = np.random.rand(num_regions)\n",
    "        random_heights = random_heights / sum(random_heights) * h_total\n",
    "\n",
    "        # Round heights to the nearest multiple of 5\n",
    "        random_heights = np.round(random_heights / 5) * 5\n",
    "\n",
    "        # Adjust the heights to ensure the total height is h_total\n",
    "        height_diff = h_total - np.sum(random_heights)\n",
    "        if height_diff != 0:\n",
    "            random_heights[-1] += height_diff\n",
    "\n",
    "        # Assign random Vs values to each region\n",
    "        regions = []\n",
    "        start_height = 0\n",
    "        for i in range(num_regions):\n",
    "            end_height = start_height + random_heights[i]\n",
    "            regions.append({\n",
    "                'start_height': start_height,\n",
    "                'end_height': end_height,\n",
    "                'Vs': np.random.choice(Vs)\n",
    "            })\n",
    "            start_height = end_height\n",
    "\n",
    "        # Add the model to the list\n",
    "        models.append(regions)\n",
    "\n",
    "    return models\n",
    "\n",
    "def allocate_models_to_array(models, h_total=150, segment_height=5):\n",
    "    num_segments = h_total // segment_height\n",
    "    model_arrays = []\n",
    "\n",
    "    for model in models:\n",
    "        values = np.zeros(num_segments)\n",
    "        for region in model:\n",
    "            start_index = int(region['start_height'] / segment_height)\n",
    "            end_index = int(region['end_height'] / segment_height)\n",
    "            values[start_index:end_index] = region['Vs']\n",
    "        model_arrays.append(values)\n",
    "\n",
    "    return model_arrays"
   ]
  },
  {
   "cell_type": "markdown",
   "metadata": {},
   "source": [
    "# Code for generation of bedrock and soil - height changed"
   ]
  },
  {
   "cell_type": "code",
   "execution_count": 38,
   "metadata": {},
   "outputs": [],
   "source": [
    "def generate_data(num_models, Vs_soil_range=(100,360), Vs_bedrock_range=(760, 1500), n_Vs = 1000, low=5, high=145):\n",
    "    Vs_soil = np.linspace(Vs_soil_range[0], Vs_soil_range[1], n_Vs)\n",
    "    Vs_bedrock = np.linspace(Vs_bedrock_range[0], Vs_bedrock_range[1], n_Vs)\n",
    "\n",
    "    models = []  # Initialize arrays list\n",
    "    for _ in range(num_models):\n",
    "        Vs_s = np.random.choice(Vs_soil)\n",
    "        Vs_b = np.random.choice(Vs_bedrock)\n",
    "        h_soil = np.random.randint(low // 5, high // 5) * 5  # Generate a single value for h_soil\n",
    "        soil_array = np.full(h_soil // 5, Vs_s) # Generate an array of Vs_s values\n",
    "        bedrock_array = np.array([Vs_b]) # Generate an array of Vs_b values\n",
    "        array = np.concatenate([soil_array, bedrock_array]) # Concatenate the two arrays\n",
    "        models.append(array) # Append the array to the list\n",
    "\n",
    "    return models\n",
    "\n",
    "# Example usage\n",
    "A = generate_data(500)"
   ]
  },
  {
   "cell_type": "code",
   "execution_count": 39,
   "metadata": {},
   "outputs": [
    {
     "name": "stdout",
     "output_type": "stream",
     "text": [
      "15.598\n"
     ]
    }
   ],
   "source": [
    "avg_len = 0\n",
    "for a in A:\n",
    "    avg_len += len(a)\n",
    "avg_len /= len(A)\n",
    "print(avg_len)"
   ]
  },
  {
   "cell_type": "markdown",
   "metadata": {},
   "source": [
    "# Save results"
   ]
  },
  {
   "cell_type": "code",
   "execution_count": 40,
   "metadata": {},
   "outputs": [
    {
     "name": "stdout",
     "output_type": "stream",
     "text": [
      "Data saved to Vs_arrays.csv\n"
     ]
    }
   ],
   "source": [
    "# Find the maximum length of the arrays\n",
    "max_len = max(len(a) for a in A)\n",
    "\n",
    "# Pad arrays with NaN to make them the same length\n",
    "padded_arrays = [np.pad(a, (0, max_len - len(a)), constant_values=np.nan) for a in A]\n",
    "\n",
    "# Create a DataFrame from the padded arrays\n",
    "df = pd.DataFrame(padded_arrays)\n",
    "\n",
    "# Save the DataFrame to a CSV file\n",
    "df.to_csv(r'..\\1D Soil_Bedrock\\model_arrays.csv', index=False)\n",
    "\n",
    "print(\"Data saved to Vs_arrays.csv\")"
   ]
  },
  {
   "cell_type": "code",
   "execution_count": 1,
   "metadata": {},
   "outputs": [
    {
     "ename": "NameError",
     "evalue": "name 'pd' is not defined",
     "output_type": "error",
     "traceback": [
      "\u001b[1;31m---------------------------------------------------------------------------\u001b[0m",
      "\u001b[1;31mNameError\u001b[0m                                 Traceback (most recent call last)",
      "Cell \u001b[1;32mIn[1], line 2\u001b[0m\n\u001b[0;32m      1\u001b[0m \u001b[38;5;66;03m# Save model arrays to a CSV file\u001b[39;00m\n\u001b[1;32m----> 2\u001b[0m df \u001b[38;5;241m=\u001b[39m \u001b[43mpd\u001b[49m\u001b[38;5;241m.\u001b[39mread_csv(\u001b[38;5;124mr\u001b[39m\u001b[38;5;124m\"\u001b[39m\u001b[38;5;124mFLAC\u001b[39m\u001b[38;5;124m\\\u001b[39m\u001b[38;5;124mFLAC2D\u001b[39m\u001b[38;5;124m\\\u001b[39m\u001b[38;5;124m1D Multiple columns\u001b[39m\u001b[38;5;124m\\\u001b[39m\u001b[38;5;124mmodel_arrays.csv\u001b[39m\u001b[38;5;124m\"\u001b[39m)\n\u001b[0;32m      3\u001b[0m \u001b[38;5;66;03m#df.to_csv('model_arrays.csv', index=False)\u001b[39;00m\n",
      "\u001b[1;31mNameError\u001b[0m: name 'pd' is not defined"
     ]
    }
   ],
   "source": [
    "# Save model arrays to a CSV file\n",
    "#df = pd.read_csv(r\"..\\1D Soil_Bedrock\\model_arrays.csv\")\n",
    "#df.to_csv('model_arrays.csv', index=False)"
   ]
  },
  {
   "cell_type": "code",
   "execution_count": null,
   "metadata": {},
   "outputs": [],
   "source": []
  }
 ],
 "metadata": {
  "kernelspec": {
   "display_name": "ML",
   "language": "python",
   "name": "python3"
  },
  "language_info": {
   "codemirror_mode": {
    "name": "ipython",
    "version": 3
   },
   "file_extension": ".py",
   "mimetype": "text/x-python",
   "name": "python",
   "nbconvert_exporter": "python",
   "pygments_lexer": "ipython3",
   "version": "3.12.5"
  }
 },
 "nbformat": 4,
 "nbformat_minor": 2
}
