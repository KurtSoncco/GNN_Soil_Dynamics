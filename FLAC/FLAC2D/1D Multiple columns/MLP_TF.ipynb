{
 "cells": [
  {
   "cell_type": "markdown",
   "metadata": {},
   "source": [
    "# MLP for TF Function"
   ]
  },
  {
   "cell_type": "code",
   "execution_count": 321,
   "metadata": {},
   "outputs": [],
   "source": [
    "import torch \n",
    "import pandas as pd \n",
    "import pickle\n",
    "import numpy as np\n",
    "import os\n",
    "import sys \n",
    "\n",
    "from torch.utils.data import Dataset, DataLoader\n",
    "from torch import nn\n",
    "\n",
    "\n",
    "import matplotlib.pyplot as plt\n",
    "import seaborn as sns\n",
    "\n",
    "from tqdm import tqdm\n",
    "from tqdm import trange\n",
    "\n",
    "sns.set_theme()"
   ]
  },
  {
   "cell_type": "markdown",
   "metadata": {},
   "source": [
    "## Data"
   ]
  },
  {
   "cell_type": "code",
   "execution_count": 322,
   "metadata": {},
   "outputs": [
    {
     "name": "stdout",
     "output_type": "stream",
     "text": [
      "(500, 256) (500, 30) (256,)\n"
     ]
    }
   ],
   "source": [
    "# Load data\n",
    "freq_data = np.genfromtxt(\"TTF_freq.csv\")\n",
    "\n",
    "# Load pickle\n",
    "with open(r\"Results\\TTF_data.pt\", \"rb\") as f:\n",
    "    TTF_data = pickle.load(f)\n",
    "\n",
    "with open(r\"Results\\Vs_values.pt\", \"rb\") as f:\n",
    "    Vs_data = pickle.load(f)\n",
    "\n",
    "TTF_data = np.array(TTF_data)\n",
    "Vs_data = np.array(Vs_data)\n",
    "\n",
    "print(TTF_data.shape, Vs_data.shape, freq_data.shape)"
   ]
  },
  {
   "cell_type": "code",
   "execution_count": 323,
   "metadata": {},
   "outputs": [
    {
     "name": "stdout",
     "output_type": "stream",
     "text": [
      "1.0174393797989472 190\n"
     ]
    }
   ],
   "source": [
    "# Use only certain freq\n",
    "idx = 190\n",
    "freq = freq_data[idx]\n",
    "print(freq, idx)"
   ]
  },
  {
   "cell_type": "code",
   "execution_count": 324,
   "metadata": {},
   "outputs": [
    {
     "name": "stdout",
     "output_type": "stream",
     "text": [
      "Training data size:  (490,) (490, 30)\n",
      "Testing data size:  (10,) (10, 30)\n"
     ]
    }
   ],
   "source": [
    "# Separate the 10 values randomly for testing\n",
    "test_indices = np.random.choice(len(TTF_data), 10, replace=False)\n",
    "test_TTF_data = TTF_data[test_indices][:, idx]\n",
    "test_Vs_data = Vs_data[test_indices]\n",
    "\n",
    "train_indices = np.delete(np.arange(len(TTF_data)), test_indices)\n",
    "train_TTF_data = TTF_data[train_indices][:, idx]\n",
    "train_Vs_data = Vs_data[train_indices]\n",
    "\n",
    "print(\"Training data size: \" ,train_TTF_data.shape, train_Vs_data.shape)\n",
    "print(\"Testing data size: \", test_TTF_data.shape, test_Vs_data.shape)"
   ]
  },
  {
   "cell_type": "code",
   "execution_count": 325,
   "metadata": {},
   "outputs": [],
   "source": [
    "class TTFDataset(Dataset):\n",
    "    def __init__(self, TTF_data, Vs_array, freq_array):\n",
    "        self.TTF_data = TTF_data\n",
    "        self.Vs_array = Vs_array\n",
    "        self.freq_array = freq_array\n",
    "\n",
    "    def __len__(self):\n",
    "        return len(self.TTF_data)\n",
    "\n",
    "    def __getitem__(self, idx):\n",
    "\n",
    "        # Input \n",
    "        Vs = self.Vs_array[:,idx]\n",
    "        freq = self.freq_array[idx] * np.ones(1)\n",
    "        input_data = np.concatenate((Vs, freq))\n",
    "        input_data = torch.tensor(input_data, dtype=torch.float32)\n",
    "\n",
    "        # Target\n",
    "        TTF = self.TTF_data[idx] * np.ones(1)\n",
    "        target = torch.tensor(TTF, dtype=torch.float32)\n",
    "\n",
    "        return input_data, target"
   ]
  },
  {
   "cell_type": "code",
   "execution_count": 326,
   "metadata": {},
   "outputs": [],
   "source": [
    "from sklearn.preprocessing import StandardScaler\n",
    "\n",
    "scaler_Vs = StandardScaler()\n",
    "scaler_TTF = StandardScaler()\n",
    "scaler_freq = StandardScaler()\n",
    "\n",
    "Vs_values = scaler_Vs.fit_transform(train_Vs_data.T)\n",
    "TTF_values = scaler_TTF.fit_transform(train_TTF_data.reshape(-1, 1))\n",
    "freq_values = scaler_freq.fit_transform(freq.reshape(-1, 1))"
   ]
  },
  {
   "cell_type": "code",
   "execution_count": 327,
   "metadata": {},
   "outputs": [],
   "source": [
    "freq_values = (freq_values * np.ones(Vs_values.shape[1])).reshape(-1)"
   ]
  },
  {
   "cell_type": "code",
   "execution_count": 328,
   "metadata": {},
   "outputs": [],
   "source": [
    "# Create dataset\n",
    "dataset = TTFDataset(TTF_values, Vs_values, freq_values)"
   ]
  },
  {
   "cell_type": "code",
   "execution_count": 329,
   "metadata": {},
   "outputs": [
    {
     "name": "stdout",
     "output_type": "stream",
     "text": [
      "Train, validation and test sizes:  392 49 49\n",
      "Number of batches:  2 1 1\n"
     ]
    }
   ],
   "source": [
    "# Separate into training and testing\n",
    "train_size = int(0.8 * len(dataset))\n",
    "val_size = (len(dataset) - train_size) // 2\n",
    "test_size = len(dataset) - train_size - val_size\n",
    "print(\"Train, validation and test sizes: \" ,train_size, val_size, test_size)\n",
    "\n",
    "train_dataset, val_dataset, test_dataset = torch.utils.data.random_split(dataset, [train_size, val_size, test_size])\n",
    "\n",
    "i_batch_size = 200\n",
    "train_loader = DataLoader(train_dataset, batch_size=i_batch_size, shuffle=True)\n",
    "val_loader = DataLoader(val_dataset, batch_size=i_batch_size, shuffle=True)\n",
    "test_loader = DataLoader(test_dataset, batch_size=i_batch_size, shuffle=True)\n",
    "print(\"Number of batches: \", len(train_loader), len(val_loader), len(test_loader))"
   ]
  },
  {
   "cell_type": "markdown",
   "metadata": {},
   "source": [
    "## Model"
   ]
  },
  {
   "cell_type": "code",
   "execution_count": 330,
   "metadata": {},
   "outputs": [],
   "source": [
    "# Create Model\n",
    "class MLP(nn.Module):\n",
    "    def __init__(self, input_dim, hidden_dim, hidden_layers, output_dim=1, activation=nn.ReLU, batch_norm=False):\n",
    "        super(MLP, self).__init__()\n",
    "        self.hidden_layers = nn.ModuleList()\n",
    "        self.batch_norm = batch_norm\n",
    "        self.activation = activation\n",
    "        self.output_dim = output_dim\n",
    "\n",
    "        # Input layer\n",
    "        self.hidden_layers.append(nn.Linear(input_dim, hidden_dim))\n",
    "        if self.batch_norm:\n",
    "            self.hidden_layers.append(nn.BatchNorm1d(hidden_dim))\n",
    "\n",
    "        # Hidden layers\n",
    "        for _ in range(hidden_layers - 1):\n",
    "            self.hidden_layers.append(nn.Linear(hidden_dim, hidden_dim))\n",
    "            if self.batch_norm:\n",
    "                self.hidden_layers.append(nn.BatchNorm1d(hidden_dim))\n",
    "\n",
    "        # Output layer\n",
    "        self.out = nn.Linear(hidden_dim, output_dim)\n",
    "\n",
    "\n",
    "    def forward(self, x):\n",
    "        for layer in self.hidden_layers:\n",
    "            if isinstance(layer, nn.Linear):\n",
    "                x = layer(x)\n",
    "                x = self.activation()(x)\n",
    "            elif isinstance(layer, nn.BatchNorm1d):\n",
    "                x = layer(x)\n",
    "        x = self.out(x)\n",
    "        return x"
   ]
  },
  {
   "cell_type": "code",
   "execution_count": 331,
   "metadata": {},
   "outputs": [],
   "source": [
    "# Create TF model\n",
    "class TF_model(nn.Module):\n",
    "    def __init__(self, input_dim=31, output_dim=1):\n",
    "        super(TF_model, self).__init__()\n",
    "        self.input_dim = input_dim\n",
    "        self.output_dim = output_dim\n",
    "\n",
    "        self.fmlp1 = MLP(input_dim-1, 30, 2, output_dim=1, activation=nn.ReLU)\n",
    "        self.fmlp2 = MLP(2, 32, 2, output_dim=1, activation=nn.ReLU)\n",
    "\n",
    "    def forward(self, x):\n",
    "        x1 = x[:, :-1]\n",
    "        x2 = x[:, -1].unsqueeze(1) \n",
    "        x1 = self.fmlp1(x1)\n",
    "        x = torch.stack((x1, x2), dim=1).squeeze(2)\n",
    "        x = self.fmlp2(x)\n",
    "        return x\n"
   ]
  },
  {
   "cell_type": "markdown",
   "metadata": {},
   "source": [
    "Preliminary check if the shapes are correct"
   ]
  },
  {
   "cell_type": "code",
   "execution_count": 332,
   "metadata": {},
   "outputs": [
    {
     "name": "stdout",
     "output_type": "stream",
     "text": [
      "torch.Size([200, 31]) torch.Size([200, 1])\n",
      "Loss:  tensor(1.0338, grad_fn=<MseLossBackward0>)\n"
     ]
    }
   ],
   "source": [
    "model = MLP(31, 30, 2, output_dim=1, activation=nn.Sigmoid)\n",
    "loss_fn = nn.MSELoss()\n",
    "X,y = next(iter(train_loader))\n",
    "print(X.shape, y.shape)\n",
    "pred = model(X)\n",
    "assert pred.shape == y.shape , f\"Expected shape {y.shape} but got {pred.shape}\"\n",
    "print(\"Loss: \", loss_fn(pred, y))"
   ]
  },
  {
   "cell_type": "markdown",
   "metadata": {},
   "source": [
    "## Training"
   ]
  },
  {
   "cell_type": "markdown",
   "metadata": {},
   "source": [
    "Defining the Early Stopping to avoid redudant training if the loss is not decreasing."
   ]
  },
  {
   "cell_type": "code",
   "execution_count": 333,
   "metadata": {},
   "outputs": [],
   "source": [
    "# Early stopping\n",
    "class EarlyStopping():\n",
    "    def __init__(self, patience=5, delta=0.0, progress_bar=None):\n",
    "        self.patience = patience\n",
    "        self.counter = 0\n",
    "        self.best_score = None\n",
    "        self.early_stop = False\n",
    "        self.delta = delta\n",
    "        self.progress_bar = progress_bar\n",
    "\n",
    "    def __call__(self, val_loss, model):\n",
    "        if self.best_score is None:\n",
    "            self.best_score = val_loss\n",
    "        elif val_loss > self.best_score + self.delta:\n",
    "            self.counter += 1\n",
    "            if self.progress_bar:\n",
    "                self.progress_bar.set_postfix_str(f'EarlyStopping counter: {self.counter} out of {self.patience}')\n",
    "            if self.counter >= self.patience:\n",
    "                self.early_stop = True\n",
    "        else:\n",
    "            self.best_score = val_loss\n",
    "            self.counter = 0\n",
    "            if self.progress_bar:\n",
    "                self.progress_bar.set_postfix_str('')"
   ]
  },
  {
   "cell_type": "markdown",
   "metadata": {},
   "source": [
    "### Training function"
   ]
  },
  {
   "cell_type": "code",
   "execution_count": 334,
   "metadata": {},
   "outputs": [],
   "source": [
    "import torch\n",
    "from tqdm import tqdm, trange\n",
    "import torch.nn as nn\n",
    "import numpy as np\n",
    "\n",
    "def train(model, optimizer, scheduler, train_dataloader, validation_dataloader, loss_fn, epochs=100, device=\"cpu\", patience=50):\n",
    "    train_losses = []\n",
    "    val_losses = []\n",
    "    model.to(device)\n",
    "    progress_bar = tqdm(range(epochs), desc=\"Training\", unit=\"epoch\")\n",
    "    early_stopping = EarlyStopping(patience=patience, progress_bar=progress_bar)\n",
    "\n",
    "    for epoch in progress_bar:\n",
    "        model.train()\n",
    "        train_loss = 0\n",
    "        for X, y in train_dataloader:\n",
    "            X, y = X.to(device), y.to(device)\n",
    "            optimizer.zero_grad()\n",
    "            y_pred = model(X)\n",
    "            loss = loss_fn(y_pred, y)\n",
    "            loss.backward()\n",
    "            torch.nn.utils.clip_grad_norm_(model.parameters(), max_norm=1.0)  # Gradient clipping\n",
    "            optimizer.step()\n",
    "            train_loss += loss.item()\n",
    "        train_loss /= len(train_dataloader)\n",
    "        train_losses.append(train_loss)\n",
    "\n",
    "        model.eval()\n",
    "        val_loss = 0\n",
    "        with torch.no_grad():\n",
    "            for X, y in validation_dataloader:\n",
    "                X, y = X.to(device), y.to(device)\n",
    "                y_pred = model(X)\n",
    "                loss = loss_fn(y_pred, y)\n",
    "                val_loss += loss.item()\n",
    "        val_loss /= len(validation_dataloader)\n",
    "        val_losses.append(val_loss)\n",
    "\n",
    "        if early_stopping is not None:\n",
    "            early_stopping(val_loss, model)\n",
    "            if early_stopping.early_stop:\n",
    "                print(\"Early stopping\")\n",
    "                break\n",
    "\n",
    "        if scheduler is not None:\n",
    "            scheduler.step(val_loss)\n",
    "\n",
    "        if epoch % 100 == 0:\n",
    "            print(f\"Epoch {epoch}, Train Loss: {train_loss}, Val Loss: {val_loss}, LR: {optimizer.param_groups[0]['lr']}\")\n",
    "\n",
    "        # Stop if loss is nan\n",
    "        if np.isnan(train_loss) or np.isnan(val_loss):\n",
    "            print(\"Loss is nan\")\n",
    "            break\n",
    "\n",
    "    return train_losses, val_losses, model"
   ]
  },
  {
   "cell_type": "markdown",
   "metadata": {},
   "source": [
    "### Testing function"
   ]
  },
  {
   "cell_type": "code",
   "execution_count": 335,
   "metadata": {},
   "outputs": [],
   "source": [
    "# Define test function\n",
    "def test(model, test_dataloader, loss_fn, device=\"cpu\"):\n",
    "    model.eval()\n",
    "    test_loss = 0\n",
    "    for X, y in test_dataloader:\n",
    "        X, y = X.to(device), y.to(device)\n",
    "        y_pred = model(X)\n",
    "        loss = loss_fn(y_pred, y)\n",
    "        test_loss += loss.item()\n",
    "    test_loss /= len(test_dataloader)\n",
    "    return test_loss"
   ]
  },
  {
   "cell_type": "markdown",
   "metadata": {},
   "source": [
    "## Start of Training"
   ]
  },
  {
   "cell_type": "code",
   "execution_count": 336,
   "metadata": {},
   "outputs": [
    {
     "name": "stdout",
     "output_type": "stream",
     "text": [
      "Using device: cuda\n"
     ]
    }
   ],
   "source": [
    "# Device \n",
    "device = torch.device(\"cuda\" if torch.cuda.is_available() else \"cpu\")\n",
    "print(f\"Using device: {device}\")"
   ]
  },
  {
   "cell_type": "code",
   "execution_count": 337,
   "metadata": {},
   "outputs": [],
   "source": [
    "# Model\n",
    "model = MLP(31, 30, 4, output_dim=1, activation=nn.ReLU, batch_norm=False)\n",
    "#model = TF_model()\n",
    "\n",
    "# Xavier Glore initialization\n",
    "def init_weights(m):\n",
    "    if type(m) == nn.Linear:\n",
    "        torch.nn.init.xavier_uniform_(m.weight)\n",
    "        m.bias.data.fill_(0.01)\n",
    "\n",
    "model.apply(init_weights)\n",
    "\n",
    "# Loss function - RMSE\n",
    "def rmse(y_true, y_pred):\n",
    "    return torch.sqrt(torch.mean((y_true - y_pred) ** 2))\n",
    "\n",
    "loss_fn = rmse"
   ]
  },
  {
   "cell_type": "code",
   "execution_count": 338,
   "metadata": {},
   "outputs": [],
   "source": [
    "# Optimizer with momentum NAG\n",
    "optimizer = torch.optim.SGD(model.parameters(), lr=0.05, momentum=0.9, weight_decay=0.01, nesterov=True)\n",
    "#optimizer = torch.optim.AdamW(model.parameters(), lr=0.01, betas=(0.9, 0.999), weight_decay=0.01)\n",
    "#optimizer = torch.optim.Adam(model.parameters(), lr=0.001, betas=(0.9, 0.999), weight_decay=0.01)\n",
    "#optimizer = torch.optim.RMSprop(model.parameters(), lr=0.05, alpha=0.9, eps=1e-08, weight_decay=0.01, momentum=0.9, centered=False)\n",
    "#optimizer = torch.optim.AdamW(model.parameters(), lr=0.001, betas=(0.9, 0.999), weight_decay=0.01)\n",
    "\n",
    "\n",
    "# Scheduler with exponential decay\n",
    "#scheduler = None\n",
    "scheduler = torch.optim.lr_scheduler.ReduceLROnPlateau(optimizer, mode='min', factor=0.5, patience=250, threshold=0.0001, threshold_mode='rel', cooldown=0, min_lr=1e-4, eps=1e-08)"
   ]
  },
  {
   "cell_type": "code",
   "execution_count": 339,
   "metadata": {},
   "outputs": [
    {
     "name": "stderr",
     "output_type": "stream",
     "text": [
      "Training:   0%|          | 7/10000 [00:00<04:51, 34.33epoch/s, EarlyStopping counter: 5 out of 1500]"
     ]
    },
    {
     "name": "stdout",
     "output_type": "stream",
     "text": [
      "Epoch 0, Train Loss: 0.9344436228275299, Val Loss: 1.156038522720337, LR: 0.05\n"
     ]
    },
    {
     "name": "stderr",
     "output_type": "stream",
     "text": [
      "Training:   1%|          | 106/10000 [00:03<05:45, 28.65epoch/s, EarlyStopping counter: 103 out of 1500]"
     ]
    },
    {
     "name": "stdout",
     "output_type": "stream",
     "text": [
      "Epoch 100, Train Loss: 0.6563840806484222, Val Loss: 1.2295225858688354, LR: 0.05\n"
     ]
    },
    {
     "name": "stderr",
     "output_type": "stream",
     "text": [
      "Training:   2%|▏         | 203/10000 [00:06<06:10, 26.41epoch/s, EarlyStopping counter: 203 out of 1500]"
     ]
    },
    {
     "name": "stdout",
     "output_type": "stream",
     "text": [
      "Epoch 200, Train Loss: 0.660482257604599, Val Loss: 1.2738492488861084, LR: 0.05\n"
     ]
    },
    {
     "name": "stderr",
     "output_type": "stream",
     "text": [
      "Training:   3%|▎         | 305/10000 [00:10<05:38, 28.67epoch/s, EarlyStopping counter: 303 out of 1500]"
     ]
    },
    {
     "name": "stdout",
     "output_type": "stream",
     "text": [
      "Epoch 300, Train Loss: 0.6235044896602631, Val Loss: 1.2915630340576172, LR: 0.025\n"
     ]
    },
    {
     "name": "stderr",
     "output_type": "stream",
     "text": [
      "Training:   4%|▍         | 404/10000 [00:13<05:36, 28.54epoch/s, EarlyStopping counter: 403 out of 1500]"
     ]
    },
    {
     "name": "stdout",
     "output_type": "stream",
     "text": [
      "Epoch 400, Train Loss: 0.6197774112224579, Val Loss: 1.295786738395691, LR: 0.025\n"
     ]
    },
    {
     "name": "stderr",
     "output_type": "stream",
     "text": [
      "Training:   5%|▌         | 505/10000 [00:17<05:10, 30.60epoch/s, EarlyStopping counter: 504 out of 1500]"
     ]
    },
    {
     "name": "stdout",
     "output_type": "stream",
     "text": [
      "Epoch 500, Train Loss: 0.6311100721359253, Val Loss: 1.2927907705307007, LR: 0.025\n"
     ]
    },
    {
     "name": "stderr",
     "output_type": "stream",
     "text": [
      "Training:   6%|▌         | 606/10000 [00:20<05:09, 30.34epoch/s, EarlyStopping counter: 603 out of 1500]"
     ]
    },
    {
     "name": "stdout",
     "output_type": "stream",
     "text": [
      "Epoch 600, Train Loss: 0.6081128120422363, Val Loss: 1.2876194715499878, LR: 0.0125\n"
     ]
    },
    {
     "name": "stderr",
     "output_type": "stream",
     "text": [
      "Training:   7%|▋         | 706/10000 [00:24<05:27, 28.39epoch/s, EarlyStopping counter: 704 out of 1500]"
     ]
    },
    {
     "name": "stdout",
     "output_type": "stream",
     "text": [
      "Epoch 700, Train Loss: 0.6069876551628113, Val Loss: 1.2936209440231323, LR: 0.0125\n"
     ]
    },
    {
     "name": "stderr",
     "output_type": "stream",
     "text": [
      "Training:   8%|▊         | 805/10000 [00:27<05:16, 29.03epoch/s, EarlyStopping counter: 803 out of 1500]"
     ]
    },
    {
     "name": "stdout",
     "output_type": "stream",
     "text": [
      "Epoch 800, Train Loss: 0.6013298332691193, Val Loss: 1.2956725358963013, LR: 0.00625\n"
     ]
    },
    {
     "name": "stderr",
     "output_type": "stream",
     "text": [
      "Training:   9%|▉         | 904/10000 [00:30<05:03, 29.98epoch/s, EarlyStopping counter: 904 out of 1500]"
     ]
    },
    {
     "name": "stdout",
     "output_type": "stream",
     "text": [
      "Epoch 900, Train Loss: 0.6050965785980225, Val Loss: 1.2966411113739014, LR: 0.00625\n"
     ]
    },
    {
     "name": "stderr",
     "output_type": "stream",
     "text": [
      "Training:  10%|█         | 1003/10000 [00:34<05:05, 29.41epoch/s, EarlyStopping counter: 1003 out of 1500]"
     ]
    },
    {
     "name": "stdout",
     "output_type": "stream",
     "text": [
      "Epoch 1000, Train Loss: 0.6012484133243561, Val Loss: 1.2934006452560425, LR: 0.00625\n"
     ]
    },
    {
     "name": "stderr",
     "output_type": "stream",
     "text": [
      "Training:  11%|█         | 1105/10000 [00:37<05:04, 29.17epoch/s, EarlyStopping counter: 1103 out of 1500]"
     ]
    },
    {
     "name": "stdout",
     "output_type": "stream",
     "text": [
      "Epoch 1100, Train Loss: 0.6020002067089081, Val Loss: 1.2925021648406982, LR: 0.003125\n"
     ]
    },
    {
     "name": "stderr",
     "output_type": "stream",
     "text": [
      "Training:  12%|█▏        | 1206/10000 [00:41<05:03, 29.02epoch/s, EarlyStopping counter: 1203 out of 1500]"
     ]
    },
    {
     "name": "stdout",
     "output_type": "stream",
     "text": [
      "Epoch 1200, Train Loss: 0.5713682174682617, Val Loss: 1.2953370809555054, LR: 0.003125\n"
     ]
    },
    {
     "name": "stderr",
     "output_type": "stream",
     "text": [
      "Training:  13%|█▎        | 1305/10000 [00:44<05:10, 28.02epoch/s, EarlyStopping counter: 1303 out of 1500]"
     ]
    },
    {
     "name": "stdout",
     "output_type": "stream",
     "text": [
      "Epoch 1300, Train Loss: 0.5846440196037292, Val Loss: 1.2973016500473022, LR: 0.0015625\n"
     ]
    },
    {
     "name": "stderr",
     "output_type": "stream",
     "text": [
      "Training:  14%|█▍        | 1405/10000 [00:48<05:00, 28.58epoch/s, EarlyStopping counter: 1403 out of 1500]"
     ]
    },
    {
     "name": "stdout",
     "output_type": "stream",
     "text": [
      "Epoch 1400, Train Loss: 0.6007467806339264, Val Loss: 1.2947992086410522, LR: 0.0015625\n"
     ]
    },
    {
     "name": "stderr",
     "output_type": "stream",
     "text": [
      "Training:  15%|█▌        | 1502/10000 [00:51<04:51, 29.12epoch/s, EarlyStopping counter: 1500 out of 1500]"
     ]
    },
    {
     "name": "stdout",
     "output_type": "stream",
     "text": [
      "Epoch 1500, Train Loss: 0.5778495967388153, Val Loss: 1.2966922521591187, LR: 0.0015625\n",
      "Early stopping\n"
     ]
    },
    {
     "name": "stderr",
     "output_type": "stream",
     "text": [
      "\n"
     ]
    }
   ],
   "source": [
    "# Train model\n",
    "train_losses, val_losses, model = train(model, optimizer, scheduler, train_loader, val_loader, loss_fn, epochs=10000, device=device, patience=1500)"
   ]
  },
  {
   "cell_type": "code",
   "execution_count": 340,
   "metadata": {},
   "outputs": [
    {
     "data": {
      "image/png": "[encoded data removed]",
      "text/plain": [
       "<Figure size 640x480 with 1 Axes>"
      ]
     },
     "metadata": {},
     "output_type": "display_data"
    }
   ],
   "source": [
    "# Plot losses\n",
    "plt.plot(train_losses, label=\"Train Loss\")\n",
    "plt.plot(val_losses, label=\"Validation Loss\")\n",
    "plt.legend()\n",
    "plt.yscale(\"log\")\n",
    "plt.xlabel(\"Epoch\")\n",
    "plt.ylabel(\"Loss\")\n",
    "plt.show()"
   ]
  },
  {
   "cell_type": "code",
   "execution_count": 341,
   "metadata": {},
   "outputs": [
    {
     "name": "stdout",
     "output_type": "stream",
     "text": [
      "Test loss:  1.145573377609253\n"
     ]
    }
   ],
   "source": [
    "# Test the model\n",
    "test_loss = test(model, test_loader, loss_fn, device=device)\n",
    "print(\"Test loss: \", test_loss)"
   ]
  },
  {
   "cell_type": "markdown",
   "metadata": {},
   "source": [
    "## Check the model"
   ]
  },
  {
   "cell_type": "code",
   "execution_count": 342,
   "metadata": {},
   "outputs": [],
   "source": [
    "def denormalize_data(data, mean, std):\n",
    "    return data * std + mean"
   ]
  },
  {
   "cell_type": "code",
   "execution_count": 343,
   "metadata": {},
   "outputs": [],
   "source": [
    "# Predict and plot\n",
    "model.eval()\n",
    "predictions = []\n",
    "target = []\n",
    "Vs_target = []\n",
    "freq_target = []\n",
    "with torch.no_grad():\n",
    "    for X, y in test_loader:\n",
    "        X, y = X.to(device), y.to(device)\n",
    "        y_pred = model(X)\n",
    "        predictions.append(y_pred.cpu().numpy())\n",
    "        target.append(y.cpu().numpy()) \n",
    "        Vs_target.append(X[:, :-1].cpu().numpy())\n",
    "        freq_target.append(X[:, -1].cpu().numpy())\n",
    "\n",
    "\n",
    "predictions = np.concatenate(predictions)\n",
    "target = np.concatenate(target)\n",
    "Vs_target = np.concatenate(Vs_target)\n",
    "freq_target = np.concatenate(freq_target)\n"
   ]
  },
  {
   "cell_type": "code",
   "execution_count": 344,
   "metadata": {},
   "outputs": [],
   "source": [
    "# Denormalize\n",
    "freq_target = scaler_freq.inverse_transform(freq_target.reshape(-1, 1)).flatten()"
   ]
  },
  {
   "cell_type": "code",
   "execution_count": 345,
   "metadata": {},
   "outputs": [
    {
     "data": {
      "image/png": "[encoded data removed]",
      "text/plain": [
       "<Figure size 640x480 with 1 Axes>"
      ]
     },
     "metadata": {},
     "output_type": "display_data"
    }
   ],
   "source": [
    "plt.scatter(freq_target, target, label=\"True\")\n",
    "plt.scatter(freq_target, predictions, label=\"Predicted\", linestyle=\"--\")\n",
    "plt.legend()\n",
    "plt.xlabel(\"Frequency [Hz]\")\n",
    "plt.ylabel(\"TTF\")\n",
    "plt.show()\n"
   ]
  },
  {
   "cell_type": "code",
   "execution_count": 346,
   "metadata": {},
   "outputs": [],
   "source": [
    "# Save the model\n",
    "#torch.save(model.state_dict(), \"MLP_TF_model.pth\")"
   ]
  },
  {
   "cell_type": "code",
   "execution_count": null,
   "metadata": {},
   "outputs": [],
   "source": []
  }
 ],
 "metadata": {
  "kernelspec": {
   "display_name": "ML",
   "language": "python",
   "name": "python3"
  },
  "language_info": {
   "codemirror_mode": {
    "name": "ipython",
    "version": 3
   },
   "file_extension": ".py",
   "mimetype": "text/x-python",
   "name": "python",
   "nbconvert_exporter": "python",
   "pygments_lexer": "ipython3",
   "version": "3.12.4"
  }
 },
 "nbformat": 4,
 "nbformat_minor": 2
}
