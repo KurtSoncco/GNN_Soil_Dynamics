{
 "cells": [
  {
   "cell_type": "markdown",
   "metadata": {},
   "source": [
    "# MLP for TF Function"
   ]
  },
  {
   "cell_type": "code",
   "execution_count": 202,
   "metadata": {},
   "outputs": [],
   "source": [
    "import torch \n",
    "import pandas as pd \n",
    "import pickle\n",
    "import numpy as np\n",
    "import os\n",
    "import sys \n",
    "\n",
    "from torch.utils.data import Dataset, DataLoader\n",
    "from torch import nn\n",
    "\n",
    "import matplotlib.pyplot as plt\n",
    "import seaborn as sns\n",
    "\n",
    "from tqdm import tqdm\n",
    "from tqdm import trange\n",
    "\n",
    "sns.set_theme()"
   ]
  },
  {
   "cell_type": "markdown",
   "metadata": {},
   "source": [
    "## Data"
   ]
  },
  {
   "cell_type": "code",
   "execution_count": 203,
   "metadata": {},
   "outputs": [
    {
     "name": "stdout",
     "output_type": "stream",
     "text": [
      "(500, 256) (500, 30) (256,)\n"
     ]
    }
   ],
   "source": [
    "# Load data\n",
    "freq_data = np.genfromtxt(\"TTF_freq.csv\")\n",
    "\n",
    "# Load pickle\n",
    "with open(r\"Results\\TTF_data.pt\", \"rb\") as f:\n",
    "    TTF_data = pickle.load(f)\n",
    "\n",
    "with open(r\"Results\\Vs_values.pt\", \"rb\") as f:\n",
    "    Vs_data = pickle.load(f)\n",
    "\n",
    "TTF_data = np.array(TTF_data)\n",
    "Vs_data = np.array(Vs_data)\n",
    "\n",
    "print(TTF_data.shape, Vs_data.shape, freq_data.shape)"
   ]
  },
  {
   "cell_type": "code",
   "execution_count": 204,
   "metadata": {},
   "outputs": [
    {
     "name": "stdout",
     "output_type": "stream",
     "text": [
      "1.0174393797989472 190\n"
     ]
    }
   ],
   "source": [
    "# Use only certain freq\n",
    "idx = 190\n",
    "freq = freq_data[idx]\n",
    "print(freq, idx)"
   ]
  },
  {
   "cell_type": "code",
   "execution_count": 205,
   "metadata": {},
   "outputs": [
    {
     "name": "stdout",
     "output_type": "stream",
     "text": [
      "Training data size:  TF shape:  (490,) , Vs shape:  (490, 30)\n",
      "Testing data size:  TF shape:  (10,) , Vs shape:  (10, 30)\n"
     ]
    }
   ],
   "source": [
    "# Separate the 10 values randomly for testing\n",
    "test_indices = np.random.choice(len(TTF_data), 10, replace=False)\n",
    "test_TTF_data = TTF_data[test_indices][:, idx]\n",
    "test_Vs_data = Vs_data[test_indices]\n",
    "\n",
    "train_indices = np.delete(np.arange(len(TTF_data)), test_indices)\n",
    "train_TTF_data = TTF_data[train_indices][:, idx]\n",
    "train_Vs_data = Vs_data[train_indices]\n",
    "\n",
    "print(\"Training data size: \", \"TF shape: \", train_TTF_data.shape, \", Vs shape: \", train_Vs_data.shape)\n",
    "print(\"Testing data size: \", \"TF shape: \", test_TTF_data.shape, \", Vs shape: \", test_Vs_data.shape)"
   ]
  },
  {
   "cell_type": "code",
   "execution_count": 206,
   "metadata": {},
   "outputs": [],
   "source": [
    "class TTFDataset(Dataset):\n",
    "    def __init__(self, TTF_data, Vs_array, freq_array):\n",
    "        self.TTF_data = TTF_data\n",
    "        self.Vs_array = Vs_array\n",
    "        self.freq_array = freq_array\n",
    "\n",
    "    def __len__(self):\n",
    "        return len(self.TTF_data)\n",
    "\n",
    "    def __getitem__(self, idx):\n",
    "        # Input \n",
    "        Vs = self.Vs_array[idx,:]\n",
    "        hi = 5 * np.ones_like(Vs)\n",
    "        input_data = np.vstack((Vs, hi))\n",
    "        input_data = torch.tensor(input_data, dtype=torch.float32)\n",
    "\n",
    "        # Frequency\n",
    "        freq = self.freq_array[idx] * np.ones(1)\n",
    "        freq = torch.tensor(freq, dtype=torch.float32)\n",
    "\n",
    "        # Target\n",
    "        TTF = self.TTF_data[idx] * np.ones(1)\n",
    "        target = torch.tensor(TTF, dtype=torch.float32)\n",
    "\n",
    "        return input_data, freq, target"
   ]
  },
  {
   "cell_type": "code",
   "execution_count": 207,
   "metadata": {},
   "outputs": [
    {
     "name": "stdout",
     "output_type": "stream",
     "text": [
      "(490, 30)\n"
     ]
    }
   ],
   "source": [
    "print(train_Vs_data.shape)"
   ]
  },
  {
   "cell_type": "code",
   "execution_count": 208,
   "metadata": {},
   "outputs": [],
   "source": [
    "# Data \n",
    "train_Vs_data = train_Vs_data\n",
    "test_Vs_data = test_Vs_data\n",
    "\n",
    "train_TTF_data = train_TTF_data.reshape(-1,1)\n",
    "test_TTF_data = test_TTF_data.reshape(-1,1)\n",
    "\n",
    "freq_values = freq * np.ones_like(train_TTF_data)\n",
    "\n"
   ]
  },
  {
   "cell_type": "code",
   "execution_count": 209,
   "metadata": {},
   "outputs": [
    {
     "data": {
      "text/plain": [
       "1.0174393797989472"
      ]
     },
     "execution_count": 209,
     "metadata": {},
     "output_type": "execute_result"
    }
   ],
   "source": [
    "freq"
   ]
  },
  {
   "cell_type": "code",
   "execution_count": 210,
   "metadata": {},
   "outputs": [],
   "source": [
    "m_Vs = train_Vs_data.mean(axis=1)\n",
    "s_Vs = train_Vs_data.std(axis=1) \n",
    "# Add a small epsilon to the standard deviation to avoid division by zero\n",
    "epsilon = 1e-8\n",
    "train_Vs_data = (train_Vs_data - m_Vs[:, np.newaxis]) / (s_Vs[:, np.newaxis] + epsilon)\n",
    "\n",
    "m_TF = train_TTF_data.mean()\n",
    "s_TF = train_TTF_data.std()\n",
    "#train_TTF_data = (train_TTF_data - m_TF) / (s_TF + epsilon)"
   ]
  },
  {
   "cell_type": "code",
   "execution_count": 211,
   "metadata": {},
   "outputs": [
    {
     "data": {
      "text/plain": [
       "(tensor([[-0.9323, -0.9323, -0.9323, -0.9323, -0.9323, -0.9323, -0.9323, -0.9323,\n",
       "           0.7731,  0.7731, -0.9323, -0.9323, -0.9323, -0.9323, -0.9323, -0.9323,\n",
       "          -0.9323, -0.9323,  1.1142,  1.1142,  1.1142,  1.1142,  1.1142,  1.1142,\n",
       "           1.1142,  1.1142,  1.1142,  1.1142,  1.1142,  1.1142],\n",
       "         [ 5.0000,  5.0000,  5.0000,  5.0000,  5.0000,  5.0000,  5.0000,  5.0000,\n",
       "           5.0000,  5.0000,  5.0000,  5.0000,  5.0000,  5.0000,  5.0000,  5.0000,\n",
       "           5.0000,  5.0000,  5.0000,  5.0000,  5.0000,  5.0000,  5.0000,  5.0000,\n",
       "           5.0000,  5.0000,  5.0000,  5.0000,  5.0000,  5.0000]]),\n",
       " tensor([1.0174]),\n",
       " tensor([-0.3686]))"
      ]
     },
     "execution_count": 211,
     "metadata": {},
     "output_type": "execute_result"
    }
   ],
   "source": [
    "# Create dataset\n",
    "dataset = TTFDataset(train_TTF_data, train_Vs_data, freq_values)\n",
    "dataset[-1]"
   ]
  },
  {
   "cell_type": "code",
   "execution_count": 212,
   "metadata": {},
   "outputs": [
    {
     "name": "stdout",
     "output_type": "stream",
     "text": [
      "Train, validation and test sizes:  343 73 74\n",
      "Number of batches:  2 1 1\n"
     ]
    }
   ],
   "source": [
    "# Separate into training and testing\n",
    "train_size = int(0.7 * len(dataset))\n",
    "val_size = (len(dataset) - train_size) // 2\n",
    "test_size = len(dataset) - train_size - val_size\n",
    "print(\"Train, validation and test sizes: \",train_size, val_size, test_size)\n",
    "\n",
    "train_dataset, val_dataset, test_dataset = torch.utils.data.random_split(dataset, [train_size, val_size, test_size])\n",
    "\n",
    "i_batch_size = 200\n",
    "train_loader = DataLoader(train_dataset, batch_size=i_batch_size, shuffle=True)\n",
    "val_loader = DataLoader(val_dataset, batch_size=i_batch_size, shuffle=True)\n",
    "test_loader = DataLoader(test_dataset, batch_size=i_batch_size, shuffle=True)\n",
    "print(\"Number of batches: \", len(train_loader), len(val_loader), len(test_loader))"
   ]
  },
  {
   "cell_type": "markdown",
   "metadata": {},
   "source": [
    "## Model"
   ]
  },
  {
   "cell_type": "code",
   "execution_count": 213,
   "metadata": {},
   "outputs": [],
   "source": [
    "# Create Model\n",
    "class MLP(nn.Module):\n",
    "    def __init__(self, input_dim, hidden_dim, hidden_layers, output_dim=1, activation=nn.ReLU, batch_norm=False):\n",
    "        super(MLP, self).__init__()\n",
    "        self.hidden_layers = nn.ModuleList()\n",
    "        self.batch_norm = batch_norm\n",
    "        self.activation = activation\n",
    "        self.output_dim = output_dim\n",
    "\n",
    "        # Input layer\n",
    "        self.hidden_layers.append(nn.Linear(input_dim, hidden_dim))\n",
    "        if self.batch_norm:\n",
    "            self.hidden_layers.append(nn.BatchNorm1d(hidden_dim))\n",
    "\n",
    "        # Hidden layers\n",
    "        for _ in range(hidden_layers - 1):\n",
    "            self.hidden_layers.append(nn.Linear(hidden_dim, hidden_dim))\n",
    "            if self.batch_norm:\n",
    "                self.hidden_layers.append(nn.BatchNorm1d(hidden_dim))\n",
    "\n",
    "        # Output layer\n",
    "        self.out = nn.Linear(hidden_dim, output_dim)\n",
    "\n",
    "\n",
    "    def forward(self, x):\n",
    "        for layer in self.hidden_layers:\n",
    "            if isinstance(layer, nn.Linear):\n",
    "                x = layer(x)\n",
    "                x = self.activation()(x)\n",
    "            elif isinstance(layer, nn.BatchNorm1d):\n",
    "                x = layer(x)\n",
    "        x = self.out(x)\n",
    "        return x"
   ]
  },
  {
   "cell_type": "code",
   "execution_count": 214,
   "metadata": {},
   "outputs": [],
   "source": [
    "from torch.nn import Conv1d, MaxPool1d, Flatten\n",
    "from torch.nn import ReLU\n",
    "\n",
    "\n",
    "class TF_model(nn.Module):\n",
    "    def __init__(self):\n",
    "        super(TF_model, self).__init__()\n",
    "\n",
    "        self.conv1 = Conv1d(in_channels=2, out_channels=16, kernel_size=3)\n",
    "        self.pool1 = MaxPool1d(kernel_size=2)\n",
    "        self.conv2 = Conv1d(in_channels=16, out_channels=32, kernel_size=3)\n",
    "        self.pool2 = MaxPool1d(kernel_size=2)\n",
    "        self.mlp1 = MLP(32*6, 100, 4, 1, activation=nn.ReLU, batch_norm=False)\n",
    "        self.flatten = Flatten()\n",
    "        self.mlp2 = MLP(2, 100, 4, 1, activation=nn.ReLU, batch_norm=False)\n",
    "\n",
    "    def forward(self, x, freq):\n",
    "        # x is (batch_size, 2, 30)\n",
    "        x = self.conv1(x) # (batch_size, 16, 28)\n",
    "        x = ReLU()(x) # (batch_size, 16, 28)\n",
    "        x = self.pool1(x) # (batch_size, 16, 14)\n",
    "        x = self.conv2(x) # (batch_size, 32, 12)\n",
    "        x = ReLU()(x) # (batch_size, 32, 12)\n",
    "        x = self.pool2(x) # (batch_size, 32, 6)\n",
    "        x = self.flatten(x) # (batch_size, 32*6)\n",
    "        x = self.mlp1(x) # (batch_size, 1)\n",
    "        x = torch.cat((x, freq), dim=1) # (batch_size, 2)\n",
    "        x = self.mlp2(x) # (batch_size, 1)\n",
    "        return x\n",
    "        "
   ]
  },
  {
   "cell_type": "markdown",
   "metadata": {},
   "source": [
    "Preliminary check if the shapes are correct"
   ]
  },
  {
   "cell_type": "code",
   "execution_count": 215,
   "metadata": {},
   "outputs": [
    {
     "name": "stdout",
     "output_type": "stream",
     "text": [
      "torch.Size([200, 2, 30]) torch.Size([200, 1]) torch.Size([200, 1])\n",
      "Loss:  tensor(1.1866, grad_fn=<MseLossBackward0>)\n"
     ]
    }
   ],
   "source": [
    "model = TF_model()\n",
    "loss_fn = nn.MSELoss()\n",
    "X, freq_in, y = next(iter(train_loader))\n",
    "print(X.shape, freq_in.shape, y.shape)\n",
    "pred = model(X, freq_in)\n",
    "assert pred.shape == y.shape , f\"Expected shape {y.shape} but got {pred.shape}\"\n",
    "print(\"Loss: \", loss_fn(pred, y))"
   ]
  },
  {
   "cell_type": "markdown",
   "metadata": {},
   "source": [
    "## Training"
   ]
  },
  {
   "cell_type": "markdown",
   "metadata": {},
   "source": [
    "Defining the Early Stopping to avoid redudant training if the loss is not decreasing."
   ]
  },
  {
   "cell_type": "code",
   "execution_count": 216,
   "metadata": {},
   "outputs": [],
   "source": [
    "# Early stopping\n",
    "class EarlyStopping():\n",
    "    def __init__(self, patience=5, delta=0.0, progress_bar=None):\n",
    "        self.patience = patience\n",
    "        self.counter = 0\n",
    "        self.best_score = None\n",
    "        self.early_stop = False\n",
    "        self.delta = delta\n",
    "        self.progress_bar = progress_bar\n",
    "\n",
    "    def __call__(self, val_loss, model):\n",
    "        if self.best_score is None:\n",
    "            self.best_score = val_loss\n",
    "        elif val_loss > self.best_score + self.delta:\n",
    "            self.counter += 1\n",
    "            if self.progress_bar:\n",
    "                self.progress_bar.set_postfix_str(f'EarlyStopping counter: {self.counter} out of {self.patience}')\n",
    "            if self.counter >= self.patience:\n",
    "                self.early_stop = True\n",
    "        else:\n",
    "            self.best_score = val_loss\n",
    "            self.counter = 0\n",
    "            if self.progress_bar:\n",
    "                self.progress_bar.set_postfix_str('')"
   ]
  },
  {
   "cell_type": "markdown",
   "metadata": {},
   "source": [
    "### Training function"
   ]
  },
  {
   "cell_type": "code",
   "execution_count": 217,
   "metadata": {},
   "outputs": [],
   "source": [
    "import torch\n",
    "from tqdm import tqdm, trange\n",
    "import torch.nn as nn\n",
    "import numpy as np\n",
    "\n",
    "def train(model, optimizer, scheduler, train_dataloader, validation_dataloader, loss_fn, epochs=100, device=\"cpu\", patience=50):\n",
    "    train_losses = []\n",
    "    val_losses = []\n",
    "    model.to(device)\n",
    "    progress_bar = tqdm(range(epochs), desc=\"Training\", unit=\"epoch\")\n",
    "    early_stopping = EarlyStopping(patience=patience, progress_bar=progress_bar)\n",
    "\n",
    "    for epoch in progress_bar:\n",
    "        model.train()\n",
    "        train_loss = 0\n",
    "        for X, freq_in, y in train_dataloader:\n",
    "            X, freq_in, y = X.to(device), freq_in.to(device), y.to(device)\n",
    "            optimizer.zero_grad()\n",
    "            y_pred = model(X, freq_in)\n",
    "            loss = loss_fn(y_pred, y)\n",
    "            loss.backward()\n",
    "            torch.nn.utils.clip_grad_norm_(model.parameters(), max_norm=1.0)  # Gradient clipping\n",
    "            optimizer.step()\n",
    "            train_loss += loss.item()\n",
    "        train_loss /= len(train_dataloader)\n",
    "        train_losses.append(train_loss)\n",
    "\n",
    "        model.eval()\n",
    "        val_loss = 0\n",
    "        with torch.no_grad():\n",
    "            for X, freq_in, y in validation_dataloader:\n",
    "                X, freq_in, y = X.to(device), freq_in.to(device), y.to(device)\n",
    "                y_pred = model(X, freq_in)\n",
    "                loss = loss_fn(y_pred, y)\n",
    "                val_loss += loss.item()\n",
    "        val_loss /= len(validation_dataloader)\n",
    "        val_losses.append(val_loss)\n",
    "\n",
    "        if early_stopping is not None:\n",
    "            early_stopping(val_loss, model)\n",
    "            if early_stopping.early_stop:\n",
    "                print(\"Early stopping\")\n",
    "                break\n",
    "\n",
    "        if scheduler is not None:\n",
    "            scheduler.step(val_loss)\n",
    "\n",
    "        if epoch % 100 == 0:\n",
    "            print(f\"Epoch {epoch}, Train Loss: {train_loss}, Val Loss: {val_loss}, LR: {optimizer.param_groups[0]['lr']}\")\n",
    "\n",
    "        # Stop if loss is nan\n",
    "        if np.isnan(train_loss) or np.isnan(val_loss):\n",
    "            print(\"Loss is nan\")\n",
    "            break\n",
    "\n",
    "    return train_losses, val_losses, model"
   ]
  },
  {
   "cell_type": "markdown",
   "metadata": {},
   "source": [
    "### Testing function"
   ]
  },
  {
   "cell_type": "code",
   "execution_count": 218,
   "metadata": {},
   "outputs": [],
   "source": [
    "# Define test function\n",
    "def test(model, test_dataloader, loss_fn, device=\"cpu\"):\n",
    "    model.eval()\n",
    "    test_loss = 0\n",
    "    for X, freq_in, y in test_dataloader:\n",
    "        X, freq_in, y = X.to(device), freq_in.to(device), y.to(device)\n",
    "        y_pred = model(X, freq_in)\n",
    "        loss = loss_fn(y_pred, y)\n",
    "        test_loss += loss.item()\n",
    "    test_loss /= len(test_dataloader)\n",
    "    return test_loss"
   ]
  },
  {
   "cell_type": "markdown",
   "metadata": {},
   "source": [
    "## Start of Training"
   ]
  },
  {
   "cell_type": "code",
   "execution_count": 219,
   "metadata": {},
   "outputs": [
    {
     "name": "stdout",
     "output_type": "stream",
     "text": [
      "Using device: cuda\n"
     ]
    }
   ],
   "source": [
    "# Device \n",
    "device = torch.device(\"cuda\" if torch.cuda.is_available() else \"cpu\")\n",
    "print(f\"Using device: {device}\")"
   ]
  },
  {
   "cell_type": "code",
   "execution_count": 220,
   "metadata": {},
   "outputs": [],
   "source": [
    "# Model\n",
    "#model = MLP(31, 50, 4, output_dim=1, activation=nn.ReLU, batch_norm=True)\n",
    "model = TF_model()\n",
    "\n",
    "# Xavier Glore initialization\n",
    "def init_weights(m):\n",
    "    if type(m) == nn.Linear:\n",
    "        torch.nn.init.xavier_uniform_(m.weight)\n",
    "        m.bias.data.fill_(0.01)\n",
    "\n",
    "model.apply(init_weights)\n",
    "\n",
    "# Loss function - RMSE\n",
    "def rmse(y_true, y_pred):\n",
    "    return torch.sqrt(torch.mean((y_true - y_pred) ** 2))\n",
    "\n",
    "loss_fn = rmse\n",
    "#loss_fn = nn.MSELoss()"
   ]
  },
  {
   "cell_type": "code",
   "execution_count": 221,
   "metadata": {},
   "outputs": [],
   "source": [
    "# Optimizer with momentum NAG\n",
    "#optimizer = torch.optim.SGD(model.parameters(), lr=0.05, momentum=0.9, weight_decay=0.01, nesterov=True)\n",
    "optimizer = torch.optim.AdamW(model.parameters(), lr=0.05, betas=(0.6, 0.9), weight_decay=0.05)\n",
    "#optimizer = torch.optim.Adam(model.parameters(), lr=0.001)\n",
    "#optimizer = torch.optim.RMSprop(model.parameters(), lr=0.05, alpha=0.9, eps=1e-08, weight_decay=0.01, momentum=0.9, centered=False)\n",
    "\n",
    "\n",
    "# Scheduler with exponential decay\n",
    "#scheduler = None\n",
    "scheduler = torch.optim.lr_scheduler.ReduceLROnPlateau(optimizer, mode='min', factor=0.5, patience=250, threshold=0.0001, threshold_mode='rel', cooldown=0, min_lr=1e-4, eps=1e-08)"
   ]
  },
  {
   "cell_type": "code",
   "execution_count": 222,
   "metadata": {},
   "outputs": [
    {
     "name": "stderr",
     "output_type": "stream",
     "text": [
      "Training:   0%|          | 3/50000 [00:00<35:02, 23.78epoch/s, EarlyStopping counter: 1 out of 3000]"
     ]
    },
    {
     "name": "stdout",
     "output_type": "stream",
     "text": [
      "Epoch 0, Train Loss: 13.32791092991829, Val Loss: 6.032766819000244, LR: 0.05\n"
     ]
    },
    {
     "name": "stderr",
     "output_type": "stream",
     "text": [
      "Training:   0%|          | 103/50000 [00:06<1:04:25, 12.91epoch/s, EarlyStopping counter: 99 out of 3000]"
     ]
    },
    {
     "name": "stdout",
     "output_type": "stream",
     "text": [
      "Epoch 100, Train Loss: 0.99427330493927, Val Loss: 1.3906166553497314, LR: 0.05\n"
     ]
    },
    {
     "name": "stderr",
     "output_type": "stream",
     "text": [
      "Training:   0%|          | 203/50000 [00:13<1:03:20, 13.10epoch/s, EarlyStopping counter: 199 out of 3000]"
     ]
    },
    {
     "name": "stdout",
     "output_type": "stream",
     "text": [
      "Epoch 200, Train Loss: 0.9777543246746063, Val Loss: 1.3904378414154053, LR: 0.05\n"
     ]
    },
    {
     "name": "stderr",
     "output_type": "stream",
     "text": [
      "Training:   1%|          | 303/50000 [00:21<1:01:16, 13.52epoch/s, EarlyStopping counter: 299 out of 3000]"
     ]
    },
    {
     "name": "stdout",
     "output_type": "stream",
     "text": [
      "Epoch 300, Train Loss: 0.9546642303466797, Val Loss: 1.3905636072158813, LR: 0.025\n"
     ]
    },
    {
     "name": "stderr",
     "output_type": "stream",
     "text": [
      "Training:   1%|          | 403/50000 [00:29<58:32, 14.12epoch/s, EarlyStopping counter: 399 out of 3000]  "
     ]
    },
    {
     "name": "stdout",
     "output_type": "stream",
     "text": [
      "Epoch 400, Train Loss: 0.9930187165737152, Val Loss: 1.391466736793518, LR: 0.025\n"
     ]
    },
    {
     "name": "stderr",
     "output_type": "stream",
     "text": [
      "Training:   1%|          | 503/50000 [00:36<1:02:29, 13.20epoch/s, EarlyStopping counter: 499 out of 3000]"
     ]
    },
    {
     "name": "stdout",
     "output_type": "stream",
     "text": [
      "Epoch 500, Train Loss: 0.948784589767456, Val Loss: 1.3907841444015503, LR: 0.025\n"
     ]
    },
    {
     "name": "stderr",
     "output_type": "stream",
     "text": [
      "Training:   1%|          | 603/50000 [00:44<1:05:52, 12.50epoch/s, EarlyStopping counter: 599 out of 3000]"
     ]
    },
    {
     "name": "stdout",
     "output_type": "stream",
     "text": [
      "Epoch 600, Train Loss: 0.9878049194812775, Val Loss: 1.3907639980316162, LR: 0.0125\n"
     ]
    },
    {
     "name": "stderr",
     "output_type": "stream",
     "text": [
      "Training:   1%|▏         | 703/50000 [00:52<59:35, 13.79epoch/s, EarlyStopping counter: 699 out of 3000]  "
     ]
    },
    {
     "name": "stdout",
     "output_type": "stream",
     "text": [
      "Epoch 700, Train Loss: 0.9904720783233643, Val Loss: 1.3906431198120117, LR: 0.0125\n"
     ]
    },
    {
     "name": "stderr",
     "output_type": "stream",
     "text": [
      "Training:   2%|▏         | 803/50000 [01:00<1:04:10, 12.78epoch/s, EarlyStopping counter: 799 out of 3000]"
     ]
    },
    {
     "name": "stdout",
     "output_type": "stream",
     "text": [
      "Epoch 800, Train Loss: 0.9447458684444427, Val Loss: 1.390986680984497, LR: 0.00625\n"
     ]
    },
    {
     "name": "stderr",
     "output_type": "stream",
     "text": [
      "Training:   2%|▏         | 903/50000 [01:08<1:02:25, 13.11epoch/s, EarlyStopping counter: 899 out of 3000]"
     ]
    },
    {
     "name": "stdout",
     "output_type": "stream",
     "text": [
      "Epoch 900, Train Loss: 0.9593415856361389, Val Loss: 1.3904513120651245, LR: 0.00625\n"
     ]
    },
    {
     "name": "stderr",
     "output_type": "stream",
     "text": [
      "Training:   2%|▏         | 1005/50000 [01:15<35:55, 22.73epoch/s, EarlyStopping counter: 1001 out of 3000]"
     ]
    },
    {
     "name": "stdout",
     "output_type": "stream",
     "text": [
      "Epoch 1000, Train Loss: 0.9878572821617126, Val Loss: 1.3907742500305176, LR: 0.00625\n"
     ]
    },
    {
     "name": "stderr",
     "output_type": "stream",
     "text": [
      "Training:   2%|▏         | 1104/50000 [01:19<34:26, 23.66epoch/s, EarlyStopping counter: 1101 out of 3000]"
     ]
    },
    {
     "name": "stdout",
     "output_type": "stream",
     "text": [
      "Epoch 1100, Train Loss: 0.9839717745780945, Val Loss: 1.390731692314148, LR: 0.003125\n"
     ]
    },
    {
     "name": "stderr",
     "output_type": "stream",
     "text": [
      "Training:   2%|▏         | 1203/50000 [01:24<34:36, 23.50epoch/s, EarlyStopping counter: 1201 out of 3000]"
     ]
    },
    {
     "name": "stdout",
     "output_type": "stream",
     "text": [
      "Epoch 1200, Train Loss: 0.9240988492965698, Val Loss: 1.390555739402771, LR: 0.003125\n"
     ]
    },
    {
     "name": "stderr",
     "output_type": "stream",
     "text": [
      "Training:   3%|▎         | 1305/50000 [01:28<35:02, 23.16epoch/s, EarlyStopping counter: 1301 out of 3000]"
     ]
    },
    {
     "name": "stdout",
     "output_type": "stream",
     "text": [
      "Epoch 1300, Train Loss: 0.9916872978210449, Val Loss: 1.3907184600830078, LR: 0.0015625\n"
     ]
    },
    {
     "name": "stderr",
     "output_type": "stream",
     "text": [
      "Training:   3%|▎         | 1404/50000 [01:32<34:52, 23.23epoch/s, EarlyStopping counter: 1401 out of 3000]"
     ]
    },
    {
     "name": "stdout",
     "output_type": "stream",
     "text": [
      "Epoch 1400, Train Loss: 0.9856222569942474, Val Loss: 1.3907053470611572, LR: 0.0015625\n"
     ]
    },
    {
     "name": "stderr",
     "output_type": "stream",
     "text": [
      "Training:   3%|▎         | 1503/50000 [01:37<40:14, 20.09epoch/s, EarlyStopping counter: 1501 out of 3000]"
     ]
    },
    {
     "name": "stdout",
     "output_type": "stream",
     "text": [
      "Epoch 1500, Train Loss: 0.9638583362102509, Val Loss: 1.3909971714019775, LR: 0.0015625\n"
     ]
    },
    {
     "name": "stderr",
     "output_type": "stream",
     "text": [
      "Training:   3%|▎         | 1603/50000 [01:42<39:02, 20.66epoch/s, EarlyStopping counter: 1601 out of 3000]"
     ]
    },
    {
     "name": "stdout",
     "output_type": "stream",
     "text": [
      "Epoch 1600, Train Loss: 0.9607714414596558, Val Loss: 1.3905645608901978, LR: 0.00078125\n"
     ]
    },
    {
     "name": "stderr",
     "output_type": "stream",
     "text": [
      "Training:   3%|▎         | 1706/50000 [01:46<24:06, 33.40epoch/s, EarlyStopping counter: 1704 out of 3000]"
     ]
    },
    {
     "name": "stdout",
     "output_type": "stream",
     "text": [
      "Epoch 1700, Train Loss: 0.9526183903217316, Val Loss: 1.3907158374786377, LR: 0.00078125\n"
     ]
    },
    {
     "name": "stderr",
     "output_type": "stream",
     "text": [
      "Training:   4%|▎         | 1802/50000 [01:49<44:00, 18.25epoch/s, EarlyStopping counter: 1799 out of 3000]"
     ]
    },
    {
     "name": "stdout",
     "output_type": "stream",
     "text": [
      "Epoch 1800, Train Loss: 0.9451227486133575, Val Loss: 1.3906699419021606, LR: 0.000390625\n"
     ]
    },
    {
     "name": "stderr",
     "output_type": "stream",
     "text": [
      "Training:   4%|▍         | 1902/50000 [01:56<55:06, 14.55epoch/s, EarlyStopping counter: 1899 out of 3000]"
     ]
    },
    {
     "name": "stdout",
     "output_type": "stream",
     "text": [
      "Epoch 1900, Train Loss: 0.9924992024898529, Val Loss: 1.390709638595581, LR: 0.000390625\n"
     ]
    },
    {
     "name": "stderr",
     "output_type": "stream",
     "text": [
      "Training:   4%|▍         | 2002/50000 [02:04<55:50, 14.32epoch/s, EarlyStopping counter: 1999 out of 3000]  "
     ]
    },
    {
     "name": "stdout",
     "output_type": "stream",
     "text": [
      "Epoch 2000, Train Loss: 0.9690147340297699, Val Loss: 1.3907064199447632, LR: 0.000390625\n"
     ]
    },
    {
     "name": "stderr",
     "output_type": "stream",
     "text": [
      "Training:   4%|▍         | 2102/50000 [02:12<56:33, 14.12epoch/s, EarlyStopping counter: 2100 out of 3000]  "
     ]
    },
    {
     "name": "stdout",
     "output_type": "stream",
     "text": [
      "Epoch 2100, Train Loss: 0.9259589612483978, Val Loss: 1.3907554149627686, LR: 0.0001953125\n"
     ]
    },
    {
     "name": "stderr",
     "output_type": "stream",
     "text": [
      "Training:   4%|▍         | 2202/50000 [02:19<57:43, 13.80epoch/s, EarlyStopping counter: 2200 out of 3000]  "
     ]
    },
    {
     "name": "stdout",
     "output_type": "stream",
     "text": [
      "Epoch 2200, Train Loss: 0.9915277361869812, Val Loss: 1.3907573223114014, LR: 0.0001953125\n"
     ]
    },
    {
     "name": "stderr",
     "output_type": "stream",
     "text": [
      "Training:   5%|▍         | 2302/50000 [02:26<57:33, 13.81epoch/s, EarlyStopping counter: 2299 out of 3000]  "
     ]
    },
    {
     "name": "stdout",
     "output_type": "stream",
     "text": [
      "Epoch 2300, Train Loss: 0.9220220744609833, Val Loss: 1.390697956085205, LR: 0.0001\n"
     ]
    },
    {
     "name": "stderr",
     "output_type": "stream",
     "text": [
      "Training:   5%|▍         | 2402/50000 [02:34<1:01:35, 12.88epoch/s, EarlyStopping counter: 2399 out of 3000]"
     ]
    },
    {
     "name": "stdout",
     "output_type": "stream",
     "text": [
      "Epoch 2400, Train Loss: 0.9784025549888611, Val Loss: 1.3907139301300049, LR: 0.0001\n"
     ]
    },
    {
     "name": "stderr",
     "output_type": "stream",
     "text": [
      "Training:   5%|▌         | 2502/50000 [02:42<56:32, 14.00epoch/s, EarlyStopping counter: 2499 out of 3000]  "
     ]
    },
    {
     "name": "stdout",
     "output_type": "stream",
     "text": [
      "Epoch 2500, Train Loss: 0.9673801958560944, Val Loss: 1.390674114227295, LR: 0.0001\n"
     ]
    },
    {
     "name": "stderr",
     "output_type": "stream",
     "text": [
      "Training:   5%|▌         | 2602/50000 [02:49<55:13, 14.31epoch/s, EarlyStopping counter: 2599 out of 3000]  "
     ]
    },
    {
     "name": "stdout",
     "output_type": "stream",
     "text": [
      "Epoch 2600, Train Loss: 0.9570750296115875, Val Loss: 1.390713095664978, LR: 0.0001\n"
     ]
    },
    {
     "name": "stderr",
     "output_type": "stream",
     "text": [
      "Training:   5%|▌         | 2702/50000 [02:57<1:00:29, 13.03epoch/s, EarlyStopping counter: 2700 out of 3000]"
     ]
    },
    {
     "name": "stdout",
     "output_type": "stream",
     "text": [
      "Epoch 2700, Train Loss: 0.9931844174861908, Val Loss: 1.3906962871551514, LR: 0.0001\n"
     ]
    },
    {
     "name": "stderr",
     "output_type": "stream",
     "text": [
      "Training:   6%|▌         | 2802/50000 [03:04<1:03:14, 12.44epoch/s, EarlyStopping counter: 2800 out of 3000]"
     ]
    },
    {
     "name": "stdout",
     "output_type": "stream",
     "text": [
      "Epoch 2800, Train Loss: 0.9824431538581848, Val Loss: 1.390681505203247, LR: 0.0001\n"
     ]
    },
    {
     "name": "stderr",
     "output_type": "stream",
     "text": [
      "Training:   6%|▌         | 2902/50000 [03:11<54:41, 14.35epoch/s, EarlyStopping counter: 2900 out of 3000]  "
     ]
    },
    {
     "name": "stdout",
     "output_type": "stream",
     "text": [
      "Epoch 2900, Train Loss: 0.9938322305679321, Val Loss: 1.3906766176223755, LR: 0.0001\n"
     ]
    },
    {
     "name": "stderr",
     "output_type": "stream",
     "text": [
      "Training:   6%|▌         | 3002/50000 [03:19<59:51, 13.08epoch/s, EarlyStopping counter: 2999 out of 3000]  "
     ]
    },
    {
     "name": "stdout",
     "output_type": "stream",
     "text": [
      "Epoch 3000, Train Loss: 0.9929510056972504, Val Loss: 1.3906925916671753, LR: 0.0001\n"
     ]
    },
    {
     "name": "stderr",
     "output_type": "stream",
     "text": [
      "Training:   6%|▌         | 3003/50000 [03:19<51:57, 15.07epoch/s, EarlyStopping counter: 3000 out of 3000]"
     ]
    },
    {
     "name": "stdout",
     "output_type": "stream",
     "text": [
      "Early stopping\n"
     ]
    },
    {
     "name": "stderr",
     "output_type": "stream",
     "text": [
      "\n"
     ]
    }
   ],
   "source": [
    "# Train model\n",
    "train_losses, val_losses, model = train(model, optimizer, scheduler, train_loader, val_loader, loss_fn, epochs=50000, device=device, patience=3000)"
   ]
  },
  {
   "cell_type": "code",
   "execution_count": 223,
   "metadata": {},
   "outputs": [
    {
     "data": {
      "image/png": "[encoded data removed]",
      "text/plain": [
       "<Figure size 640x480 with 1 Axes>"
      ]
     },
     "metadata": {},
     "output_type": "display_data"
    }
   ],
   "source": [
    "# Plot losses\n",
    "plt.plot(train_losses, label=\"Train Loss\")\n",
    "plt.plot(val_losses, label=\"Validation Loss\")\n",
    "plt.legend()\n",
    "plt.yscale(\"log\")\n",
    "plt.xlabel(\"Epoch\")\n",
    "plt.ylabel(\"Loss\")\n",
    "plt.show()"
   ]
  },
  {
   "cell_type": "code",
   "execution_count": 224,
   "metadata": {},
   "outputs": [
    {
     "name": "stdout",
     "output_type": "stream",
     "text": [
      "Test loss:  0.5080230832099915\n"
     ]
    }
   ],
   "source": [
    "# Test the model\n",
    "test_loss = test(model, test_loader, loss_fn, device=device)\n",
    "print(\"Test loss: \", test_loss)"
   ]
  },
  {
   "cell_type": "markdown",
   "metadata": {},
   "source": [
    "## Check the model"
   ]
  },
  {
   "cell_type": "code",
   "execution_count": 225,
   "metadata": {},
   "outputs": [],
   "source": [
    "# Predict and plot\n",
    "model.eval()\n",
    "predictions = []\n",
    "target = []\n",
    "Vs_target = []\n",
    "freq_target = []\n",
    "with torch.no_grad():\n",
    "    for X, freq_in, y in test_loader:\n",
    "        X, freq_in, y = X.to(device), freq_in.to(device), y.to(device)\n",
    "        y_pred = model(X, freq_in)\n",
    "        predictions.append(y_pred.cpu().numpy())\n",
    "        target.append(y.cpu().numpy()) \n",
    "        freq_target.append(freq_in.cpu().numpy())   \n",
    "\n",
    "\n",
    "predictions = np.concatenate(predictions)\n",
    "target = np.concatenate(target)\n",
    "freq_target = np.concatenate(freq_target)\n",
    "\n",
    "# Denormalize\n",
    "predictions = predictions * s_TF + m_TF\n",
    "target = target * s_TF + m_TF\n",
    "\n"
   ]
  },
  {
   "cell_type": "code",
   "execution_count": 226,
   "metadata": {},
   "outputs": [
    {
     "data": {
      "image/png": "[encoded data removed]",
      "text/plain": [
       "<Figure size 640x480 with 1 Axes>"
      ]
     },
     "metadata": {},
     "output_type": "display_data"
    }
   ],
   "source": [
    "plt.scatter(freq_target, target, label=\"True\")\n",
    "plt.scatter(freq_target, predictions, label=\"Predicted\", marker=\"x\")\n",
    "plt.legend()\n",
    "plt.xlabel(\"Frequency [Hz]\")\n",
    "plt.ylabel(\"TTF\")\n",
    "plt.show()\n"
   ]
  },
  {
   "cell_type": "code",
   "execution_count": 227,
   "metadata": {},
   "outputs": [],
   "source": [
    "# Save the model\n",
    "#torch.save(model.state_dict(), \"MLP_TF_model.pth\")"
   ]
  },
  {
   "cell_type": "code",
   "execution_count": null,
   "metadata": {},
   "outputs": [],
   "source": []
  }
 ],
 "metadata": {
  "kernelspec": {
   "display_name": "ML",
   "language": "python",
   "name": "python3"
  },
  "language_info": {
   "codemirror_mode": {
    "name": "ipython",
    "version": 3
   },
   "file_extension": ".py",
   "mimetype": "text/x-python",
   "name": "python",
   "nbconvert_exporter": "python",
   "pygments_lexer": "ipython3",
   "version": "3.12.4"
  }
 },
 "nbformat": 4,
 "nbformat_minor": 2
}
