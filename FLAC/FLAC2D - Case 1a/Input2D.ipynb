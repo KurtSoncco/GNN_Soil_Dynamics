{
 "cells": [
  {
   "cell_type": "markdown",
   "metadata": {},
   "source": [
    "# Case 1a"
   ]
  },
  {
   "cell_type": "code",
   "execution_count": 6,
   "metadata": {},
   "outputs": [],
   "source": [
    "import pandas as pd\n",
    "import numpy as np\n",
    "import os\n",
    "import matplotlib.pyplot as plt\n",
    "import itasca as it"
   ]
  },
  {
   "cell_type": "code",
   "execution_count": 11,
   "metadata": {},
   "outputs": [
    {
     "name": "stdout",
     "output_type": "stream",
     "text": [
      "Lenght of total data: 500\n"
     ]
    }
   ],
   "source": [
    "# Create data\n",
    "Vs_values = np.array([140,250,1000,1500,2000,100,500,800,950,2500], dtype=float)\n",
    "f_values = np.array([1, 1.5, 1.75, 2.25, 3], dtype=float)\n",
    "t_values = np.linspace(0.5, 2.5, 10)\n",
    "\n",
    "print(\"Lenght of total data: \" + str(len(Vs_values)*len(f_values)*len(t_values)))"
   ]
  },
  {
   "cell_type": "code",
   "execution_count": 16,
   "metadata": {},
   "outputs": [],
   "source": [
    "# Create meshgrid with all possible combinations\n",
    "Vs_val, f_val, t_val = np.meshgrid(Vs_values, f_values, t_values, indexing='ij')\n",
    "Vs_val = Vs_val.flatten()\n",
    "f_val = f_val.flatten()\n",
    "t_val = t_val.flatten()"
   ]
  },
  {
   "cell_type": "code",
   "execution_count": 20,
   "metadata": {},
   "outputs": [],
   "source": [
    "# Attach the Poisson's ratio and density\n",
    "nu = 0.3\n",
    "rho = 2000"
   ]
  },
  {
   "cell_type": "code",
   "execution_count": 23,
   "metadata": {},
   "outputs": [],
   "source": [
    "# Create folder with data\n",
    "os.makedirs(\"data\", exist_ok=True)"
   ]
  },
  {
   "cell_type": "code",
   "execution_count": 27,
   "metadata": {},
   "outputs": [],
   "source": [
    "# Import the data as numpy\n",
    "mat = np.zeros((30,3))\n",
    "mat[:,0] = Vs_val[0]\n",
    "mat[:,1] = nu\n",
    "mat[:,2] = rho\n",
    "\n",
    "\n",
    "\n",
    "\n",
    "# Save the data\n",
    "np.savetxt(\"data/data_1.csv\", mat, delimiter=\",\")"
   ]
  },
  {
   "cell_type": "code",
   "execution_count": 18,
   "metadata": {},
   "outputs": [
    {
     "name": "stdout",
     "output_type": "stream",
     "text": [
      "(30, 1)\n",
      "140 140\n"
     ]
    }
   ],
   "source": [
    "# From the data, select each 10th element\n",
    "Vs_array = data[0]\n",
    "\n",
    "# Get Median column index\n",
    "num_cols = Vs_array.shape[1]  # get the number of columns\n",
    "median_col_index = num_cols // 2  # find the index of the median column\n",
    "\n",
    "# extract the median column\n",
    "central_range = 2\n",
    "Vs_array = Vs_array[:, median_col_index-2:median_col_index+2]\n",
    "print(Vs_array.shape)\n",
    "print(np.min(Vs_array), np.max(Vs_array))"
   ]
  },
  {
   "cell_type": "code",
   "execution_count": 19,
   "metadata": {},
   "outputs": [
    {
     "name": "stdout",
     "output_type": "stream",
     "text": [
      "(1,) (30,)\n",
      "[2.5] [147.5 142.5 137.5 132.5 127.5 122.5 117.5 112.5 107.5 102.5  97.5  92.5\n",
      "  87.5  82.5  77.5  72.5  67.5  62.5  57.5  52.5  47.5  42.5  37.5  32.5\n",
      "  27.5  22.5  17.5  12.5   7.5   2.5]\n"
     ]
    }
   ],
   "source": [
    "# Number of elements per direction\n",
    "nx = Vs_array.shape[1]\n",
    "ny = Vs_array.shape[0]\n",
    "\n",
    "# Size of the elements\n",
    "dx = 5\n",
    "dy = 5\n",
    "\n",
    "# Length of the model\n",
    "Lx = nx*dx\n",
    "Ly = ny*dy\n",
    "\n",
    "# Create the mesh of the center points\n",
    "x = np.linspace(Lx-dx/2, dx/2, nx)\n",
    "y = np.linspace(Ly-dy/2, dy/2, ny)\n",
    "print(x.shape, y.shape)\n",
    "print(x, y)"
   ]
  },
  {
   "cell_type": "code",
   "execution_count": 20,
   "metadata": {},
   "outputs": [
    {
     "name": "stdout",
     "output_type": "stream",
     "text": [
      "(30,) (30,) (30,)\n"
     ]
    }
   ],
   "source": [
    "# Create a meshgrid\n",
    "X, Y = np.meshgrid(x, y)\n",
    "xx = X.flatten()\n",
    "yy = Y.flatten()\n",
    "Vs = Vs_array.flatten()\n",
    "print(xx.shape, yy.shape, Vs.shape)"
   ]
  },
  {
   "cell_type": "code",
   "execution_count": 21,
   "metadata": {},
   "outputs": [
    {
     "data": {
      "text/plain": [
       "array([[2.500e+00, 1.475e+02, 1.400e+02, 3.000e-01, 2.000e+03],\n",
       "       [2.500e+00, 1.425e+02, 1.400e+02, 3.000e-01, 2.000e+03],\n",
       "       [2.500e+00, 1.375e+02, 1.400e+02, 3.000e-01, 2.000e+03],\n",
       "       [2.500e+00, 1.325e+02, 1.400e+02, 3.000e-01, 2.000e+03],\n",
       "       [2.500e+00, 1.275e+02, 1.400e+02, 3.000e-01, 2.000e+03],\n",
       "       [2.500e+00, 1.225e+02, 1.400e+02, 3.000e-01, 2.000e+03],\n",
       "       [2.500e+00, 1.175e+02, 1.400e+02, 3.000e-01, 2.000e+03],\n",
       "       [2.500e+00, 1.125e+02, 1.400e+02, 3.000e-01, 2.000e+03],\n",
       "       [2.500e+00, 1.075e+02, 1.400e+02, 3.000e-01, 2.000e+03],\n",
       "       [2.500e+00, 1.025e+02, 1.400e+02, 3.000e-01, 2.000e+03],\n",
       "       [2.500e+00, 9.750e+01, 1.400e+02, 3.000e-01, 2.000e+03],\n",
       "       [2.500e+00, 9.250e+01, 1.400e+02, 3.000e-01, 2.000e+03],\n",
       "       [2.500e+00, 8.750e+01, 1.400e+02, 3.000e-01, 2.000e+03],\n",
       "       [2.500e+00, 8.250e+01, 1.400e+02, 3.000e-01, 2.000e+03],\n",
       "       [2.500e+00, 7.750e+01, 1.400e+02, 3.000e-01, 2.000e+03],\n",
       "       [2.500e+00, 7.250e+01, 1.400e+02, 3.000e-01, 2.000e+03],\n",
       "       [2.500e+00, 6.750e+01, 1.400e+02, 3.000e-01, 2.000e+03],\n",
       "       [2.500e+00, 6.250e+01, 1.400e+02, 3.000e-01, 2.000e+03],\n",
       "       [2.500e+00, 5.750e+01, 1.400e+02, 3.000e-01, 2.000e+03],\n",
       "       [2.500e+00, 5.250e+01, 1.400e+02, 3.000e-01, 2.000e+03],\n",
       "       [2.500e+00, 4.750e+01, 1.400e+02, 3.000e-01, 2.000e+03],\n",
       "       [2.500e+00, 4.250e+01, 1.400e+02, 3.000e-01, 2.000e+03],\n",
       "       [2.500e+00, 3.750e+01, 1.400e+02, 3.000e-01, 2.000e+03],\n",
       "       [2.500e+00, 3.250e+01, 1.400e+02, 3.000e-01, 2.000e+03],\n",
       "       [2.500e+00, 2.750e+01, 1.400e+02, 3.000e-01, 2.000e+03],\n",
       "       [2.500e+00, 2.250e+01, 1.400e+02, 3.000e-01, 2.000e+03],\n",
       "       [2.500e+00, 1.750e+01, 1.400e+02, 3.000e-01, 2.000e+03],\n",
       "       [2.500e+00, 1.250e+01, 1.400e+02, 3.000e-01, 2.000e+03],\n",
       "       [2.500e+00, 7.500e+00, 1.400e+02, 3.000e-01, 2.000e+03],\n",
       "       [2.500e+00, 2.500e+00, 1.400e+02, 3.000e-01, 2.000e+03]])"
      ]
     },
     "execution_count": 21,
     "metadata": {},
     "output_type": "execute_result"
    }
   ],
   "source": [
    "# Concatenate the arrays\n",
    "data = np.column_stack((xx, yy, Vs))\n",
    "\n",
    "# Attach the Poisson's ratio and density\n",
    "nu = 0.3\n",
    "rho = 2000\n",
    "data = np.column_stack((data, nu*np.ones_like(Vs), rho*np.ones_like(Vs)))\n",
    "data"
   ]
  },
  {
   "cell_type": "code",
   "execution_count": 22,
   "metadata": {},
   "outputs": [],
   "source": [
    "# Create FLAC files\n",
    "with open('MatProp3D.dat', 'w') as file:\n",
    "    file.write(\"Vs and Nu of the material\\n\")\n",
    "    file.write(f'{len(Vs)} 0.0\\n')\n",
    "    np.savetxt(file, np.column_stack((Vs, nu*np.ones_like(Vs))), fmt=\"%e\")\n",
    "    file.close()\n",
    "\n",
    "with open('Density3D.dat', 'w') as file:\n",
    "    file.write(\"Vs and Density of the material\\n\")\n",
    "    file.write(f'{len(Vs)} 0.0\\n')\n",
    "    np.savetxt(file, np.column_stack((Vs, rho*np.ones_like(Vs) )) , fmt=\"%e\")\n",
    "    file.close()\n",
    "\n",
    "with open('Coord3D-XY.dat', 'w') as file:\n",
    "    file.write(\"X-Y Coordinates of Zones' Centroids\\n\")\n",
    "    file.write(f'{len(xx)} 0.0\\n')\n",
    "    np.savetxt(file, np.column_stack((xx, yy)), fmt=\"%e\")\n",
    "    file.close()"
   ]
  },
  {
   "cell_type": "code",
   "execution_count": 23,
   "metadata": {},
   "outputs": [],
   "source": [
    "# Write the whole Geometry.dat file\n",
    "with open('Geometry2D.dat', 'w') as file:\n",
    "\tfile.write('model new\\n')\n",
    "\tfile.write('model configure dynamic\\n')\n",
    "\tfile.write('zone create quad size {:.0f} {:.0f} point 0 (0,0) point 1 ({:.2f},0) point 2 (0,{:.2f})\\n'.format(nx,ny,Lx,Ly))\n",
    "\tfile.write('zone cmodel assign elastic\\n')\n",
    "\tfile.write(';------------------------------------------------\\n')\n",
    "\tfile.write(';--------Define the material properties-----------\\n')\n",
    "\tfile.write(';------------------------------------------------\\n')\n",
    "\tfile.write(\"table '10' import 'Coord3D-XY.dat'\\n\")\n",
    "\tfile.write(\"table '20' import 'MatProp3D.dat'\\n\")\n",
    "\tfile.write(\"table '21' import 'Density3D.dat'\\n\")\n",
    "\tfile.write(\"fish define soilprop\\n\")\n",
    "\tfile.write(\"\\tmtot = table.size(10)\\n\")\n",
    "\tfile.write(\"\\tloop m (1,mtot)\\n\")\n",
    "\tfile.write(\"\\t\\txi = table.x(10,m)\\n\")\n",
    "\tfile.write(\"\\t\\tyi = table.y(10,m)\\n\")\n",
    "\tfile.write(\"\\t\\tcsi = table.x(20,m)\\n\")\n",
    "\tfile.write(\"\\t\\tnui = table.y(20,m)\\n\")\n",
    "\tfile.write(\"\\t\\trho = table.y(21,m)\\n\")\n",
    "\tfile.write(\"\\t\\tshmodi = rho*csi^2\\n\")\n",
    "\tfile.write(\"\\t\\tbkmodi = 2*shmodi*(1+nui)/3/(1-2*nui)\\n\")\n",
    "\tfile.write(\"\\t\\tdout = string(m)+ ',  ' + string(csi) + ',  ' + string(nui)\\n\")\n",
    "\tfile.write(\"\\t\\tdum = io.out(dout)\\n\")\n",
    "\tfile.write(\"\\t\\t; \\n\")\n",
    "\tfile.write(\"\\t\\tzcent = vector(xi,yi)\\n\")\n",
    "\tfile.write(\"\\t\\tzp = zone.near(zcent)\\n\")\n",
    "\tfile.write(\"\\t\\tzone.density(zp) = rho\\n\")\n",
    "\tfile.write(\"\\t\\tzone.prop(zp,'shear') = shmodi\\n\")\n",
    "\tfile.write(\"\\t\\tzone.prop(zp,'bulk') = bkmodi\\n\")\n",
    "\tfile.write(\"\\t\\t; \\n\")\n",
    "\tfile.write(\"\\tendloop\\n\")\n",
    "\tfile.write(\"end\\n\")\n",
    "\tfile.write(\"@soilprop\\n\")\n",
    "\tfile.write(\"; ------------------------------------------------\\n\")\n",
    "\tfile.write(\"model save 'Model_1a_Geom.sav'\\n\")\n",
    "\tfile.close()"
   ]
  }
 ],
 "metadata": {
  "kernelspec": {
   "display_name": "base",
   "language": "python",
   "name": "python3"
  },
  "language_info": {
   "codemirror_mode": {
    "name": "ipython",
    "version": 3
   },
   "file_extension": ".py",
   "mimetype": "text/x-python",
   "name": "python",
   "nbconvert_exporter": "python",
   "pygments_lexer": "ipython3",
   "version": "3.12.4"
  }
 },
 "nbformat": 4,
 "nbformat_minor": 2
}
