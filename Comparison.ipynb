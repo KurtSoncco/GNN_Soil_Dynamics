{
 "cells": [
  {
   "cell_type": "code",
   "execution_count": 8,
   "metadata": {},
   "outputs": [],
   "source": [
    "import torch \n",
    "import pandas as pd \n",
    "import pickle\n",
    "import numpy as np\n",
    "import os\n",
    "import sys \n",
    "\n",
    "from torch.utils.data import Dataset, DataLoader\n",
    "from torch import nn\n",
    "\n",
    "\n",
    "import matplotlib.pyplot as plt\n",
    "import seaborn as sns\n",
    "\n",
    "from tqdm import tqdm\n",
    "from tqdm import trange\n",
    "\n",
    "sns.set_theme()"
   ]
  },
  {
   "cell_type": "code",
   "execution_count": 9,
   "metadata": {},
   "outputs": [
    {
     "name": "stdout",
     "output_type": "stream",
     "text": [
      "(146, 256) (146,)\n"
     ]
    }
   ],
   "source": [
    "# Load data\n",
    "freq_data = np.genfromtxt(\"TTF_Data_100.000_1.500_2.500.csv.csv\")\n",
    "\n",
    "# Load pickle\n",
    "with open(\"TTF_data.pt\", \"rb\") as f:\n",
    "    TTF_data = pickle.load(f)\n",
    "\n",
    "with open(\"Vs_values.pt\", \"rb\") as f:\n",
    "    Vs_data = pickle.load(f)\n",
    "\n",
    "TTF_data = np.array(TTF_data)\n",
    "Vs_data = np.array(Vs_data)\n",
    "\n",
    "# Get Vs_data less than 800\n",
    "index = Vs_data < 800\n",
    "TTF_data = TTF_data[index]\n",
    "Vs_data = Vs_data[index]\n",
    "\n",
    "print(TTF_data.shape, Vs_data.shape)\n",
    "\n",
    "# Use only certain freq\n",
    "idx = 0\n",
    "freq = freq_data[:]"
   ]
  },
  {
   "cell_type": "code",
   "execution_count": 17,
   "metadata": {},
   "outputs": [
    {
     "name": "stdout",
     "output_type": "stream",
     "text": [
      "(20, 256) (20,)\n"
     ]
    }
   ],
   "source": [
    "# Separate the 20 values randomly for testing\n",
    "test_indices = np.random.choice(len(TTF_data), 20, replace=False)\n",
    "test_TTF_data = TTF_data[test_indices][:, :]\n",
    "test_Vs_data = Vs_data[test_indices]\n",
    "\n",
    "print(test_TTF_data.shape, test_Vs_data.shape)"
   ]
  },
  {
   "cell_type": "code",
   "execution_count": 11,
   "metadata": {},
   "outputs": [],
   "source": [
    "class TTFDataset(Dataset):\n",
    "    def __init__(self, TTF_data, Vs_array, freq_array):\n",
    "        self.TTF_data = TTF_data\n",
    "        self.Vs_array = Vs_array\n",
    "        self.freq_array = freq_array\n",
    "\n",
    "    def __len__(self):\n",
    "        return len(self.TTF_data)\n",
    "\n",
    "    def __getitem__(self, idx):\n",
    "\n",
    "        # Input \n",
    "        Vs = self.Vs_array[idx] * np.ones(30)\n",
    "        freq = self.freq_array[idx] * np.ones(1)\n",
    "        input_data = np.concatenate((Vs, freq))\n",
    "        input_data = torch.tensor(input_data, dtype=torch.float32)\n",
    "\n",
    "        # Target\n",
    "        TTF = self.TTF_data[idx] * np.ones(1)\n",
    "        target = torch.tensor(TTF, dtype=torch.float32)\n",
    "\n",
    "        return input_data, target"
   ]
  },
  {
   "cell_type": "code",
   "execution_count": 13,
   "metadata": {},
   "outputs": [
    {
     "name": "stdout",
     "output_type": "stream",
     "text": [
      "(136, 256) (136, 256) (136, 256)\n",
      "(34816,) (34816,) (34816,)\n"
     ]
    }
   ],
   "source": [
    "# Crate Meshgrid\n",
    "freq_values, Vs_values = np.meshgrid(freq, train_Vs_data)\n",
    "print(Vs_values.shape, freq_values.shape, train_TTF_data.shape)\n",
    "\n",
    "# Flatten the meshgrid\n",
    "Vs_values = Vs_values.flatten()\n",
    "freq_values = freq_values.flatten()\n",
    "TTF_values = train_TTF_data.flatten()\n",
    "print(Vs_values.shape, freq_values.shape, TTF_values.shape)"
   ]
  },
  {
   "cell_type": "code",
   "execution_count": 14,
   "metadata": {},
   "outputs": [],
   "source": [
    "# Normalize the data\n",
    "def normalize_data(data, mean, std):\n",
    "    return (data - mean) / std\n",
    "\n",
    "def denormalize_data(data, mean, std):\n",
    "    return data * std + mean\n",
    "\n",
    "# Normalize the data\n",
    "mean_Vs = Vs_values.mean()\n",
    "std_Vs = Vs_values.std()\n",
    "mean_freq = freq_values.mean()\n",
    "std_freq = freq_values.std()\n",
    "mean_TTF = TTF_values.mean()\n",
    "std_TTF = TTF_values.std()\n",
    "\n",
    "Vs_values = normalize_data(Vs_values, mean_Vs, std_Vs)\n",
    "freq_values = normalize_data(freq_values, mean_freq, std_freq)\n",
    "TTF_values = normalize_data(TTF_values, mean_TTF, std_TTF)\n",
    "\n",
    "# Create dataset\n",
    "dataset = TTFDataset(TTF_values, Vs_values, freq_values)"
   ]
  },
  {
   "cell_type": "code",
   "execution_count": null,
   "metadata": {},
   "outputs": [],
   "source": []
  }
 ],
 "metadata": {
  "kernelspec": {
   "display_name": "ML",
   "language": "python",
   "name": "python3"
  },
  "language_info": {
   "codemirror_mode": {
    "name": "ipython",
    "version": 3
   },
   "file_extension": ".py",
   "mimetype": "text/x-python",
   "name": "python",
   "nbconvert_exporter": "python",
   "pygments_lexer": "ipython3",
   "version": "3.12.4"
  }
 },
 "nbformat": 4,
 "nbformat_minor": 2
}
